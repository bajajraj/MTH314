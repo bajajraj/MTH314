{
 "cells": [
  {
   "cell_type": "markdown",
   "metadata": {},
   "source": [
    "In order to successfully complete this assignment, you must follow all the instructions in this notebook and upload your edited ipynb file to [D2L](http://d2l.msu.edu/) with your answers on or before **10:00am on Friday November 12th**.\n",
    "\n",
    "**BIG HINT:** Read the entire homework before starting. "
   ]
  },
  {
   "cell_type": "markdown",
   "metadata": {},
   "source": [
    "# Homework 4: Projection and diagonalization"
   ]
  },
  {
   "cell_type": "code",
   "execution_count": 1,
   "metadata": {},
   "outputs": [],
   "source": [
    "%matplotlib inline\n",
    "import matplotlib.pylab as plt\n",
    "import numpy as np\n",
    "import sympy as sym\n",
    "sym.init_printing(use_unicode=True)"
   ]
  },
  {
   "cell_type": "code",
   "execution_count": 2,
   "metadata": {},
   "outputs": [],
   "source": [
    "# import for checking answers\n",
    "from answercheck import checkanswer"
   ]
  },
  {
   "cell_type": "markdown",
   "metadata": {},
   "source": [
    "# 1. Solving ODE system (35 pts)"
   ]
  },
  {
   "cell_type": "markdown",
   "metadata": {},
   "source": [
    "Consider the linear ODE system \n",
    "$$\\begin{aligned}\n",
    "\\dot{x}_1 &= 3x_1-x_2\\\\\n",
    "\\dot{x}_2 &= -2x_1+3x_2+2x_3\\\\\n",
    "\\dot{x}_3 &= 4x_1-x_2-2x_3\\\\\n",
    "\\end{aligned}$$\n"
   ]
  },
  {
   "cell_type": "markdown",
   "metadata": {},
   "source": [
    "with initial values\n",
    "$$\\begin{aligned}\n",
    "x_1(0) &= 1\\\\\n",
    "x_2(0) &= -4\\\\\n",
    "x_3(0) &= 0\\\\\n",
    "\\end{aligned}$$\n",
    "\n",
    "We want to find the solution $(x_1(t),x_2(t),x_3(t))$ at a later time $t>0$ following the steps below."
   ]
  },
  {
   "cell_type": "markdown",
   "metadata": {},
   "source": [
    "&#9989;  **<font color=red>QUESTION 1.1:</font>** (5 pts)\n",
    "Rewrite this ODE system as a matrix form $$\\dot{x} = Ax$$"
   ]
  },
  {
   "cell_type": "code",
   "execution_count": 3,
   "metadata": {},
   "outputs": [],
   "source": [
    "# Put your answer to the above question here\n",
    "A = np.matrix([[3,-1,0],[-2,3,2],[4,-1,-2]])"
   ]
  },
  {
   "cell_type": "code",
   "execution_count": 4,
   "metadata": {},
   "outputs": [
    {
     "name": "stdout",
     "output_type": "stream",
     "text": [
      "\n",
      "CheckWarning: passed matrix is int64 and not <class 'numpy.float64'>...\n",
      "    Trying to convert to float using ```A = A.astype(float)```.\n",
      "\n",
      "\n",
      "CheckWarning: Matrix contains negative values for zero...\n",
      "    Converting to positive values of zero using  ```A[A==-0] = 0```.\n",
      "\n",
      "Testing [[ 3. -1.  0.]\n",
      " [-2.  3.  2.]\n",
      " [ 4. -1. -2.]]\n",
      "Answer seems to be correct\n",
      "\n"
     ]
    }
   ],
   "source": [
    "from answercheck import checkanswer\n",
    "\n",
    "checkanswer.matrix(A,\"f7f629309b0e5b510b901d575750d406\");"
   ]
  },
  {
   "cell_type": "markdown",
   "metadata": {},
   "source": [
    "&#9989;  **<font color=red>QUESTION 1.2:</font>** (5 pts)\n",
    "Find an invertible matrix $C$ such that $C^{-1}AC$ is a diagonal matrix. (hint: call ```np.linalg.eig```)."
   ]
  },
  {
   "cell_type": "code",
   "execution_count": 5,
   "metadata": {},
   "outputs": [],
   "source": [
    "# Put your answer to the above question here\n",
    "C = np.linalg.eig(A)[1]\n"
   ]
  },
  {
   "cell_type": "code",
   "execution_count": 6,
   "metadata": {},
   "outputs": [
    {
     "name": "stdout",
     "output_type": "stream",
     "text": [
      "Testing [[ 0.08215  0.70153  0.69782]\n",
      " [ 0.40397 -0.41933  0.47483]\n",
      " [-0.91107  0.57621  0.53627]]\n",
      "Answer seems to be correct\n",
      "\n"
     ]
    }
   ],
   "source": [
    "from answercheck import checkanswer\n",
    "checkanswer.matrix(C,\"1307c7cead6d3a31bc1e90b89cb3e5ef\");"
   ]
  },
  {
   "cell_type": "markdown",
   "metadata": {},
   "source": [
    "&#9989;  **<font color=red>QUESTION 1.3:</font>** (5 pts)\n",
    "For the matrix $C$ from the previous part, by introducing the vector $$y=[y_1,y_2,y_3]^\\top=C^{-1}x,$$ the original ODE system could be rewritten as $\\dot{y}=Jy$. Define such a matrix $J$."
   ]
  },
  {
   "cell_type": "code",
   "execution_count": 7,
   "metadata": {},
   "outputs": [
    {
     "name": "stdout",
     "output_type": "stream",
     "text": [
      "[-1.91728599  3.59773519  2.3195508 ]\n"
     ]
    }
   ],
   "source": [
    "#Put your answer here\n",
    "eigval, eigvec = np.linalg.eig(A)\n",
    "J = np.matrix([[eigval[0],0,0],[0,eigval[1],0],[0,0,eigval[2]]])\n",
    "print(eigval)"
   ]
  },
  {
   "cell_type": "code",
   "execution_count": 8,
   "metadata": {},
   "outputs": [
    {
     "name": "stdout",
     "output_type": "stream",
     "text": [
      "\n",
      "CheckWarning: Matrix contains negative values for zero...\n",
      "    Converting to positive values of zero using  ```A[A==-0] = 0```.\n",
      "\n",
      "Testing [[-1.91729  0.       0.     ]\n",
      " [ 0.       3.59774  0.     ]\n",
      " [ 0.       0.       2.31955]]\n",
      "Answer seems to be correct\n",
      "\n"
     ]
    }
   ],
   "source": [
    "from answercheck import checkanswer\n",
    "checkanswer.matrix(J,\"4e5640c14a84602e121f0f1fbd63e8c7\");"
   ]
  },
  {
   "cell_type": "markdown",
   "metadata": {},
   "source": [
    "&#9989;  **<font color=red>QUESTION 1.4:</font>** (5 pts) Convert the matrix form $\\dot{y}=Jy$ back to 3 equations of $y_1(t),y_2(t),y_3(t)$. What's special about these equations?"
   ]
  },
  {
   "cell_type": "markdown",
   "metadata": {},
   "source": [
    "$$\\dot{y}_1(t)= -1.91728599y_1$$\n",
    "$$\\dot{y}_2(t)=  3.59773519y_2$$\n",
    "$$\\dot{y}_3(t)=  2.3195508y_3$$"
   ]
  },
  {
   "cell_type": "markdown",
   "metadata": {},
   "source": [
    "The special thing about these equations is that they first order linear homogeneous equations. The equations are seperable. All the equations are distinct and they are not mixed. The equations are decomposible."
   ]
  },
  {
   "cell_type": "markdown",
   "metadata": {},
   "source": [
    "&#9989;  **<font color=red>QUESTION 1.5:</font>** (5 pts) Let $a \\in \\mathbb{R}$ be a scalar, recall that a 1-dimensional ODE \n",
    "$$ \\dot{z} = az\n",
    "$$\n",
    "has the closed-form solution \n",
    "$$\n",
    "z(t) = z(0)e^{at}\n",
    "$$\n",
    "\n",
    "\n",
    "Feel free to insert this solution back to the ODE to verify that it is indeed a solution.\n",
    "\n",
    "Use this idea to write out the closed-form solution of the ODEs you derived in QUESTION 1.4 ."
   ]
  },
  {
   "cell_type": "markdown",
   "metadata": {},
   "source": [
    "$$y_1(t) = y_1(0)e^{-1.91728599t}$$\n",
    "$$y_2(t) = y_2(0)e^{3.59773519t}$$\n",
    "$$y_3(t) = y_3(0)e^{2.3195508t}$$"
   ]
  },
  {
   "cell_type": "markdown",
   "metadata": {},
   "source": [
    "&#9989;  **<font color=red>QUESTION 1.6:</font>** (5 pts) At the beginning of this part, the initial values $(x_1(0),x_2(0),x_3(0))$ are provided. Use them to find the initial values of  $(y_1(0),y_2(0),y_3(0))$. Store your answer as a $3\\times 1$ vector called `y0`.\n"
   ]
  },
  {
   "cell_type": "code",
   "execution_count": 9,
   "metadata": {},
   "outputs": [],
   "source": [
    "# Put your answer to the above question here\n",
    "C_inv = np.linalg.inv(C)\n",
    "x0 = np.matrix([[1,-4,0]]).T\n",
    "y0 = C_inv*x0"
   ]
  },
  {
   "cell_type": "code",
   "execution_count": 10,
   "metadata": {},
   "outputs": [
    {
     "name": "stdout",
     "output_type": "stream",
     "text": [
      "\n",
      "CheckWarning: numpy.matrix is row vector...\n",
      "    Trying to convert to a column vector using ```A = A.T```.\n",
      "\n",
      "Testing [[ 1.00234  5.6088  -4.32361]]\n",
      "Answer seems to be correct\n",
      "\n"
     ]
    }
   ],
   "source": [
    "from answercheck import checkanswer\n",
    "checkanswer.vector(y0,\"c7c78c0981c4c62a19149e39b9641d55\");"
   ]
  },
  {
   "cell_type": "markdown",
   "metadata": {},
   "source": [
    "&#9989;  **<font color=red>QUESTION 1.7:</font>** (5 pts) Use `y0` and the closed-form solutions of $y(t)$ you derived in QUESTION 1.5  to compute $y(1)$ and store your answer as a $3\\times 1$ vector `y1`."
   ]
  },
  {
   "cell_type": "code",
   "execution_count": 11,
   "metadata": {},
   "outputs": [],
   "source": [
    "#Put your answer here\n",
    "y1=np.matrix([[y0[0,0]*np.exp(eigval[0])], [y0[1,0]*np.exp(eigval[1])], [y0[2,0]*np.exp(eigval[2])]])"
   ]
  },
  {
   "cell_type": "code",
   "execution_count": 12,
   "metadata": {},
   "outputs": [
    {
     "name": "stdout",
     "output_type": "stream",
     "text": [
      "\n",
      "CheckWarning: numpy.matrix is row vector...\n",
      "    Trying to convert to a column vector using ```A = A.T```.\n",
      "\n",
      "Testing [[ 1.4735000e-01  2.0480778e+02 -4.3975910e+01]]\n",
      "Answer seems to be correct\n",
      "\n"
     ]
    }
   ],
   "source": [
    "from answercheck import checkanswer\n",
    "checkanswer.vector(y1,\"e268e5af96ec6db7e24e6c0c4674bb7d\");"
   ]
  },
  {
   "cell_type": "markdown",
   "metadata": {},
   "source": [
    "# 2. Projection (35 pts)"
   ]
  },
  {
   "cell_type": "markdown",
   "metadata": {},
   "source": [
    "Given a vector $v=[1,2,3]^\\top$ and a plane in\n",
    "$\\mathbb{R}^3$, \n",
    "\n",
    "$$W = \\{(x_1,x_2,x_3): x_1-x_2-x_3=0\\},$$\n",
    "\n",
    "We want to find the projection of $v$ onto $W$ using the following steps.\n",
    "\n"
   ]
  },
  {
   "cell_type": "markdown",
   "metadata": {},
   "source": [
    "&#9989;  **<font color=red>QUESTION 2.1:</font>** (5 pts) In the markdown cell below, explain why $W$ forms a vector space and what the dimension of this space is."
   ]
  },
  {
   "cell_type": "markdown",
   "metadata": {},
   "source": [
    "As $W$ is in plane, $\\mathbb{R}^3$, we need to prove that $W$ forms a vector space, we have to prove three condition:\n",
    "\n",
    "1.) There exist a zero vector in $W$. Let us take any arbitary vector $x$ that is in $W$ and prove it.     "
   ]
  },
  {
   "cell_type": "code",
   "execution_count": 13,
   "metadata": {},
   "outputs": [
    {
     "name": "stdout",
     "output_type": "stream",
     "text": [
      "[3 2 1]\n"
     ]
    }
   ],
   "source": [
    "x = np.array([3,2,1])\n",
    "zero = np.array([0,0,0])\n",
    "print(x-zero)"
   ]
  },
  {
   "cell_type": "markdown",
   "metadata": {},
   "source": [
    "Therefore, as you can see that zero vector, $x-z=x$."
   ]
  },
  {
   "cell_type": "markdown",
   "metadata": {},
   "source": [
    "2.) $W$ is closed, i.e., any vector $x,y \\in W$, the $x+y \\in W$."
   ]
  },
  {
   "cell_type": "code",
   "execution_count": 14,
   "metadata": {},
   "outputs": [
    {
     "name": "stdout",
     "output_type": "stream",
     "text": [
      "0\n"
     ]
    }
   ],
   "source": [
    "x = np.array([3,2,1])\n",
    "y = np.array([4,3,1])\n",
    "xy = x + y\n",
    "j = xy[0]\n",
    "for i in range(1,len(xy)):\n",
    "    j -= xy[i]\n",
    "print(j)"
   ]
  },
  {
   "cell_type": "markdown",
   "metadata": {},
   "source": [
    "As you can see that for $xy=x+y$, then $xy_1-xy_2-xy_3=0$."
   ]
  },
  {
   "cell_type": "markdown",
   "metadata": {},
   "source": [
    "3.) $W$ should be closed under scalar multiplication. This means that if $x\\in W$, then for any scalar a $ax \\in W$."
   ]
  },
  {
   "cell_type": "code",
   "execution_count": 15,
   "metadata": {},
   "outputs": [
    {
     "name": "stdout",
     "output_type": "stream",
     "text": [
      "0\n"
     ]
    }
   ],
   "source": [
    "x = np.array([3,2,1])\n",
    "y = 2\n",
    "xy = y * x\n",
    "j = xy[0]\n",
    "for i in range(1,len(xy)):\n",
    "    j -= xy[i]\n",
    "print(j)"
   ]
  },
  {
   "cell_type": "markdown",
   "metadata": {},
   "source": [
    "As you can see that for $xy=y.x$, then $xy_1-xy_2-xy_3=0$."
   ]
  },
  {
   "cell_type": "markdown",
   "metadata": {},
   "source": [
    "Therefore, as you can see that $W$ satisfies all the condition, it forms a vector space."
   ]
  },
  {
   "cell_type": "markdown",
   "metadata": {},
   "source": [
    "The dimension of $W$ is 2."
   ]
  },
  {
   "cell_type": "markdown",
   "metadata": {},
   "source": [
    "&#9989;  **<font color=red>QUESTION 2.2:</font>** (5 pts) Find a $1\\times3$ matrix $A$ such that $W$ is the nullspace of $A$. "
   ]
  },
  {
   "cell_type": "code",
   "execution_count": 16,
   "metadata": {},
   "outputs": [],
   "source": [
    "#put your answer here\n",
    "A = np.matrix([1,-1,-1])"
   ]
  },
  {
   "cell_type": "code",
   "execution_count": 17,
   "metadata": {},
   "outputs": [
    {
     "name": "stdout",
     "output_type": "stream",
     "text": [
      "Testing [[-1.  1.  1.]]\n",
      "Answer seems to be correct\n",
      "\n"
     ]
    }
   ],
   "source": [
    "from answercheck import checkanswer\n",
    "checkanswer.matrix(A/np.sum(A),\"78a91075ca3e5dca89273eaa2bda26d6\");"
   ]
  },
  {
   "cell_type": "markdown",
   "metadata": {},
   "source": [
    "&#9989;  **<font color=red>QUESTION 2.3:</font>** (5 pts)\n",
    "Find two arbitrary vectors in the plane $W$ that are not parallel with each other."
   ]
  },
  {
   "cell_type": "code",
   "execution_count": 18,
   "metadata": {},
   "outputs": [],
   "source": [
    "# Put your answer to the above question here\n",
    "v1 = np.array([4,3,1])\n",
    "v2 = np.array([3,1,2])"
   ]
  },
  {
   "cell_type": "markdown",
   "metadata": {},
   "source": [
    "&#9989;  **<font color=red>QUESTION 2.4:</font>** (5 pts)\n",
    "Orthogonalize `v1` and `v2` by applying the Gram-Schmidt process. Store the resulting orthonormal vectors as `w1` and `w2`"
   ]
  },
  {
   "cell_type": "code",
   "execution_count": 19,
   "metadata": {},
   "outputs": [
    {
     "name": "stdout",
     "output_type": "stream",
     "text": [
      "[0.78446454 0.58834841 0.19611614]\n",
      "[ 0.22645541 -0.56613852  0.79259392]\n"
     ]
    }
   ],
   "source": [
    "#Put your answer to the above question here\n",
    "w1 = v1/np.linalg.norm(v1)\n",
    "u2 = v2 - (np.dot(v2,w1)/np.dot(w1,w1))*w1\n",
    "w2 = u2/np.linalg.norm(u2)\n",
    "print(w1)\n",
    "print(w2)"
   ]
  },
  {
   "cell_type": "markdown",
   "metadata": {},
   "source": [
    "&#9989;  **<font color=red>QUESTION 2.5:</font>** (5 pts) Use python to verify that {`w1`,`w2`} is indeed an orthonormal basis of the plane $W$. Specifically, verify\n",
    "\n",
    "-  each basis vector has unit length \n",
    "-  orthogonality between different basis vectors.\n",
    "-  `w1`, `w2` $\\in W$ "
   ]
  },
  {
   "cell_type": "markdown",
   "metadata": {},
   "source": [
    "**1.) Lets check the length of the vector:**"
   ]
  },
  {
   "cell_type": "code",
   "execution_count": 20,
   "metadata": {},
   "outputs": [
    {
     "name": "stdout",
     "output_type": "stream",
     "text": [
      "1\n",
      "1\n"
     ]
    }
   ],
   "source": [
    "#Put your answer to the above question here\n",
    "print(round(np.linalg.norm(w1)))\n",
    "print(round(np.linalg.norm(w2)))"
   ]
  },
  {
   "cell_type": "markdown",
   "metadata": {},
   "source": [
    "**2.) Orthogonality between the basis vector should be that there dot product should be zero.**"
   ]
  },
  {
   "cell_type": "code",
   "execution_count": 21,
   "metadata": {},
   "outputs": [
    {
     "name": "stdout",
     "output_type": "stream",
     "text": [
      "0\n",
      "0\n"
     ]
    }
   ],
   "source": [
    "print(round(np.dot(w1,w2)))\n",
    "print(round(np.dot(w2,w1)))"
   ]
  },
  {
   "cell_type": "markdown",
   "metadata": {},
   "source": [
    "**3.) For `w1`, `w2` $\\in W$, the component of `w1` and `w2` should satisfy the condition $\\{(x_1,x_2,x_3): x_1-x_2-x_3=0\\}$**"
   ]
  },
  {
   "cell_type": "code",
   "execution_count": 22,
   "metadata": {},
   "outputs": [],
   "source": [
    "def IsSatisfied(a):\n",
    "    n = len(a)\n",
    "    x = a[0]\n",
    "    for i in range(1,n):\n",
    "        x -= a[i]\n",
    "    return round(x)"
   ]
  },
  {
   "cell_type": "code",
   "execution_count": 23,
   "metadata": {},
   "outputs": [
    {
     "name": "stdout",
     "output_type": "stream",
     "text": [
      "0\n",
      "0\n"
     ]
    }
   ],
   "source": [
    "print(IsSatisfied(w1))\n",
    "print(IsSatisfied(w2))"
   ]
  },
  {
   "cell_type": "markdown",
   "metadata": {},
   "source": [
    "As you can see that `w1` and `w2` satisfies all the conditions. Therefore, {`w1`,`w2`} is indeed an orthonormal basis of the plane $W$."
   ]
  },
  {
   "cell_type": "markdown",
   "metadata": {},
   "source": [
    "Recall that in Pre-class 13, the following matimatical definition of projection onto a subspace is defined.\n",
    "\n",
    "**Definition**: Let $W$ be a subspace of $R^n$ of dimension $m$. Let $\\{w_1,\\cdots,w_m\\}$ be an orthonormal basis for $W$. Then the projection of vector $v$ in $R^n$ onto $W$ is denoted as $\\mbox{proj}_Wv$ and is defined as \n",
    "$$\\mbox{proj}_Wv = (v\\cdot w_1)w_1+(v\\cdot w_2)w_2+\\cdots+(v\\cdot w_m)w_m$$\n"
   ]
  },
  {
   "cell_type": "markdown",
   "metadata": {},
   "source": [
    "&#9989;  **<font color=red>QUESTION 2.6:</font>** (5 pts) Use this formula to find $P_w v$, the projection of $v=[1,2,3]^T$ onto $W$\n"
   ]
  },
  {
   "cell_type": "markdown",
   "metadata": {},
   "source": [
    "$$\\mbox{proj}_u v = \\frac{v \\cdot u}{u \\cdot u} u.$$"
   ]
  },
  {
   "cell_type": "code",
   "execution_count": 24,
   "metadata": {},
   "outputs": [],
   "source": [
    "# Put your answer to the above question here\n",
    "v = np.matrix([[1,2,3]])\n",
    "Pwv = np.dot(v,w1)*w1 + np.dot(v,w2)*w2"
   ]
  },
  {
   "cell_type": "code",
   "execution_count": 25,
   "metadata": {},
   "outputs": [
    {
     "name": "stdout",
     "output_type": "stream",
     "text": [
      "Testing [[2.33333 0.66667 1.66667]]\n",
      "Answer seems to be correct\n",
      "\n"
     ]
    }
   ],
   "source": [
    "from answercheck import checkanswer\n",
    "checkanswer.vector(Pwv,\"12feaf840c4568ff3b931d582147f6da\");"
   ]
  },
  {
   "cell_type": "markdown",
   "metadata": {},
   "source": [
    "&#9989;  **<font color=red>QUESTION 2.7:</font>** (5 pts) What is the geometric meaning of $v-P_w v$? Use this to find the distance from $v$ to $W$."
   ]
  },
  {
   "cell_type": "code",
   "execution_count": 26,
   "metadata": {},
   "outputs": [],
   "source": [
    "#Put your code here\n",
    "distance = np.linalg.norm(v-Pwv)"
   ]
  },
  {
   "cell_type": "code",
   "execution_count": 27,
   "metadata": {},
   "outputs": [
    {
     "name": "stdout",
     "output_type": "stream",
     "text": [
      "\n",
      "CheckWarning: passed variable is <class 'numpy.float64'> and not a numpy.matrix...\n",
      "    Trying to convert to a array matrix using ```A = np.matrix(A)```.\n",
      "\n",
      "Testing [[2.3094]]\n",
      "Answer seems to be correct\n",
      "\n"
     ]
    }
   ],
   "source": [
    "from answercheck import checkanswer\n",
    "checkanswer.matrix(distance,\"dd5b8b47bdfbbad36cedf5ee17fe60b1\");"
   ]
  },
  {
   "cell_type": "markdown",
   "metadata": {},
   "source": [
    "# 3. Properties of orthogonal matrices (30 pts)\n"
   ]
  },
  {
   "cell_type": "markdown",
   "metadata": {},
   "source": [
    "In pre-class 13, we learnt the definition of orthogonal matrices. Let us  review it here.\n",
    "\n",
    "**Definition:** A $n\\times n$ matrix $U$ is orthogonal if the columns of $U$ form an orthonormal basis of  $\\mathbb {R} ^{n}$.\n",
    "\n",
    "Orthogonal matrices have many alternative definitions. Explictly, the following conditions are all equivalent."
   ]
  },
  {
   "cell_type": "markdown",
   "metadata": {},
   "source": [
    "- $U$ is orthogonal\n",
    "\n",
    "- the rows of $U$ form an orthonormal basis of  $\\mathbb {R} ^{n}$.\n",
    "\n",
    "- the columns of $U$ form an orthonormal basis of  $\\mathbb {R} ^{n}$.\n",
    "\n",
    "- Given two vectors x and y in $\\mathbb{R}^n$, multiplication by U preserves their dot product; that is, $(Ux)\\cdot (Uy) = x \\cdot y$.\n",
    " \n",
    "- U is invertible, and $U^T = U^{-1}$"
   ]
  },
  {
   "cell_type": "markdown",
   "metadata": {},
   "source": [
    "&#9989;  **<font color=red>QUESTION 3.1:</font>** (5 pts) Let $v_1 = [\\frac{1}{\\sqrt 2}, 0, \\frac{1}{\\sqrt 2}]$, $v_2 = [0, 1, 0]$, $v_3 = [\\frac{1}{\\sqrt 2}, 0, -\\frac{1}{\\sqrt 2}]$.\n",
    "\n",
    "Use a subset of the above equivalent conditions to verify that $v_1,v_2,v_3$ form an orthonormal basis of $\\mathbb{R}^3$."
   ]
  },
  {
   "cell_type": "code",
   "execution_count": 28,
   "metadata": {},
   "outputs": [
    {
     "name": "stdout",
     "output_type": "stream",
     "text": [
      "0.0\n",
      "0.0\n",
      "0.0\n"
     ]
    }
   ],
   "source": [
    "#put your code here\n",
    "v1 = np.array([(1/np.sqrt(2)),0,(1/np.sqrt(2))])\n",
    "v2 = np.array([0,1,0])\n",
    "v3 = np.array([(1/np.sqrt(2)),0,-(1/np.sqrt(2))])\n",
    "print(np.dot(v1,v2))\n",
    "print(np.dot(v1,v3))\n",
    "print(np.dot(v2,v3))"
   ]
  },
  {
   "cell_type": "markdown",
   "metadata": {},
   "source": [
    "As you can see that the dot product of all the vector are zero, then it forms an orthonormal basis of $\\mathbb{R}^3$. "
   ]
  },
  {
   "cell_type": "code",
   "execution_count": 29,
   "metadata": {},
   "outputs": [
    {
     "data": {
      "text/latex": [
       "$\\displaystyle \\left[\\begin{matrix}0.707106781186547 & 0.0 & 0.707106781186547\\\\0.0 & 1.0 & 0.0\\\\0.707106781186547 & 0.0 & -0.707106781186547\\end{matrix}\\right]$"
      ],
      "text/plain": [
       "⎡0.707106781186547  0.0  0.707106781186547 ⎤\n",
       "⎢                                          ⎥\n",
       "⎢       0.0         1.0         0.0        ⎥\n",
       "⎢                                          ⎥\n",
       "⎣0.707106781186547  0.0  -0.707106781186547⎦"
      ]
     },
     "execution_count": 29,
     "metadata": {},
     "output_type": "execute_result"
    }
   ],
   "source": [
    "U = np.matrix([[(1/np.sqrt(2)),0,(1/np.sqrt(2))],[0,1,0],[(1/np.sqrt(2)),0,-(1/np.sqrt(2))]])\n",
    "sym.Matrix(U.T)"
   ]
  },
  {
   "cell_type": "code",
   "execution_count": 30,
   "metadata": {},
   "outputs": [
    {
     "data": {
      "text/latex": [
       "$\\displaystyle \\left[\\begin{matrix}0.707106781186548 & 0.0 & 0.707106781186548\\\\0.0 & 1.0 & 0.0\\\\0.707106781186548 & 0.0 & -0.707106781186548\\end{matrix}\\right]$"
      ],
      "text/plain": [
       "⎡0.707106781186548  0.0  0.707106781186548 ⎤\n",
       "⎢                                          ⎥\n",
       "⎢       0.0         1.0         0.0        ⎥\n",
       "⎢                                          ⎥\n",
       "⎣0.707106781186548  0.0  -0.707106781186548⎦"
      ]
     },
     "execution_count": 30,
     "metadata": {},
     "output_type": "execute_result"
    }
   ],
   "source": [
    "U_inv = np.linalg.inv(U)\n",
    "sym.Matrix(U_inv)"
   ]
  },
  {
   "cell_type": "markdown",
   "metadata": {},
   "source": [
    " U is invertible, and $U^T = U^{-1}$"
   ]
  },
  {
   "cell_type": "code",
   "execution_count": 31,
   "metadata": {},
   "outputs": [
    {
     "name": "stdout",
     "output_type": "stream",
     "text": [
      "-1\n"
     ]
    }
   ],
   "source": [
    "print(round(np.linalg.det(U)))"
   ]
  },
  {
   "cell_type": "markdown",
   "metadata": {},
   "source": [
    "Therefore, `U` is orthonormal and $v_1,v_2,v_3$ forms the orthonormal basis of $\\mathbb{R}^3$ because $U^T = U^{-1}$ and the determinant of $det(U) = 1$"
   ]
  },
  {
   "cell_type": "markdown",
   "metadata": {},
   "source": [
    "&#9989;  **<font color=red>QUESTION 3.2:</font>** (5 pts) Use python code  to construct the following two $3\\times 3$ transformation matrices: \n",
    "+ Rotation matrix `R` that rotates a given vector in $\\mathbb{R}^3$ around the $x$-axis clockwise by an angle of $70^\\circ$ \n",
    "+ Reflection matrix `F` that rotates a given vector in $\\mathbb{R}^3$ about the $x$-$y$ plane."
   ]
  },
  {
   "cell_type": "code",
   "execution_count": 32,
   "metadata": {},
   "outputs": [
    {
     "name": "stdout",
     "output_type": "stream",
     "text": [
      "Matrix F : \n"
     ]
    },
    {
     "data": {
      "text/latex": [
       "$\\displaystyle \\left[\\begin{matrix}1 & 0 & 0\\\\0 & 1 & 0\\\\0 & 0 & -1\\end{matrix}\\right]$"
      ],
      "text/plain": [
       "⎡1  0  0 ⎤\n",
       "⎢        ⎥\n",
       "⎢0  1  0 ⎥\n",
       "⎢        ⎥\n",
       "⎣0  0  -1⎦"
      ]
     },
     "execution_count": 32,
     "metadata": {},
     "output_type": "execute_result"
    }
   ],
   "source": [
    "#put your code here\n",
    "degrees = 70\n",
    "x = degrees/180 * np.pi\n",
    "cos_x = np.cos(x)\n",
    "sin_x = np.sin(x)\n",
    "R = np.matrix([[1,0,0],[0,cos_x,-sin_x],[0,sin_x,cos_x]])\n",
    "F = np.matrix([[1,0,0],[0,1,0],[0,0,-1]])\n",
    "print(\"Matrix F : \")\n",
    "sym.Matrix(F)"
   ]
  },
  {
   "cell_type": "code",
   "execution_count": 33,
   "metadata": {},
   "outputs": [
    {
     "name": "stdout",
     "output_type": "stream",
     "text": [
      "Matrix R : \n"
     ]
    },
    {
     "data": {
      "text/latex": [
       "$\\displaystyle \\left[\\begin{matrix}1.0 & 0.0 & 0.0\\\\0.0 & 0.342020143325669 & -0.939692620785908\\\\0.0 & 0.939692620785908 & 0.342020143325669\\end{matrix}\\right]$"
      ],
      "text/plain": [
       "⎡1.0         0.0                0.0        ⎤\n",
       "⎢                                          ⎥\n",
       "⎢0.0  0.342020143325669  -0.939692620785908⎥\n",
       "⎢                                          ⎥\n",
       "⎣0.0  0.939692620785908  0.342020143325669 ⎦"
      ]
     },
     "execution_count": 33,
     "metadata": {},
     "output_type": "execute_result"
    }
   ],
   "source": [
    "print(\"Matrix R : \")\n",
    "sym.Matrix(R)"
   ]
  },
  {
   "cell_type": "markdown",
   "metadata": {},
   "source": [
    "&#9989;  **<font color=red>QUESTION 3.3:</font>** (5 pts) Verify that `R`,`F` and their products `RF`, `FRFR` are all orthogonal. This tells us that any combination of orthogonal matrices is still orthogonal."
   ]
  },
  {
   "cell_type": "markdown",
   "metadata": {},
   "source": [
    "**To prove that `R` is an orthonormal matrix**"
   ]
  },
  {
   "cell_type": "code",
   "execution_count": 34,
   "metadata": {},
   "outputs": [
    {
     "name": "stdout",
     "output_type": "stream",
     "text": [
      "True\n",
      "1\n"
     ]
    }
   ],
   "source": [
    "#put your code here\n",
    "R_transpose = np.matrix(R).T\n",
    "R_inv = np.linalg.inv(R)\n",
    "#sym.Matrix(R_inv)\n",
    "print(np.allclose(R_transpose, R_inv))\n",
    "print(round(np.linalg.det(R)))"
   ]
  },
  {
   "cell_type": "markdown",
   "metadata": {},
   "source": [
    "`R` is orthonormal because $R^T = R^{-1}$ and the determinant of $det(R) = 1$"
   ]
  },
  {
   "cell_type": "markdown",
   "metadata": {},
   "source": [
    "**To prove that `F` is an orthonormal matrix**"
   ]
  },
  {
   "cell_type": "code",
   "execution_count": 35,
   "metadata": {},
   "outputs": [
    {
     "name": "stdout",
     "output_type": "stream",
     "text": [
      "True\n",
      "-1\n"
     ]
    }
   ],
   "source": [
    "F_transpose = np.matrix(F).T\n",
    "F_inv = np.linalg.inv(F)\n",
    "#sym.Matrix(R_inv)\n",
    "print(np.allclose(F_transpose, F_inv))\n",
    "print(round(np.linalg.det(F)))"
   ]
  },
  {
   "cell_type": "markdown",
   "metadata": {},
   "source": [
    "`F` is orthonormal because $F^T = F^{-1}$ and the determinant of $det(F) = -1$"
   ]
  },
  {
   "cell_type": "markdown",
   "metadata": {},
   "source": [
    "**To prove that `RF` is an orthonormal matrix**"
   ]
  },
  {
   "cell_type": "code",
   "execution_count": 36,
   "metadata": {},
   "outputs": [
    {
     "name": "stdout",
     "output_type": "stream",
     "text": [
      "True\n",
      "-1\n"
     ]
    }
   ],
   "source": [
    "RF = R*F\n",
    "RF_transpose = np.matrix(RF).T\n",
    "RF_inv = np.linalg.inv(RF)\n",
    "print(np.allclose(RF_transpose, RF_inv))\n",
    "print(round(np.linalg.det(RF)))"
   ]
  },
  {
   "cell_type": "markdown",
   "metadata": {},
   "source": [
    "`RF` is orthonormal because ${RF}^T = {RF}^{-1}$ and the determinant of $det(RF) = -1$"
   ]
  },
  {
   "cell_type": "markdown",
   "metadata": {},
   "source": [
    "**To prove that `FRFR` is an orthonormal matrix**"
   ]
  },
  {
   "cell_type": "code",
   "execution_count": 37,
   "metadata": {},
   "outputs": [
    {
     "name": "stdout",
     "output_type": "stream",
     "text": [
      "True\n",
      "1\n"
     ]
    }
   ],
   "source": [
    "FRFR = F*R*F*R\n",
    "FRFR_transpose = np.matrix(FRFR).T\n",
    "FRFR_inv = np.linalg.inv(FRFR)\n",
    "print(np.allclose(FRFR_transpose, FRFR_inv))\n",
    "print(round(np.linalg.det(FRFR)))"
   ]
  },
  {
   "cell_type": "markdown",
   "metadata": {},
   "source": [
    "`FRFR` is orthonormal because ${FRFR}^T = {FRFR}^{-1}$ and the determinant of $det(FRFR) = -1$"
   ]
  },
  {
   "cell_type": "markdown",
   "metadata": {},
   "source": [
    "&#9989;  **<font color=red>QUESTION 3.4:</font>** (5 pts) Rotations and reflections are known as rigid motions, meaning that they do not change the length of the vectors being rotated/reflected. This is in fact an intrinsic property of orthogonal matrices and is guaranteed by one of the equivalent conditions of orthogonal matrices listed above. Which condition is that? Provide your explanation. \n",
    "\n",
    "(Hint: for an orthogonal matrix $U$, when we say it does not change the length of the input, we mean $\\|Ux\\|=\\|x\\|$ for any $x$, that is, the length of $Ux$ is always the same as the length of $x$. You are asked to find the condition of orthogonal matrices that implies this.)"
   ]
  },
  {
   "cell_type": "markdown",
   "metadata": {},
   "source": [
    "Using the condition:\n",
    "\n",
    "Given two vectors x and y in $\\mathbb{R}^n$, multiplication by U preserves their dot product; that is, $(Ux)\\cdot (Uy) = x \\cdot y$.\n",
    "\n",
    "Since, this is true for any given vector $x$ and $y$, we can substitude $y$ with $x$.\n",
    "\n",
    "It gives us $(Ux)\\cdot (Ux) = x \\cdot x$.\n",
    "\n",
    "We know that the dot problem of a vector or matrix is equal to its norm or its length and therefore, we know that $\\|Ux\\|=\\|x\\|$ is same as  $(Ux)\\cdot (Ux) = x \\cdot x$. This means that using the condition just stated, we have orthogonal matrices have rigid motions."
   ]
  },
  {
   "cell_type": "markdown",
   "metadata": {},
   "source": [
    "&#9989;  **<font color=red>QUESTION 3.5:</font>** (5 pts) Find the value $a-f$ such that\n",
    "$$A = \\begin{bmatrix}\n",
    "1 & a & b \\\\\n",
    "c & 0.6 & d \\\\\n",
    "e & 0.8 & f\n",
    "\\end{bmatrix}$$\n",
    "is orthogonal."
   ]
  },
  {
   "cell_type": "code",
   "execution_count": 137,
   "metadata": {},
   "outputs": [],
   "source": [
    "a=0\n",
    "b=0\n",
    "c=0\n",
    "d=-0.8\n",
    "e=0\n",
    "f=0.6\n",
    "A = np.matrix([[1,0,0],[0,0.6,-0.8],[0,0.8,0.6]])"
   ]
  },
  {
   "cell_type": "code",
   "execution_count": 138,
   "metadata": {},
   "outputs": [
    {
     "name": "stdout",
     "output_type": "stream",
     "text": [
      "\n",
      "CheckWarning: passed variable is <class 'list'> and not a numpy.matrix.\n",
      "    Trying to convert to a array matrix using ```A = np.matrix(A)```.\n",
      "\n",
      "\n",
      "CheckWarning: Vector contains negative values for zero...\n",
      "    Converting to positive values of zero using  ```A[A==-0] = 0```.\n",
      "\n",
      "Testing [[ 0.    0.    0.    0.8   0.   -0.48]]\n",
      "Answer seems to be correct\n",
      "\n"
     ]
    }
   ],
   "source": [
    "from answercheck import checkanswer\n",
    "checkanswer.vector([a,b,c,abs(d),e,f*d], \"1592b4d30e72d792d5e5c17c5eb1c4a6\");"
   ]
  },
  {
   "cell_type": "markdown",
   "metadata": {},
   "source": [
    "&#9989;  **<font color=red>QUESTION 3.6:</font>** (5 pts) Compute the eigenvalues of all the orthogonal matrices mentioned in QUESTION 3.4 and QUESTION 3.5, what did you find about the magnitudes of these eigenvalues? Could you come up with a theoretical explanation for this phenomenon?"
   ]
  },
  {
   "cell_type": "code",
   "execution_count": 139,
   "metadata": {},
   "outputs": [
    {
     "name": "stdout",
     "output_type": "stream",
     "text": [
      "Magnitude for R: \n",
      "1 1 1\n",
      "\n",
      "Magnitude for F: \n",
      "1 1 1\n",
      "\n",
      "Magnitude for RF: \n",
      "1 1 1\n",
      "\n",
      "Magnitude for FRFR: \n",
      "1 1 1\n",
      "\n",
      "Magnitude for A: \n",
      "1 1 1\n"
     ]
    }
   ],
   "source": [
    "#Put your code here\n",
    "print(\"Magnitude for R: \")\n",
    "print(round(abs(np.linalg.eig(R)[0][0])), round(abs(np.linalg.eig(R)[0][1])),round(abs(np.linalg.eig(R)[0][2])))\n",
    "print()\n",
    "print(\"Magnitude for F: \")\n",
    "print(round(abs(np.linalg.eig(F)[0][0])), round(abs(np.linalg.eig(F)[0][1])),round(abs(np.linalg.eig(F)[0][2])))\n",
    "print()\n",
    "print(\"Magnitude for RF: \")\n",
    "print(round(abs(np.linalg.eig(RF)[0][0])), round(abs(np.linalg.eig(RF)[0][1])),round(abs(np.linalg.eig(RF)[0][2])))\n",
    "print()\n",
    "print(\"Magnitude for FRFR: \")\n",
    "print(round(abs(np.linalg.eig(FRFR)[0][0])), round(abs(np.linalg.eig(FRFR)[0][1])),round(abs(np.linalg.eig(FRFR)[0][2])))\n",
    "print()\n",
    "print(\"Magnitude for A: \")\n",
    "print(round(abs(np.linalg.eig(A)[0][0])), round(abs(np.linalg.eig(A)[0][1])),round(abs(np.linalg.eig(A)[0][2])))"
   ]
  },
  {
   "cell_type": "markdown",
   "metadata": {},
   "source": [
    "**As our rotation and reflection are rigid, they are not streching and our eigenvalues tell us about the strech of a eigenvectors. Having absolute eigenvalue value magnitude is equal to 1, it means that it is not stretched and we have the rigid rotation and reflection.**"
   ]
  },
  {
   "cell_type": "markdown",
   "metadata": {},
   "source": [
    "### Congratulations, we're done!"
   ]
  }
 ],
 "metadata": {
  "kernelspec": {
   "display_name": "Python 3",
   "language": "python",
   "name": "python3"
  },
  "language_info": {
   "codemirror_mode": {
    "name": "ipython",
    "version": 3
   },
   "file_extension": ".py",
   "mimetype": "text/x-python",
   "name": "python",
   "nbconvert_exporter": "python",
   "pygments_lexer": "ipython3",
   "version": "3.8.8"
  }
 },
 "nbformat": 4,
 "nbformat_minor": 4
}
