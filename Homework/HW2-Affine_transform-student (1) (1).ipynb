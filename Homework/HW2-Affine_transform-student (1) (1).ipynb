{
 "cells": [
  {
   "cell_type": "markdown",
   "metadata": {},
   "source": [
    "In order to successfully complete this assignment, you must follow all the instructions in this notebook and upload your edited ipynb file to [D2L](http://d2l.msu.edu/) with your answers on or before **10:00am on Friday, October 8th**.\n",
    "\n",
    "**BIG HINT:** Read the entire homework before starting.  "
   ]
  },
  {
   "cell_type": "markdown",
   "metadata": {},
   "source": [
    "# Homework 2: Affine Transform\n",
    "\n",
    "\n",
    "\n"
   ]
  },
  {
   "cell_type": "code",
   "execution_count": 14,
   "metadata": {},
   "outputs": [],
   "source": [
    "# Here are some libraries you may need to use\n",
    "%matplotlib inline\n",
    "import matplotlib.pylab as plt\n",
    "\n",
    "import numpy as np\n",
    "import sympy as sym"
   ]
  },
  {
   "cell_type": "markdown",
   "metadata": {},
   "source": [
    "\n",
    "\n",
    "---\n",
    "<a name=Reading-in-example-image-files></a>\n",
    "# 1.  (25pts) Linear Transform\n",
    "\n",
    "\n",
    "In class, we talked about different types of transformations: rotation, shearing, translation, scaling.\n",
    "In this problem, we focus on the two dimensional case. Then we know that the transformation can be expressed as a $2\\times 3$ matrix, which has 6 unknowns. "
   ]
  },
  {
   "cell_type": "markdown",
   "metadata": {},
   "source": [
    "Assume that a linear transform maps $(1,1)$ to $(2,2)$, $(4,1)$ to $(8,2)$, and $(1,4)$ to $(-1,5)$. We need to find  the $2\\times 3$ matrix $M$ to express the transform.\n",
    "\n",
    "$$\\begin{bmatrix}x_{\\mbox{target}}\\\\y_{\\mbox{target}}\\end{bmatrix}=\\begin{bmatrix}m_{11}&m_{12}&m_{13}\\\\m_{21}&m_{22}&m_{23}\\end{bmatrix}\\begin{bmatrix}x\\\\y\\\\1\\end{bmatrix}$$\n",
    "\n",
    "The following code shows the three points before the mapping (in green) and the three target points after the mapping (in red)."
   ]
  },
  {
   "cell_type": "code",
   "execution_count": 15,
   "metadata": {},
   "outputs": [
    {
     "data": {
      "image/png": "[encoded data removed]",
      "text/plain": [
       "<Figure size 720x288 with 1 Axes>"
      ]
     },
     "metadata": {
      "needs_background": "light"
     },
     "output_type": "display_data"
    }
   ],
   "source": [
    "# Define some points\n",
    "x = [1.0, 4.0, 1.0, 1.0, 1.0]\n",
    "y = [1.0, 1.0, 1.0, 4.0, 1.0]\n",
    "con = [ 1.0 for i in range(len(x))] \n",
    "p = np.matrix([x,y,con])\n",
    "\n",
    "fig = plt.figure(figsize=plt.figaspect(0.4))\n",
    "ax1 = fig.add_subplot(1, 2, 1)\n",
    "\n",
    "#Plot Points\n",
    "plt.scatter(x,y, color='green');\n",
    "plt.plot(x,y, color='green');\n",
    "\n",
    "plt.axis('scaled');\n",
    "plt.axis([-3,10,-3,7]);\n",
    "\n",
    "x2 = [2.0, 8.0, 2.0, -1.0]\n",
    "y2 = [2.0, 2.0, 2.0, 5.0]\n",
    "\n",
    "#Plot Points after transform\n",
    "plt.scatter(x2,y2, color='red');\n",
    "plt.plot([x2[0],x2[1]],[y2[0],y2[1]], color='red');\n",
    "plt.plot([x2[0],x2[3]],[y2[0],y2[3]], color='red');  "
   ]
  },
  {
   "cell_type": "markdown",
   "metadata": {},
   "source": [
    "&#9989;  **<font color=red>QUESTION 1a:</font>** (5pts)  Write down a system of $6$ equations for the $6$ unknowns in the matrix $M$. Put down the system in the row form."
   ]
  },
  {
   "cell_type": "markdown",
   "metadata": {},
   "source": [
    "**$$m_{11} + m_{12} + m_{13} = 2$$**\n",
    "**$$4m_{11} + m_{12} + m_{13} = 8$$**\n",
    "**$$m_{11} + 4m_{12} + m_{13} = -1$$**\n",
    "**$$m_{21} + m_{22} + m_{23} =2$$**\n",
    "**$$4m_{21} + m_{22} + m_{23} =2$$**\n",
    "**$$m_{21} + 4m_{22} + m_{23} =5$$**"
   ]
  },
  {
   "cell_type": "markdown",
   "metadata": {},
   "source": [
    "&#9989;  **<font color=red>QUESTION 1b:</font>** (10pts)  Use Python to find the 6 values in the matrix $M$ based on the above system of equations, and store them in a $2\\times 3$ `numpy.matrix` variable named `M`."
   ]
  },
  {
   "cell_type": "code",
   "execution_count": 16,
   "metadata": {},
   "outputs": [
    {
     "data": {
      "text/latex": [
       "$\\displaystyle \\left[\\begin{matrix}2.0 & -1.0 & 1.0\\\\0.0 & 1.0 & 1.0\\end{matrix}\\right]$"
      ],
      "text/plain": [
       "Matrix([\n",
       "[2.0, -1.0, 1.0],\n",
       "[0.0,  1.0, 1.0]])"
      ]
     },
     "execution_count": 16,
     "metadata": {},
     "output_type": "execute_result"
    }
   ],
   "source": [
    "##Edit this cell to answer the question.\n",
    "#The comment part was the previous code gave me an error but the answer given was correct.\n",
    "#E = np.matrix([[1,1,1,0,0,0,2],[0,0,0,1,1,1,2],[4,1,1,0,0,0,8],[0,0,0,4,1,1,2],[1,4,1,0,0,0,-1],[0,0,0,1,4,1,5]])\n",
    "#RREF = sym.Matrix(E).rref()[0]\n",
    "#M = np.linalg.solve(E,RREF)\n",
    "A = np.matrix([[1,1,1,0,0,0],[0,0,0,1,1,1],[4,1,1,0,0,0],[0,0,0,4,1,1],[1,4,1,0,0,0],[0,0,0,1,4,1]])\n",
    "b = np.matrix([[2,2,8,2,-1,5]])\n",
    "X = np.linalg.solve(A,b.T)\n",
    "#M = np.matrix([[RREF[0,6],RREF[1,6],RREF[2,6]],[RREF[3,6],RREF[4,6],RREF[5,6]]])\n",
    "M = X.reshape(2,3)\n",
    "sym.Matrix(M)"
   ]
  },
  {
   "cell_type": "code",
   "execution_count": 17,
   "metadata": {},
   "outputs": [
    {
     "name": "stdout",
     "output_type": "stream",
     "text": [
      "\n",
      "CheckWarning: Matrix contains negative values for zero...\n",
      "    Converting to positive values of zero using  ```A[A==-0] = 0```.\n",
      "\n",
      "Testing [[ 2. -1.  1.]\n",
      " [ 0.  1.  1.]]\n",
      "Answer seems to be correct\n",
      "\n"
     ]
    }
   ],
   "source": [
    "from answercheck import checkanswer\n",
    "checkanswer.matrix(M,'d1ab6edd7398746076716cd92d9096db');"
   ]
  },
  {
   "cell_type": "markdown",
   "metadata": {},
   "source": [
    "&#9989;  **<font color=red>QUESTION 1c:</font>** (5pts)  Given the transform matrix $M$, what is the resulting point of $(4,4)$ after the transform?  Use matrix-vector multiplication to find the resulting point and store it in ```y4``` as a  $2\\times 1$ ```numpy.matrix```.  Check that the resulting four end points form a parallellogram by showing that ```y4-y3=y2-y1``` (see the code provided in the cell)."
   ]
  },
  {
   "cell_type": "code",
   "execution_count": 18,
   "metadata": {
    "scrolled": true
   },
   "outputs": [
    {
     "data": {
      "text/latex": [
       "$\\displaystyle \\left[\\begin{matrix}5.0\\\\5.0\\end{matrix}\\right]$"
      ],
      "text/plain": [
       "Matrix([\n",
       "[5.0],\n",
       "[5.0]])"
      ]
     },
     "execution_count": 18,
     "metadata": {},
     "output_type": "execute_result"
    }
   ],
   "source": [
    "##Start your coding###\n",
    "y4 = np.matrix(M*(np.matrix([4,4,1]).T))\n",
    "###End your coding###\n",
    "y1 = np.matrix([[2],[2]])\n",
    "y2 = np.matrix([[8],[2]])\n",
    "y3 = np.matrix([[-1],[5]])\n",
    "np.allclose(y4-y3,y2-y1)\n",
    "sym.Matrix(y4)"
   ]
  },
  {
   "cell_type": "code",
   "execution_count": 19,
   "metadata": {},
   "outputs": [
    {
     "name": "stdout",
     "output_type": "stream",
     "text": [
      "\n",
      "CheckWarning: numpy.matrix is row vector...\n",
      "    Trying to convert to a column vector using ```A = A.T```.\n",
      "\n",
      "Testing [[5. 5.]]\n",
      "Answer seems to be correct\n",
      "\n"
     ]
    }
   ],
   "source": [
    "from answercheck import checkanswer\n",
    "checkanswer.vector(y4,'5d193a412417bf8415160109117d9b6b');"
   ]
  },
  {
   "cell_type": "markdown",
   "metadata": {},
   "source": [
    "&#9989;  **<font color=red>QUESTION 1d:</font>** (5pts) The linear transform can be expressed as the product of rotation, shearing, translation, and scaling transformation matrices. Use the following interactive tool to find the corresponding coefficients for the transformation matrix."
   ]
  },
  {
   "attachments": {
    "download.png": {
     "image/png": "[encoded data removed]"
    }
   },
   "cell_type": "markdown",
   "metadata": {},
   "source": [
    "![download.png](attachment:download.png)"
   ]
  },
  {
   "cell_type": "code",
   "execution_count": 20,
   "metadata": {},
   "outputs": [],
   "source": [
    "from ipywidgets import interact,interact_manual\n",
    "\n",
    "def affine_image(angle=0.0,scale=1.0,dx=0,dy=0, shx=0, shy=0):\n",
    "    theta = -angle/180  * np.pi\n",
    "    \n",
    "    plt.plot(p[0,:].tolist()[0],p[1,:].tolist()[0], color='green')\n",
    "    \n",
    "    S = np.matrix([[scale,0,0], [0,scale,0], [0,0,1]])\n",
    "    SH1 = np.matrix([[1,shx,0], [0,1,0], [0,0,1]])\n",
    "    SH2 = np.matrix([[1,0,0], [shy,1,0], [0,0,1]])\n",
    "    T = np.matrix([[1,0,dx], [0,1,dy], [0,0,1]])\n",
    "    R = np.matrix([[np.cos(theta),-np.sin(theta),0],[np.sin(theta), np.cos(theta),0],[0,0,1]])\n",
    "    \n",
    "    #Full Transform\n",
    "    FT = T*R*SH2*SH1*S;\n",
    "    #Apply Transforms\n",
    "    p2 =  FT*p;\n",
    "    \n",
    "    #Target picture:\n",
    "    x2 = [2.0, 8.0, 2.0, -1.0]\n",
    "    y2 = [2.0, 2.0, 2.0, 5.0]\n",
    "    plt.plot([x2[0],x2[1]],[y2[0],y2[1]], color='red');\n",
    "    plt.plot([x2[0],x2[3]],[y2[0],y2[3]], color='red');\n",
    "    \n",
    "    #Plot Output\n",
    "    plt.plot(p2[0,:].tolist()[0],p2[1,:].tolist()[0], color='blue')\n",
    "    plt.axis('equal')\n",
    "    plt.axis([-3,10,-3,7])\n",
    "    ax = plt.gca()\n",
    "    plt.show()\n",
    "    \n",
    "    return sym.Matrix(FT)"
   ]
  },
  {
   "cell_type": "code",
   "execution_count": 171,
   "metadata": {},
   "outputs": [
    {
     "data": {
      "application/vnd.jupyter.widget-view+json": {
       "model_id": "818721ff875246799e7cbdd64cfcf560",
       "version_major": 2,
       "version_minor": 0
      },
      "text/plain": [
       "interactive(children=(IntSlider(value=0, description='angle', max=180, min=-180), FloatSlider(value=1.0, descr…"
      ]
     },
     "metadata": {},
     "output_type": "display_data"
    }
   ],
   "source": [
    "interact(affine_image, angle=(-180,180), scale_manual=(0.01,2), dx=(-5,15,0.5), dy=(-15,15,0.5), shx = (-1,1,0.1), shy = (-1,1,0.1)); ##TODO: Modify this line of code"
   ]
  },
  {
   "cell_type": "code",
   "execution_count": 21,
   "metadata": {},
   "outputs": [],
   "source": [
    "# Put your answer here\n",
    "angle = -45\n",
    "scale = 1.40\n",
    "dx  = 1\n",
    "dy  = 1\n",
    "shx = 0\n",
    "shy = -1"
   ]
  },
  {
   "cell_type": "markdown",
   "metadata": {},
   "source": [
    "\n",
    "---\n",
    "<a name=Design-Transforms></a>\n",
    "# 2.  (20pts) Combined Transforms\n",
    "\n",
    "In this problem, we will consider two types of transformations: rotation and shearing. When the translation is not involved, we can use $2\\times 2$ matrices to describe them. In class, we showed that changing the order of transformation matrices may get a different transform, since matrix multiplication is not commutative."
   ]
  },
  {
   "cell_type": "markdown",
   "metadata": {},
   "source": [
    "&#9989;  **<font color=red>QUESTION 2a:</font>** (6pts)  Use python code  to construct the following two $2\\times 2$ transformation matrices: \n",
    "+ Rotation matrix `R` with angle `degree`$=60^\\circ$ (rotate counterclockwise)\n",
    "+ Shearing matrix `SH` with parameter `shx`$=1.0$ (the $y$-component does not change)"
   ]
  },
  {
   "cell_type": "code",
   "execution_count": 22,
   "metadata": {},
   "outputs": [
    {
     "name": "stdout",
     "output_type": "stream",
     "text": [
      "[[ 0.5       -0.8660254]\n",
      " [ 0.8660254  0.5      ]]\n",
      "[[1. 1.]\n",
      " [0. 1.]]\n"
     ]
    }
   ],
   "source": [
    "#finish the code for the two matrices\n",
    "degrees = 60\n",
    "x = -degrees/180 * np.pi\n",
    "cos_x = np.cos(x)\n",
    "sin_x = np.sin(x)\n",
    "R = np.matrix([[cos_x,sin_x],[-sin_x, cos_x]])\n",
    "\n",
    "shx = 1. # shear in the x-direction\n",
    "SH  = np.matrix([[1,shx],[0,1]])\n",
    "\n",
    "print(R)\n",
    "print(SH)"
   ]
  },
  {
   "cell_type": "code",
   "execution_count": 23,
   "metadata": {},
   "outputs": [
    {
     "name": "stdout",
     "output_type": "stream",
     "text": [
      "Testing [[ 0.5     -0.86603]\n",
      " [ 0.86603  0.5    ]]\n",
      "Answer seems to be correct\n",
      "\n"
     ]
    }
   ],
   "source": [
    "from answercheck import checkanswer\n",
    "checkanswer.matrix(R,'163b8f36e3a3f5fa07b4e6728d2b22a6');"
   ]
  },
  {
   "cell_type": "code",
   "execution_count": 24,
   "metadata": {},
   "outputs": [
    {
     "name": "stdout",
     "output_type": "stream",
     "text": [
      "\n",
      "CheckWarning: Matrix contains negative values for zero...\n",
      "    Converting to positive values of zero using  ```A[A==-0] = 0```.\n",
      "\n",
      "Testing [[1. 1.]\n",
      " [0. 1.]]\n",
      "Answer seems to be correct\n",
      "\n"
     ]
    }
   ],
   "source": [
    "from answercheck import checkanswer\n",
    "checkanswer.matrix(SH,'afc5f3df05880c6922329d836538dce9');"
   ]
  },
  {
   "cell_type": "markdown",
   "metadata": {},
   "source": [
    "&#9989;  **<font color=red>QUESTION 2b:</font>** (4pts) Print the product of the two matrices `SH*R` and `R*SH`. Are they the same?"
   ]
  },
  {
   "cell_type": "code",
   "execution_count": 25,
   "metadata": {},
   "outputs": [
    {
     "name": "stdout",
     "output_type": "stream",
     "text": [
      "Matrix([[1.36602540378444, -0.366025403784438], [0.866025403784439, 0.500000000000000]])\n",
      "Matrix([[0.500000000000000, -0.366025403784438], [0.866025403784439, 1.36602540378444]])\n",
      "[[False  True]\n",
      " [ True False]]\n"
     ]
    }
   ],
   "source": [
    "SHR = SH*R\n",
    "RSH = R*SH\n",
    "print(sym.Matrix(SHR))\n",
    "print(sym.Matrix(RSH))\n",
    "print(SHR == RSH)"
   ]
  },
  {
   "cell_type": "markdown",
   "metadata": {},
   "source": [
    "**No, the answer is not same, $$SH*R \\neq R*SH$$**"
   ]
  },
  {
   "cell_type": "markdown",
   "metadata": {},
   "source": [
    "&#9989;  **<font color=red>QUESTION 2c:</font>** (5pts)  Given two $2\\times2$ matrices $A$ and $B$ \n",
    "$$\n",
    "A=\\begin{bmatrix}a & b \\\\ c& d\\end{bmatrix}\\qquad B=\\begin{bmatrix}e & f \\\\ g& h\\end{bmatrix}\n",
    "$$\n",
    " When their product does not change if the order is switched, i.e.,\n",
    "$$\n",
    "\\begin{bmatrix}a & b \\\\ c& d\\end{bmatrix}\\begin{bmatrix}e & f \\\\ g& h\\end{bmatrix}  =\\begin{bmatrix}e & f \\\\ g& h\\end{bmatrix} \\begin{bmatrix}a & b \\\\ c& d\\end{bmatrix}  \n",
    "$$\n",
    "we have\n",
    "$$\n",
    "\\begin{align*}\n",
    "ae+bg  = ae+cf\\\\\n",
    "af+bh=be+df\\\\\n",
    "ce+dg=ag+ch\\\\\n",
    "cf+dh=bg+dh\n",
    "\\end{align*}\n",
    "$$\n",
    "\n",
    "The first and the fourth equations hold when \n",
    "$$ cf=bg$$\n",
    "The second and third equations hold when \n",
    "$$\n",
    "\\begin{align*}\n",
    "(a-d)f = b(e-h)\\\\\n",
    "(a-d)g= c(e-h)\n",
    "\\end{align*}\n",
    "$$\n",
    "\n",
    "Explain why `SH*R` is not the same as `R*SH` from the previous question."
   ]
  },
  {
   "cell_type": "code",
   "execution_count": 26,
   "metadata": {},
   "outputs": [
    {
     "data": {
      "text/latex": [
       "$\\displaystyle \\left[\\begin{matrix}1.0 & 1.0\\\\0.0 & 1.0\\end{matrix}\\right]$"
      ],
      "text/plain": [
       "Matrix([\n",
       "[1.0, 1.0],\n",
       "[0.0, 1.0]])"
      ]
     },
     "execution_count": 26,
     "metadata": {},
     "output_type": "execute_result"
    }
   ],
   "source": [
    "a = SH[0,0]\n",
    "b = SH[0,1]\n",
    "c = SH[1,0]\n",
    "d = SH[1,1]\n",
    "sym.Matrix(SH)"
   ]
  },
  {
   "cell_type": "code",
   "execution_count": 27,
   "metadata": {},
   "outputs": [
    {
     "data": {
      "text/latex": [
       "$\\displaystyle \\left[\\begin{matrix}0.5 & -0.866025403784439\\\\0.866025403784439 & 0.5\\end{matrix}\\right]$"
      ],
      "text/plain": [
       "Matrix([\n",
       "[              0.5, -0.866025403784439],\n",
       "[0.866025403784439,                0.5]])"
      ]
     },
     "execution_count": 27,
     "metadata": {},
     "output_type": "execute_result"
    }
   ],
   "source": [
    "e = R[0,0]\n",
    "f = R[0,1]\n",
    "g = R[1,0]\n",
    "h = R[1,1]\n",
    "sym.Matrix(R)"
   ]
  },
  {
   "cell_type": "markdown",
   "metadata": {},
   "source": [
    "Now, let us define the condition for second and third equations:\n",
    "\n",
    "$$\n",
    "\\begin{align*}\n",
    "(a-d)f = b(e-h)\\\\\n",
    "(a-d)g= c(e-h)\n",
    "\\end{align*}\n",
    "$$"
   ]
  },
  {
   "cell_type": "code",
   "execution_count": 28,
   "metadata": {},
   "outputs": [
    {
     "data": {
      "text/plain": [
       "True"
      ]
     },
     "execution_count": 28,
     "metadata": {},
     "output_type": "execute_result"
    }
   ],
   "source": [
    "(a-d)*f == b*(e-h)\n",
    "(a-d)*g == c*(e-h)"
   ]
  },
  {
   "cell_type": "markdown",
   "metadata": {},
   "source": [
    "The first and the fourth equations hold when \n",
    "$$ cf=bg$$"
   ]
  },
  {
   "cell_type": "code",
   "execution_count": 29,
   "metadata": {},
   "outputs": [
    {
     "data": {
      "text/plain": [
       "False"
      ]
     },
     "execution_count": 29,
     "metadata": {},
     "output_type": "execute_result"
    }
   ],
   "source": [
    "c*f == b*g"
   ]
  },
  {
   "cell_type": "markdown",
   "metadata": {},
   "source": [
    "**`SH*R and R*SH` are not equal because it violates the condition $cf = bg$ from the code `In[25]`.**"
   ]
  },
  {
   "cell_type": "markdown",
   "metadata": {},
   "source": [
    "&#9989;  **<font color=red>QUESTION 2d:</font>** (5pt) Find another pair of two transform matrices from the six transformation matrices talked about in class (Rotation, Scale, Translation, Shear_x, Shear_y, Reflection) such that their order matters when applying the transform. "
   ]
  },
  {
   "cell_type": "code",
   "execution_count": 30,
   "metadata": {},
   "outputs": [
    {
     "name": "stdout",
     "output_type": "stream",
     "text": [
      "[[ 0.70710678 -0.70710678]\n",
      " [ 1.06066017  0.35355339]]\n",
      "[[ 0.35355339 -0.70710678]\n",
      " [ 1.06066017  0.70710678]]\n",
      "[[False  True]\n",
      " [ True False]]\n"
     ]
    }
   ],
   "source": [
    "shx = 0.5 # shear in the x-direction\n",
    "\n",
    "SH  = np.matrix([[1,0],[shx,1]])\n",
    "\n",
    "angle = np.pi/4\n",
    "R = np.matrix([[np.cos(angle), -np.sin(angle)], [np.sin(angle), np.cos(angle)]]);\n",
    "\n",
    "A = SH * R\n",
    "B = R * SH\n",
    "print(A)\n",
    "print(B)\n",
    "print(A == B)"
   ]
  },
  {
   "cell_type": "markdown",
   "metadata": {},
   "source": [
    "As it can be seen that ${A}\\neq{B}$ becuase the order in which matrix ```SH``` and ```R``` are multiplied matters."
   ]
  },
  {
   "cell_type": "markdown",
   "metadata": {},
   "source": [
    "---\n",
    "<a name=Stitch-Images-together></a>\n",
    "# 3.  (30pts) Inverse Transform\n",
    "\n"
   ]
  },
  {
   "cell_type": "markdown",
   "metadata": {},
   "source": [
    "Again we consider a tranform without the translation. However, we consider it in three dimensions now."
   ]
  },
  {
   "cell_type": "markdown",
   "metadata": {},
   "source": [
    "&#9989;  **<font color=red>QUESTION 3a:</font>** (9pts)  Use python code to construct the following three $3\\times 3$ transformation matrices: \n",
    "+ Rotation matrix `Rx` with angle `degreex`$=60^\\circ$ (rotate about x axis)\n",
    "+ Rotation matrix `Rz` with angle `degreez`$=45^\\circ$ (rotate about z axis)\n",
    "+ Shearing matrix `SH` with parameter `sh`$=1.0$ (adding the $z$ component to the $x$ component)"
   ]
  },
  {
   "cell_type": "code",
   "execution_count": 31,
   "metadata": {},
   "outputs": [],
   "source": [
    "## Finish the code in this cell.\n",
    "degreex = 60\n",
    "angle = degreex/180*np.pi\n",
    "Rx = np.matrix([[1,0,0],[0,np.cos(angle), -np.sin(angle)], [0,np.sin(angle),np.cos(angle)]])\n",
    "\n",
    "degreez = 45\n",
    "angle = degreez/180*np.pi\n",
    "Rz = np.matrix([[np.cos(angle), -np.sin(angle),0], [np.sin(angle), np.cos(angle),0],[0,0,1]])\n",
    "\n",
    "sh = 1.0 \n",
    "SH  = np.matrix([[1,0,sh],[0,1,0],[0,0,1]])"
   ]
  },
  {
   "cell_type": "code",
   "execution_count": 32,
   "metadata": {},
   "outputs": [
    {
     "name": "stdout",
     "output_type": "stream",
     "text": [
      "\n",
      "CheckWarning: Matrix contains negative values for zero...\n",
      "    Converting to positive values of zero using  ```A[A==-0] = 0```.\n",
      "\n",
      "Testing [[ 1.       0.       0.     ]\n",
      " [ 0.       0.5     -0.86603]\n",
      " [ 0.       0.86603  0.5    ]]\n",
      "Answer seems to be correct\n",
      "\n"
     ]
    }
   ],
   "source": [
    "checkanswer.matrix(Rx,'2c299ea2d9eeca197f415cacd4a4efe6');"
   ]
  },
  {
   "cell_type": "code",
   "execution_count": 33,
   "metadata": {
    "scrolled": true
   },
   "outputs": [
    {
     "name": "stdout",
     "output_type": "stream",
     "text": [
      "\n",
      "CheckWarning: Matrix contains negative values for zero...\n",
      "    Converting to positive values of zero using  ```A[A==-0] = 0```.\n",
      "\n",
      "Testing [[ 0.70711 -0.70711  0.     ]\n",
      " [ 0.70711  0.70711  0.     ]\n",
      " [ 0.       0.       1.     ]]\n",
      "Answer seems to be correct\n",
      "\n"
     ]
    }
   ],
   "source": [
    "checkanswer.matrix(Rz,'05fd5fa50be0b9301c392221a601a1b2');"
   ]
  },
  {
   "cell_type": "code",
   "execution_count": 34,
   "metadata": {},
   "outputs": [
    {
     "name": "stdout",
     "output_type": "stream",
     "text": [
      "\n",
      "CheckWarning: Matrix contains negative values for zero...\n",
      "    Converting to positive values of zero using  ```A[A==-0] = 0```.\n",
      "\n",
      "Testing [[1. 0. 1.]\n",
      " [0. 1. 0.]\n",
      " [0. 0. 1.]]\n",
      "Answer seems to be correct\n",
      "\n"
     ]
    }
   ],
   "source": [
    "checkanswer.matrix(SH,'c86ada68aeb78dd10005d7f286bff51f');"
   ]
  },
  {
   "cell_type": "markdown",
   "metadata": {},
   "source": [
    "&#9989;  **<font color=red>QUESTION 3b:</font>** (6pts)  Find the inverse tranform matrices for the three matrices and call them `Rx_inv`, `Rz_inv`, and `SH_inv`, respectively. Feel free to use your intuition based on what the transforms do to find the inverses. Check that the matrices you found are indeed the inverses you are looking for by multiplying each matrix with its inverse."
   ]
  },
  {
   "cell_type": "code",
   "execution_count": 35,
   "metadata": {
    "scrolled": true
   },
   "outputs": [],
   "source": [
    "##complete the code in this cell\n",
    "\n",
    "Rx_inv = np.linalg.inv(Rx)\n",
    "\n",
    "Rz_inv = np.linalg.inv(Rz)\n",
    "\n",
    "SH_inv = np.linalg.inv(SH)\n"
   ]
  },
  {
   "cell_type": "markdown",
   "metadata": {},
   "source": [
    "For a matrix to be its inverse, the multiplication of the matrix and the inverse should be equal to the matrix of that size. Let's check if ```Rx_inv```, ```Rz_inv```, ```SH_inv``` are the inverse of matrices ```Rx```, ```Rz```, and ```SH``` respectively."
   ]
  },
  {
   "cell_type": "code",
   "execution_count": 36,
   "metadata": {},
   "outputs": [
    {
     "name": "stdout",
     "output_type": "stream",
     "text": [
      "[[ 1.00000000e+00  0.00000000e+00  0.00000000e+00]\n",
      " [ 0.00000000e+00  1.00000000e+00 -1.48741681e-17]\n",
      " [ 0.00000000e+00  4.06369831e-17  1.00000000e+00]]\n",
      "[[1. 0. 0.]\n",
      " [0. 1. 0.]\n",
      " [0. 0. 1.]]\n",
      "[[1. 0. 0.]\n",
      " [0. 1. 0.]\n",
      " [0. 0. 1.]]\n"
     ]
    }
   ],
   "source": [
    "# Checking to see Rx_inv is inverse of Rx\n",
    "print(Rx_inv*Rx)\n",
    "print(Rz_inv*Rz)\n",
    "print(SH_inv*SH)"
   ]
  },
  {
   "cell_type": "markdown",
   "metadata": {},
   "source": [
    "As it can be seen that, if we ignore rounding error, the multiplication of all the inverse is equal to the identity matrix and that proves that indeed they are the inverse of the matrices."
   ]
  },
  {
   "cell_type": "code",
   "execution_count": 37,
   "metadata": {},
   "outputs": [
    {
     "name": "stdout",
     "output_type": "stream",
     "text": [
      "\n",
      "CheckWarning: Matrix contains negative values for zero...\n",
      "    Converting to positive values of zero using  ```A[A==-0] = 0```.\n",
      "\n",
      "Testing [[ 1.       0.       0.     ]\n",
      " [ 0.       0.5      0.86603]\n",
      " [ 0.      -0.86603  0.5    ]]\n",
      "Answer seems to be correct\n",
      "\n"
     ]
    }
   ],
   "source": [
    "checkanswer.matrix(Rx_inv,'571417b2efd409fcc81fbcd60a1f8765');"
   ]
  },
  {
   "cell_type": "code",
   "execution_count": 38,
   "metadata": {
    "scrolled": true
   },
   "outputs": [
    {
     "name": "stdout",
     "output_type": "stream",
     "text": [
      "\n",
      "CheckWarning: Matrix contains negative values for zero...\n",
      "    Converting to positive values of zero using  ```A[A==-0] = 0```.\n",
      "\n",
      "Testing [[ 0.70711  0.70711  0.     ]\n",
      " [-0.70711  0.70711  0.     ]\n",
      " [ 0.       0.       1.     ]]\n",
      "Answer seems to be correct\n",
      "\n"
     ]
    }
   ],
   "source": [
    "checkanswer.matrix(Rz_inv,'96491aabf1a23f1090aeea4596f579df');"
   ]
  },
  {
   "cell_type": "code",
   "execution_count": 39,
   "metadata": {
    "scrolled": true
   },
   "outputs": [
    {
     "name": "stdout",
     "output_type": "stream",
     "text": [
      "\n",
      "CheckWarning: Matrix contains negative values for zero...\n",
      "    Converting to positive values of zero using  ```A[A==-0] = 0```.\n",
      "\n",
      "Testing [[ 1.  0. -1.]\n",
      " [ 0.  1.  0.]\n",
      " [ 0.  0.  1.]]\n",
      "Answer seems to be correct\n",
      "\n"
     ]
    }
   ],
   "source": [
    "checkanswer.matrix(SH_inv,'b8117800247011f0808fa99eb73e8038');"
   ]
  },
  {
   "cell_type": "markdown",
   "metadata": {},
   "source": [
    "&#9989;  **<font color=red>QUESTION 3c:</font>** (5pts)  Combine the three matrices into one transfrom matrix. You can choose any order for the three matrices. Then use the `rref` function in `sympy` to find the inverse of the matrix. (Hint: you can use `numpy.concatenate` to join two $3\\times 3$ matrices into one $3\\times 6$ matrix.)"
   ]
  },
  {
   "cell_type": "code",
   "execution_count": 40,
   "metadata": {},
   "outputs": [
    {
     "name": "stdout",
     "output_type": "stream",
     "text": [
      "Matrix([[0.707106781186547, 1.21957879437771, 0.112372435695794], [-0.707106781186547, 0.353553390593274, 0.612372435695794], [7.85046229341887e-17, -0.866025403784439, 0.500000000000000]])\n"
     ]
    }
   ],
   "source": [
    "### Put your answer here\n",
    "M = Rx*Rz*SH\n",
    "A = np.concatenate((M,np.eye(3)),axis=1)\n",
    "M_INV = sym.Matrix(A).rref()[0]\n",
    "M_INV = M_INV[:,3:6]\n",
    "print(M_INV)"
   ]
  },
  {
   "cell_type": "markdown",
   "metadata": {},
   "source": [
    "&#9989;  **<font color=red>QUESTION 3d:</font>** (5pts)  As we know, if $A$, $B$ and $C$ are invertible, we have \n",
    "$$(ABC)^{-1}=C^{-1}B^{-1}A^{-1}.$$\n",
    "Based on this rule, use the inverse transformation matrices to construct the inverse of $M$ and check whether it is the same as you obtained in the previous question."
   ]
  },
  {
   "cell_type": "code",
   "execution_count": 41,
   "metadata": {},
   "outputs": [
    {
     "name": "stdout",
     "output_type": "stream",
     "text": [
      "[[ 0.70710678  1.21957879  0.11237244]\n",
      " [-0.70710678  0.35355339  0.61237244]\n",
      " [ 0.         -0.8660254   0.5       ]]\n"
     ]
    }
   ],
   "source": [
    "### Put your answer here\n",
    "M_INV_D = np.matrix(SH_inv*Rz_inv*Rx_inv)\n",
    "print(M_INV_D)"
   ]
  },
  {
   "cell_type": "code",
   "execution_count": 42,
   "metadata": {},
   "outputs": [
    {
     "name": "stdout",
     "output_type": "stream",
     "text": [
      "[[1.11022302462516e-16 -2.22044604925031e-16 -8.32667268468867e-17]\n",
      " [0 0 1.11022302462516e-16]\n",
      " [-7.85046229341887e-17 2.22044604925031e-16 1.11022302462516e-16]]\n"
     ]
    }
   ],
   "source": [
    "A = np.matrix(M_INV_D - M_INV)\n",
    "print(A)"
   ]
  },
  {
   "cell_type": "markdown",
   "metadata": {},
   "source": [
    "**As it can be seen that M_INV which is found using rref method to find the inverse of matrix $M$. The resulting matrix M_INV which is $(ABC)^{-1}$. Then the inverse of the three matrices were multiplied to give matrix M_INV_D which was found to be equal to the Question 3c. To get it equal, we subtracted, M_INV_D-M_INV and it gave us a matrix $A$ which is a zero matrix of size ${3}\\times{3}$ which shows that M_INV=M_INV_D despite small python error.**"
   ]
  },
  {
   "cell_type": "markdown",
   "metadata": {},
   "source": [
    "&#9989;  **<font color=red>QUESTION 3e:</font>** (5pts)  Suppose that under this transformation matrix $M$ we know that some point ends up at (1,1,1). Where was this point before the transformation matrix was applied?"
   ]
  },
  {
   "cell_type": "code",
   "execution_count": 43,
   "metadata": {},
   "outputs": [
    {
     "name": "stdout",
     "output_type": "stream",
     "text": [
      "[[ 2.03905801]\n",
      " [ 0.25881905]\n",
      " [-0.3660254 ]]\n"
     ]
    }
   ],
   "source": [
    "### Put your answer here\n",
    "A = M_INV_D * np.matrix([[1,1,1]]).T\n",
    "print(A)"
   ]
  },
  {
   "cell_type": "markdown",
   "metadata": {},
   "source": [
    "This matrix was at point $(2.039,0.259, -0.366)$ before transformation matrix $M$ was applied."
   ]
  },
  {
   "cell_type": "markdown",
   "metadata": {},
   "source": [
    "\n",
    "\n",
    "---\n",
    "<a name=Build-an-combined-affine-transform-function.></a>\n",
    "# 4. (25 points) Cryptography\n",
    "\n",
    "In this problem, we use an invertible matrix to encode a message. There will be two matrices: encoding matrix and decoding matrix. \n",
    "\n",
    "Assume that we want to send the following message \n",
    "$$\\mbox{EXAM AT TWO}$$\n",
    "We first assign a number to each letter of the alphabet. For example, we can assign 1 to A, 2 to B, and so on. In addition, we assign 27 to the space between two words. So this message can be decribed as a vector \n",
    "$$[5,24,1,13,27,1,20,27,20,23,15].$$\n",
    "Then we design an encoding matrix. For this example, we let the encoding matrix be \n",
    "$$\\begin{bmatrix}1&2&1\\\\2&3&1\\\\-2&0&1\\end{bmatrix}.$$\n",
    "Because the encoding matrix has three rows and three columns, we break the message vector into many vectors of three elements. If the number is not divided by three, we add additional spaces at the end of the message. Therefore we have the new messge vector\n",
    "$$[5,24,1],[13,27,1],[20,27,20],[23,15,27],$$\n",
    "which has 4 blocks.\n",
    "\n",
    "For the encoding part, we just apply matrix-vector multiplication block by block. "
   ]
  },
  {
   "cell_type": "markdown",
   "metadata": {},
   "source": [
    "&#9989;  **<font color=red>QUESTION 4a:</font>** (5pts) Use python code to encode the message and store the output vector into a matrix named `Message_encoded` with three rows, and each column corresponds to the encoded message of three characters in one block."
   ]
  },
  {
   "cell_type": "code",
   "execution_count": 44,
   "metadata": {},
   "outputs": [],
   "source": [
    "encode = np.matrix([[1,2,1],[2,3,1],[-2,0,1]])\n",
    "message = np.matrix([[5,24,1],[13,27,1],[20,27,20],[23,15,27]]).T\n",
    "Message_encoded = encode * message"
   ]
  },
  {
   "cell_type": "code",
   "execution_count": 45,
   "metadata": {},
   "outputs": [
    {
     "name": "stdout",
     "output_type": "stream",
     "text": [
      "\n",
      "CheckWarning: passed matrix is int32 and not <class 'numpy.float64'>...\n",
      "    Trying to convert to float using ```A = A.astype(float)```.\n",
      "\n",
      "Testing [[ 54.  68.  94.  80.]\n",
      " [ 83. 108. 141. 118.]\n",
      " [ -9. -25. -20. -19.]]\n",
      "Answer seems to be correct\n",
      "\n"
     ]
    }
   ],
   "source": [
    "checkanswer.matrix(Message_encoded,'bce1de1510a6ed5cd37f568734f0dd1c');"
   ]
  },
  {
   "cell_type": "markdown",
   "metadata": {},
   "source": [
    "&#9989;  **<font color=red>QUESTION 4b:</font>** (5pts) Find the decoding matrix that will decode the encoded message and store it as `Decode`."
   ]
  },
  {
   "cell_type": "code",
   "execution_count": 46,
   "metadata": {},
   "outputs": [
    {
     "data": {
      "text/latex": [
       "$\\displaystyle \\left[\\begin{matrix}3.0 & -2.0 & -1.0\\\\-4.0 & 3.0 & 1.0\\\\6.0 & -4.0 & -1.0\\end{matrix}\\right]$"
      ],
      "text/plain": [
       "Matrix([\n",
       "[ 3.0, -2.0, -1.0],\n",
       "[-4.0,  3.0,  1.0],\n",
       "[ 6.0, -4.0, -1.0]])"
      ]
     },
     "execution_count": 46,
     "metadata": {},
     "output_type": "execute_result"
    }
   ],
   "source": [
    "##Put your code here\n",
    "inv = np.linalg.inv(encode)\n",
    "Decode = inv\n",
    "sym.Matrix(Decode)"
   ]
  },
  {
   "cell_type": "code",
   "execution_count": 47,
   "metadata": {},
   "outputs": [
    {
     "name": "stdout",
     "output_type": "stream",
     "text": [
      "Testing [[ 3. -2. -1.]\n",
      " [-4.  3.  1.]\n",
      " [ 6. -4. -1.]]\n",
      "Answer seems to be correct\n",
      "\n"
     ]
    }
   ],
   "source": [
    "checkanswer.matrix(Decode,'468082f8684066db43875310bd3d1f1c');"
   ]
  },
  {
   "cell_type": "markdown",
   "metadata": {},
   "source": [
    "&#9989;  **<font color=red>QUESTION 4c:</font>** (5pts) Use the decoding matrix `Decode` to decode the message you just encoded. "
   ]
  },
  {
   "cell_type": "code",
   "execution_count": 48,
   "metadata": {},
   "outputs": [
    {
     "name": "stdout",
     "output_type": "stream",
     "text": [
      "[[ 5. 13. 20. 23.]\n",
      " [24. 27. 27. 15.]\n",
      " [ 1.  1. 20. 27.]]\n"
     ]
    }
   ],
   "source": [
    "#Put your code here\n",
    "Decoded = Decode * Message_encoded \n",
    "#Decoded = Decoded.T\n",
    "print(Decoded)"
   ]
  },
  {
   "cell_type": "markdown",
   "metadata": {},
   "source": [
    "&#9989;  **<font color=red>QUESTION 4d:</font>** (5pts) Use the decoding matrix `Decode` to decode the following message\n",
    "$$[71,100,-1,28,43,-5,84,122,-11,63,98,-27,69,102,-12,88,126,-3]$$"
   ]
  },
  {
   "cell_type": "code",
   "execution_count": 49,
   "metadata": {},
   "outputs": [
    {
     "name": "stdout",
     "output_type": "stream",
     "text": [
      "[[14.  3. 19. 20. 15. 15.]\n",
      " [15. 12. 19. 15. 18. 23.]\n",
      " [27.  1. 27. 13. 18. 27.]]\n"
     ]
    }
   ],
   "source": [
    "#Put your answer here\n",
    "decode_matrix = np.matrix([[71,100,-1],[28,43,-5],[84,122,-11],[63,98,-27],[69,102,-12],[88,126,-3]]).T\n",
    "Decoded = Decode * decode_matrix\n",
    "print(Decoded)"
   ]
  },
  {
   "cell_type": "markdown",
   "metadata": {},
   "source": [
    "The message would be:\n",
    "**NO CLASS TOMORROW**"
   ]
  },
  {
   "cell_type": "markdown",
   "metadata": {},
   "source": [
    "&#9989;  **<font color=red>QUESTION 4e:</font>** (5pts) Assume that the encode matrix is implemented in a machine, but you forgot the corresponding decode matrix. You only know that the encode matrix is $3\\times 3$. In this case, you can still find the encode matrix using the pairs of original message and encoded message. How many pairs do you need to recover this matrix? Explain your answer"
   ]
  },
  {
   "cell_type": "markdown",
   "metadata": {},
   "source": [
    "**You would need three pairs of input and output matrices. As we have a ${3}\\times{3}$ encode matrix, we need three matrix. Suppose we have a encode matrix:- $Encoded = \\begin{bmatrix}r&s&t\\\\u&v&w\\\\x&y&z\\end{bmatrix}.$ We know that encode is multiplied by the three pairs of input matrix, let it be:- $I1 = \\begin{bmatrix}1&0&0\\end{bmatrix}$, $I2 = \\begin{bmatrix}0&1&0\\end{bmatrix}$, and $ I3 =\\begin{bmatrix}0&0&1\\end{bmatrix}$. If we have, ${I1}\\times{Encoded}$, ${I2}\\times{Encoded}$, and ${I3}\\times{Encoded}$, our output would be $r,u,x$,$s,v,y$, and $t,w,z$. With this output, we can get the desire matrix.**"
   ]
  },
  {
   "cell_type": "markdown",
   "metadata": {},
   "source": [
    "---------\n",
    "### Congratulations, we're done!\n"
   ]
  }
 ],
 "metadata": {
  "celltoolbar": "Create Assignment",
  "kernelspec": {
   "display_name": "Python 3",
   "language": "python",
   "name": "python3"
  },
  "language_info": {
   "codemirror_mode": {
    "name": "ipython",
    "version": 3
   },
   "file_extension": ".py",
   "mimetype": "text/x-python",
   "name": "python",
   "nbconvert_exporter": "python",
   "pygments_lexer": "ipython3",
   "version": "3.8.3"
  }
 },
 "nbformat": 4,
 "nbformat_minor": 4
}
