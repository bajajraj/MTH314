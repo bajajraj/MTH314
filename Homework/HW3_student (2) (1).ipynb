{
 "cells": [
  {
   "cell_type": "markdown",
   "metadata": {},
   "source": [
    "In order to successfully complete this assignment, you must follow all the instructions in this notebook and upload your edited ipynb file to [D2L](http://d2l.msu.edu/) with your answers on or before **10:00am on Friday, October 29th**."
   ]
  },
  {
   "cell_type": "code",
   "execution_count": 1,
   "metadata": {},
   "outputs": [],
   "source": [
    "%matplotlib inline\n",
    "import matplotlib.pylab as plt\n",
    "import numpy as np\n",
    "import sympy as sym\n",
    "sym.init_printing(use_unicode=True)"
   ]
  },
  {
   "cell_type": "code",
   "execution_count": 2,
   "metadata": {},
   "outputs": [],
   "source": [
    "# import for checking answers\n",
    "from answercheck import checkanswer"
   ]
  },
  {
   "cell_type": "markdown",
   "metadata": {},
   "source": [
    "# 1. Change of bases (30 pts)"
   ]
  },
  {
   "cell_type": "markdown",
   "metadata": {},
   "source": [
    "We call the basis formed by the vectors:\n",
    "$$\n",
    "\\vec{e}_1=\\left(\\begin{array}{r}\n",
    "1\\\\\n",
    "0\\\\\n",
    "0\n",
    "\\end{array}\n",
    "\\right),\\,\\,\\,\\,\\,\n",
    "\\vec{e}_2=\\left(\\begin{array}{r}\n",
    "0\\\\\n",
    "1\\\\\n",
    "0\n",
    "\\end{array}\n",
    "\\right),\\,\\,\\,\\,\\,\n",
    "\\vec{e}_3=\\left(\\begin{array}{r}\n",
    "0\\\\\n",
    "0\\\\\n",
    "1\n",
    "\\end{array}\n",
    "\\right)\n",
    "$$\n",
    "the _standard basis_.\n"
   ]
  },
  {
   "cell_type": "markdown",
   "metadata": {},
   "source": [
    "Consider three column vectors:\n",
    "$$\n",
    "\\vec{b}_1=\\left(\\begin{array}{r}\n",
    "-2\\\\\n",
    "2\\\\\n",
    "-1\n",
    "\\end{array}\n",
    "\\right),\\,\\,\\,\\,\\,\n",
    "\\vec{b}_2=\\left(\\begin{array}{r}\n",
    "-7\\\\\n",
    "8\\\\\n",
    "-4\n",
    "\\end{array}\n",
    "\\right),\\,\\,\\,\\,\\,\n",
    "\\vec{b}_3=\\left(\\begin{array}{r}\n",
    "8\\\\\n",
    "-9\\\\\n",
    "5\n",
    "\\end{array}\n",
    "\\right).\n",
    "$$"
   ]
  },
  {
   "cell_type": "markdown",
   "metadata": {},
   "source": [
    "&#9989;  **<font color=red>QUESTION 1.1:</font>** (3 pts)\n",
    "Form a $3\\times3$ (numpy) matrix $B$ whose columns are the vectors $\\vec{b}_1$, $\\vec{b}_2$ and $\\vec{b}_3$."
   ]
  },
  {
   "cell_type": "code",
   "execution_count": 4,
   "metadata": {},
   "outputs": [
    {
     "data": {
      "text/latex": [
       "$\\displaystyle \\left[\\begin{matrix}-2 & -7 & 8\\\\2 & 8 & -9\\\\-1 & -4 & 5\\end{matrix}\\right]$"
      ],
      "text/plain": [
       "⎡-2  -7  8 ⎤\n",
       "⎢          ⎥\n",
       "⎢2   8   -9⎥\n",
       "⎢          ⎥\n",
       "⎣-1  -4  5 ⎦"
      ]
     },
     "execution_count": 4,
     "metadata": {},
     "output_type": "execute_result"
    }
   ],
   "source": [
    "# Put your answer to the above question here\n",
    "B = np.matrix([[-2,2,-1],[-7,8,-4],[8,-9,5]]).T\n",
    "sym.Matrix(B)"
   ]
  },
  {
   "cell_type": "code",
   "execution_count": 5,
   "metadata": {},
   "outputs": [
    {
     "name": "stdout",
     "output_type": "stream",
     "text": [
      "\n",
      "CheckWarning: passed matrix is int64 and not <class 'numpy.float64'>...\n",
      "    Trying to convert to float using ```A = A.astype(float)```.\n",
      "\n",
      "Testing [[-2. -7.  8.]\n",
      " [ 2.  8. -9.]\n",
      " [-1. -4.  5.]]\n",
      "Answer seems to be correct\n",
      "\n"
     ]
    }
   ],
   "source": [
    "checkanswer.matrix( B, '69807acb597f64933aca90e886436745' );"
   ]
  },
  {
   "cell_type": "markdown",
   "metadata": {},
   "source": [
    "&#9989;  **<font color=red>QUESTION 1.2:</font>** (5 pts)\n",
    "Check that vectors are linearly independent, i.e. they can form a basis."
   ]
  },
  {
   "cell_type": "code",
   "execution_count": 6,
   "metadata": {},
   "outputs": [
    {
     "name": "stdout",
     "output_type": "stream",
     "text": [
      "3\n"
     ]
    }
   ],
   "source": [
    "# Put your answer to the above question here\n",
    "print(np.linalg.matrix_rank(B))"
   ]
  },
  {
   "cell_type": "markdown",
   "metadata": {},
   "source": [
    "As the rank of matrix is $3$ and it is of a $3\\times3$, this means that all the rows and columns are linearly independent. Therefore, this means that the vectors are linearly independent."
   ]
  },
  {
   "cell_type": "markdown",
   "metadata": {},
   "source": [
    "&#9989;  **<font color=red>QUESTION 1.3:</font>** (5 pts)\n",
    "Consider the standard basis and the basis formed by $\\vec{b}_1$, $\\vec{b}_2$ and $\\vec{b}_3$. Describe how the matrix $B$ relates the two."
   ]
  },
  {
   "cell_type": "markdown",
   "metadata": {},
   "source": [
    "The matrix $B$ is used to transform the coordinates in this basis to the standard basis.The matrix $B$ is the basis formed by $\\vec{b}_1$, $\\vec{b}_2$ and $\\vec{b}_3$, and the inverse of the basis mltiplied by a point in the standard basis will result in points coordinate."
   ]
  },
  {
   "cell_type": "markdown",
   "metadata": {},
   "source": [
    "&#9989;  **<font color=red>QUESTION 1.4:</font>** (5 pts)\n",
    "Consider a point whose coordinates in the standard basis are $(1,1,1)$. Calculate its coordinates in the basis of $\\vec{b}_1$, $\\vec{b}_2$ and $\\vec{b}_3$. Store the result in variable `rprime`."
   ]
  },
  {
   "cell_type": "code",
   "execution_count": 7,
   "metadata": {},
   "outputs": [
    {
     "data": {
      "text/latex": [
       "$\\displaystyle \\left[\\begin{matrix}-6.0\\\\5.0\\\\3.0\\end{matrix}\\right]$"
      ],
      "text/plain": [
       "⎡-6.0⎤\n",
       "⎢    ⎥\n",
       "⎢5.0 ⎥\n",
       "⎢    ⎥\n",
       "⎣3.0 ⎦"
      ]
     },
     "execution_count": 7,
     "metadata": {},
     "output_type": "execute_result"
    }
   ],
   "source": [
    "# Put your answer to the above question here\n",
    "u = np.matrix([[1,1,1]]).T\n",
    "inv = np.linalg.inv(B)\n",
    "rprime = inv*u\n",
    "sym.Matrix(rprime)"
   ]
  },
  {
   "cell_type": "code",
   "execution_count": 8,
   "metadata": {},
   "outputs": [
    {
     "name": "stdout",
     "output_type": "stream",
     "text": [
      "Testing [[-6.]\n",
      " [ 5.]\n",
      " [ 3.]]\n",
      "Answer seems to be correct\n",
      "\n"
     ]
    }
   ],
   "source": [
    "checkanswer.matrix( rprime, 'b6cfe5b9898e5b73355743a069ed34d4' );"
   ]
  },
  {
   "cell_type": "markdown",
   "metadata": {},
   "source": [
    "&#9989;  **<font color=red>QUESTION 1.5:</font>** (5 pts)\n",
    "Consider a point whose coordinates in the $(\\vec{b}_1, \\vec{b}_2, \\vec{b}_3)$ basis are $(1,1,1)$. Calculate its coordinates in the standard basis. Store the result in variable `rprime`."
   ]
  },
  {
   "cell_type": "code",
   "execution_count": 10,
   "metadata": {},
   "outputs": [],
   "source": [
    "u = np.matrix([[1,1,1]]).T\n",
    "rprime = B*u"
   ]
  },
  {
   "cell_type": "code",
   "execution_count": 11,
   "metadata": {},
   "outputs": [
    {
     "name": "stdout",
     "output_type": "stream",
     "text": [
      "\n",
      "CheckWarning: passed matrix is int64 and not <class 'numpy.float64'>...\n",
      "    Trying to convert to float using ```A = A.astype(float)```.\n",
      "\n",
      "\n",
      "CheckWarning: Matrix contains negative values for zero...\n",
      "    Converting to positive values of zero using  ```A[A==-0] = 0```.\n",
      "\n",
      "Testing [[-1.]\n",
      " [ 1.]\n",
      " [ 0.]]\n",
      "Answer seems to be correct\n",
      "\n"
     ]
    }
   ],
   "source": [
    "checkanswer.matrix( rprime, 'ed83de1f7a4aef6e43f0783e4d435415' );"
   ]
  },
  {
   "cell_type": "markdown",
   "metadata": {},
   "source": [
    "&#9989;  **<font color=red>QUESTION 1.6:</font>** (7 pts)\n",
    "Let us interpret matrix $B$ as a linear transformation. Explain how the transformation changes a three-dimensional cube occuping the region $[0,1]\\times[0,1]\\times[0,1]$. How does the volume of the cube change under this transformation? Provide a numerical answer based on the properties of $B$."
   ]
  },
  {
   "cell_type": "markdown",
   "metadata": {},
   "source": [
    "The value of the determinant tells us the scaling happening to the cube. In our matrix $B$ over here, the value of determinant is $-1$. As the determinant is negative, then it implies that the there is a reflection. $-1$ will not change the volume of the cube because it has been just stresses and sheared, but the orientation of the cube would be changed. The sides will still remain parallel."
   ]
  },
  {
   "cell_type": "code",
   "execution_count": 12,
   "metadata": {},
   "outputs": [
    {
     "name": "stdout",
     "output_type": "stream",
     "text": [
      "-1.0\n"
     ]
    }
   ],
   "source": [
    "# Put your calculation here\n",
    "print(np.linalg.det(B))"
   ]
  },
  {
   "cell_type": "markdown",
   "metadata": {},
   "source": [
    "# 2. Matrix representation of vector spaces (25 pts)"
   ]
  },
  {
   "cell_type": "markdown",
   "metadata": {},
   "source": [
    "Consider the matrix\n",
    "$$\n",
    "A=\\left(\\begin{array}{rrr}\n",
    "1 & 2 & 3\\\\\n",
    "4 & 5 & 6\\\\\n",
    "7 & 8 & 9\n",
    "\\end{array}\n",
    "\\right)\n",
    "$$"
   ]
  },
  {
   "cell_type": "markdown",
   "metadata": {},
   "source": [
    "&#9989;  **<font color=red>QUESTION 2.1:</font>** (5 pts)\n",
    "Find the row space of $A$, by providing a basis for it."
   ]
  },
  {
   "cell_type": "code",
   "execution_count": 13,
   "metadata": {},
   "outputs": [
    {
     "data": {
      "text/latex": [
       "$\\displaystyle \\left[\\begin{matrix}1 & 0 & -1\\\\0 & 1 & 2\\\\0 & 0 & 0\\end{matrix}\\right]$"
      ],
      "text/plain": [
       "⎡1  0  -1⎤\n",
       "⎢        ⎥\n",
       "⎢0  1  2 ⎥\n",
       "⎢        ⎥\n",
       "⎣0  0  0 ⎦"
      ]
     },
     "execution_count": 13,
     "metadata": {},
     "output_type": "execute_result"
    }
   ],
   "source": [
    "# Put your answer to the above question here\n",
    "A = np.matrix([[1,2,3],[4,5,6],[7,8,9]])\n",
    "rref = sym.Matrix(A).rref()[0]\n",
    "rref"
   ]
  },
  {
   "cell_type": "markdown",
   "metadata": {},
   "source": [
    "The row space of $A$ will be:\n",
    "$$row(A) = \\{r(1,0,-1)^\\top+s(0,1,2)^\\top : r,s \\in \\mathbb{R} \\} = \\mbox{span}((1,0,-1)^\\top,(0,1,2)^\\top)$$"
   ]
  },
  {
   "cell_type": "markdown",
   "metadata": {},
   "source": [
    "&#9989;  **<font color=red>QUESTION 2.2:</font>** (5 pts)\n",
    "Find the null space of $A$ by providing a basis for it."
   ]
  },
  {
   "cell_type": "code",
   "execution_count": 14,
   "metadata": {},
   "outputs": [
    {
     "data": {
      "text/latex": [
       "$\\displaystyle \\left[ \\left[\\begin{matrix}1\\\\-2\\\\1\\end{matrix}\\right]\\right]$"
      ],
      "text/plain": [
       "⎡⎡1 ⎤⎤\n",
       "⎢⎢  ⎥⎥\n",
       "⎢⎢-2⎥⎥\n",
       "⎢⎢  ⎥⎥\n",
       "⎣⎣1 ⎦⎦"
      ]
     },
     "execution_count": 14,
     "metadata": {},
     "output_type": "execute_result"
    }
   ],
   "source": [
    "sym.Matrix(A).nullspace()"
   ]
  },
  {
   "cell_type": "markdown",
   "metadata": {},
   "source": [
    "Therefore, the null space would of $A$ would be:\n",
    "$$\n",
    "{z}\\times{\\left[\\begin{matrix}\n",
    "1\\\\\n",
    "-2\\\\\n",
    "1\n",
    "\\end{matrix}\n",
    "\\right]}\n",
    "$$"
   ]
  },
  {
   "cell_type": "markdown",
   "metadata": {},
   "source": [
    "&#9989;  **<font color=red>QUESTION 2.3:</font>** (5 pts)\n",
    "Find the column space of $A$ by providing a basis for it."
   ]
  },
  {
   "cell_type": "code",
   "execution_count": 15,
   "metadata": {},
   "outputs": [
    {
     "data": {
      "text/latex": [
       "$\\displaystyle \\left[\\begin{matrix}1 & 0 & -1\\\\0 & 1 & 2\\\\0 & 0 & 0\\end{matrix}\\right]$"
      ],
      "text/plain": [
       "⎡1  0  -1⎤\n",
       "⎢        ⎥\n",
       "⎢0  1  2 ⎥\n",
       "⎢        ⎥\n",
       "⎣0  0  0 ⎦"
      ]
     },
     "execution_count": 15,
     "metadata": {},
     "output_type": "execute_result"
    }
   ],
   "source": [
    "# Put your answer to the above question here\n",
    "At = np.matrix(A).T\n",
    "rref_inv = sym.Matrix(At).rref()[0]\n",
    "rref_inv"
   ]
  },
  {
   "cell_type": "markdown",
   "metadata": {},
   "source": [
    "Therefore, the column space of $A$ would be:\n",
    "$$col(A) = \\{a(1,0,-1)^\\top+b(0,1,2)^\\top : a,b \\in \\mathbb{R} \\} = \\mbox{span}((1,0,-1)^\\top,(0,1,2)^\\top)$$"
   ]
  },
  {
   "cell_type": "markdown",
   "metadata": {},
   "source": [
    "&#9989;  **<font color=red>QUESTION 2.4:</font>** (5 pts)\n",
    "Find the null space of $A^T$ by providing a basis for it."
   ]
  },
  {
   "cell_type": "code",
   "execution_count": 16,
   "metadata": {},
   "outputs": [
    {
     "data": {
      "text/latex": [
       "$\\displaystyle \\left[ \\left[\\begin{matrix}1\\\\-2\\\\1\\end{matrix}\\right]\\right]$"
      ],
      "text/plain": [
       "⎡⎡1 ⎤⎤\n",
       "⎢⎢  ⎥⎥\n",
       "⎢⎢-2⎥⎥\n",
       "⎢⎢  ⎥⎥\n",
       "⎣⎣1 ⎦⎦"
      ]
     },
     "execution_count": 16,
     "metadata": {},
     "output_type": "execute_result"
    }
   ],
   "source": [
    "sym.Matrix(At).nullspace()"
   ]
  },
  {
   "cell_type": "markdown",
   "metadata": {},
   "source": [
    "Therefore, the null space would of $A^T$ would be:\n",
    "$$\n",
    "{z}\\times{\\left[\\begin{matrix}\n",
    "1\\\\\n",
    "-2\\\\\n",
    "1\n",
    "\\end{matrix}\n",
    "\\right]}\n",
    "$$"
   ]
  },
  {
   "cell_type": "markdown",
   "metadata": {},
   "source": [
    "&#9989;  **<font color=red>QUESTION 2.5:</font>** (5 pts)\n",
    "Calculate the rank of $A$. How are the rank, dimension of the null space and the size of $A$ related?"
   ]
  },
  {
   "cell_type": "code",
   "execution_count": 17,
   "metadata": {},
   "outputs": [
    {
     "name": "stdout",
     "output_type": "stream",
     "text": [
      "2\n"
     ]
    }
   ],
   "source": [
    "rank = np.linalg.matrix_rank(A)\n",
    "print(rank)"
   ]
  },
  {
   "cell_type": "markdown",
   "metadata": {},
   "source": [
    "**If the rank is decreased, then the dimension of the null space increases, but the sum of the rank and the dimension of the null space would always be equal to the size of $A$**"
   ]
  },
  {
   "cell_type": "markdown",
   "metadata": {},
   "source": [
    "# 3. Eigenproblems: Fibonacci-like sequence (45 pts)\n"
   ]
  },
  {
   "cell_type": "markdown",
   "metadata": {},
   "source": [
    "Consider the following sequence of numbers, called Fibonacci sequence, $f_n$, $n=0,1,2,\\dots$:\n",
    "$$\n",
    "f_0=0,\\,\\,\\,\\,\\,f_1=1,\n",
    "$$\n",
    "$$\n",
    "f_n=f_{n-1}+f_{n-2}\\,\\mbox{for $n\\geq2$}.\n",
    "$$\n",
    "In other words, the first two numbers are initialized to be $0$ and $1$ and each next number in the sequnce is given as a sum of the previous two. Using the recursive formula it is easy to see that $f_2=1$, $f_3=2$, $f_4=3$, $f_5=5$, $f_6=8$, etc.\n",
    "\n",
    "A drawback of the recursive formula is that if we would like to calculate, say, one millionth number in the sequence (i.e. $n=1000000$) we need to do one million additions to get to that $n$.\n",
    "It is desirable to derive a closed form expression that would allow us immediately evaluate the $n$-th number $f_n$ as function of $n$ without relying on the recursive formula.\n",
    "\n",
    "At first sight, this problem has nothing to do with linear algebra. However, the problem of deriving the direct formula can be reformulated as an eigenproblem!\n",
    "\n",
    "Here we briefly discuss the steps for the Fibonacci sequence where the result is known and then apply them to another sequence given below. Since producing the next number in the sequence requires two previous numbers, let us\n",
    "consider a two-dimensional vector $\\vec{v}_k$ that packs together $k$-th and $(k+1)$-th numbers:\n",
    "$$\n",
    "\\vec{v}_k=\\left(\\begin{array}{l}\n",
    "f_{k+1}\\\\\n",
    "f_k\n",
    "\\end{array}\n",
    "\\right)\n",
    "$$\n",
    "Then\n",
    "$$\n",
    "\\vec{v}_{k-1}=\\left(\\begin{array}{l}\n",
    "f_{k}\\\\\n",
    "f_{k-1}\n",
    "\\end{array}\n",
    "\\right)\n",
    "$$\n",
    "and we can relate $\\vec{v}_{k}$ and $\\vec{v}_{k-1}$ by an action of a $2\\times2$ matrix $T$. Namely, using the recursive formula:\n",
    "$$\n",
    "\\vec{v}_k=\n",
    "\\left(\\begin{array}{l}\n",
    "f_{k+1}\\\\\n",
    "f_k\n",
    "\\end{array}\n",
    "\\right)=\n",
    "\\left(\\begin{array}{l}\n",
    "f_{k}+f_{k-1}\\\\\n",
    "f_k\n",
    "\\end{array}\n",
    "\\right)=\n",
    "\\left(\\begin{array}{l}\n",
    "1\\cdot f_{k}+1\\cdot f_{k-1}\\\\\n",
    "1\\cdot f_k + 0\\cdot f_{k-1}\n",
    "\\end{array}\n",
    "\\right)=\n",
    "\\left(\\begin{array}{ll}\n",
    "1 & 1 \\\\\n",
    "1 & 0\n",
    "\\end{array}\n",
    "\\right)\n",
    "\\left(\\begin{array}{l}\n",
    "f_{k}\\\\\n",
    "f_{k-1}\n",
    "\\end{array}\n",
    "\\right)\\equiv\n",
    "T\\vec{v}_{k-1}\n",
    "$$\n",
    "where the transformation matrix $T$ by this construction is\n",
    "$$\n",
    "T\\equiv \\left(\\begin{array}{ll}\n",
    "1 & 1 \\\\\n",
    "1 & 0\n",
    "\\end{array}\n",
    "\\right).\n",
    "$$\n",
    "The $n$-th number in the sequence is given as the top component of the vector $\\vec{v}_{n-1}$ which can be evaluated as a repetitive application of the matrix $T$ on the initial vector $\\vec{v}_0$:\n",
    "$$\n",
    "\\vec{v}_{n-1}=T\\vec{v}_{n-2}=T^2\\vec{v}_{n-3}=\\dots=T^{n-1}\\vec{v}_0.\n",
    "$$\n",
    "For the Fibonacci sequence the initial vector is\n",
    "$$\n",
    "\\left(\\begin{array}{l}\n",
    "s_1\\\\\n",
    "s_0\n",
    "\\end{array}\n",
    "\\right),\n",
    "$$\n",
    "with the starting values $s_1=1$ and $s_0=0$. (If we keep $s_0$ and $s_1$ as variables in the code, rather than directly coding 0 and 1, it gives us flexibility to explore different sequences by simply changing these two parameters.)\n",
    "\n",
    "The next step is to solve the eigenproblem for $T$, i.e. find its eigenvalues $\\lambda_1$, $\\lambda_2$ and corresponding eigenvectors $\\vec{e}_1$ and $\\vec{e}_2$. Assume this has been done. Then we can expand the initial vector $\\vec{v}_0$ in the basis of the eigenvectors $\\vec{e}_1$ and $\\vec{e}_2$, which means finding the coefficients $c_1$ and $c_2$ such that\n",
    "$$\n",
    "\\vec{v}_0=c_1\\vec{e_1}+c_2\\vec{e_2}.\n",
    "$$\n",
    "\n",
    "Why is this helpful? While the action of $T^{n-1}$ on $\\vec{v}_0$ is complicated, the action of $T$ on its eigenvector simply produces the same vector multiplied by the corresponding eigenvalue. Thus,\n",
    "$$\n",
    "T^{n-1}\\vec{v}_0=c_1T^{n-1}\\vec{e_1}+c_2T^{n-1}\\vec{e_2}=c_1\\lambda_1^{n-1}\\vec{e_1}+c_2\\lambda_2^{n-1}\\vec{e_2}.\n",
    "$$\n",
    "Once we solved the eigenproblem for the transformation matrix $T$, the closed form expression for the vector $\\vec{v}_{n-1}$ whose first component is the $n$-th Fibonacci number, is given in terms of the eigenvalues and eigenvectors of $T$:\n",
    "$$\n",
    "\\vec{v}_{n-1}=c_1\\lambda_1^{n-1}\\vec{e_1}+c_2\\lambda_2^{n-1}\\vec{e_2},\n",
    "$$\n",
    "where $c_1$ and $c_2$ are the \"coordinates\" of the initial vector $\\vec{v}_0$ in the basis of the eigenvectors of $T$.\n",
    "\n"
   ]
  },
  {
   "cell_type": "markdown",
   "metadata": {},
   "source": [
    "#### Now consider a new sequence."
   ]
  },
  {
   "cell_type": "markdown",
   "metadata": {},
   "source": [
    "Consider the following iterative formula:\n",
    "$$\n",
    "f_n=f_{n-1}+2f_{n-2}-2f_{n-3}\n",
    "$$\n",
    "To start the sequence we need to set\n",
    "$$\n",
    "f_0=s_0,\\,\\,\\,\\,\\,\n",
    "f_1=s_1,\\,\\,\\,\\,\\,\n",
    "f_2=s_2\n",
    "$$\n",
    "where we leave $s_0$, $s_1$ and $s_2$ as free parameters that we can change in the code. To start, we can set $s_0=1$, $s_1=2$, $s_2=3$.\n",
    "\n"
   ]
  },
  {
   "cell_type": "code",
   "execution_count": 18,
   "metadata": {},
   "outputs": [
    {
     "name": "stdout",
     "output_type": "stream",
     "text": [
      "Starting values:\n",
      "s0 = 1\n",
      "s1 = 2\n",
      "s2 = 3\n"
     ]
    }
   ],
   "source": [
    "# set the first three terms of the sequence here\n",
    "# so they can be easily changed to produce different sequences\n",
    "s0 = 1\n",
    "s1 = 2\n",
    "s2 = 3\n",
    "\n",
    "print( \"Starting values:\" )\n",
    "print( \"s0 =\", s0 )\n",
    "print( \"s1 =\", s1 )\n",
    "print( \"s2 =\", s2 )"
   ]
  },
  {
   "cell_type": "markdown",
   "metadata": {},
   "source": [
    "&#9989;  **<font color=red>QUESTION 3.1:</font>** (4 pts)\n",
    "Calculate first ten members of the sequence with pen and paper. You will use them to test the code.\n"
   ]
  },
  {
   "cell_type": "markdown",
   "metadata": {},
   "source": [
    "$s_0 = 1,\n",
    "s_1 = 2,\n",
    "s_2 = 3,\n",
    "s_4 = 5,\n",
    "s_5 = 7,\n",
    "s_6 = 11,\n",
    "s_7 = 15,\n",
    "s_8 = 23,\n",
    "s_9 = 31,\n",
    "s_{10} = 47$"
   ]
  },
  {
   "cell_type": "markdown",
   "metadata": {},
   "source": [
    "&#9989;  **<font color=red>QUESTION 3.2:</font>** (7 pts)\n",
    "Write a function that employs the recursive formula and returns the $n$-th number in the sequence. To help you get started the code below provides handling of the special cases.\n"
   ]
  },
  {
   "cell_type": "code",
   "execution_count": 19,
   "metadata": {},
   "outputs": [],
   "source": [
    "# function to produce n-th number of the following sequence:\n",
    "# f0=s0, f1=s1, f2=s2 (s0, s1, s2 -- preset parameters)\n",
    "# f_n = f_{n-1} + 2*f_{n-2} - 2*f_{n-3}\n",
    "# Input: n\n",
    "# Return: f_n\n",
    "def get_n_value( n ):\n",
    "\n",
    "    # handle special cases for the first three elements\n",
    "    if n<0:\n",
    "        return 0\n",
    "\n",
    "    elif n==0:\n",
    "        return s0\n",
    "    \n",
    "    elif n==1:\n",
    "        return s1\n",
    "    \n",
    "    elif n==2:\n",
    "        return s2\n",
    "\n",
    "    # the general case, n>2\n",
    "    else:\n",
    "\n",
    "        # ADD YOUR CODE HERE\n",
    "        # STORE THE FINAL RESULT IN fn VARIABLE\n",
    "        fn = 0\n",
    "        fn = get_n_value(n-1) + (2*get_n_value(n-2)) - (2*get_n_value(n-3))\n",
    "        \n",
    "        return fn\n"
   ]
  },
  {
   "cell_type": "markdown",
   "metadata": {},
   "source": [
    "&#9989;  **<font color=red>QUESTION 3.3:</font>** (2 pts)\n",
    "Run the code below to get the first ten elements of the sequence. Compare with the pen and paper calculation you have done above.\n"
   ]
  },
  {
   "cell_type": "code",
   "execution_count": 20,
   "metadata": {},
   "outputs": [
    {
     "name": "stdout",
     "output_type": "stream",
     "text": [
      "1\n",
      "2\n",
      "3\n",
      "5\n",
      "7\n",
      "11\n",
      "15\n",
      "23\n",
      "31\n",
      "47\n"
     ]
    }
   ],
   "source": [
    "# first ten entries in the sequence\n",
    "for k in range(0,10): \n",
    "    print( get_n_value(k) )\n"
   ]
  },
  {
   "cell_type": "markdown",
   "metadata": {},
   "source": [
    "&#9989;  **<font color=red>QUESTION 3.4:</font>** (5 pts)\n",
    "Since our sequence employs three previous elements in the recursive formula, we construct a three-dimensional vector:\n",
    "$$\n",
    "\\vec{v}_k=\\left(\\begin{array}{l}\n",
    "f_{k+2}\\\\\n",
    "f_{k+1}\\\\\n",
    "f_k\n",
    "\\end{array}\n",
    "\\right).\n",
    "$$\n",
    "Write down the $3\\times3$ matrix $T$ that relates $\\vec{v}_k$ and $\\vec{v}_{k-1}$.\n"
   ]
  },
  {
   "cell_type": "code",
   "execution_count": 21,
   "metadata": {},
   "outputs": [],
   "source": [
    "# Put your answer to the above question here\n",
    "T = np.matrix([[1,2,-2],[1,0,0],[0,1,0]])"
   ]
  },
  {
   "cell_type": "code",
   "execution_count": 22,
   "metadata": {},
   "outputs": [
    {
     "name": "stdout",
     "output_type": "stream",
     "text": [
      "\n",
      "CheckWarning: passed matrix is int64 and not <class 'numpy.float64'>...\n",
      "    Trying to convert to float using ```A = A.astype(float)```.\n",
      "\n",
      "\n",
      "CheckWarning: Matrix contains negative values for zero...\n",
      "    Converting to positive values of zero using  ```A[A==-0] = 0```.\n",
      "\n",
      "Testing [[ 1.  2. -2.]\n",
      " [ 1.  0.  0.]\n",
      " [ 0.  1.  0.]]\n",
      "Answer seems to be correct\n",
      "\n"
     ]
    }
   ],
   "source": [
    "checkanswer.matrix( T, '201c7aff1a3d7cac87c551ee531f9246' );"
   ]
  },
  {
   "cell_type": "markdown",
   "metadata": {},
   "source": [
    "&#9989;  **<font color=red>QUESTION 3.5:</font>** (5 pts)\n",
    "Use `numpy` to calculate the eigenvalues and eigenvectors of the matrix $T$. Store them in variables `eigvals` and `eigvecs`.\n"
   ]
  },
  {
   "cell_type": "code",
   "execution_count": 23,
   "metadata": {},
   "outputs": [
    {
     "name": "stdout",
     "output_type": "stream",
     "text": [
      "[-1.41421356  1.41421356  1.        ]\n"
     ]
    }
   ],
   "source": [
    "# Put your answer to the above question here\n",
    "eigvals, eigvecs = np.linalg.eig(T)\n",
    "print(eigvals)"
   ]
  },
  {
   "cell_type": "code",
   "execution_count": 24,
   "metadata": {},
   "outputs": [
    {
     "name": "stdout",
     "output_type": "stream",
     "text": [
      "Testing [[ 0.75593  0.75593  0.57735]\n",
      " [-0.53452  0.53452  0.57735]\n",
      " [ 0.37796  0.37796  0.57735]]\n",
      "Answer seems to be correct\n",
      "\n"
     ]
    }
   ],
   "source": [
    "checkanswer.matrix( eigvecs, '1a6e4e83d1dd790ce9177720442476dd' );"
   ]
  },
  {
   "cell_type": "markdown",
   "metadata": {},
   "source": [
    "&#9989;  **<font color=red>QUESTION 3.6:</font>** (5 pts)\n",
    "Separate the three eigenvectors into three variables `e1`, `e2`, `e3`. (`numpy` subroutines typically return a matrix whose columns are eigenvectors. Here you convert them into three three-element arrays.)\n"
   ]
  },
  {
   "cell_type": "code",
   "execution_count": 25,
   "metadata": {},
   "outputs": [
    {
     "name": "stdout",
     "output_type": "stream",
     "text": [
      "[[ 0.75592895]\n",
      " [-0.53452248]\n",
      " [ 0.37796447]]\n",
      "[[0.75592895]\n",
      " [0.53452248]\n",
      " [0.37796447]]\n",
      "[[0.57735027]\n",
      " [0.57735027]\n",
      " [0.57735027]]\n"
     ]
    }
   ],
   "source": [
    "# Put your answer to the above question here\n",
    "e1 = eigvecs[:,0]\n",
    "e2 = eigvecs[:,1]\n",
    "e3 = eigvecs[:,2]\n",
    "print(e1)\n",
    "print(e2)\n",
    "print(e3)"
   ]
  },
  {
   "cell_type": "markdown",
   "metadata": {},
   "source": [
    "&#9989;  **<font color=red>QUESTION 3.7:</font>** (5 pts)\n",
    "Expand the initial vector\n",
    "$$\n",
    "\\vec{v}_0=\\left(\\begin{array}{l}\n",
    "s_2\\\\\n",
    "s_1\\\\\n",
    "s_0\n",
    "\\end{array}\n",
    "\\right).\n",
    "$$\n",
    "in the basis of the eigenvectors $(\\vec{e}_1,\\vec{e}_2,\\vec{e}_3)$. This problem statement is equivalent to the problem you solved while working on the change of basis. You are looking for three values $c_1$, $c_2$ and $c_3$ such that\n",
    "$$\n",
    "\\vec{v}_0=c_1\\vec{e}_1+c_2\\vec{e}_2+c_3\\vec{e}_3.\n",
    "$$\n",
    "Store the resulting coefficients in variables `c1`, `c2` and `c3`."
   ]
  },
  {
   "cell_type": "code",
   "execution_count": 26,
   "metadata": {},
   "outputs": [
    {
     "name": "stdout",
     "output_type": "stream",
     "text": [
      "-0.16049172901586461\n"
     ]
    }
   ],
   "source": [
    "# Put your answer to the above question here\n",
    "s = np.matrix([[3,2,1]]).T\n",
    "x = np.linalg.solve(eigvecs,s)\n",
    "c1 = x[0,0]\n",
    "c2 = x[1,0]\n",
    "c3 = x[2,0]\n",
    "v = c1*e1 + c2*e2 + c3*e3\n",
    "print(c1)"
   ]
  },
  {
   "cell_type": "code",
   "execution_count": 27,
   "metadata": {},
   "outputs": [
    {
     "name": "stdout",
     "output_type": "stream",
     "text": [
      "\n",
      "CheckWarning: passed variable is <class 'numpy.float64'> and not a float.\n",
      "    Trying to convert to a float using ```A = float(A)```.\n",
      "\n",
      "Testing -0.1605\n",
      "Answer seems to be correct\n",
      "\n"
     ]
    }
   ],
   "source": [
    "checkanswer.float( c1, '8b36ea47f7156f5f8ee1aca4d6e792c6', decimal_accuracy=4);"
   ]
  },
  {
   "cell_type": "code",
   "execution_count": 28,
   "metadata": {},
   "outputs": [
    {
     "name": "stdout",
     "output_type": "stream",
     "text": [
      "\n",
      "CheckWarning: passed variable is <class 'numpy.float64'> and not a float.\n",
      "    Trying to convert to a float using ```A = float(A)```.\n",
      "\n",
      "Testing 5.452\n",
      "Answer seems to be correct\n",
      "\n"
     ]
    }
   ],
   "source": [
    "checkanswer.float( c2, 'ea6cc08fa6c49fca7bf4db7b2167097f', decimal_accuracy=4 );"
   ]
  },
  {
   "cell_type": "code",
   "execution_count": 29,
   "metadata": {},
   "outputs": [
    {
     "name": "stdout",
     "output_type": "stream",
     "text": [
      "\n",
      "CheckWarning: passed variable is <class 'numpy.float64'> and not a float.\n",
      "    Trying to convert to a float using ```A = float(A)```.\n",
      "\n",
      "Testing -1.7321\n",
      "Answer seems to be correct\n",
      "\n"
     ]
    }
   ],
   "source": [
    "checkanswer.float( c3, '682023ea8a64e703f645b7425cd77ec7', decimal_accuracy=4 );"
   ]
  },
  {
   "cell_type": "markdown",
   "metadata": {},
   "source": [
    "&#9989;  **<font color=red>QUESTION 3.8:</font>** (8 pts)\n",
    "Now we have all the components to write a closed form expression for the $n$-th element of the sequence:\n",
    "$$\n",
    "\\vec{v}_{n-2}=c_1\\lambda_1^{n-2}\\vec{e_1}+c_2\\lambda_2^{n-2}\\vec{e_2}+c_3\\lambda_3^{n-2}\\vec{e_3},\n",
    "$$\n",
    "where the first component of the vector $\\vec{v}_{n-2}$ is the $n$-th element $f_n$. ($\\lambda_1$, $\\lambda_2$ and $\\lambda_3$ denote the eigenvalues of $T$ that you found earlier.)\n",
    "\n",
    "Write a function that incorporates the above expression and returns $f_n$.\n"
   ]
  },
  {
   "cell_type": "code",
   "execution_count": 30,
   "metadata": {},
   "outputs": [],
   "source": [
    "# function to produce n-th number of the following sequence:\n",
    "# f0=s0, f1=s1, f2=s2 (s0, s1, s2 -- preset parameters)\n",
    "# f_n = f_{n-1} + 2*f_{n-2} - 2*f_{n-3}\n",
    "# by using direct formula\n",
    "# Input: n\n",
    "# Return: f_n\n",
    "def get_n_formula( n ):\n",
    "\n",
    "    if n==0:\n",
    "        return s0\n",
    "    \n",
    "    elif n==1:\n",
    "        return s1\n",
    "    \n",
    "    elif n==2:\n",
    "        return s2\n",
    "    \n",
    "    # calculation starts with n>2\n",
    "    \n",
    "        # ADD YOUR CODE HERE\n",
    "        # STORE THE FINAL RESULT IN fn VARIABLE\n",
    "    else:\n",
    "        fn = 0\n",
    "        fn = (c1*(eigvals[0]**(n-2))*e1) + (c2*(eigvals[1]**(n-2))*e2) + (c3*(eigvals[2]**(n-2))*e3)\n",
    "    \n",
    "        return int(fn[0,0])\n"
   ]
  },
  {
   "cell_type": "markdown",
   "metadata": {},
   "source": [
    "&#9989;  **<font color=red>QUESTION 3.9:</font>** (2 pts)\n",
    "Run the code below to get the first ten elements of the sequence with the direct formula. Compare with the pen and paper calculation and the function relying on the recursive formula you have written above.\n"
   ]
  },
  {
   "cell_type": "code",
   "execution_count": 31,
   "metadata": {},
   "outputs": [
    {
     "name": "stdout",
     "output_type": "stream",
     "text": [
      "1\n",
      "2\n",
      "3\n",
      "5\n",
      "7\n",
      "11\n",
      "15\n",
      "23\n",
      "31\n",
      "47\n"
     ]
    }
   ],
   "source": [
    "# first ten entries in the sequence\n",
    "for k in range(0,10): \n",
    "    print( get_n_formula(k) )\n"
   ]
  },
  {
   "cell_type": "markdown",
   "metadata": {},
   "source": [
    "&#9989;  **<font color=red>QUESTION 3.10:</font>** (2 pts)\n",
    "Use the function `get_n_formula()` you have written above to calculate the 1000-th element of the sequence. Store it in `x`.\n"
   ]
  },
  {
   "cell_type": "code",
   "execution_count": 34,
   "metadata": {},
   "outputs": [
    {
     "name": "stdout",
     "output_type": "stream",
     "text": [
      "4910085911848927080985565851533501642542924666474414902090354997083186440038897458747608637419549910881259496677567212228964127248904995006155986042880\n",
      "151\n"
     ]
    }
   ],
   "source": [
    "# Put your answer to the above question here\n",
    "x = get_n_formula(999)\n",
    "print(x)\n",
    "x_str = str(x)\n",
    "print(len(x_str))"
   ]
  },
  {
   "cell_type": "markdown",
   "metadata": {},
   "source": [
    "Because the 1000-th element would be 999 becuase the series starts from 0."
   ]
  },
  {
   "cell_type": "code",
   "execution_count": null,
   "metadata": {},
   "outputs": [],
   "source": []
  }
 ],
 "metadata": {
  "kernelspec": {
   "display_name": "Python 3",
   "language": "python",
   "name": "python3"
  },
  "language_info": {
   "codemirror_mode": {
    "name": "ipython",
    "version": 3
   },
   "file_extension": ".py",
   "mimetype": "text/x-python",
   "name": "python",
   "nbconvert_exporter": "python",
   "pygments_lexer": "ipython3",
   "version": "3.8.8"
  }
 },
 "nbformat": 4,
 "nbformat_minor": 4
}
