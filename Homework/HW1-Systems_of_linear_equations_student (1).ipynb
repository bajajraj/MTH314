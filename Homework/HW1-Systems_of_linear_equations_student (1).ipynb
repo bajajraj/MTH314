{
 "cells": [
  {
   "cell_type": "markdown",
   "metadata": {},
   "source": [
    "In order to successfully complete this assignment, you must follow all the instructions in this notebook and upload your edited ipynb file to [D2L](http://d2l.msu.edu/) with your answers on or before **11:59pm on the due date specified on the schedule**.\n",
    "\n",
    "**BIG HINT:** Read the entire homework before starting.  "
   ]
  },
  {
   "cell_type": "markdown",
   "metadata": {},
   "source": [
    "# Homework 1: Data as Vectors\n",
    "\n",
    "These problems are intended to give student's exposure to the style of questions asked on quizzes and help you practice. Please finish the entire Jupyter Notebook and turn in your edited file using the [MSU D2L Website](http://d2l.msu.edu)."
   ]
  },
  {
   "cell_type": "markdown",
   "metadata": {},
   "source": [
    "### Outline for Homework 1\n",
    "\n",
    "1. [Solving Systems of Linear Equations](#-Solving-Systems-of-Linear-Equations)\n",
    "2. [Balancing Equations](#Balancing-Equations)\n",
    "3. [Chickens and Rabbits](#Chickens-and-Rabbits)\n",
    "4. [Starship Truckers](#Starship-Truckers)\n",
    "5. [Good Jacobi / Bad Jacobi](#GJBJ)\n"
   ]
  },
  {
   "cell_type": "markdown",
   "metadata": {},
   "source": [
    "\n",
    "---\n",
    "<a name=-Solving-Systems-of-Linear-Equations></a>\n",
    "# 1.  Solving Systems of Linear Equations\n",
    "\n",
    "\n",
    "![Image of tools on the wall ](https://cdn.pixabay.com/photo/2015/12/08/21/42/tools-1083796__340.jpg)\n",
    "\n",
    "Image obtained from Pixabay under the Creative commons License\n",
    "\n",
    "In this problem we will revisit a problem discussed in class already, with the Giselle’s earnings as a carpenter and a blacksmith.  In this problem for week 1 she worked a total of 30 hours and earned a total of \\\\$690, where her wages as a carpenter were \\\\$20/hour and as a blacksmith were \\\\$25/hour.  This generated the following set of linear equations:\n",
    "\n",
    "$$ c+b = 30$$\n",
    "$$20c+25b=690$$\n",
    "\n",
    "Now here is the new information.  For any job, there are two parts of the time spent; work set-up and work completion.  Giselle spent $1/10$ of her work-setup time and $2/3$ of her work completion time on carpentry, so she spent $9/10$ of her work setup time and $1/3$ of her work completion time on blacksmithing.  If ```s``` is the amount of work set-up time, and ```w``` is the amount of work completion time, we get the equations:\n",
    "\n",
    "$$ \\frac{1}{10}s + \\frac{2}{3}w = c$$\n",
    "$$ \\frac{9}{10}s + \\frac{1}{3} w = b$$\n",
    "\n",
    "To solve for s and w, there are 2 ways: first we can solve for c and b, and then solve for s and w; or second, we can solve for s and w directly."
   ]
  },
  {
   "cell_type": "code",
   "execution_count": 1,
   "metadata": {},
   "outputs": [],
   "source": [
    "%matplotlib inline \n",
    "import matplotlib.pylab as plt\n",
    "import numpy as np\n",
    "import sympy as sym\n",
    "sym.init_printing()"
   ]
  },
  {
   "cell_type": "markdown",
   "metadata": {},
   "source": [
    "&#9989;  **<font color=red>QUESTION 1:</font>** (4pts)  use python to solve for c and b in the original set of equations"
   ]
  },
  {
   "cell_type": "code",
   "execution_count": 2,
   "metadata": {},
   "outputs": [],
   "source": [
    "#put your answer to the above question here.\n",
    "B = np.matrix([[1,1],[20,25]])\n",
    "b = np.matrix([[30],[690]])\n",
    "x = np.linalg.solve(B, b)"
   ]
  },
  {
   "cell_type": "markdown",
   "metadata": {},
   "source": [
    "&#9989;  **<font color=red>QUESTION 2:</font>** (4 pts) Using your answers for ```c``` and ```b```, generate the augmented matrix ```A``` for solving for ```s``` and ```w```. "
   ]
  },
  {
   "cell_type": "code",
   "execution_count": 3,
   "metadata": {},
   "outputs": [],
   "source": [
    "#Put your answer to the above question here.\n",
    "c = x[0,0]\n",
    "b = x[1,0]\n",
    "A = np.matrix([[1/10, 2/3, c], [9/10, 1/3, b]])"
   ]
  },
  {
   "cell_type": "code",
   "execution_count": 4,
   "metadata": {
    "nbgrader": {
     "grade": true,
     "grade_id": "cell-61bc6d86bdbc2297",
     "locked": true,
     "points": 5,
     "schema_version": 3,
     "solution": false,
     "task": false
    }
   },
   "outputs": [
    {
     "name": "stdout",
     "output_type": "stream",
     "text": [
      "Testing [[ 0.1      0.66667 12.     ]\n",
      " [ 0.9      0.33333 18.     ]]\n",
      "Answer seems to be correct\n",
      "\n"
     ]
    }
   ],
   "source": [
    "from answercheck import checkanswer\n",
    "\n",
    "checkanswer.matrix(A,\"31ec508251cdc937ccba2f25a6aff458\");"
   ]
  },
  {
   "cell_type": "markdown",
   "metadata": {},
   "source": [
    "&#9989;  **<font color=red>QUESTION 3:</font>** (4pts) Use Gauss Jordan and the reduced row echelon form to solve for ```s``` and ```w``` for your augmented matrix in question 2."
   ]
  },
  {
   "cell_type": "code",
   "execution_count": 5,
   "metadata": {},
   "outputs": [],
   "source": [
    "# Put your answer to the above question here\n",
    "RREF = sym.Matrix(A).rref()[0]\n",
    "\n",
    "s= RREF[0,2]\n",
    "w = RREF[1,2]\n"
   ]
  },
  {
   "cell_type": "code",
   "execution_count": 6,
   "metadata": {
    "nbgrader": {
     "grade": true,
     "grade_id": "cell-c85d900192966e91",
     "locked": true,
     "points": 5,
     "schema_version": 3,
     "solution": false,
     "task": false
    }
   },
   "outputs": [
    {
     "name": "stdout",
     "output_type": "stream",
     "text": [
      "\n",
      "CheckWarning: passed variable is <class 'list'> and not a numpy.matrix.\n",
      "    Trying to convert to a array matrix using ```A = np.matrix(A)```.\n",
      "\n",
      "\n",
      "CheckWarning: passed matrix is object and not <class 'numpy.float64'>...\n",
      "    Trying to convert to float using ```A = A.astype(float)```.\n",
      "\n",
      "Testing [[14.11765 15.88235]]\n",
      "Answer seems to be correct\n",
      "\n"
     ]
    }
   ],
   "source": [
    "from answercheck import checkanswer\n",
    "\n",
    "checkanswer.vector([s,w],\"8d69467202b2e2cd7f3a18d614028316\");"
   ]
  },
  {
   "cell_type": "markdown",
   "metadata": {},
   "source": [
    "&#9989;  **<font color=red>QUESTION 4:</font>** (4pts) Multiply the following 2 matrices and store them in a variable named ```A2```:\n",
    "\n",
    "\n",
    "$$ \n",
    "\\left[\n",
    "\\begin{matrix}\n",
    "    1 & 1  \\\\\n",
    "    20 & 25\n",
    " \\end{matrix}\n",
    "\\right] \n",
    "\\left[\n",
    "\\begin{matrix}\n",
    "    \\frac{1}{10} & \\frac{2}{3}  \\\\\n",
    "    \\frac{9}{10} & \\frac{1}{3} \n",
    " \\end{matrix}\n",
    "\\right] \n",
    "$$"
   ]
  },
  {
   "cell_type": "code",
   "execution_count": 7,
   "metadata": {},
   "outputs": [],
   "source": [
    "# Put your answer to the above equation here. \n",
    "import numpy as np\n",
    "A_1 = np.matrix([[1,1],[20,25]])\n",
    "A_2 = np.matrix([[1/10,2/3],[9/10,1/3]])\n",
    "A2 = np.dot(A_1,A_2)"
   ]
  },
  {
   "cell_type": "code",
   "execution_count": 8,
   "metadata": {
    "nbgrader": {
     "grade": true,
     "grade_id": "cell-8697bba5347359e9",
     "locked": true,
     "points": 5,
     "schema_version": 3,
     "solution": false,
     "task": false
    }
   },
   "outputs": [
    {
     "name": "stdout",
     "output_type": "stream",
     "text": [
      "Testing [[ 1.       1.     ]\n",
      " [24.5     21.66667]]\n",
      "Answer seems to be correct\n",
      "\n"
     ]
    }
   ],
   "source": [
    "from answercheck import checkanswer\n",
    "\n",
    "checkanswer.matrix(A2,\"dcac2bb51a2f3bb09877934788038de5\");"
   ]
  },
  {
   "cell_type": "markdown",
   "metadata": {},
   "source": [
    "&#9989;  **<font color=red>QUESTION 5:</font>** (4pts) Solve the resulting set of equations with\n",
    "\n",
    "$$ \n",
    "\\left[\n",
    "\\begin{matrix}\n",
    "    1 & 1  \\\\\n",
    "    20 & 25\n",
    " \\end{matrix}\n",
    "\\right] \n",
    "\\left[\n",
    "\\begin{matrix}\n",
    "    \\frac{1}{10} & \\frac{2}{3}  \\\\\n",
    "    \\frac{9}{10} & \\frac{1}{3} \n",
    " \\end{matrix}\n",
    "\\right] \n",
    "\\left[\n",
    "\\begin{matrix}\n",
    "    s \\\\\n",
    "    w\n",
    " \\end{matrix}\n",
    "\\right] \n",
    "=\n",
    "\\left[\n",
    "\\begin{matrix}\n",
    "    30 \\\\\n",
    "    690\n",
    " \\end{matrix}\n",
    "\\right] \n",
    "$$"
   ]
  },
  {
   "cell_type": "code",
   "execution_count": 9,
   "metadata": {},
   "outputs": [],
   "source": [
    "# Put your answer to the above equation here\n",
    "# from the above equation we have the multiplication \n",
    "# result stored in A2.\n",
    "C = np.matrix([[30],[690]])\n",
    "x1 = np.linalg.solve(A2, C)\n",
    "s2 = x1[0,0]\n",
    "w2 = x1[1,0]"
   ]
  },
  {
   "cell_type": "code",
   "execution_count": 10,
   "metadata": {
    "nbgrader": {
     "grade": true,
     "grade_id": "cell-496e203544e2c7a4",
     "locked": true,
     "points": 5,
     "schema_version": 3,
     "solution": false,
     "task": false
    }
   },
   "outputs": [
    {
     "name": "stdout",
     "output_type": "stream",
     "text": [
      "\n",
      "CheckWarning: passed variable is <class 'list'> and not a numpy.matrix.\n",
      "    Trying to convert to a array matrix using ```A = np.matrix(A)```.\n",
      "\n",
      "Testing [[14.11765 15.88235]]\n",
      "Answer seems to be correct\n",
      "\n"
     ]
    }
   ],
   "source": [
    "from answercheck import checkanswer\n",
    "\n",
    "checkanswer.vector([s2,w2],\"8d69467202b2e2cd7f3a18d614028316\");"
   ]
  },
  {
   "cell_type": "markdown",
   "metadata": {},
   "source": [
    "**_Notice that if we did everything correctly the answer for Question 5 is the same as the answer for Question 3._** "
   ]
  },
  {
   "cell_type": "markdown",
   "metadata": {},
   "source": [
    "\n",
    "\n",
    "---\n",
    "<a name=Balancing-Equations></a>\n",
    "# 2. Balancing Equations\n",
    "\n",
    "\n",
    "\n",
    "\n",
    "![IMage of a scale representing the balance of time and money.  This image is being used to show the balance of linear systems](https://i1.pickpik.com/photos/478/881/147/justice-scales-balance-lawyer-preview.jpg)\n",
    "\n",
    "One of the earliest applications of matrix algebra was to solve systems of linear equations. We encounter these in all sorts of situations throughout our lives. In the first two questions below we ask you to formulate and solve a system of linear equations related to figuring out the number of hours worked at two different jobs. In the third and fourth problems we ask you to use Gauss-Jordan elimination to balance chemical equations. The last question is about matrix multiplication."
   ]
  },
  {
   "cell_type": "code",
   "execution_count": 11,
   "metadata": {},
   "outputs": [],
   "source": [
    "%matplotlib inline \n",
    "import matplotlib.pylab as plt\n",
    "import numpy as np\n",
    "import sympy as sym\n",
    "sym.init_printing()"
   ]
  },
  {
   "cell_type": "markdown",
   "metadata": {},
   "source": [
    "### Situation for problems 1 and 2.\n",
    "Amy works for a movie theater. She can be assigned to two different jobs during her shift and each job pays a different amount of money. If Amy works at the concessions stand then she will make \\\\$14.50 an hour, and \\\\$12.15 an hour for selling tickets. Last week, Amy worked a total of 39.5 hours and earned \\\\$525.75. (Disregard all taxes.) If we set $c$ to be the number of hours worked on concessions and $t$ to be the number of hours worked selling tickets then we get two equations \n",
    "\n",
    "$$ c + t = 39.5,$$\n",
    "\n",
    "$$ 14.50c + 12.15t = 525.75.$$"
   ]
  },
  {
   "cell_type": "markdown",
   "metadata": {},
   "source": [
    "&#9989;  **<font color=red>QUESTION 1:</font>** (4pts)  Represent the above system of equations as a matrix equation of the form $Ax = b$ and then use ``numpy`` to solve the system."
   ]
  },
  {
   "cell_type": "code",
   "execution_count": 12,
   "metadata": {},
   "outputs": [],
   "source": [
    "##Edit this cell to answer the question.\n",
    "A = np.matrix([[1,1],[14.50,12.15]])\n",
    "b = np.matrix([[39.5],[525.75]])\n",
    "x = np.linalg.solve(A, b)"
   ]
  },
  {
   "cell_type": "code",
   "execution_count": 13,
   "metadata": {
    "nbgrader": {
     "grade": true,
     "grade_id": "cell-218198ef2d62e3d5",
     "locked": true,
     "points": 5,
     "schema_version": 3,
     "solution": false,
     "task": false
    }
   },
   "outputs": [
    {
     "name": "stdout",
     "output_type": "stream",
     "text": [
      "\n",
      "CheckWarning: numpy.matrix is row vector...\n",
      "    Trying to convert to a column vector using ```A = A.T```.\n",
      "\n",
      "Testing [[19.5 20. ]]\n",
      "Answer seems to be correct\n",
      "\n"
     ]
    }
   ],
   "source": [
    "from answercheck import checkanswer\n",
    "\n",
    "checkanswer.vector(x,\"92b54c2b36360ec6cc21ca67bc8eeb41\");"
   ]
  },
  {
   "cell_type": "markdown",
   "metadata": {},
   "source": [
    "&#9989;  **<font color=red>QUESTION 2:</font>** (4 pts) Use complete sentences to describe what the three values $A_{2,2}$, $x_{1,1}$, and $b_{2,1}$ represent in the context of Amy's situation."
   ]
  },
  {
   "cell_type": "markdown",
   "metadata": {
    "nbgrader": {
     "grade": true,
     "grade_id": "cell-964f760aece0af10",
     "locked": false,
     "points": 5,
     "schema_version": 3,
     "solution": true,
     "task": false
    }
   },
   "source": [
    "COMPLETE THE FOLLOWING SENTENCES..\n",
    "\n",
    "The value $A_{2,2}$ represents the amount of money an hour that she makes by selling tickets.\n",
    "\n",
    "The value $x_{1,1}$ represents the total hours, Amy worked at the concession stand.\n",
    "\n",
    "The value $b_{2,1}$ represents total amount of money, Amy earned by working at concession stand and selling tickets."
   ]
  },
  {
   "cell_type": "markdown",
   "metadata": {},
   "source": [
    "----\n",
    "### Situation for problems 3 and 4.\n",
    "\n",
    "A chemical equation is the symbolic representation of a chemical reaction in the form of symbols and formulae, wherein the reactant entities are given on the left-hand side and the product entities on the right-hand side. The coefficients of the symbols represent the number of molecules of each chemical required to preserve matter in the chemical reaction. \n",
    "\n",
    "For example, the process of burning methane is represented by the chemical equation\n",
    "\n",
    "$$ 1 CH_4 + 2 O_2 \\rightarrow 1CO_2 + 2 H_2O$$\n",
    "\n",
    "We see there are a total of 1 unit of C (carbon), four units of H (hydrogen), and 4 units of O (oxygen) on the left, and the same on the right. These numbers are computed by multiplying the coefficient by the subscript.\n",
    "\n",
    "We can represent this reaction using vectors. If the coefficients are unknown then we have \n",
    "\n",
    "$$x_1 CH_4 + x_2 O_2 \\rightarrow x_3 CO_2 + x_4 H_2O$$\n",
    "\n",
    "Here we see that each chemical in the reaction gives us an unknown variable, and we can obtain an equation in these variables for each element in the reaction. \n",
    "\n",
    "$$ C: x_1  = x_3 $$\n",
    "$$ H: 4x_1 = 2x_4$$\n",
    "$$ O: 2x_2 = 2x_3 + x_4$$\n",
    "\n",
    "which leads us to the augmented matrix $$ \\left[ \\begin{matrix} 1 & 0 & -1 & 0 \\\\ 4 & 0 & 0 &-2 \\\\ 0 & 2 & -2 & -1  \\end{matrix} \\, \\middle\\vert \\, \\begin{matrix} 0 \\\\ 0 \\\\ 0 \\end{matrix} \\right]\n",
    "\\stackrel{RREF}{\\longrightarrow}\n",
    "\\left[ \\begin{matrix} 1 & 0 &  & -0.5 \\\\ 0 & 1 & 0 &-1 \\\\ 0 & 0 & 1 & -0.5  \\end{matrix} \\, \\middle\\vert \\, \\begin{matrix} 0 \\\\ 0 \\\\ 0 \\end{matrix} \\right]$$\n",
    "\n",
    "This leads us to equations $$x_1 - \\frac 1 2 x_4 = 0$$\n",
    "\n",
    "$$ x_2 -  x_4 = 0$$\n",
    "\n",
    "$$ x_3 - \\frac 1 2 x_4 = 0$$\n",
    "\n",
    "To get integer values for our solution we can take $x_4 =2$ and see that $x_1 = 1, x_2 = 2,$ and $x_3 = 1$.\n",
    "\n",
    "---\n",
    "\n",
    "The (unbalanced) chemical reaction $$Ca(OH)_2 + H_3PO_4 \\rightarrow Ca_3(PO_4)_2 + H_2O$$ mixes calcium hydroxide with phosphoric acid to create tricalcium phosphate and water. This chemical equation is unbalanced and so assigning variables to the coefficients \n",
    "\n",
    "$$x_1 Ca(OH)_2 + x_2H_3PO_4 \\rightarrow x_3Ca_3(PO_4)_2 + x_4H_2O$$\n",
    "\n",
    "produces the augmented matrix \n",
    "\n",
    "$$ M = \\left[ \\begin{matrix} 1 & 0 & -3 & 0 \\\\ 2 & 4 & -8 &-1 \\\\ 2 & 3 & 0 & -2 \\\\ 0 & 1 & -2 & 0  \\end{matrix} \\, \\middle\\vert \\, \\begin{matrix} 0 \\\\ 0 \\\\ 0 \\\\0 \\end{matrix} \\right]$$"
   ]
  },
  {
   "cell_type": "markdown",
   "metadata": {},
   "source": [
    "&#9989;  **<font color=red>QUESTION 3:</font>** (4pts) Find the reduced row echelon form of the matrix $M$ above. Save the reduced matrix as ``rref`` for answer check."
   ]
  },
  {
   "cell_type": "code",
   "execution_count": 16,
   "metadata": {},
   "outputs": [
    {
     "data": {
      "text/latex": [
       "$\\displaystyle \\left[\\begin{matrix}0.0 & 0.0 & 0.0 & 0.0\\end{matrix}\\right]$"
      ],
      "text/plain": [
       "[0.0  0.0  0.0  0.0]"
      ]
     },
     "execution_count": 16,
     "metadata": {},
     "output_type": "execute_result"
    }
   ],
   "source": [
    "#Edit this cell to answer this question.\n",
    "import numpy as np\n",
    "import sympy as sym\n",
    "M = np.matrix(\"1,0,-3,0,0;2,4,-8,-1,0;2,3,0,-2,0;0,1,-2,0,0\")\n",
    "\n",
    "rref = sym.Matrix(M).rref()[0]\n",
    "r = 0\n",
    "A = np.matrix([(1/2)*r, (1/3)*r, (1/6)*r, r])\n",
    "sym.Matrix(A)"
   ]
  },
  {
   "cell_type": "code",
   "execution_count": 17,
   "metadata": {
    "nbgrader": {
     "grade": true,
     "grade_id": "cell-1b67529ac28b7c00",
     "locked": true,
     "points": 5,
     "schema_version": 3,
     "solution": false,
     "task": false
    }
   },
   "outputs": [
    {
     "name": "stdout",
     "output_type": "stream",
     "text": [
      "\n",
      "CheckWarning: passed variable is <class 'sympy.matrices.dense.MutableDenseMatrix'> and not a numpy.matrix...\n",
      "    Trying to convert to a array matrix using ```A = np.matrix(A)```.\n",
      "\n",
      "\n",
      "CheckWarning: passed matrix is object and not <class 'numpy.float64'>...\n",
      "    Trying to convert to float using ```A = A.astype(float)```.\n",
      "\n",
      "\n",
      "CheckWarning: Matrix contains negative values for zero...\n",
      "    Converting to positive values of zero using  ```A[A==-0] = 0```.\n",
      "\n",
      "Testing [[ 1.       0.       0.      -0.5      0.     ]\n",
      " [ 0.       1.       0.      -0.33333  0.     ]\n",
      " [ 0.       0.       1.      -0.16667  0.     ]\n",
      " [ 0.       0.       0.       0.       0.     ]]\n",
      "Answer seems to be correct\n",
      "\n"
     ]
    }
   ],
   "source": [
    "from answercheck import checkanswer\n",
    "\n",
    "checkanswer.matrix(rref,\"4c1a09e6f2097c1319ee4704fe05dce2\");"
   ]
  },
  {
   "cell_type": "markdown",
   "metadata": {},
   "source": [
    "&#9989;  **<font color=red>QUESTION 4:</font>** (4pts) What is the smallest non-zero **integer** solution to the balanced chemical equation associated to the matrix $M$? Save your answer as ``solution`` which is a list of $x_1,x_2,x_3,x_4$"
   ]
  },
  {
   "cell_type": "code",
   "execution_count": 18,
   "metadata": {},
   "outputs": [],
   "source": [
    "#Edit this cell to save your answer.\n",
    "\n",
    "solution=[3,2,1,6]"
   ]
  },
  {
   "cell_type": "code",
   "execution_count": 19,
   "metadata": {
    "nbgrader": {
     "grade": false,
     "grade_id": "cell-50ddd610c8557f2a",
     "locked": false,
     "schema_version": 3,
     "solution": true,
     "task": false
    }
   },
   "outputs": [
    {
     "name": "stdout",
     "output_type": "stream",
     "text": [
      "\n",
      "CheckWarning: passed matrix is int32 and not <class 'numpy.float64'>...\n",
      "    Trying to convert to float using ```A = A.astype(float)```.\n",
      "\n",
      "Testing [[3. 2. 1. 6.]]\n",
      "Answer seems to be correct\n",
      "\n"
     ]
    }
   ],
   "source": [
    "from answercheck import checkanswer\n",
    "\n",
    "checkanswer.vector(np.matrix(solution),\"d77e1deb873284993997612ecdd339c1\");"
   ]
  },
  {
   "cell_type": "markdown",
   "metadata": {},
   "source": [
    "-------\n",
    "The following question is unrelated to the system of equations above. It is a question about matrix multiplication."
   ]
  },
  {
   "cell_type": "markdown",
   "metadata": {},
   "source": [
    "&#9989;  **<font color=red>QUESTION 5:</font>** (4pts) Suppose $A,$ $B,$ and $C$ are matrices that satisfy $$A + BB^T = C,$$ where $B^T$ is the transpose of $B$.\n",
    "\n",
    "Which of the following statements are **always** true? (Note. There may be more than one.) \n",
    "\n",
    "1. $A$ is square.\n",
    "1. $A$ and $B$ have the same dimensions.\n",
    "1. $A$, $B$, and $C$ have the same number of rows.\n",
    "1. $B$ is a tall matrix. That is, $B$ has more rows than columns.\n",
    "1. $B$ is a wide matrix. That is, $B$ has more columns than rows."
   ]
  },
  {
   "cell_type": "code",
   "execution_count": 20,
   "metadata": {},
   "outputs": [],
   "source": [
    "#Edit this cell to save your answer.\n",
    "#WRITE THE NUMBERS CORRESPONDING TO THE TRUE STATEMENTS IN A LIST BELOW\n",
    "solution=[1,3]"
   ]
  },
  {
   "cell_type": "markdown",
   "metadata": {},
   "source": [
    "\n",
    "---\n",
    "<a name=Chickens-and-Rabbits></a>\n",
    "# 3. Chickens and Rabbits\n",
    "\n"
   ]
  },
  {
   "cell_type": "markdown",
   "metadata": {},
   "source": [
    "<img src=\"https://wiki.jsswsq.com/images/0/09/%E9%B8%A1%E5%85%94%E5%90%8C%E7%AC%BC%E9%97%AE%E9%A2%98.png\" alt=\"Image of chickens and rabbits in a cage as a visual representation of the problem\"> "
   ]
  },
  {
   "cell_type": "markdown",
   "metadata": {},
   "source": [
    "Above is a famous primary school math olympiad problem: there are only chickens and rabbits in a cage. After counting, we found there are totally 35 heads and 94 feet. How many do we have for each kind?\n",
    "\n",
    "\n",
    "Let us have some fun by using linear algebra to solve an advanced version of it. There are spiders, dragonflies, and cicadas totally 18 insects in a cage. We have a total of 116 legs and 22 pairs of wings. How many insects do we have of each kind? (spider has 8 legs and 0 wings; dragonfly has 6 legs and 2 pairs of wings; cicada has 6 legs and 1 pair of wings)"
   ]
  },
  {
   "cell_type": "markdown",
   "metadata": {},
   "source": [
    "&#9989; **<font color=red>Question 1:</font>** (5pts) Suppose there are $x$ spiders, $y$ dragonflies, and $z$ cicadas. Set up three linear equations involving $x$, $y$, and $z$.  "
   ]
  },
  {
   "cell_type": "markdown",
   "metadata": {
    "nbgrader": {
     "grade": true,
     "grade_id": "cell-a1086010c01cd6d3",
     "locked": false,
     "points": 5,
     "schema_version": 3,
     "solution": true,
     "task": false
    }
   },
   "source": [
    "$$x+y+z=18$$\n",
    "$$8x+6y+6z=116$$\n",
    "$$2y+z=22$$"
   ]
  },
  {
   "cell_type": "markdown",
   "metadata": {},
   "source": [
    "&#9989; **<font color=red>Question 2:</font>** (6pts) Write out the augmented matrix $A$ for the linear equations you set up above, and reduce it to the REF (Row Echelon Form) **(not RREF)** by hand. (Please just provide the REF below, no need to show the intermediate steps)"
   ]
  },
  {
   "cell_type": "code",
   "execution_count": 21,
   "metadata": {},
   "outputs": [],
   "source": [
    "#Put your answer here\n",
    "import numpy as np\n",
    "A = np.matrix([[8,6,6,116],[0,2,1,22],[1,1,1,18]])\n",
    "A_REF = np.matrix([[1,0,0,4],[0,1,0,8],[0,0,1,6]])"
   ]
  },
  {
   "cell_type": "code",
   "execution_count": 22,
   "metadata": {
    "nbgrader": {
     "grade": true,
     "grade_id": "cell-d1eada58bbcacbed",
     "locked": true,
     "points": 5,
     "schema_version": 3,
     "solution": false,
     "task": false
    }
   },
   "outputs": [
    {
     "name": "stdout",
     "output_type": "stream",
     "text": [
      "\n",
      "CheckWarning: passed matrix is int32 and not <class 'numpy.float64'>...\n",
      "    Trying to convert to float using ```A = A.astype(float)```.\n",
      "\n",
      "\n",
      "CheckWarning: Matrix contains negative values for zero...\n",
      "    Converting to positive values of zero using  ```A[A==-0] = 0```.\n",
      "\n",
      "\n",
      "CheckWarning: passed matrix is object and not <class 'numpy.float64'>...\n",
      "    Trying to convert to float using ```A = A.astype(float)```.\n",
      "\n",
      "\n",
      "CheckWarning: Matrix contains negative values for zero...\n",
      "    Converting to positive values of zero using  ```A[A==-0] = 0```.\n",
      "\n",
      "Testing [[1. 0. 0. 4.]\n",
      " [0. 1. 0. 8.]\n",
      " [0. 0. 1. 6.]]\n",
      "Answer seems to be correct\n",
      "\n"
     ]
    }
   ],
   "source": [
    "from answercheck import checkanswer\n",
    "checkanswer.eq_matrix(A,'bb6c9782ce482b2aea5d41312e9697c4');"
   ]
  },
  {
   "cell_type": "code",
   "execution_count": 23,
   "metadata": {
    "nbgrader": {
     "grade": true,
     "grade_id": "cell-c50e8b8410f44ffc",
     "locked": true,
     "points": 3,
     "schema_version": 3,
     "solution": false,
     "task": false
    }
   },
   "outputs": [
    {
     "name": "stdout",
     "output_type": "stream",
     "text": [
      "\n",
      "CheckWarning: passed matrix is int32 and not <class 'numpy.float64'>...\n",
      "    Trying to convert to float using ```A = A.astype(float)```.\n",
      "\n",
      "\n",
      "CheckWarning: Matrix contains negative values for zero...\n",
      "    Converting to positive values of zero using  ```A[A==-0] = 0```.\n",
      "\n",
      "\n",
      "CheckWarning: passed matrix is object and not <class 'numpy.float64'>...\n",
      "    Trying to convert to float using ```A = A.astype(float)```.\n",
      "\n",
      "\n",
      "CheckWarning: Matrix contains negative values for zero...\n",
      "    Converting to positive values of zero using  ```A[A==-0] = 0```.\n",
      "\n",
      "Testing [[1. 0. 0. 4.]\n",
      " [0. 1. 0. 8.]\n",
      " [0. 0. 1. 6.]]\n",
      "Answer seems to be correct\n",
      "\n"
     ]
    }
   ],
   "source": [
    "checkanswer.eq_matrix(A_REF,'bb6c9782ce482b2aea5d41312e9697c4');"
   ]
  },
  {
   "cell_type": "code",
   "execution_count": 24,
   "metadata": {
    "nbgrader": {
     "grade": true,
     "grade_id": "cell-2001f0fac4a66113",
     "locked": true,
     "points": 2,
     "schema_version": 3,
     "solution": false,
     "task": false
    }
   },
   "outputs": [
    {
     "name": "stdout",
     "output_type": "stream",
     "text": [
      "\n",
      "CheckWarning: passed variable is <class 'list'> and not a numpy.matrix.\n",
      "    Trying to convert to a array matrix using ```A = np.matrix(A)```.\n",
      "\n",
      "\n",
      "CheckWarning: passed matrix is int32 and not <class 'numpy.float64'>...\n",
      "    Trying to convert to float using ```A = A.astype(float)```.\n",
      "\n",
      "\n",
      "CheckWarning: Vector contains negative values for zero...\n",
      "    Converting to positive values of zero using  ```A[A==-0] = 0```.\n",
      "\n",
      "Testing [[0. 0. 0.]]\n",
      "Answer seems to be correct\n",
      "\n"
     ]
    }
   ],
   "source": [
    "checkanswer.vector([A_REF[1,0],A_REF[2,0],A_REF[2,1]],'b5021f73f68b6e2f957706af7a39ac75')"
   ]
  },
  {
   "cell_type": "markdown",
   "metadata": {},
   "source": [
    "&#9989; **<font color=red>Question 3:</font>** (5pts) Use sympy to reduce the augemented matrix $A$ to the **Reduced Row Echelon Form** (RREF)."
   ]
  },
  {
   "cell_type": "code",
   "execution_count": 25,
   "metadata": {},
   "outputs": [
    {
     "data": {
      "text/latex": [
       "$\\displaystyle \\left[\\begin{matrix}1 & 0 & 0 & 4\\\\0 & 1 & 0 & 8\\\\0 & 0 & 1 & 6\\end{matrix}\\right]$"
      ],
      "text/plain": [
       "⎡1  0  0  4⎤\n",
       "⎢          ⎥\n",
       "⎢0  1  0  8⎥\n",
       "⎢          ⎥\n",
       "⎣0  0  1  6⎦"
      ]
     },
     "execution_count": 25,
     "metadata": {},
     "output_type": "execute_result"
    }
   ],
   "source": [
    "#Put your answer here\n",
    "RREF = sym.Matrix(A_REF).rref()[0]\n",
    "RREF"
   ]
  },
  {
   "cell_type": "code",
   "execution_count": 26,
   "metadata": {
    "nbgrader": {
     "grade": true,
     "grade_id": "cell-9cc0c69fff7ba60f",
     "locked": true,
     "points": 5,
     "schema_version": 3,
     "solution": false,
     "task": false
    }
   },
   "outputs": [
    {
     "name": "stdout",
     "output_type": "stream",
     "text": [
      "\n",
      "CheckWarning: passed variable is <class 'sympy.matrices.dense.MutableDenseMatrix'> and not a numpy.matrix...\n",
      "    Trying to convert to a array matrix using ```A = np.matrix(A)```.\n",
      "\n",
      "\n",
      "CheckWarning: passed matrix is object and not <class 'numpy.float64'>...\n",
      "    Trying to convert to float using ```A = A.astype(float)```.\n",
      "\n",
      "\n",
      "CheckWarning: Matrix contains negative values for zero...\n",
      "    Converting to positive values of zero using  ```A[A==-0] = 0```.\n",
      "\n",
      "Testing [[1. 0. 0. 4.]\n",
      " [0. 1. 0. 8.]\n",
      " [0. 0. 1. 6.]]\n",
      "Answer seems to be correct\n",
      "\n"
     ]
    }
   ],
   "source": [
    "from answercheck import checkanswer\n",
    "checkanswer.matrix(RREF,'bb6c9782ce482b2aea5d41312e9697c4');"
   ]
  },
  {
   "cell_type": "markdown",
   "metadata": {},
   "source": [
    "&#9989; **<font color=red>Question 4:</font>** (2pts) Use the RREF you found in Question 3 to derive the solution to the original linear system. "
   ]
  },
  {
   "cell_type": "code",
   "execution_count": 27,
   "metadata": {},
   "outputs": [],
   "source": [
    "# Put your answer here\n",
    "x = RREF[0,3]\n",
    "y = RREF[1,3]\n",
    "z = RREF[2,3]"
   ]
  },
  {
   "cell_type": "code",
   "execution_count": 28,
   "metadata": {
    "nbgrader": {
     "grade": true,
     "grade_id": "cell-3d09856a3673ac8c",
     "locked": true,
     "points": 5,
     "schema_version": 3,
     "solution": false,
     "task": false
    }
   },
   "outputs": [
    {
     "name": "stdout",
     "output_type": "stream",
     "text": [
      "\n",
      "CheckWarning: passed variable is <class 'list'> and not a numpy.matrix.\n",
      "    Trying to convert to a array matrix using ```A = np.matrix(A)```.\n",
      "\n",
      "\n",
      "CheckWarning: passed matrix is object and not <class 'numpy.float64'>...\n",
      "    Trying to convert to float using ```A = A.astype(float)```.\n",
      "\n",
      "Testing [[4. 8. 6.]]\n",
      "Answer seems to be correct\n",
      "\n"
     ]
    }
   ],
   "source": [
    "from answercheck import checkanswer\n",
    "checkanswer.vector([x,y,z],'c550ab8dd2e8d171e88dd545ad653bff');"
   ]
  },
  {
   "cell_type": "markdown",
   "metadata": {},
   "source": [
    "&#9989; **<font color=red>Question 5:</font>** (2pts) For the RREF you found in Question 3, which part of it  corresponds to an identity matrix? "
   ]
  },
  {
   "cell_type": "markdown",
   "metadata": {
    "nbgrader": {
     "grade": true,
     "grade_id": "cell-fb52faafbc9eea25",
     "locked": false,
     "points": 5,
     "schema_version": 3,
     "solution": true,
     "task": false
    }
   },
   "source": [
    "The First three columns x First three rows, i.e., the sub-matrix 3x3 of A_REF is an Identity matrix of degree 3.\n",
    "$$ A-REF(Identity) = \\left[ \\begin{matrix} 1 & 0 & 0  \\\\ 0 & 1 & 0 \\\\ 0 & 0 & 1  \\end{matrix}  \\right]$$"
   ]
  },
  {
   "cell_type": "markdown",
   "metadata": {},
   "source": [
    "\n",
    "\n",
    "---\n",
    "<a name=Starship-Truckers></a>\n",
    "# 4. Traffic Control\n",
    "\n",
    "<img src=\"https://i.imgur.com/HvLmJN3.png\" alt=\"Image of traffic coming in and out of 4 intersections\" />\n",
    "\n",
    "The city of Lansing is trying to resolve traffic congestion at the intersections of Saginaw, Larch, Michigan, and Cedar, as shown in the figure above. The streets are one-way, as indicated by the arrows.\n",
    "\n",
    "The city wishes to improve the signals at these corners so as to speed the trafic flow. The data the traffic engineers have gathered shows the following:\n",
    "* 700 cars/hour come down Saginaw to intersection A.\n",
    "* 300 cars/hour come down Cedar to intersection A.\n",
    "* A total of $x_1$ cars leave A on Saginaw.\n",
    "* A total of $x_4$ cars leave A on Cedar.\n",
    "The number of cars entering A must equal the number leaving, so \n",
    "$$x_1+x_4 = 700+300$$\n",
    "or equivalently\n",
    "$$x_1+x_4 = 1000.$$\n",
    "\n"
   ]
  },
  {
   "cell_type": "markdown",
   "metadata": {},
   "source": [
    "&#9989; **<font color=red>Question 4.a:</font>** (4pts) Write the three equations represeting the traffic entering and leaving intersections B, C, and D."
   ]
  },
  {
   "cell_type": "markdown",
   "metadata": {},
   "source": [
    "For B:\n",
    "$$x_1+x_2=1100$$\n",
    "For C:\n",
    "$$x_2+x_3 = 700$$\n",
    "For D:\n",
    "$$x_3+x_4=600$$"
   ]
  },
  {
   "cell_type": "markdown",
   "metadata": {},
   "source": [
    "&#9989; **<font color=red>Question 4.b:</font>** (3pts) Use the four equations to set up and augmented matrix and solve the system by the Gauss-Jordan method, using $x_4$ as the parameter. Explain why, based on the RREF of the matrix, we have an infinite number of solutions and why we can use $x_4$  as the parameter."
   ]
  },
  {
   "cell_type": "markdown",
   "metadata": {},
   "source": [
    "#Put your answer to the above question here (you can edit the matrix)\n",
    "The augmented matrix is\n",
    "$$A = \\left[ \\begin{array}{rrrr|r}\n",
    "1 & 0 & 0 & 1 &1000 \\\\\n",
    "1 & 1 & 0 & 0 &1100 \\\\\n",
    "0 & 1 & 1 & 0 &700 \\\\\n",
    "0 & 0 & 1 & 1 &600 \n",
    "\\end{array}\n",
    "\\right]$$\n",
    "\n",
    "The reduced row echelon form of A is\n",
    "$$B = \\left[ \\begin{array}{rrrr|r}\n",
    "1 & 0 & 0 & 1 &1000 \\\\\n",
    "0 & 1 & 0 & -1 &100 \\\\\n",
    "0 & 0 & 1 & 1 &600 \\\\\n",
    "0 & 0 & 0 & 0 &0 \n",
    "\\end{array}\n",
    "\\right]$$\n",
    "\n",
    "We have infinite number of solution becuase for last row, we do not have a specific value and we need to put any value to find the answer. We can use $x_4$ as a parameter because it is free as its value."
   ]
  },
  {
   "cell_type": "markdown",
   "metadata": {},
   "source": [
    "&#9989; **<font color=red>Question 4.c:</font>** (3pts) Based on your solution in 4.b, what are the largest and smallest possible values for the number of cars leaving interection A on Cedar?"
   ]
  },
  {
   "cell_type": "markdown",
   "metadata": {},
   "source": [
    "* x1 + x4 = 1000\n",
    "* x2 - x4 = 100\n",
    "* x3 + x4 =600\n",
    "\n",
    "x1 + 600 = 100 - > x1 = 400\n",
    "\n",
    "x2 = 700\n",
    "\n",
    "x3 = 0\n",
    "\n",
    "conclusion, x4 = 600 is a good value.\n",
    "\n",
    "conclusion, the largest value of x4 = 600\n",
    "\n",
    "**The largest possible value would be 600 cars and the smallest number of cars would be 0 cars.**"
   ]
  },
  {
   "cell_type": "markdown",
   "metadata": {},
   "source": [
    "&#9989; **<font color=red>Question 4.d:</font>** (7pts) Similar to above, what are the largest and smallest possible values for $x_1$, $x_2$, $x_3$?"
   ]
  },
  {
   "cell_type": "markdown",
   "metadata": {},
   "source": [
    "**The largest value for $x_1$ would be 1000 cars and the smallest number of cars would be 400 cars.**\n",
    "\n",
    "**The largest value of $x_2$ would be 700 cars and the smallest number of cars would be 100 cars.**\n",
    "\n",
    "**The largest value of $x_3$ would be 600 cars and the smallest number of cars would be 0 cars.**"
   ]
  },
  {
   "cell_type": "markdown",
   "metadata": {},
   "source": [
    "&#9989; **<font color=red>Question 4.e:</font>** (3pts) Could we have chosen any one of the other variables as a parameter (instead of $x_4$)? Explain your reasoning."
   ]
  },
  {
   "cell_type": "markdown",
   "metadata": {},
   "source": [
    "Yes, we can choose any other variable, but choosing $x_4$ is most convenient for us because it is present in all the equations."
   ]
  },
  {
   "cell_type": "markdown",
   "metadata": {},
   "source": [
    "---\n",
    "<a name=GJBJ></a>\n",
    "# 5. Good Jacobi / Bad Jacobi\n",
    "\n",
    "Recall from class the Jacobi method for for solving a system of equations. Recall that the Jacobi Method will not work an all problems.  A sufficient (but not necessary) condition for the method to converge is that the matrix A is strictly diagonally dominant."
   ]
  },
  {
   "cell_type": "markdown",
   "metadata": {},
   "source": [
    "&#9989; **<font color=red>Question 1.</font>** (2pts) Write in your own words what strictly diagonally dominant means. "
   ]
  },
  {
   "cell_type": "markdown",
   "metadata": {},
   "source": [
    "Diagonally dominant matrix means that for each row, the absolute value of the diaginal entry is greater than or equal to the sum of the remaining entries. For example, if we have a $2\\times2$ matrix, then $|a_{11}|$ $\\geq$ $|a_{12}|$ and $|b_{22}| \\geq |b_{21}|$."
   ]
  },
  {
   "cell_type": "markdown",
   "metadata": {},
   "source": [
    "&#9989; **<font color=red>Question 2.</font>** (5pts) Give an example of a system of equations which has a strictly diagonally dominant matrix A.  Use the Jacobi method to solve the system. Verify that your answers are correct!"
   ]
  },
  {
   "cell_type": "markdown",
   "metadata": {},
   "source": [
    "The equation is:\n",
    "$$-3x+2y=1$$\n",
    "$$3y+2z=1$$\n",
    "$$z = 1$$"
   ]
  },
  {
   "cell_type": "code",
   "execution_count": 29,
   "metadata": {},
   "outputs": [
    {
     "name": "stdout",
     "output_type": "stream",
     "text": [
      "The value of x: 0.56\n",
      "The value of y: -0.33\n",
      "The value of z: 1\n"
     ]
    },
    {
     "data": {
      "image/png": "[encoded data removed]",
      "text/plain": [
       "<Figure size 432x288 with 1 Axes>"
      ]
     },
     "metadata": {
      "needs_background": "light"
     },
     "output_type": "display_data"
    }
   ],
   "source": [
    "%matplotlib inline\n",
    "import matplotlib.pylab as plt\n",
    "\n",
    "x = []\n",
    "y = []\n",
    "z = []\n",
    "\n",
    "#step 1: inicialize to zero\n",
    "x.append(0)\n",
    "y.append(0)\n",
    "z.append(0)\n",
    "\n",
    "for i in range(1,100):\n",
    "    xi = (1 - 2*y[i-1])/3\n",
    "    yi = (1 - 2*z[i-1])/3\n",
    "    zi = 1\n",
    "#####End of your code here#####        \n",
    "    #Add latest value to history\n",
    "    x.append(xi)\n",
    "    y.append(yi)\n",
    "    z.append(zi)\n",
    "\n",
    "#Plot History of values\n",
    "plt.plot(x, label='x')\n",
    "plt.plot(y, label='y')\n",
    "plt.plot(z, label='z')\n",
    "plt.xlabel('Iteration')\n",
    "plt.ylabel('Value')\n",
    "plt.legend(loc=1);\n",
    "print(\"The value of x:\", round(x[-1],2))\n",
    "print(\"The value of y:\", round(y[-1],2))\n",
    "print(\"The value of z:\", round(z[-1],2))"
   ]
  },
  {
   "cell_type": "code",
   "execution_count": 61,
   "metadata": {},
   "outputs": [
    {
     "data": {
      "text/plain": [
       "True"
      ]
     },
     "execution_count": 61,
     "metadata": {},
     "output_type": "execute_result"
    }
   ],
   "source": [
    "#proving that we have done right:\n",
    "x1 = x[-1]\n",
    "z1 = z[-1]\n",
    "y1 = y[-1]\n",
    "(-3)*(x1) + 2*y1 == 1\n",
    "3*y1 + 2*z1 == 1\n",
    "z1 == 1"
   ]
  },
  {
   "cell_type": "markdown",
   "metadata": {},
   "source": [
    "&#9989; **<font color=red>Question 3.</font>** (5pts) Notice that a matrix being strictly diagonally dominant is not a necessary condition for the Jacobi method to work. Give an example of a system of equations which does not have a strictly diagonally dominant matrix A but where the Jacobi method still works. Use the Jacobi method to solve the system. Verify that your answers are correct!"
   ]
  },
  {
   "cell_type": "markdown",
   "metadata": {},
   "source": [
    "The system of equation is:\n",
    "$$ 6x + 2y - ~z = 4~$$\n",
    "$$~ x + 5y + ~z = 3~$$\n",
    "$$ 2x +~ y + 4z = 27$$\n"
   ]
  },
  {
   "cell_type": "code",
   "execution_count": 62,
   "metadata": {},
   "outputs": [
    {
     "data": {
      "image/png": "[encoded data removed]",
      "text/plain": [
       "<Figure size 432x288 with 1 Axes>"
      ]
     },
     "metadata": {
      "needs_background": "light"
     },
     "output_type": "display_data"
    }
   ],
   "source": [
    "%matplotlib inline\n",
    "import matplotlib.pylab as plt\n",
    "\n",
    "x = []\n",
    "y = []\n",
    "z = []\n",
    "\n",
    "#step 1: inicialize to zero\n",
    "x.append(0)\n",
    "y.append(0)\n",
    "z.append(0)\n",
    "\n",
    "for i in range(1,100):\n",
    "    xi = (4 - 2*y[i-1]+ z[i-1])/6\n",
    "#####Start your code here #####\n",
    "    yi = (3 - z[i-1] - x[i-1])/5\n",
    "    zi = (27 - y[i-1] - 2*x[i-1])/4\n",
    "#####End of your code here#####        \n",
    "    #Add latest value to history\n",
    "    x.append(xi)\n",
    "    y.append(yi)\n",
    "    z.append(zi)\n",
    "\n",
    "#Plot History of values\n",
    "plt.plot(x, label='x')\n",
    "plt.plot(y, label='y')\n",
    "plt.plot(z, label='z')\n",
    "plt.xlabel('Iteration')\n",
    "plt.ylabel('Value')\n",
    "plt.legend(loc=1);"
   ]
  },
  {
   "cell_type": "code",
   "execution_count": 63,
   "metadata": {},
   "outputs": [
    {
     "data": {
      "text/plain": [
       "True"
      ]
     },
     "execution_count": 63,
     "metadata": {},
     "output_type": "execute_result"
    }
   ],
   "source": [
    "#proving that we have done right:\n",
    "x = 2\n",
    "z = 6\n",
    "y = -1\n",
    "(6*2) + (2*(-1)) - 6 == 4\n",
    "2 + (5*(-1)) + 6 == 3\n",
    "(2*2) - 1 +(4*6) == 27"
   ]
  },
  {
   "cell_type": "markdown",
   "metadata": {},
   "source": [
    "&#9989; **<font color=red>Question 4.</font>** (5pts) Give an example of a system of equations with non-zero coefficients which does not have a strictly diagonally dominant matrix A and where sadly the Jacobi method does not work. Use the Jacobi method to try to solve the system. Explain what happens. What should the correct answer have been?"
   ]
  },
  {
   "cell_type": "code",
   "execution_count": 64,
   "metadata": {},
   "outputs": [
    {
     "data": {
      "image/png": "[encoded data removed]",
      "text/plain": [
       "<Figure size 432x288 with 1 Axes>"
      ]
     },
     "metadata": {
      "needs_background": "light"
     },
     "output_type": "display_data"
    }
   ],
   "source": [
    "#Put your code to the above question here\n",
    "#Put your code to the above question here\n",
    "%matplotlib inline\n",
    "import matplotlib.pylab as plt\n",
    "\n",
    "x = []\n",
    "y = []\n",
    "z = []\n",
    "\n",
    "#step 1: inicialize to zero\n",
    "x.append(0)\n",
    "y.append(0)\n",
    "z.append(0)\n",
    "\n",
    "for i in range(1,100):\n",
    "    xi = (-35 + 30*y[i-1] - 60*z[i-1])/4\n",
    "    yi = (420 + 675*z[i-1] + 30*x[i-1])/300\n",
    "    zi = (1050 +675*y[i-1] - 60*x[i-1])/1620\n",
    "#####End of your code here#####        \n",
    "    #Add latest value to history\n",
    "    x.append(xi)\n",
    "    y.append(yi)\n",
    "    z.append(zi)\n",
    "\n",
    "#Plot History of values\n",
    "plt.plot(x, label='x')\n",
    "plt.plot(y, label='y')\n",
    "plt.plot(z, label='z')\n",
    "plt.xlabel('Iteration')\n",
    "plt.ylabel('Value')\n",
    "plt.legend(loc=1);"
   ]
  },
  {
   "cell_type": "markdown",
   "metadata": {},
   "source": [
    "Even with large number of cycles, graph diverges and you cannot find a specific solution to the equation.\n",
    "The equation was :\n",
    "$$4x-30y+60z=-35$$\n",
    "$$-30x+300y-675z=420$$\n",
    "$$60x-675y+1620z=1050$$\n",
    "The correct solution is:\n",
    "$$x=1393/4, y={693/5}, z=91/2$$"
   ]
  },
  {
   "cell_type": "markdown",
   "metadata": {},
   "source": [
    "&#9989; **<font color=red>Question 5.</font>** (3pts) If the Jacobi method doesn't always work and we have other methods that do reliably work why is it still taught in this course? "
   ]
  },
  {
   "cell_type": "markdown",
   "metadata": {},
   "source": [
    "The Jacobi method is still taught in class becuase it leads to another more complex methods. Jacobi Method is still used for some applications like Singular Values, Condition Numbers, Rank, Pseudo Inverse, Matrix Coefficient (From Wikipedia). Another thing that I believe that knowing the pseudo code of the Jacobi Method is a good building block for more complex methods and other linear algebra calculations."
   ]
  },
  {
   "cell_type": "markdown",
   "metadata": {},
   "source": [
    "---------\n",
    "### Congratulations, we're done!\n"
   ]
  }
 ],
 "metadata": {
  "celltoolbar": "Create Assignment",
  "kernelspec": {
   "display_name": "Python 3",
   "language": "python",
   "name": "python3"
  },
  "language_info": {
   "codemirror_mode": {
    "name": "ipython",
    "version": 3
   },
   "file_extension": ".py",
   "mimetype": "text/x-python",
   "name": "python",
   "nbconvert_exporter": "python",
   "pygments_lexer": "ipython3",
   "version": "3.8.3"
  }
 },
 "nbformat": 4,
 "nbformat_minor": 4
}
