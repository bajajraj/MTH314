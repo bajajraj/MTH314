{
 "cells": [
  {
   "cell_type": "markdown",
   "metadata": {},
   "source": [
    "\n",
    "# 17 In-Class Assignment: Linear Dynamical Systems \n",
    "\n",
    "<img alt=\"Image with the words COVID-19 and a render image of the virus\" src=\"https://www.dshs.state.tx.us/uploadedImages/Content/Consumer_and_External_Affairs/coronavirus/banner.png\" width=\"80%\">\n",
    "\n",
    "Image from: [https://www.dshs.state.tx.us/coronavirus/default.aspx](https://www.dshs.state.tx.us/coronavirus/default.aspx)\n",
    "\n",
    "    "
   ]
  },
  {
   "cell_type": "markdown",
   "metadata": {},
   "source": [
    "### Agenda for today's class (80 minutes)\n",
    "\n",
    "1. [(20 minutes) Epidemic Dynamics - Discrete Case](#Epi_discrete)\n",
    "1. [(20 minutes) Epidemic Dynamics - Continuous Model](#Epi_continuous)\n",
    "1. [(20 minutes) Population Dynamics](#Population)\n"
   ]
  },
  {
   "cell_type": "code",
   "execution_count": 1,
   "metadata": {},
   "outputs": [],
   "source": [
    "%matplotlib inline\n",
    "import matplotlib.pylab as plt\n",
    "import numpy as np\n",
    "import sympy as sym\n",
    "sym.init_printing()"
   ]
  },
  {
   "cell_type": "markdown",
   "metadata": {},
   "source": [
    "---\n",
    "<a name=\"Epi_discrete\"></a>\n",
    "## 1. Epidemic Dynamics - Discrete Case\n",
    "\n",
    "The dynamics of infection and the spread of an epidemic can be modeled as a linear dynamical system. \n",
    "\n",
    "We count the fraction of the population in the following four groups:\n",
    "+ Susceptible: the individuals can be infected next day\n",
    "+ Infected: the infected individuals \n",
    "+ Recovered (and immune): recovered individuals from the disease and will not be infected again\n",
    "+ Decreased: the individuals died from the disease\n",
    "\n",
    "We denote the fractions of these four groups in $x(t)$. For example $x(t)=(0.8,0.1,0.05,0.05)$ means that at day $t$, 80\\% of the population are susceptible, 10% are infected, 5% are recovered and immuned, and 5% died.\n",
    "\n",
    "We choose a simple model here. After each day,\n",
    "\n",
    "+ 5% of the susceptible individuals will get infected \n",
    "+ 3% of infected inviduals will die\n",
    "+ 10% of infected inviduals will recover and become immune to the disease\n",
    "+ 4% of infected inviduals will recover but will not be immune to the disease\n",
    "+ 83% of the infected inviduals will remain infected\n"
   ]
  },
  {
   "cell_type": "markdown",
   "metadata": {},
   "source": [
    "&#9989;  **<font color=red>Do this:</font>** Find a $4\\times 4$ matrix $A$ that represents the transition from one day to the next."
   ]
  },
  {
   "cell_type": "code",
   "execution_count": 2,
   "metadata": {},
   "outputs": [
    {
     "data": {
      "text/latex": [
       "$\\displaystyle \\left[\\begin{matrix}0.95 & 0.04 & 0.0 & 0.0\\\\0.05 & 0.83 & 0.0 & 0.0\\\\0.0 & 0.1 & 1.0 & 0.0\\\\0.0 & 0.03 & 0.0 & 1.0\\end{matrix}\\right]$"
      ],
      "text/plain": [
       "⎡0.95  0.04  0.0  0.0⎤\n",
       "⎢                    ⎥\n",
       "⎢0.05  0.83  0.0  0.0⎥\n",
       "⎢                    ⎥\n",
       "⎢0.0   0.1   1.0  0.0⎥\n",
       "⎢                    ⎥\n",
       "⎣0.0   0.03  0.0  1.0⎦"
      ]
     },
     "execution_count": 2,
     "metadata": {},
     "output_type": "execute_result"
    }
   ],
   "source": [
    "A = np.matrix([[0.95,0.04,0,0],[0.05,0.83,0,0],[0,0.1,1,0],[0,0.03,0,1]])\n",
    "sym.Matrix(A)"
   ]
  },
  {
   "cell_type": "markdown",
   "metadata": {},
   "source": [
    "&#9989;  **<font color=red>Do this:</font>** If we start with $x(0) = (1, 0, 0, 0)$ for day 0. Use the `for` loop to find the distribution of the four groups after 50 days."
   ]
  },
  {
   "cell_type": "code",
   "execution_count": 3,
   "metadata": {},
   "outputs": [
    {
     "data": {
      "text/latex": [
       "$\\displaystyle \\left[\\begin{matrix}0.150415950300887\\\\0.055765014048115\\\\0.610630027423844\\\\0.183189008227153\\end{matrix}\\right]$"
      ],
      "text/plain": [
       "⎡0.150415950300887⎤\n",
       "⎢                 ⎥\n",
       "⎢0.055765014048115⎥\n",
       "⎢                 ⎥\n",
       "⎢0.610630027423844⎥\n",
       "⎢                 ⎥\n",
       "⎣0.183189008227153⎦"
      ]
     },
     "execution_count": 3,
     "metadata": {},
     "output_type": "execute_result"
    }
   ],
   "source": [
    "#Put your answer to the above question here\n",
    "i =  0\n",
    "x0 = np.matrix([[1,0,0,0]]).T\n",
    "x = x0\n",
    "for i in range(50):\n",
    "    x = A * x\n",
    "sym.Matrix(x)"
   ]
  },
  {
   "cell_type": "markdown",
   "metadata": {},
   "source": [
    "&#9989;  **<font color=red>Do this:</font>** Write a program to apply the above transformation matrix for 200 iterations and plot the results."
   ]
  },
  {
   "cell_type": "code",
   "execution_count": 4,
   "metadata": {},
   "outputs": [
    {
     "data": {
      "text/plain": [
       "<matplotlib.legend.Legend at 0x7f61169b4fd0>"
      ]
     },
     "execution_count": 4,
     "metadata": {},
     "output_type": "execute_result"
    },
    {
     "data": {
      "image/png": "[encoded data removed]",
      "text/plain": [
       "<Figure size 432x288 with 1 Axes>"
      ]
     },
     "metadata": {
      "needs_background": "light"
     },
     "output_type": "display_data"
    }
   ],
   "source": [
    "n = 200\n",
    "x = x0\n",
    "x_all = np.matrix(np.zeros((4,n)))\n",
    "for i in range(n):\n",
    "    x = A*x\n",
    "    x_all[:,i] = x\n",
    "labels = [\"Susceptible\", \"Infected\", \"Immune\", \"Deceased\"]\n",
    "for i in range(4):\n",
    "    plt.plot(x_all[i].T, label=labels[i])\n",
    "plt.legend()"
   ]
  },
  {
   "cell_type": "markdown",
   "metadata": {},
   "source": [
    "&#9989;  **<font color=red>Do this:</font>** Find the eigenvectors for matrix $A$ above. How do they relate to the final answer?"
   ]
  },
  {
   "cell_type": "code",
   "execution_count": 5,
   "metadata": {},
   "outputs": [
    {
     "name": "stdout",
     "output_type": "stream",
     "text": [
      "[1.         1.         0.96483315 0.81516685]\n",
      "[[ 0.          0.          0.65239417 -0.25009572]\n",
      " [ 0.          0.          0.24192648  0.84302984]\n",
      " [ 1.          0.         -0.68793896 -0.45610317]\n",
      " [ 0.          1.         -0.20638169 -0.13683095]]\n"
     ]
    }
   ],
   "source": [
    "#Put your code to the above question here\n",
    "eigval, eigvec = np.linalg.eig(A)\n",
    "print(eigval)\n",
    "print(eigvec)"
   ]
  },
  {
   "cell_type": "markdown",
   "metadata": {},
   "source": [
    "Since we have two eigenvalue with value = 1. Therefore, the steady state would be in span of this two vector."
   ]
  },
  {
   "cell_type": "markdown",
   "metadata": {},
   "source": [
    "---\n",
    "<a name=\"Epi_continuous\"></a>\n",
    "## 1. Epidemic Dynamics - Continuous Model\n",
    "\n",
    "Instead of using the discrete markov model, we can also use a continuous model with ordinary differential equations. \n",
    "\n",
    "For example, we have that \n",
    "\n",
    "$$\\dot{x}_1 = {dx_1(t)\\over dt} = -0.05x_1(t)+ 0.04 x_2(t)$$\n",
    "It means that the changes in the susceptible group depends on susceptible and infected individuals. It increases because of the recovered people from infected ones and it decreases because of the infection. \n",
    "\n",
    "Similarly, we have the equations for all three groups.\n",
    "$$\\dot{x}_2 = {dx_2(t)\\over dt} = 0.05x_1(t)-0.17 x_2(t) \\\\ \n",
    "\\dot{x}_3 = {dx_3(t)\\over dt}= 0.1 x_2(t) \\\\\n",
    "\\dot{x}_4 = {dx_4(t)\\over dt} = 0.03 x_2(t)$$\n"
   ]
  },
  {
   "cell_type": "markdown",
   "metadata": {},
   "source": [
    "&#9989;  **<font color=red>Do this:</font>** We can write it as system of ODEs as \n",
    "$$\\dot{x}(t) = Bx(t)$$\n",
    "Write down the matrix $B$ in `numpy.matrix`"
   ]
  },
  {
   "cell_type": "code",
   "execution_count": 6,
   "metadata": {},
   "outputs": [
    {
     "data": {
      "text/latex": [
       "$\\displaystyle \\left[\\begin{matrix}-0.05 & 0.04 & 0.0 & 0.0\\\\0.05 & -0.17 & 0.0 & 0.0\\\\0.0 & 0.1 & 0.0 & 0.0\\\\0.0 & 0.03 & 0.0 & 0.0\\end{matrix}\\right]$"
      ],
      "text/plain": [
       "⎡-0.05  0.04   0.0  0.0⎤\n",
       "⎢                      ⎥\n",
       "⎢0.05   -0.17  0.0  0.0⎥\n",
       "⎢                      ⎥\n",
       "⎢ 0.0    0.1   0.0  0.0⎥\n",
       "⎢                      ⎥\n",
       "⎣ 0.0   0.03   0.0  0.0⎦"
      ]
     },
     "execution_count": 6,
     "metadata": {},
     "output_type": "execute_result"
    }
   ],
   "source": [
    "# Put your answer to the above question here.\n",
    "B = np.matrix([[-0.05,0.04,0,0],[0.05,-0.17,0,0],[0,0.1,0,0],[0,0.03,0,0]])\n",
    "sym.Matrix(B)"
   ]
  },
  {
   "cell_type": "markdown",
   "metadata": {},
   "source": [
    "&#9989;  **<font color=red>Do this:</font>** Plot $x_1$ through $x_4$ as functions of time, where $t$ ranges from 0 to 200 days. Then compare the graph of your solution with the discrete version. **Hint:** Look back at section 3 of your pre-class assignment on ordinary differential equations. "
   ]
  },
  {
   "cell_type": "code",
   "execution_count": 7,
   "metadata": {},
   "outputs": [
    {
     "data": {
      "text/plain": [
       "<matplotlib.legend.Legend at 0x7f61161cd8b0>"
      ]
     },
     "execution_count": 7,
     "metadata": {},
     "output_type": "execute_result"
    },
    {
     "data": {
      "image/png": "[encoded data removed]",
      "text/plain": [
       "<Figure size 432x288 with 1 Axes>"
      ]
     },
     "metadata": {
      "needs_background": "light"
     },
     "output_type": "display_data"
    }
   ],
   "source": [
    "x0 = np.matrix([[1],[0],[0],[0]])\n",
    "n = 200\n",
    "x_all = np.matrix(np.zeros((4,n)))\n",
    "labels = [\"Susceptible\", \"Infected\", \"Immune\", \"Deceased\"]\n",
    "### Your code starts here ###\n",
    "for i in range(n):  \n",
    "        x_dot = A*x0         # First we transform x into the derrivative\n",
    "        x = x + x_dot*0.005    # Then we estimate x based on the previous value and a small increment of time.\n",
    "        x_all[:,i] = x[:,0]\n",
    "### Your code ends here ###\n",
    "for i in range(4):\n",
    "    plt.plot(x_all[i].T, label=labels[i])\n",
    "plt.legend()"
   ]
  },
  {
   "cell_type": "markdown",
   "metadata": {},
   "source": [
    "---\n",
    "<a name=\"Population\"></a>\n",
    "## 3. Population Dynamics \n",
    "\n",
    "In this section, we consider the distribution of a population at different ages. Let $x(t)$ be a 100-vector with $x_i(t)$ denoting the number of people with age $i-1$. \n",
    "\n",
    "The birth rate is given in the vector $b$, where $b_i$ is the average number of births per person with age $i-1$. $b_i=0$ for $i<13$ and $i>50$.  \n",
    "\n",
    "The death rate is given by the vector $d$, where $d_i$ is the portion of those aged $i-1$ who dies this year. \n",
    "\n",
    "Then we can model the population using dynamical systems. \n",
    "We consider the 0-year old first. It includes all newborn from all ages, so we have\n",
    "$$x_1(t+1) = b^\\top x(t)$$\n",
    "Then we consider all other ages for $i>1$. \n",
    "$$x_i(t+1) = (1-d_{i-1})x_{i-1}(t)$$\n"
   ]
  },
  {
   "cell_type": "code",
   "execution_count": 8,
   "metadata": {},
   "outputs": [
    {
     "data": {
      "image/png": "[encoded data removed]",
      "text/plain": [
       "<Figure size 432x288 with 3 Axes>"
      ]
     },
     "metadata": {
      "needs_background": "light"
     },
     "output_type": "display_data"
    }
   ],
   "source": [
    "population = np.array([\n",
    "       3.94415,       3.97807,       4.09693,       4.11904,       4.06317,       4.05686,       4.06638,       4.03058,\n",
    "       4.04649,       4.14835,       4.17254,       4.11442,       4.10624,       4.11801,       4.16598,       4.24282,\n",
    "       4.31614,       4.39529,       4.50085,       4.58523,       4.51913,       4.35429,       4.26464,       4.19857,\n",
    "       4.24936,       4.26235,       4.15231,       4.24887,       4.21525,       4.22308,       4.28567,       3.97022,\n",
    "       3.98685,       3.88015,       3.83922,       3.95643,       3.80209,       3.93445,       4.12188,       4.36480,\n",
    "       4.38327,       4.11498,       4.07610,       4.10511,       4.21150,       4.50887,       4.51976,       4.53526,\n",
    "       4.53880,       4.60590,       4.66029,       4.46463,       4.50085,       4.38035,       4.29200,       4.25471,\n",
    "       4.03751,       3.93639,       3.79493,       3.64127,       3.62113,       3.49260,       3.56318,       3.48388,\n",
    "       2.65713,       2.68076,       2.63914,       2.64936,       2.32367,       2.14232,       2.04312,       1.94932,\n",
    "       1.86427,       1.73696,       1.68449,       1.62008,       1.47107,       1.45533,       1.40012,       1.37119,\n",
    "       1.30851,       1.21287,       1.16142,       1.07481,       0.98572,       0.91472,       0.81421,       0.71291,\n",
    "       0.64062,       0.53800,       0.43556,       0.34499,       0.28139,       0.21698,       0.16944,       0.12972,\n",
    "       0.09522,       0.06814,       0.04590,       0.03227])\n",
    "d = np.array([\n",
    "       0.00623,       0.00044,       0.00027,       0.00020,       0.00016,       0.00012,       0.00011,       0.00011,\n",
    "       0.00012,       0.00011,       0.00010,       0.00013,       0.00013,       0.00015,       0.00020,       0.00025,\n",
    "       0.00037,       0.00047,       0.00064,       0.00071,       0.00076,       0.00087,       0.00087,       0.00088,\n",
    "       0.00094,       0.00092,       0.00095,       0.00093,       0.00099,       0.00101,       0.00103,       0.00109,\n",
    "       0.00110,       0.00114,       0.00115,       0.00120,       0.00131,       0.00137,       0.00146,       0.00156,\n",
    "       0.00162,       0.00185,       0.00201,       0.00216,       0.00243,       0.00258,       0.00298,       0.00325,\n",
    "       0.00351,       0.00387,       0.00413,       0.00454,       0.00494,       0.00533,       0.00571,       0.00602,\n",
    "       0.00670,       0.00710,       0.00769,       0.00828,       0.00860,       0.00932,       0.00998,       0.01101,\n",
    "       0.01250,       0.01282,       0.01404,       0.01515,       0.01687,       0.01830,       0.01967,       0.02133,\n",
    "       0.02347,       0.02562,       0.02800,       0.03083,       0.03441,       0.03711,       0.04126,       0.04448,\n",
    "       0.04964,       0.05539,       0.06149,       0.06803,       0.07673,       0.08561,       0.09540,       0.10636,\n",
    "       0.11802,       0.13385,       0.15250,       0.16491,       0.18738,       0.20757,       0.22688,       0.25196,\n",
    "       0.27422,       0.29239,       0.32560,       0.34157])\n",
    "b = np.array([\n",
    "       0.00000,       0.00000,       0.00000,       0.00000,       0.00000,       0.00000,       0.00000,       0.00000,\n",
    "       0.00000,       0.00000,       0.00020,       0.00020,       0.00020,       0.00020,       0.00020,       0.01710,\n",
    "       0.01710,       0.01710,       0.01710,       0.01710,       0.04500,       0.04500,       0.04500,       0.04500,\n",
    "       0.04500,       0.05415,       0.05415,       0.05415,       0.05415,       0.05415,       0.04825,       0.04825,\n",
    "       0.04825,       0.04825,       0.04825,       0.02250,       0.02250,       0.02250,       0.02250,       0.02250,\n",
    "       0.00510,       0.00510,       0.00510,       0.00510,       0.00510,       0.00035,       0.00035,       0.00035,\n",
    "       0.00035,       0.00035,       0.00000,       0.00000,       0.00000,       0.00000,       0.00000,       0.00000,\n",
    "       0.00000,       0.00000,       0.00000,       0.00000,       0.00000,       0.00000,       0.00000,       0.00000,\n",
    "       0.00000,       0.00000,       0.00000,       0.00000,       0.00000,       0.00000,       0.00000,       0.00000,\n",
    "       0.00000,       0.00000,       0.00000,       0.00000,       0.00000,       0.00000,       0.00000,       0.00000,\n",
    "       0.00000,       0.00000,       0.00000,       0.00000,       0.00000,       0.00000,       0.00000,       0.00000,\n",
    "       0.00000,       0.00000,       0.00000,       0.00000,       0.00000,       0.00000,       0.00000,       0.00000,\n",
    "       0.00000,       0.00000,       0.00000,       0.00000])\n",
    "\n",
    "plt.subplot(1,3,1)\n",
    "plt.plot(population)\n",
    "plt.title('population in 2010')\n",
    "plt.subplot(1,3,2)\n",
    "plt.plot(b)\n",
    "plt.title('birth rate in 2010')\n",
    "plt.subplot(1,3,3)\n",
    "plt.plot(d)\n",
    "plt.title('death rate in 2010')\n",
    "\n",
    "plt.show()"
   ]
  },
  {
   "cell_type": "markdown",
   "metadata": {},
   "source": [
    "&#9989;  **<font color=red>Do this:</font>** Find the $100\\times 100$ matrix `A2` such that \n",
    "$$x(t+1)=Ax(t)$$"
   ]
  },
  {
   "cell_type": "code",
   "execution_count": 9,
   "metadata": {},
   "outputs": [
    {
     "name": "stdout",
     "output_type": "stream",
     "text": [
      "[[0.      0.      0.      ... 0.      0.      0.     ]\n",
      " [0.99377 0.      0.      ... 0.      0.      0.     ]\n",
      " [0.      0.99956 0.      ... 0.      0.      0.     ]\n",
      " ...\n",
      " [0.      0.      0.      ... 0.      0.      0.     ]\n",
      " [0.      0.      0.      ... 0.70761 0.      0.     ]\n",
      " [0.      0.      0.      ... 0.      0.6744  0.     ]]\n"
     ]
    }
   ],
   "source": [
    "A2 = np.matrix(np.zeros((100,100)))\n",
    "A2[0,:] = b\n",
    "for i in range(99):\n",
    "    A2[i+1,i] = 1 - d[i]\n",
    "print(A2)"
   ]
  },
  {
   "cell_type": "markdown",
   "metadata": {},
   "source": [
    "&#9989;  **<font color=red>Do this:</font>** Plot the population distribution at year 2020."
   ]
  },
  {
   "cell_type": "code",
   "execution_count": 10,
   "metadata": {},
   "outputs": [
    {
     "data": {
      "text/plain": [
       "[<matplotlib.lines.Line2D at 0x7f6114080190>]"
      ]
     },
     "execution_count": 10,
     "metadata": {},
     "output_type": "execute_result"
    },
    {
     "data": {
      "image/png": "[encoded data removed]",
      "text/plain": [
       "<Figure size 432x288 with 1 Axes>"
      ]
     },
     "metadata": {
      "needs_background": "light"
     },
     "output_type": "display_data"
    }
   ],
   "source": [
    "# Put your answer to the above question here.\n",
    "plt.plot(A2**10*np.matrix(population).T)"
   ]
  },
  {
   "cell_type": "markdown",
   "metadata": {},
   "source": [
    "-----\n",
    "\n",
    "Written by Dr. Dirk Colbry, Michigan State University\n",
    "<a rel=\"license\" href=\"http://creativecommons.org/licenses/by-nc/4.0/\"><img alt=\"Creative Commons License\" style=\"border-width:0\" src=\"https://i.creativecommons.org/l/by-nc/4.0/88x31.png\" /></a><br />This work is licensed under a <a rel=\"license\" href=\"http://creativecommons.org/licenses/by-nc/4.0/\">Creative Commons Attribution-NonCommercial 4.0 International License</a>."
   ]
  }
 ],
 "metadata": {
  "kernelspec": {
   "display_name": "Python 3",
   "language": "python",
   "name": "python3"
  },
  "language_info": {
   "codemirror_mode": {
    "name": "ipython",
    "version": 3
   },
   "file_extension": ".py",
   "mimetype": "text/x-python",
   "name": "python",
   "nbconvert_exporter": "python",
   "pygments_lexer": "ipython3",
   "version": "3.8.8"
  }
 },
 "nbformat": 4,
 "nbformat_minor": 4
}
