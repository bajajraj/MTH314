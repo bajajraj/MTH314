{
 "cells": [
  {
   "cell_type": "markdown",
   "metadata": {},
   "source": [
    "In order to successfully complete this assignment we recommend that you participate both individually and in groups during class. **Turn in your assignment using D2L no later than 11:59pm on the day of class.** Grading is based on correctness and completion."
   ]
  },
  {
   "cell_type": "markdown",
   "metadata": {},
   "source": [
    "# 14 In-Class Assignment:  Page Rank (a.k.a. How Google Works)\n",
    "\n",
    "    "
   ]
  },
  {
   "cell_type": "markdown",
   "metadata": {},
   "source": [
    "### Agenda for today's class (80 minutes)\n",
    "\n",
    "1. [(40 minutes) Pre-class assignment review](#Review)\n",
    "1. [(40 minutes) Page Rank](#Page-Rank)"
   ]
  },
  {
   "cell_type": "markdown",
   "metadata": {},
   "source": [
    "---\n",
    "<a name=\"Review\"></a>\n",
    "\n",
    "## 1. Questions Regarding HW and Quiz 3 Material"
   ]
  },
  {
   "cell_type": "markdown",
   "metadata": {},
   "source": [
    "This is your time to ask any questions regarding HW mistakes and quiz 3 material.\n",
    "You can find the **Learning Goals for Homework 3 and Quiz 3 Topic** listed \n",
    "<a rel=\"Golas\" href=\"https://docs.google.com/document/d/1x97QZ7nQTQHAhv_zJ6eabS1tnZRH9B7c0MYlvs0h_jY/edit?usp=sharing \">HERE</a>.\n"
   ]
  },
  {
   "cell_type": "markdown",
   "metadata": {},
   "source": [
    "---\n",
    "<a name=\"Page-Rank\"></a>\n",
    "## 2. Page Rank"
   ]
  },
  {
   "cell_type": "markdown",
   "metadata": {},
   "source": [
    "Google's famous \"Page Rank\" algorithm is just a calculation of the likelyhood that a person will reach a particulare web page.  \n",
    "\n",
    "> To explain the algorithm, we model the web as an oriented graph. The vertices are the pages, and the oriented edges are the links between pages. As we just explained, each page corresponds to a different url. Hence, a website may contain many pages. The model makes no difference between the individual pages of a website and its front page. But, most likely, the algorithm will rank better the front page of an important website.\n",
    "\n",
    "From: http://blog.kleinproject.org/?p=280\n",
    "\n",
    "Using the vocabulary from this course, A simplified version of Google's Page Rank is the steady state probabilities of the Markov State Model where each node in the network is a page and each transition probability is calculated as an equal probablility from the current page to its linked pages.  \n",
    "\n",
    "For this problem, consider the following Markov model of a generic webpage. \n",
    "\n",
    "<img src=\"https://lh4.googleusercontent.com/LFe_yWxZA_F_Ze3PSMqwQds9zUOgjnzGP6pxPZJYAGjRTj_BKNqvcDxGHhbZg1Y3iSVOFPb9MW_a8JvwrdhfU3Av7zC13JO_faPs0WC7AziKWMwrwKkqdl6RJmxq=w477\"></a>"
   ]
  },
  {
   "cell_type": "markdown",
   "metadata": {},
   "source": [
    "&#9989; <font color=red>**Question 1.**</font> Find the state transition matrix for the above system. Let's consider Home = state 1, About = state 2, Resume = state 2, Blog = state 4 and let $p_{ij}$ be the probability transition from state $j$ to state $i$. "
   ]
  },
  {
   "cell_type": "code",
   "execution_count": 2,
   "metadata": {},
   "outputs": [
    {
     "data": {
      "text/latex": [
       "$\\displaystyle \\left[\\begin{matrix}0.25 & 0.5 & 0.2 & 0.1\\\\0.2 & 0.5 & 0.0 & 0.0\\\\0.25 & 0.0 & 0.8 & 0.0\\\\0.3 & 0.0 & 0.0 & 0.9\\end{matrix}\\right]$"
      ],
      "text/plain": [
       "⎡0.25  0.5  0.2  0.1⎤\n",
       "⎢                   ⎥\n",
       "⎢0.2   0.5  0.0  0.0⎥\n",
       "⎢                   ⎥\n",
       "⎢0.25  0.0  0.8  0.0⎥\n",
       "⎢                   ⎥\n",
       "⎣0.3   0.0  0.0  0.9⎦"
      ]
     },
     "execution_count": 2,
     "metadata": {},
     "output_type": "execute_result"
    }
   ],
   "source": [
    "%matplotlib inline \n",
    "import matplotlib.pylab as plt\n",
    "import numpy as np\n",
    "import sympy as sym\n",
    "sym.init_printing()\n",
    "\n",
    "A = np.matrix([[0.25,0.2,0.25,0.3],[0.5,0.5,0,0], [0.2,0,0.8,0], [0.1,0,0,0.9]]).T\n",
    "sym.Matrix(A)"
   ]
  },
  {
   "cell_type": "markdown",
   "metadata": {},
   "source": [
    "&#9989; <font color=red>**Question 2:**</font> Using ```numpy``` calculate the eigenvalues and eigenvectors of the model."
   ]
  },
  {
   "cell_type": "code",
   "execution_count": 3,
   "metadata": {},
   "outputs": [
    {
     "name": "stdout",
     "output_type": "stream",
     "text": [
      "-0.030805589196661765 , 0.6282457190832064 , 0.9999999999999991 , 0.8525598701134546\n",
      "[[ 0.86503305]\n",
      " [-0.32593216]\n",
      " [-0.26029948]\n",
      " [-0.27880142]]\n",
      "\n",
      "[[-0.38434776]\n",
      " [-0.59939273]\n",
      " [ 0.55944422]\n",
      " [ 0.42429627]]\n",
      "\n",
      "[[0.29207197]\n",
      " [0.11682879]\n",
      " [0.36508996]\n",
      " [0.87621591]]\n",
      "\n",
      "[[-0.12506269]\n",
      " [-0.0709455 ]\n",
      " [-0.59485825]\n",
      " [ 0.79086644]]\n"
     ]
    }
   ],
   "source": [
    "#put your answer here\n",
    "#Put your answer here\n",
    "eigval, eigvecs = np.linalg.eig(A)\n",
    "print((eigval[0]), \",\", (eigval[1]), \",\", (eigval[2]), \",\", eigval[3])\n",
    "v1 = eigvecs[:,0]\n",
    "v2 = eigvecs[:,1]\n",
    "v3 = eigvecs[:,2]\n",
    "v4 = eigvecs[:,3]\n",
    "print(v1)\n",
    "print()\n",
    "print(v2)\n",
    "print()\n",
    "print(v3)\n",
    "print()\n",
    "print(v4)"
   ]
  },
  {
   "cell_type": "markdown",
   "metadata": {},
   "source": [
    "&#9989; <font color=red>**Question 3:**</font>  The vector associated with the eigenvalue of 1 is the steady state vector $S$. Create a new vector $\\hat{S}$ that is equivlent to the steady state vector scaled by a constant $c$ (i.e. $cS = \\hat{S}$) such that the components of this new vector sum up to one (i.e. $\\sum_{i=0}^{n}\\hat{S}_i = 1$). "
   ]
  },
  {
   "cell_type": "code",
   "execution_count": 4,
   "metadata": {},
   "outputs": [
    {
     "name": "stdout",
     "output_type": "stream",
     "text": [
      "0.6059847191423012\n",
      "[[0.17699115]\n",
      " [0.07079646]\n",
      " [0.22123894]\n",
      " [0.53097345]]\n",
      "1.0000000000000002\n"
     ]
    }
   ],
   "source": [
    "v = np.sum(v3)\n",
    "c = 1/v\n",
    "print(c)\n",
    "S = c*v3\n",
    "print(S)\n",
    "print(np.sum(S))"
   ]
  },
  {
   "cell_type": "markdown",
   "metadata": {},
   "source": [
    "&#9989; <font color=red>**Question 4:**</font> Based on the long term steady state vector that you calculated, which page are people likely to spend the most time? Explain how you came up with the answer."
   ]
  },
  {
   "cell_type": "markdown",
   "metadata": {},
   "source": [
    "**The people are going to spend the most time in blog state because it has the largest value in the vector system.**"
   ]
  },
  {
   "cell_type": "markdown",
   "metadata": {},
   "source": [
    "&#9989; <font color=red>**Question 5:**</font>  Construct a new matrix $P$ of the same size as $A$ with a copy of the normalized steady state vector ($\\hat{S}$) in each column. "
   ]
  },
  {
   "cell_type": "code",
   "execution_count": 5,
   "metadata": {},
   "outputs": [
    {
     "data": {
      "text/latex": [
       "$\\displaystyle \\left[\\begin{matrix}0.17699115 & 0.17699115 & 0.17699115 & 0.17699115\\\\0.7079646 & 0.7079646 & 0.7079646 & 0.7079646\\\\0.22123894 & 0.22123894 & 0.22123894 & 0.22123894\\\\0.53097345 & 0.53097345 & 0.53097345 & 0.53097345\\end{matrix}\\right]$"
      ],
      "text/plain": [
       "⎡0.17699115  0.17699115  0.17699115  0.17699115⎤\n",
       "⎢                                              ⎥\n",
       "⎢0.7079646   0.7079646   0.7079646   0.7079646 ⎥\n",
       "⎢                                              ⎥\n",
       "⎢0.22123894  0.22123894  0.22123894  0.22123894⎥\n",
       "⎢                                              ⎥\n",
       "⎣0.53097345  0.53097345  0.53097345  0.53097345⎦"
      ]
     },
     "execution_count": 5,
     "metadata": {},
     "output_type": "execute_result"
    }
   ],
   "source": [
    "# Put the answer to the above question here\n",
    "P = np.matrix([[0.17699115,0.7079646,0.22123894,0.53097345],[0.17699115,0.7079646,0.22123894,0.53097345],[0.17699115,0.7079646,0.22123894,0.53097345],[0.17699115,0.7079646,0.22123894,0.53097345]]).T\n",
    "sym.Matrix(P)"
   ]
  },
  {
   "cell_type": "markdown",
   "metadata": {},
   "source": [
    "&#9989; <font color=red>**Question 6:**</font> If exactly 10,000 people are on the website at a time (assume this is constant), estimate how many people will be on the About page over the long term?  Explain how you came up with your answer."
   ]
  },
  {
   "cell_type": "code",
   "execution_count": 6,
   "metadata": {},
   "outputs": [
    {
     "name": "stdout",
     "output_type": "stream",
     "text": [
      "[[707.96460177]]\n"
     ]
    }
   ],
   "source": [
    "# Put the answer to the above question here\n",
    "numberOfPeople = 10000*S[1]\n",
    "print(numberOfPeople)"
   ]
  },
  {
   "cell_type": "markdown",
   "metadata": {},
   "source": [
    "Therefore, number of people over the long term would be $708$."
   ]
  },
  {
   "cell_type": "markdown",
   "metadata": {},
   "source": [
    "----\n",
    "Written by Dr. Dirk Colbry, Michigan State University\n",
    "<a rel=\"license\" href=\"http://creativecommons.org/licenses/by-nc/4.0/\"><img alt=\"Creative Commons License\" style=\"border-width:0\" src=\"https://i.creativecommons.org/l/by-nc/4.0/88x31.png\" /></a><br />This work is licensed under a <a rel=\"license\" href=\"http://creativecommons.org/licenses/by-nc/4.0/\">Creative Commons Attribution-NonCommercial 4.0 International License</a>."
   ]
  },
  {
   "cell_type": "markdown",
   "metadata": {},
   "source": [
    "###STARTFOOTER###\n",
    "\n",
    "-----\n",
    "### Congratulations, we're done!\n"
   ]
  },
  {
   "cell_type": "markdown",
   "metadata": {},
   "source": [
    "----"
   ]
  }
 ],
 "metadata": {
  "kernelspec": {
   "display_name": "Python 3",
   "language": "python",
   "name": "python3"
  },
  "language_info": {
   "codemirror_mode": {
    "name": "ipython",
    "version": 3
   },
   "file_extension": ".py",
   "mimetype": "text/x-python",
   "name": "python",
   "nbconvert_exporter": "python",
   "pygments_lexer": "ipython3",
   "version": "3.8.8"
  }
 },
 "nbformat": 4,
 "nbformat_minor": 4
}
