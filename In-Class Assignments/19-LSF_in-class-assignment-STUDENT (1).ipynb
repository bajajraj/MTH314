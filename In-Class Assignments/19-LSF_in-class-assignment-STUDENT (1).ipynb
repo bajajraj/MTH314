{
 "cells": [
  {
   "cell_type": "markdown",
   "metadata": {},
   "source": [
    "# 19 In-Class Assignment: Least Squares Fit (LSF)\n",
    "\n",
    "<img alt=\"image showing a 3D vector projected onto a 2D plane\" src=\"https://lh5.googleusercontent.com/RFgtgkULxOPzUC8lwl1j265FjpzaD2YIDHjy94VyqOOU7xIQf03bsHDSmxYNOmYDXeLPn7iMTg=w740\" width=\"50%\">\n",
    "</p>\n"
   ]
  },
  {
   "cell_type": "markdown",
   "metadata": {},
   "source": [
    "### Agenda for today's class (80 minutes)\n",
    "\n",
    "\n",
    "\n",
    "1. [(20 minutes) LSF Pre-class Review](#Pre-class_Review)\n",
    "1. [(30 minutes) Finding the best solution in an overdetermined system](#Finding_the_best_solution_in_an_overdetermined_system)\n",
    "1. [(30 minutes) Pseudoinverse](#Pseudoinverse)"
   ]
  },
  {
   "cell_type": "markdown",
   "metadata": {},
   "source": [
    "---\n",
    "<a name=\"Pre-class_Review\"></a>\n",
    "\n",
    "## 1. LSF Pre-class Review\n",
    "\n",
    "* [19--LSF_pre-class-assignment.ipynb](19--LSF_pre-class-assignment.ipynb)"
   ]
  },
  {
   "cell_type": "markdown",
   "metadata": {},
   "source": [
    "----\n",
    "<a name=\"Finding_the_best_solution_in_an_overdetermined_system\"></a>\n",
    "## 2. Finding the best solution in an overdetermined system\n",
    "\n",
    "Let $Ax = y$ be a system of $m$ linear equations in $n$ variables. A *least squares solution* of $Ax = y$ is an solution $\\hat{x}$ in $R^n$ such that:\n",
    "\n",
    "$$ \\min_{\\hat{x}}\\|y - A\\hat{x}\\|.$$\n",
    "\n",
    "Note we substitute $y$ for our typical variable $b$ here because we will use $b$ later to represent the intercept to a line and we want to try and avoid confusion in notation. It also consistent with the picture above. \n",
    "\n",
    "In other words, $\\hat{x}$ is a value of $x$ for which $Ax$ is as close as possible to $y$. From previous lectures, we know this to be true if the vector $$y - A\\hat{x}$$ is orthogonal (perpendicular) to the column space of $A$.\n",
    "\n",
    "We also know that the dot product is zero if two vectors are orthogonal. So we have  \n",
    "$$a \\cdot (Ax - y)  = 0, $$\n",
    "for all vectors $a$ in the column spaces of $A$.\n",
    "\n",
    "The columns of $A$ span the column space of $A$. Denote the columns of $A$ as \n",
    "$$A = [a_1, \\cdots, a_n].$$ \n",
    "Then we have \n",
    "$$a_1^\\top (Ax - y)  = 0, \\\\ a_2^\\top(Ax-y)=0\\\\\\vdots \\\\a_n^\\top(Ax-y)=0.$$\n",
    "It is the same as taking the transpose of $A$ and doing a matrix multiply:\n",
    "$$A^\\top (Ax - y) = 0.$$\n",
    "\n",
    "That is:\n",
    "\n",
    "<font size=40>$$A^\\top Ax = A^\\top y$$</font>\n",
    "\n",
    "The above equation is called the *least squares solution* to the original equation $Ax=y$.  The matrix $A^\\top A$ is symmetric and invertable. Then solving for $\\hat{x}$ can be calculated as follows:\n",
    "\n",
    "$$x = (A^\\top A)^{-1}A^\\top y$$\n",
    "\n",
    "\n",
    "The matrix $(A^\\top A)^{-1}A^\\top$ is also called the left inverse."
   ]
  },
  {
   "cell_type": "markdown",
   "metadata": {},
   "source": [
    "**Example:** A researcher has conducted experiments of a particular Hormone dosage in a population of rats. The table shows the number of fatalities at each dosage level tested. Determine the least squares line and use it to predict the number of rat fatalities at hormone dosage of 22. \n",
    "\n",
    "| Hormone level  | 20 | 25 | 30 | 35 | 40 | 45 | 50  |\n",
    "|---|---|---|---|---|---|---|---|\n",
    "| Fatalities | 101 | 115 | 92 | 64 | 60 | 50 | 49| \n"
   ]
  },
  {
   "cell_type": "code",
   "execution_count": 1,
   "metadata": {},
   "outputs": [],
   "source": [
    "%matplotlib inline\n",
    "import matplotlib.pylab as plt\n",
    "import numpy as np\n",
    "import sympy as sym\n",
    "import time\n",
    "from answercheck import checkanswer\n",
    "sym.init_printing(use_unicode=True)"
   ]
  },
  {
   "cell_type": "code",
   "execution_count": 2,
   "metadata": {},
   "outputs": [
    {
     "data": {
      "image/png": "[encoded data removed]",
      "text/plain": [
       "<Figure size 432x288 with 1 Axes>"
      ]
     },
     "metadata": {
      "needs_background": "light"
     },
     "output_type": "display_data"
    }
   ],
   "source": [
    "H = [20,25,30,35,40,45,50]\n",
    "f = [101,115, 92,64,60,50,49]\n",
    "\n",
    "plt.scatter(H,f)\n",
    "plt.xlabel('Hormone Level')\n",
    "plt.ylabel('Fatalities')\n",
    "f = np.matrix(f).T"
   ]
  },
  {
   "cell_type": "markdown",
   "metadata": {},
   "source": [
    "We want to determine a line that is expressed by the following equation \n",
    "\n",
    "$$f = aH + b,$$\n",
    "\n",
    "to approximate the connection between Hormone dosage ($H$) and Fatalities $f$. \n",
    "That is, we want to find $a$ (slope) and $b$ (y-intercept) for this line. First we define the variable $ \n",
    "x = \\left[\n",
    "\\begin{matrix}\n",
    "    a  \\\\\n",
    "    b  \n",
    "\\end{matrix}\n",
    "\\right] \n",
    "$ as the column vector that needs to be solved.\n",
    "\n",
    "<mark>&#9989;**<font color=red>DO THIS:</font>** Rewrite the system of equations to the form $Ax=y$ by defining your ```numpy``` matrices ```A``` and ```y``` using the data from above:</mark>"
   ]
  },
  {
   "cell_type": "code",
   "execution_count": 3,
   "metadata": {},
   "outputs": [],
   "source": [
    "#put your code here\n",
    "A = np.matrix([[20,1],[25,1],[30,1],[35,1],[40,1],[45,1],[50,1]])\n",
    "y = np.matrix(f)"
   ]
  },
  {
   "cell_type": "code",
   "execution_count": 4,
   "metadata": {},
   "outputs": [
    {
     "name": "stdout",
     "output_type": "stream",
     "text": [
      "\n",
      "CheckWarning: passed matrix is int64 and not <class 'numpy.float64'>...\n",
      "    Trying to convert to float using ```A = A.astype(float)```.\n",
      "\n",
      "Testing [[20.  1.]\n",
      " [25.  1.]\n",
      " [30.  1.]\n",
      " [35.  1.]\n",
      " [40.  1.]\n",
      " [45.  1.]\n",
      " [50.  1.]]\n",
      "Answer seems to be correct\n",
      "\n"
     ]
    }
   ],
   "source": [
    "checkanswer.matrix(A,'1ba0e00db420001b8418cc71936be2ad');"
   ]
  },
  {
   "cell_type": "code",
   "execution_count": 5,
   "metadata": {},
   "outputs": [
    {
     "name": "stdout",
     "output_type": "stream",
     "text": [
      "\n",
      "CheckWarning: passed matrix is int64 and not <class 'numpy.float64'>...\n",
      "    Trying to convert to float using ```A = A.astype(float)```.\n",
      "\n",
      "Testing [[101.]\n",
      " [115.]\n",
      " [ 92.]\n",
      " [ 64.]\n",
      " [ 60.]\n",
      " [ 50.]\n",
      " [ 49.]]\n",
      "Answer seems to be correct\n",
      "\n"
     ]
    }
   ],
   "source": [
    "checkanswer.matrix(y, '37e2ed57a1516fb4a17eb2a3e9e99d2d');"
   ]
  },
  {
   "cell_type": "markdown",
   "metadata": {},
   "source": [
    "<mark>&#9989; **<font color=red>QUESTION:</font>** Calculate the square matrix $C = A^\\top A$ and the modified right hand side vector as $A^\\top y$ (Call it ```Aty```):</mark>"
   ]
  },
  {
   "cell_type": "code",
   "execution_count": 6,
   "metadata": {},
   "outputs": [],
   "source": [
    "#Put your code here\n",
    "At = A.T\n",
    "C = At * A\n",
    "Aty = At * y"
   ]
  },
  {
   "cell_type": "code",
   "execution_count": 7,
   "metadata": {},
   "outputs": [
    {
     "name": "stdout",
     "output_type": "stream",
     "text": [
      "\n",
      "CheckWarning: passed matrix is int64 and not <class 'numpy.float64'>...\n",
      "    Trying to convert to float using ```A = A.astype(float)```.\n",
      "\n",
      "Testing [[9.275e+03 2.450e+02]\n",
      " [2.450e+02 7.000e+00]]\n",
      "Answer seems to be correct\n",
      "\n"
     ]
    }
   ],
   "source": [
    "checkanswer.matrix(C,'8662ea979b04d6e2123092be4e69dcc2');"
   ]
  },
  {
   "cell_type": "code",
   "execution_count": 8,
   "metadata": {
    "scrolled": true
   },
   "outputs": [
    {
     "name": "stdout",
     "output_type": "stream",
     "text": [
      "\n",
      "CheckWarning: passed matrix is int64 and not <class 'numpy.float64'>...\n",
      "    Trying to convert to float using ```A = A.astype(float)```.\n",
      "\n",
      "Testing [[16995.]\n",
      " [  531.]]\n",
      "Answer seems to be correct\n",
      "\n"
     ]
    }
   ],
   "source": [
    "checkanswer.matrix(Aty,'185258f9fd7e1a732157dcb71ccf5d3a');"
   ]
  },
  {
   "cell_type": "markdown",
   "metadata": {},
   "source": [
    "<mark>&#9989;**<font color=red>QUESTION:</font>** Find the *least squares solution* by solving $Cx=A^\\top y$ for $x$.</mark>"
   ]
  },
  {
   "cell_type": "code",
   "execution_count": 9,
   "metadata": {},
   "outputs": [],
   "source": [
    "# Put your code here\n",
    "x = np.linalg.inv(C) * At * y"
   ]
  },
  {
   "cell_type": "code",
   "execution_count": 10,
   "metadata": {},
   "outputs": [
    {
     "name": "stdout",
     "output_type": "stream",
     "text": [
      "Testing [[ -2.27143]\n",
      " [155.35714]]\n",
      "Answer seems to be correct\n",
      "\n"
     ]
    }
   ],
   "source": [
    "checkanswer.matrix(x,'d053e7b0a4863f4381079bac25133635');"
   ]
  },
  {
   "cell_type": "markdown",
   "metadata": {},
   "source": [
    "<mark>&#9989;**<font color=red>QUESTION:</font>** Given the solution above, define the two scalars slope ```a``` and y-intercept ```b```.</mark>"
   ]
  },
  {
   "cell_type": "code",
   "execution_count": 11,
   "metadata": {},
   "outputs": [],
   "source": [
    "#put your code here\n",
    "a = float(x[0][0])\n",
    "b = float(x[1][0])"
   ]
  },
  {
   "cell_type": "code",
   "execution_count": 12,
   "metadata": {
    "scrolled": true
   },
   "outputs": [
    {
     "name": "stdout",
     "output_type": "stream",
     "text": [
      "Testing -2.27143\n",
      "Answer seems to be correct\n",
      "\n"
     ]
    }
   ],
   "source": [
    "checkanswer.float(a,'f7dfa5a5ed0f65f0e0a87f29efd9cd74');"
   ]
  },
  {
   "cell_type": "code",
   "execution_count": 13,
   "metadata": {
    "scrolled": true
   },
   "outputs": [
    {
     "name": "stdout",
     "output_type": "stream",
     "text": [
      "Testing 155.35714\n",
      "Answer seems to be correct\n",
      "\n"
     ]
    }
   ],
   "source": [
    "checkanswer.float(b,'87e53cb122536f53f434cdbccf0aca94');"
   ]
  },
  {
   "cell_type": "markdown",
   "metadata": {},
   "source": [
    "The following code will Plot the original data and the line estimated by the coefficients found in the above quation."
   ]
  },
  {
   "cell_type": "code",
   "execution_count": 14,
   "metadata": {},
   "outputs": [
    {
     "data": {
      "text/plain": [
       "[<matplotlib.lines.Line2D at 0x7fcfb7fc54c0>]"
      ]
     },
     "execution_count": 14,
     "metadata": {},
     "output_type": "execute_result"
    },
    {
     "data": {
      "image/png": "[encoded data removed]",
      "text/plain": [
       "<Figure size 432x288 with 1 Axes>"
      ]
     },
     "metadata": {
      "needs_background": "light"
     },
     "output_type": "display_data"
    }
   ],
   "source": [
    "H = [20,25,30,35,40,45,50]\n",
    "f = [101,115, 92,64,60,50,49]\n",
    "plt.scatter(H,f)\n",
    "\n",
    "H2 = np.linspace(np.min(H), np.max(H))\n",
    "\n",
    "f2 = a * H2 + b\n",
    "\n",
    "plt.plot(H2, f2)\n"
   ]
  },
  {
   "cell_type": "markdown",
   "metadata": {},
   "source": [
    "<mark>&#9989;**<font color=red>QUESTION:</font>**  Repeat the above analysis but now with a eight-order polynomial.</mark>"
   ]
  },
  {
   "cell_type": "code",
   "execution_count": 45,
   "metadata": {},
   "outputs": [],
   "source": [
    "#Put your code here\n",
    "H = [20,25,30,35,40,45,50]\n",
    "f = [101,115, 92,64,60,50,49]\n",
    "plt.scatter(H,f)\n",
    "\n",
    "H2 = np.linspace(np.min(H), np.max(H))\n",
    "\n",
    "f2 = a * H2 + b\n",
    "\n",
    "plt.plot(H2, f2)"
   ]
  },
  {
   "cell_type": "markdown",
   "metadata": {},
   "source": [
    "<div style='background-color:lightgrey; padding-bottom:12px;'>\n",
    "**Hint** your code should generate a graph that looks like:\n",
    "\n",
    "![Image of eight-order polynomial fitting to the data](https://i.imgur.com/GHGaJ2r.png)\n",
    "</div>"
   ]
  },
  {
   "cell_type": "markdown",
   "metadata": {},
   "source": [
    "<mark>&#9989;**<font color=red>QUESTION:</font>**  Play with the interactive function below by adjusting the degree of the least-squares fit approximation. Then extend the `x_min` and `x_max` parameters. Do you think that an eight-order polynomial is a good model for this dataset? Why or why not?</mark>"
   ]
  },
  {
   "cell_type": "code",
   "execution_count": 47,
   "metadata": {},
   "outputs": [
    {
     "data": {
      "application/vnd.jupyter.widget-view+json": {
       "model_id": "7a34c7da6b7a4003bcf1b3a5cd950b55",
       "version_major": 2,
       "version_minor": 0
      },
      "text/plain": [
       "interactive(children=(IntSlider(value=20, description='x_min', max=20, min=10), IntSlider(value=50, descriptio…"
      ]
     },
     "metadata": {},
     "output_type": "display_data"
    }
   ],
   "source": [
    "from ipywidgets import interact, fixed\n",
    "import ipywidgets as widgets\n",
    "\n",
    "@interact(x=fixed(H), y=fixed(f), degree=widgets.IntSlider(min=1, max=8, step=1, value=8), x_min=widgets.IntSlider(min=min(H)-10, max=min(H), step=1, value=min(H)), x_max=widgets.IntSlider(min=max(H), max=max(H)+10, step=1, value=max(H)))\n",
    "def graphPolyN(x, y, x_min, x_max, degree):\n",
    "    p = np.polyfit(x, y, degree)\n",
    "    f = np.poly1d(p)\n",
    "    \n",
    "    x_pred = np.linspace(x_min, x_max, 1000)\n",
    "    y_pred = f(x_pred)\n",
    "    \n",
    "    plt.scatter(x, y, color=\"red\")\n",
    "    plt.plot(x_pred, y_pred)\n",
    "    "
   ]
  },
  {
   "cell_type": "markdown",
   "metadata": {},
   "source": [
    "It will be good becuase it will the best regression."
   ]
  },
  {
   "cell_type": "markdown",
   "metadata": {},
   "source": [
    "<mark>&#9989;**<font color=red>QUESTION:</font>**  Check the rank of $C=A^\\top A$ for the previous case. What do you get? Why?</mark>"
   ]
  },
  {
   "cell_type": "code",
   "execution_count": 48,
   "metadata": {},
   "outputs": [
    {
     "data": {
      "text/plain": [
       "2"
      ]
     },
     "execution_count": 48,
     "metadata": {},
     "output_type": "execute_result"
    }
   ],
   "source": [
    "np.linalg.matrix_rank(C)"
   ]
  },
  {
   "cell_type": "markdown",
   "metadata": {},
   "source": [
    "We get a rank of 2 that means that it is linearly independent."
   ]
  },
  {
   "cell_type": "markdown",
   "metadata": {},
   "source": [
    "----\n",
    "<a name=\"Pseudoinverse\"></a>\n",
    "## 3. Pseudoinverse\n",
    "\n",
    "In this class we often talk about solving problems of the form:\n",
    "\n",
    "$$Ax = b$$\n",
    "\n",
    "Currently we have determined that this problem becomes very nice when the $n \\times n$ matrix $A$ has an inverse. We can easily multiply each side by the inverse:\n",
    "\n",
    "$$A^{-1}Ax = A^{-1}b$$\n",
    "\n",
    "Since $A^{-1}A = I$ the solution for $x$ is simply:\n",
    "\n",
    "$$x = A^{-1}b$$\n",
    "\n",
    "Now, let us consider a a more general problem where the $m \\times n$ matrix $A$ is not square, i.e. $m \\neq n$ and its rank $r$ maybe less than $m$ and/or $n$.  In this case we want to find a Pseudoinverse (which we denote as $A^+$) which acts like an inverse for a non-square matrix. In other words we want to find an $A^+$ for $A$ such that:\n",
    "\n",
    "$$A^+A \\approx I$$\n",
    "\n",
    "Assuming we can find the $n \\times m$ matrix $A^+$, we should then be able to solve for $x$ as follows:\n",
    "\n",
    "$$Ax = b$$\n",
    "$$A^+Ax = A^+b$$\n",
    "$$x \\approx A^+b$$\n",
    "\n",
    "### How do we know there is a Psudoinverse\n",
    "Assuming the general case of a $m\\times n$ matrix $A$ where its rank $r$ maybe less than $m$ and/or $n$ ($r\\leq m$ and $r\\leq n$). We can conclude the following about the fundamental spaces of $A$:\n",
    "- The rowspace of $A$ is in $R^n$ with dimension $r$ \n",
    "- The columnspace of $A$ is in $R^m$ also with dimension $r$.\n",
    "- The nullspace of $A$ is in $R^n$ with dimension $n-r$\n",
    "- The nullspace of $A^T$ is in $R^m$ with dimension $m-r$.\n",
    "\n",
    "Because the rowspace of $A$ and the column space $A$ have the same dimension then $A$ is a the one-to-one mapping from the row space to the columnspace. In other words:\n",
    "- For any $x$ in the rowspace, we have that $Ax$ is one point in the columnspace. If $x'$ is another point in the row space different from $x$, we have $Ax\\neq Ax'$ (The mapping is one-to-one). \n",
    "- For any $y$ in the columnspace, we can find $x$ in the rowspace such that $Ax=y$ (The mapping is onto). \n",
    "\n",
    "The above is not really a proof but hopefully there is sufficient information to convince yourself that this is true. "
   ]
  },
  {
   "cell_type": "markdown",
   "metadata": {},
   "source": [
    "### How to compute pseudoinverse\n",
    "We want to find the $n\\times m$ matrix that maps from columnspace to the rowspace of $A$, and $x=A^+Ax,$ if $x$ is in the rowspace. \n",
    "\n",
    "+ Let's apply SVD on $A$: $$A= U\\Sigma V^\\top,$$\n",
    "where $U$ is a $m\\times m$ matrix, $V^\\top$ is a $n\\times n$ matrix, and $\\Sigma$ is a diagonal $m\\times n$ matrix. \n",
    "We can decompose the matrices as \n",
    "$$A = \\begin{bmatrix}\\vdots & \\vdots \\\\ U_1 & U_2 \\\\ \\vdots &\\vdots\\end{bmatrix} \\begin{bmatrix}\\Sigma_1 & 0 \\\\ 0 & 0\\end{bmatrix}  \\begin{bmatrix}\\cdots & V_1^\\top & \\cdots \\\\ \\cdots & V_2^\\top &\\cdots \\end{bmatrix}.$$\n",
    "Here $U_1$ is of $m\\times r$, $U_2$ is of $m\\times (m-r)$, $\\Sigma_1$ is of $r\\times r$, $V_1^\\top$ is of $r\\times n$, and $V_2^\\top$ is of $(n-r)\\times n$. \n",
    "    + The columnspace of $U_1$ is the columnspace of $A$, and columnspace of $U_2$ is the nullspace of $A^\\top$. \n",
    "    + The rowspace of $V_1$ is the rowspace of $A$, and rowspae of $V_2$ is the nullspace of $A$.\n",
    "\n",
    "+ If $x$ is in the rowspace of $A$, we have that $V_2^\\top x=0$. We have $Ax = U_1\\Sigma_1 V_1^\\top x$.\n",
    "    + If we define a matrix $B=V_1\\Sigma_1^{-1}U_1^\\top$, we have that $BAx=V_1\\Sigma_1^{-1}U_1^\\top U_1\\Sigma_1 V_1^\\top x=V_1V_1^\\top x$. That is $BAx=x$ is $x$ is in the rowspace of $A$. \n",
    "    \n",
    "+ The matrix $B$ is the pseudoinverse of matrix $A$. \n",
    "$$A^+ = V_1\\Sigma_1^{-1}U_1^\\top$$\n",
    "$$A^+ = \\begin{bmatrix}\\vdots & \\vdots \\\\ V_1 & V_2 \\\\ \\vdots &\\vdots\\end{bmatrix} \\begin{bmatrix}\\Sigma_1^{-1} & 0 \\\\ 0 & 0\\end{bmatrix}  \\begin{bmatrix}\\cdots & U_1^\\top & \\cdots \\\\ \\cdots & U_2^\\top &\\cdots \\end{bmatrix}.$$"
   ]
  },
  {
   "cell_type": "markdown",
   "metadata": {},
   "source": [
    "**Example 1:** Let $$A=[1,2]$$\n",
    "we know that \n",
    "$r=m=1$ and $n=2$."
   ]
  },
  {
   "cell_type": "code",
   "execution_count": 15,
   "metadata": {},
   "outputs": [],
   "source": [
    "A = np.matrix([[1,2]])"
   ]
  },
  {
   "cell_type": "markdown",
   "metadata": {},
   "source": [
    "<mark>&#9989;**<font color=red>TODO:</font>**  Calculate the pseudoinverse $A^+$ of $A$ using the ```numpy.linalg``` function ```pinv```:</mark>"
   ]
  },
  {
   "cell_type": "code",
   "execution_count": 16,
   "metadata": {},
   "outputs": [],
   "source": [
    "#put your code here\n",
    "pInv_A = np.linalg.pinv(A)"
   ]
  },
  {
   "cell_type": "code",
   "execution_count": 17,
   "metadata": {},
   "outputs": [
    {
     "name": "stdout",
     "output_type": "stream",
     "text": [
      "Testing [[0.2]\n",
      " [0.4]]\n",
      "Answer seems to be correct\n",
      "\n"
     ]
    }
   ],
   "source": [
    "checkanswer.matrix(pInv_A,'d69023de71a667d14b808efeb38f0839');"
   ]
  },
  {
   "cell_type": "markdown",
   "metadata": {},
   "source": [
    "<mark>&#9989;**<font color=red>DO THIS:</font>**  Compute $AA^+$ and $A^+A$</mark>"
   ]
  },
  {
   "cell_type": "code",
   "execution_count": 18,
   "metadata": {},
   "outputs": [
    {
     "data": {
      "text/latex": [
       "$\\displaystyle \\left[\\begin{matrix}1.0\\end{matrix}\\right]$"
      ],
      "text/plain": [
       "[1.0]"
      ]
     },
     "execution_count": 18,
     "metadata": {},
     "output_type": "execute_result"
    }
   ],
   "source": [
    "#put your code here\n",
    "sym.Matrix(A*pInv_A)"
   ]
  },
  {
   "cell_type": "code",
   "execution_count": 19,
   "metadata": {},
   "outputs": [
    {
     "data": {
      "text/latex": [
       "$\\displaystyle \\left[\\begin{matrix}0.2 & 0.4\\\\0.4 & 0.8\\end{matrix}\\right]$"
      ],
      "text/plain": [
       "⎡0.2  0.4⎤\n",
       "⎢        ⎥\n",
       "⎣0.4  0.8⎦"
      ]
     },
     "execution_count": 19,
     "metadata": {},
     "output_type": "execute_result"
    }
   ],
   "source": [
    "sym.Matrix(pInv_A*A)"
   ]
  },
  {
   "cell_type": "markdown",
   "metadata": {},
   "source": [
    "<mark>&#9989;**<font color=red>QUESTION:</font>** If $x$ is in the nullspace of $A$ what is the effect of $A^+Ax$?</mark>"
   ]
  },
  {
   "cell_type": "code",
   "execution_count": 20,
   "metadata": {},
   "outputs": [
    {
     "data": {
      "text/latex": [
       "$\\displaystyle \\left[ \\left[\\begin{matrix}-2\\\\1\\end{matrix}\\right]\\right]$"
      ],
      "text/plain": [
       "⎡⎡-2⎤⎤\n",
       "⎢⎢  ⎥⎥\n",
       "⎣⎣1 ⎦⎦"
      ]
     },
     "execution_count": 20,
     "metadata": {},
     "output_type": "execute_result"
    }
   ],
   "source": [
    "x = sym.Matrix(A).nullspace()\n",
    "x"
   ]
  },
  {
   "cell_type": "code",
   "execution_count": 21,
   "metadata": {},
   "outputs": [
    {
     "name": "stdout",
     "output_type": "stream",
     "text": [
      "[[0.2 0.4]\n",
      " [0.4 0.8]]\n",
      "[[-0.4 -0.8]\n",
      " [-0.8 -1.6]]\n"
     ]
    }
   ],
   "source": [
    "print(pInv_A*A*1)\n",
    "print(pInv_A*A*(-2))"
   ]
  },
  {
   "cell_type": "markdown",
   "metadata": {},
   "source": [
    "It will just be $A^+Ax$ multiplied by $x$."
   ]
  },
  {
   "cell_type": "markdown",
   "metadata": {},
   "source": [
    "<mark>&#9989;**<font color=red>QUESTION:</font>**  If $x$ is in the rowspace of $A$ what is the effect of $A^+Ax$?</mark>"
   ]
  },
  {
   "cell_type": "code",
   "execution_count": 73,
   "metadata": {},
   "outputs": [
    {
     "data": {
      "text/latex": [
       "$\\displaystyle \\left[\\begin{matrix}1 & 2\\end{matrix}\\right]$"
      ],
      "text/plain": [
       "[1  2]"
      ]
     },
     "execution_count": 73,
     "metadata": {},
     "output_type": "execute_result"
    }
   ],
   "source": [
    "rref = sym.Matrix(A).rref()[0]\n",
    "rref"
   ]
  },
  {
   "cell_type": "markdown",
   "metadata": {},
   "source": [
    "It will be just $x$ multiplied with $A^+Ax$."
   ]
  },
  {
   "cell_type": "markdown",
   "metadata": {},
   "source": [
    "### Left inverse is pseudoinverse\n",
    "\n",
    "We can compute the left inverse of $A$ if $r=n\\leq m$. In this case, we may have more rows than columns, and the matrix $A$ has full column rank. \n",
    "\n",
    "In this case, the SVD of $A$ is \n",
    "$$A = U\\Sigma V^\\top   .$$\n",
    "Here $U$ is of $m\\times n$, $\\Sigma$ is of $n\\times n$ and nonsingular, $V^\\top$ is of $n\\times n$. \n",
    "The pseudoinverse of $A$ is $$A^+ = V\\Sigma^{-1}U^\\top$$\n",
    "\n",
    "The left inverse of $A$ is \n",
    "$$(A^\\top A)^{-1}A^\\top= (V\\Sigma U^\\top U\\Sigma V^\\top  )^{-1} V\\Sigma U^\\top = V(\\Sigma \\Sigma )^{-1} V^\\top V\\Sigma U^\\top =  V\\Sigma ^{-1} U^\\top =A^+$$"
   ]
  },
  {
   "cell_type": "markdown",
   "metadata": {},
   "source": [
    "**Example 2:** Let $$A=\\begin{bmatrix}1\\\\2\\end{bmatrix}$$\n",
    "we know that \n",
    "$r=n=1$ and $m=2$. Then we have the left inverse."
   ]
  },
  {
   "cell_type": "code",
   "execution_count": 22,
   "metadata": {},
   "outputs": [
    {
     "data": {
      "text/plain": [
       "matrix([[1],\n",
       "        [2]])"
      ]
     },
     "execution_count": 22,
     "metadata": {},
     "output_type": "execute_result"
    }
   ],
   "source": [
    "A = np.matrix([[1],[2]])\n",
    "A"
   ]
  },
  {
   "cell_type": "markdown",
   "metadata": {},
   "source": [
    "<mark>&#9989;**<font color=red>DO THIS:</font>** Calculate the pseudoinverse $A^+$ of $A$.</mark>"
   ]
  },
  {
   "cell_type": "code",
   "execution_count": 23,
   "metadata": {},
   "outputs": [],
   "source": [
    "#Put your answer here\n",
    "pInv_A = np.linalg.pinv(A)"
   ]
  },
  {
   "cell_type": "code",
   "execution_count": 24,
   "metadata": {},
   "outputs": [
    {
     "name": "stdout",
     "output_type": "stream",
     "text": [
      "Testing [[0.2 0.4]]\n",
      "Answer seems to be correct\n",
      "\n"
     ]
    }
   ],
   "source": [
    "checkanswer.matrix(pInv_A,'b859ed0005ca3024f6a58f78ecfbd1a6');"
   ]
  },
  {
   "cell_type": "markdown",
   "metadata": {},
   "source": [
    "<mark>&#9989;**<font color=red>DO THIS:</font>**  Calculate the left inverse of $A$, and verify that it is the same as $A^+$.</mark>"
   ]
  },
  {
   "cell_type": "code",
   "execution_count": 25,
   "metadata": {},
   "outputs": [],
   "source": [
    "#Put your anaswer here\n",
    "leftInv_A = np.linalg.inv(A.T*A) * A.T"
   ]
  },
  {
   "cell_type": "code",
   "execution_count": 26,
   "metadata": {},
   "outputs": [
    {
     "name": "stdout",
     "output_type": "stream",
     "text": [
      "Testing [[0.2 0.4]]\n",
      "Answer seems to be correct\n",
      "\n"
     ]
    }
   ],
   "source": [
    "checkanswer.matrix(leftInv_A,'b859ed0005ca3024f6a58f78ecfbd1a6');"
   ]
  },
  {
   "cell_type": "markdown",
   "metadata": {},
   "source": [
    "----\n",
    "\n",
    "Written by Dr. Dirk Colbry with interactive code David Yonkers, Michigan State University\n",
    "<a rel=\"license\" href=\"http://creativecommons.org/licenses/by-nc/4.0/\"><img alt=\"Creative Commons License\" style=\"border-width:0\" src=\"https://i.creativecommons.org/l/by-nc/4.0/88x31.png\" /></a><br />This work is licensed under a <a rel=\"license\" href=\"http://creativecommons.org/licenses/by-nc/4.0/\">Creative Commons Attribution-NonCommercial 4.0 International License</a>."
   ]
  }
 ],
 "metadata": {
  "kernelspec": {
   "display_name": "Python 3",
   "language": "python",
   "name": "python3"
  },
  "language_info": {
   "codemirror_mode": {
    "name": "ipython",
    "version": 3
   },
   "file_extension": ".py",
   "mimetype": "text/x-python",
   "name": "python",
   "nbconvert_exporter": "python",
   "pygments_lexer": "ipython3",
   "version": "3.8.8"
  }
 },
 "nbformat": 4,
 "nbformat_minor": 4
}
