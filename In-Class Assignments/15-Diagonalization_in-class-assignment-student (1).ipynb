{
 "cells": [
  {
   "cell_type": "markdown",
   "metadata": {},
   "source": [
    "In order to successfully complete this assignment we recommend that you participate both individually and in groups during class. **Turn in your assignment using D2L no later than 11:59pm on the day of class.** Grading is based on correctness and completion."
   ]
  },
  {
   "cell_type": "markdown",
   "metadata": {},
   "source": [
    "\n",
    "# 15 In-Class Assignment: Diagonalization\n",
    "\n",
    "<img alt=\"Classig equation for diagonalizing a matrix. Will be discussed in class\" src=\"https://wikimedia.org/api/rest_v1/media/math/render/svg/62ab0ef52ecb1e1452efe6acf096923035c75f62\" width=\"50%\">\n",
    "\n",
    "Image from: [https://en.wikipedia.org/wiki/Diagonalizable_matrix](https://en.wikipedia.org/wiki/Diagonalizable_matrix)\n",
    "\n",
    "    "
   ]
  },
  {
   "cell_type": "markdown",
   "metadata": {},
   "source": [
    "### Agenda for today's class (80 minutes)\n",
    "\n",
    "1. [(30 minutes) Pre-class Assignment Review](#Pre-class_Assignment_Review)\n",
    "1. [(35 minutes) Diagonalization](#Diagonalization)\n",
    "1. [(15 minutes) The Power of a Matrix](#The_Power_of_a_Matrix)\n"
   ]
  },
  {
   "cell_type": "code",
   "execution_count": 1,
   "metadata": {},
   "outputs": [],
   "source": [
    "%matplotlib inline\n",
    "import matplotlib.pylab as plt\n",
    "import numpy as np\n",
    "import sympy as sym\n",
    "sym.init_printing()"
   ]
  },
  {
   "cell_type": "markdown",
   "metadata": {},
   "source": [
    "---\n",
    "<a name=\"Pre-class_Assignment_Review\"></a>\n",
    "## 1. Pre-class Assignment Review"
   ]
  },
  {
   "cell_type": "markdown",
   "metadata": {},
   "source": [
    "----\n",
    "<a name=\"Diagonalization\"></a>\n",
    "## 2. Diagonalization"
   ]
  },
  {
   "cell_type": "markdown",
   "metadata": {},
   "source": [
    "**_Reminder_**: The eigenvalues of triangular (upper and lower) and diagonal matrices are easy:\n",
    "\n",
    "* The eigenvalues for triangular matrices are the diagonal elements.\n",
    "* The eigenvalues for the diagonal matrices are the diagonal elements. "
   ]
  },
  {
   "cell_type": "markdown",
   "metadata": {},
   "source": [
    "### Diagonalization\n",
    "\n",
    "\n",
    "**Definition**: A square matrix $A$ is said to be *diagonalizable* if there exist a matrix $C$ such that $D=C^{-1}AC$ is a diagonal matrix.\n",
    "\n",
    "**Definition**: $B$ is a *similar matrix* of $A$ if we can find $C$ such that $B=C^{-1}AC$.\n",
    "\n",
    "\n",
    "Given an $n\\times n$ matrix $A$, can we find another $n \\times n$ invertable matrix $C$ such that when $D=C^{-1}AC$ is diagonal, i.e., $A$ is diagonalizable?"
   ]
  },
  {
   "cell_type": "markdown",
   "metadata": {},
   "source": [
    "* Because $C$ is inveritble, we have \n",
    "$$C^{-1}AC=D \\\\ CC^{-1}AC = CD\\\\ AC = CD $$\n",
    "\n",
    "\n",
    "* Generate $C$ as the columns of $n$ linearly independent vectors $(x_1...x_n)$. We can compute $AC=CD$ as follows:\n",
    "$$ A\\begin{bmatrix} \\vdots  & \\vdots  & \\vdots  & \\vdots  \\\\ \\vdots  & \\vdots  & \\vdots  & \\vdots  \\\\ { x }_{ 1 } & { x }_{ 2 } & \\dots  & { x }_{ n } \\\\ \\vdots  & \\vdots  & \\vdots  & \\vdots  \\end{bmatrix}=AC=CD=\\begin{bmatrix} \\vdots  & \\vdots  & \\vdots  & \\vdots  \\\\ \\vdots  & \\vdots  & \\vdots  & \\vdots  \\\\ { x }_{ 1 } & { x }_{ 2 } & \\dots  & { x }_{ n } \\\\ \\vdots  & \\vdots  & \\vdots  & \\vdots  \\end{bmatrix}\\begin{bmatrix} { \\lambda  }_{ 1 } & 0 & 0 & 0 \\\\ 0 & { \\lambda  }_{ 2 } & 0 & 0 \\\\ \\vdots  & \\vdots  & { \\dots  } & \\vdots  \\\\ 0 & 0 & 0 & { \\lambda  }_{ n } \\end{bmatrix}$$\n",
    "* Then we check the corresponding columns of the both sides. We have \n",
    "$$Ax_1 = \\lambda_1x_1\\\\\\vdots\\\\Ax_n=\\lambda x_n$$\n",
    "\n",
    "* $A$ has $n$ linear independent eigenvectors.\n",
    "\n",
    "* $A$ is said to be *similar* to the diagonal matrix $D$, and the transformation of $A$ into $D$ is called a *similarity transformation*."
   ]
  },
  {
   "cell_type": "markdown",
   "metadata": {},
   "source": [
    "### A simple example\n",
    "\n",
    "Consider the following:\n",
    "$$ A = \\begin{bmatrix}7& -10\\\\3& -4\\end{bmatrix},\\quad C = \\begin{bmatrix}2& 5\\\\1& 3\\end{bmatrix}$$"
   ]
  },
  {
   "cell_type": "markdown",
   "metadata": {},
   "source": [
    "&#9989;  **<font color=red>Do this:</font>** Find the similar matrix $D = C^{-1}AC$ of $A$."
   ]
  },
  {
   "cell_type": "code",
   "execution_count": 2,
   "metadata": {},
   "outputs": [],
   "source": [
    "#Put your answer to the above question here.\n",
    "A = np.matrix([[7,-10],[3,-4]])\n",
    "eigval, eigvec = np.linalg.eig(A)\n",
    "#D = np.matrix([[eigval[0],0],[0,eigval[1]]])\n",
    "C = eigvec\n",
    "C_inv = np.linalg.inv(C)\n",
    "D = C_inv*A*C"
   ]
  },
  {
   "cell_type": "code",
   "execution_count": 3,
   "metadata": {
    "nbgrader": {
     "grade": true,
     "grade_id": "cell-3cdb9915439d45fe",
     "locked": true,
     "points": 5,
     "schema_version": 3,
     "solution": false,
     "task": false
    }
   },
   "outputs": [
    {
     "name": "stdout",
     "output_type": "stream",
     "text": [
      "\n",
      "CheckWarning: Matrix contains negative values for zero...\n",
      "    Converting to positive values of zero using  ```A[A==-0] = 0```.\n",
      "\n",
      "Testing [[2. 0.]\n",
      " [0. 1.]]\n",
      "Answer seems to be correct\n",
      "\n"
     ]
    }
   ],
   "source": [
    "from answercheck import checkanswer\n",
    "\n",
    "checkanswer.matrix(D, '8313fe0f529090d6a8cdb36248cfdd6c');"
   ]
  },
  {
   "cell_type": "markdown",
   "metadata": {},
   "source": [
    "&#9989;  **<font color=red>Do this:</font>** Find the eigenvalues and eigenvectors of $A$. Set variables ```e1``` and ```vec1``` to be the smallest eigenvalue and its associated eigenvector and ```e2, vec2``` to represent the  largest."
   ]
  },
  {
   "cell_type": "code",
   "execution_count": 4,
   "metadata": {},
   "outputs": [
    {
     "name": "stdout",
     "output_type": "stream",
     "text": [
      "[2. 1.]\n",
      "[[0.89442719 0.85749293]\n",
      " [0.4472136  0.51449576]]\n",
      "[[0.85749293]\n",
      " [0.51449576]]\n"
     ]
    }
   ],
   "source": [
    "#Put your answer to the above question here.\n",
    "print(eigval)\n",
    "print(eigvec)\n",
    "e1 = 1\n",
    "e2 = 2\n",
    "vec2 = eigvec[:,0]\n",
    "vec1 = eigvec[:,1]\n",
    "print(vec1)"
   ]
  },
  {
   "cell_type": "code",
   "execution_count": 5,
   "metadata": {
    "nbgrader": {
     "grade": true,
     "grade_id": "cell-f4fda102502f50f9",
     "locked": true,
     "points": 5,
     "schema_version": 3,
     "solution": false,
     "task": false
    }
   },
   "outputs": [
    {
     "name": "stdout",
     "output_type": "stream",
     "text": [
      "\n",
      "CheckWarning: passed variable is <class 'int'> and not a float.\n",
      "    Trying to convert to a float using ```A = float(A)```.\n",
      "\n",
      "Testing 1.0\n",
      "Answer seems to be correct\n",
      "\n"
     ]
    }
   ],
   "source": [
    "from answercheck import checkanswer\n",
    "checkanswer.float(e1, \"e4c2e8edac362acab7123654b9e73432\");"
   ]
  },
  {
   "cell_type": "code",
   "execution_count": 6,
   "metadata": {
    "nbgrader": {
     "grade": true,
     "grade_id": "cell-88300f29b8aec498",
     "locked": true,
     "points": 5,
     "schema_version": 3,
     "solution": false,
     "task": false
    }
   },
   "outputs": [
    {
     "name": "stdout",
     "output_type": "stream",
     "text": [
      "\n",
      "CheckWarning: passed variable is <class 'int'> and not a float.\n",
      "    Trying to convert to a float using ```A = float(A)```.\n",
      "\n",
      "Testing 2.0\n",
      "Answer seems to be correct\n",
      "\n"
     ]
    }
   ],
   "source": [
    "from answercheck import checkanswer\n",
    "checkanswer.float(e2, \"d1bd83a33f1a841ab7fda32449746cc4\");"
   ]
  },
  {
   "cell_type": "code",
   "execution_count": 7,
   "metadata": {
    "nbgrader": {
     "grade": true,
     "grade_id": "cell-f26e2f5a3e41bdd8",
     "locked": true,
     "points": 5,
     "schema_version": 3,
     "solution": false,
     "task": false
    }
   },
   "outputs": [
    {
     "name": "stdout",
     "output_type": "stream",
     "text": [
      "\n",
      "CheckWarning: numpy.matrix is row vector...\n",
      "    Trying to convert to a column vector using ```A = A.T```.\n",
      "\n",
      "\n",
      "CheckWarning: Vector sum of [[0.8575 0.5145]] has total value of 1.000008249965969...\n",
      "    Trying to normalize to unit vector to check answer using\n",
      "    using ```A = A/1.000008249965969```.\n",
      "\n",
      "\n",
      "Testing [[0.8575 0.5145]]\n",
      "Answer seems to be correct\n",
      "\n"
     ]
    }
   ],
   "source": [
    "from answercheck import checkanswer\n",
    "checkanswer.eq_vector(vec1, \"d28f0a721eedb3d5a4c714744883932e\", decimal_accuracy = 4)"
   ]
  },
  {
   "cell_type": "code",
   "execution_count": 8,
   "metadata": {
    "nbgrader": {
     "grade": true,
     "grade_id": "cell-a0ef501c592a3fcc",
     "locked": true,
     "points": 5,
     "schema_version": 3,
     "solution": false,
     "task": false
    }
   },
   "outputs": [
    {
     "name": "stdout",
     "output_type": "stream",
     "text": [
      "\n",
      "CheckWarning: numpy.matrix is row vector...\n",
      "    Trying to convert to a column vector using ```A = A.T```.\n",
      "\n",
      "\n",
      "CheckWarning: Vector sum of [[0.8944 0.4472]] has total value of 0.999969599537906...\n",
      "    Trying to normalize to unit vector to check answer using\n",
      "    using ```A = A/0.999969599537906```.\n",
      "\n",
      "\n",
      "Testing [[0.8944 0.4472]]\n",
      "Answer seems to be correct\n",
      "\n"
     ]
    }
   ],
   "source": [
    "from answercheck import checkanswer\n",
    "checkanswer.eq_vector(vec2, \"09d9df5806bc8ef975074779da1f1023\", decimal_accuracy = 4)"
   ]
  },
  {
   "cell_type": "markdown",
   "metadata": {},
   "source": [
    "**Theorem:** Similar matrices have the same eigenvalues.\n",
    "\n",
    "**Proof:** Assume $B=C^{-1}AC$ is a similar matrix of $A$, and $\\lambda$ is an eigenvalue of $A$ with corresponding eigenvector $x$. That is, $$Ax=\\lambda x$$ \n",
    "Then we have $$B(C^{-1}x) = C^{-1}AC(C^{-1}x) = C^{-1}Ax = C^{-1}(\\lambda x)= \\lambda (C^{-1}x).$$\n",
    "That is $C^{-1}x$ is an eigenvector of $B$ with eigenvalue $\\lambda$.     "
   ]
  },
  {
   "cell_type": "markdown",
   "metadata": {},
   "source": [
    "### A second example\n",
    "\n",
    "&#9989;  **<font color=red>Do this:</font>** Consider \n",
    "$$ A = \\begin{bmatrix}-4& -6\\\\3& 5\\end{bmatrix}.$$\n",
    "Find a matrix $C$ such that $C^{-1}AC$ is diagonal. (Hint, use the function `diagonalize` in `sympy`.)"
   ]
  },
  {
   "cell_type": "code",
   "execution_count": 9,
   "metadata": {},
   "outputs": [
    {
     "data": {
      "text/latex": [
       "$\\displaystyle \\left[\\begin{matrix}-2 & -1\\\\1 & 1\\end{matrix}\\right]$"
      ],
      "text/plain": [
       "⎡-2  -1⎤\n",
       "⎢      ⎥\n",
       "⎣1   1 ⎦"
      ]
     },
     "execution_count": 9,
     "metadata": {},
     "output_type": "execute_result"
    }
   ],
   "source": [
    "#Put your answer to the above question here. \n",
    "A = sym.Matrix([[-4,-6],[3,5]])\n",
    "C = A.diagonalize()\n",
    "C = C[0]\n",
    "C"
   ]
  },
  {
   "cell_type": "code",
   "execution_count": 10,
   "metadata": {
    "nbgrader": {
     "grade": true,
     "grade_id": "cell-d9c7ff4aa895199e",
     "locked": true,
     "points": 5,
     "schema_version": 3,
     "solution": false,
     "task": false
    }
   },
   "outputs": [],
   "source": [
    "#Check the output type\n",
    "assert(type(C)==sym.Matrix)"
   ]
  },
  {
   "cell_type": "code",
   "execution_count": 11,
   "metadata": {
    "nbgrader": {
     "grade": true,
     "grade_id": "cell-2c06b41f80b7a258",
     "locked": true,
     "points": 5,
     "schema_version": 3,
     "solution": false,
     "task": false
    }
   },
   "outputs": [
    {
     "name": "stdout",
     "output_type": "stream",
     "text": [
      "\n",
      "CheckWarning: passed variable is <class 'sympy.matrices.dense.MutableDenseMatrix'> and not a numpy.matrix...\n",
      "    Trying to convert to a array matrix using ```A = np.matrix(A)```.\n",
      "\n",
      "\n",
      "CheckWarning: passed matrix is object and not <class 'numpy.float64'>...\n",
      "    Trying to convert to float using ```A = A.astype(float)```.\n",
      "\n",
      "Testing [[-2. -1.]\n",
      " [ 1.  1.]]\n",
      "Answer seems to be correct\n",
      "\n"
     ]
    }
   ],
   "source": [
    "from answercheck import checkanswer\n",
    "checkanswer.matrix(C,'ba963b7fef354b4a7ddd880ca4bac071')"
   ]
  },
  {
   "cell_type": "markdown",
   "metadata": {},
   "source": [
    "### The third example\n",
    "\n",
    "&#9989;  **<font color=red>Do this:</font>** Consider \n",
    "$$ A = \\begin{bmatrix}5& -3\\\\3& -1\\end{bmatrix}.$$\n",
    "Can we find a matrix $C$ such that $C^{-1}AC$ is diagonal?  (Hint: find eigenvalues and eigenvectors using `sympy`)"
   ]
  },
  {
   "cell_type": "code",
   "execution_count": 12,
   "metadata": {
    "nbgrader": {
     "grade": true,
     "grade_id": "cell-8eb9fd1f4a5a6136",
     "locked": false,
     "points": 0,
     "schema_version": 3,
     "solution": true,
     "task": false
    }
   },
   "outputs": [
    {
     "name": "stdout",
     "output_type": "stream",
     "text": [
      "[[ 2.0000000e+00-2.98023224e-08j -8.8817842e-16-2.98023224e-08j]\n",
      " [-8.8817842e-16+2.98023224e-08j  2.0000000e+00+0.00000000e+00j]]\n"
     ]
    }
   ],
   "source": [
    "#Put your answer to the above question here. \n",
    "A = np.matrix([[5,-3],[3,-1]])\n",
    "eigval, eigvec = np.linalg.eig(A)\n",
    "D = np.matrix([[eigval[0],0],[0,eigval[0]]])\n",
    "C = eigvec\n",
    "C_inv = np.linalg.inv(C)\n",
    "D1 = C_inv*A*C\n",
    "print(D1)"
   ]
  },
  {
   "cell_type": "code",
   "execution_count": 13,
   "metadata": {},
   "outputs": [
    {
     "name": "stdout",
     "output_type": "stream",
     "text": [
      "[[2.+2.58095683e-08j 0.+0.00000000e+00j]\n",
      " [0.+0.00000000e+00j 2.+2.58095683e-08j]]\n"
     ]
    }
   ],
   "source": [
    "print(D)"
   ]
  },
  {
   "cell_type": "code",
   "execution_count": 14,
   "metadata": {},
   "outputs": [
    {
     "data": {
      "text/plain": [
       "False"
      ]
     },
     "execution_count": 14,
     "metadata": {},
     "output_type": "execute_result"
    }
   ],
   "source": [
    "np.allclose(D1,D)"
   ]
  },
  {
   "cell_type": "markdown",
   "metadata": {},
   "source": [
    "We cannot find the C matrix for A"
   ]
  },
  {
   "cell_type": "markdown",
   "metadata": {},
   "source": [
    "### Dimensions of eigenspaces and diagonalization\n",
    "\n",
    "**Definition**: The set of all eigenvectors of an $n\\times n$ matrix corresponding to an eigenvalue $\\lambda$, together with the zero vector, is a subspace of $\\mathbb R^n$. This subspace is called the *eigenspace*.\n",
    "\n",
    "* For the third example, we have that the characteristic equation $(\\lambda-2)^2=0$.\n",
    "* Eigenvalue $\\lambda=2$ has multiplicity 2, but the eigenspace has dimension 1, since we can not find two linearly independent eigenvectors for $\\lambda =2$. \n",
    "\n",
    "> The dimension of an eigenspace of a matrix is less than or equal to the multiplicity of the corresponding eigenvalue as a root of the characteristic equation.\n",
    "\n",
    "> A matrix is diagonalizable if and only if the dimension of every eigenspace is equal to the multiplicity of the corresponding eigenvalue as a root of the characteristic equation."
   ]
  },
  {
   "cell_type": "markdown",
   "metadata": {},
   "source": [
    "### The fourth example\n",
    "\n",
    "&#9989;  **<font color=red>Do this:</font>** Consider \n",
    "$$ A = \\begin{bmatrix}2& -1\\\\1& 2\\end{bmatrix}.$$\n",
    "Can we find a matrix $C$ such that $C^{-1}AC$ is diagonal?"
   ]
  },
  {
   "cell_type": "code",
   "execution_count": 15,
   "metadata": {
    "nbgrader": {
     "grade": true,
     "grade_id": "cell-3bc59d8f51537cae",
     "locked": false,
     "points": 0,
     "schema_version": 3,
     "solution": true,
     "task": false
    }
   },
   "outputs": [
    {
     "name": "stdout",
     "output_type": "stream",
     "text": [
      "[2.+1.j 2.-1.j]\n"
     ]
    },
    {
     "data": {
      "text/latex": [
       "$\\displaystyle \\left[\\begin{matrix}0.707106781186547 & 0.707106781186547\\\\- 0.707106781186547 i & 0.707106781186547 i\\end{matrix}\\right]$"
      ],
      "text/plain": [
       "⎡ 0.707106781186547     0.707106781186547 ⎤\n",
       "⎢                                         ⎥\n",
       "⎣-0.707106781186547⋅ⅈ  0.707106781186547⋅ⅈ⎦"
      ]
     },
     "execution_count": 15,
     "metadata": {},
     "output_type": "execute_result"
    }
   ],
   "source": [
    "#Put your answer to the above question here. \n",
    "A = np.matrix([[2,-1],[1,2]])\n",
    "C = np.linalg.eig(A)[1]\n",
    "print(np.linalg.eig(A)[0])\n",
    "sym.Matrix(C)"
   ]
  },
  {
   "cell_type": "markdown",
   "metadata": {},
   "source": [
    "Yes, we can find the matrix C."
   ]
  },
  {
   "cell_type": "markdown",
   "metadata": {},
   "source": [
    "---\n",
    "\n",
    "<a name=\"The_Power_of_a_Matrix\"></a>\n",
    "## 3. The Power of a Matrix\n",
    "\n",
    "* For a diagonalizable matrix $A$, we have $C^{-1}AC=D$. Then we have \n",
    "$$A = C D C^{-1}$$\n",
    "* We have \n",
    "$$A^2 = C D C^{-1} C D C^{-1} = C D^2 C^{-1}$$\n",
    "$$A^n = C D C^{-1} \\dots C D C^{-1} = C D^n C^{-1}$$\n",
    "* The equality $A^n=C D^n C^{-1}$ holds for all integers $n$ (both positive and negative).\n",
    "* Because the columns of $C$ are eigenvectors, so we can say that the eigenvectors for $A$ and $A^n$ are the same if $A$ is diagonalizable. \n",
    "* If $x$ is an eigenvector of $A$ with the corresponding eigenvalue $\\lambda$, then $x$ is also an eigenvector of $A^n$ with the corresponding eigenvalue $\\lambda^n$."
   ]
  },
  {
   "cell_type": "code",
   "execution_count": 16,
   "metadata": {},
   "outputs": [],
   "source": [
    "# Here are some libraries you may need to use\n",
    "%matplotlib inline\n",
    "import numpy as np\n",
    "import sympy as sym\n",
    "import networkx as nx\n",
    "import matplotlib.pyplot as plt\n",
    "sym.init_printing(use_unicode=True)"
   ]
  },
  {
   "cell_type": "markdown",
   "metadata": {},
   "source": [
    "&#9989;  **<font color=red>Do this:</font>** Consider the matrix \n",
    "$$ A = \\begin{bmatrix}-4& -6\\\\3& 5\\end{bmatrix}$$ from the second example. Calculate $A^{-3}$ and $A^{10}$ in two different ways:\n",
    " * Directly, using `A**n` in Python for the appropriate values of n."
   ]
  },
  {
   "cell_type": "code",
   "execution_count": 17,
   "metadata": {},
   "outputs": [
    {
     "name": "stdout",
     "output_type": "stream",
     "text": [
      "[[-2.125 -2.25 ]\n",
      " [ 1.125  1.25 ]]\n",
      "\n",
      "[[-1022 -2046]\n",
      " [ 1023  2047]]\n"
     ]
    }
   ],
   "source": [
    "#Put your answer to the above question here. \n",
    "A = np.matrix([[-4,-6],[3,5]])\n",
    "A_three = A**(-3)\n",
    "A_ten = A**(10)\n",
    "print(A_three)\n",
    "print()\n",
    "print(A_ten)"
   ]
  },
  {
   "cell_type": "markdown",
   "metadata": {},
   "source": [
    "* By using the matrices $C$ and $D$ (you found them in the worksheet above), which diagonalize $A$."
   ]
  },
  {
   "cell_type": "code",
   "execution_count": 18,
   "metadata": {},
   "outputs": [
    {
     "name": "stdout",
     "output_type": "stream",
     "text": [
      "[[-2.125 -2.25 ]\n",
      " [ 1.125  1.25 ]]\n",
      "\n",
      "[[-1022. -2046.]\n",
      " [ 1023.  2047.]]\n"
     ]
    }
   ],
   "source": [
    "#Put your answer to the above question here. \n",
    "eigval, eigvec = np.linalg.eig(A)\n",
    "C = eigvec\n",
    "D = np.matrix([[eigval[0],0],[0,eigval[1]]])\n",
    "C_inv = np.linalg.inv(C)\n",
    "A_three = C*(D**(-3))*C_inv\n",
    "A_ten = C*(D**(10))*C_inv\n",
    "print(A_three)\n",
    "print()\n",
    "print(A_ten)"
   ]
  },
  {
   "cell_type": "markdown",
   "metadata": {},
   "source": [
    " * Compare the two approaches. Discuss which approach you'd rather take if you were doing things by hand and why."
   ]
  },
  {
   "cell_type": "markdown",
   "metadata": {},
   "source": [
    "By  hand, the second approach is better, because it is much easier."
   ]
  },
  {
   "cell_type": "markdown",
   "metadata": {},
   "source": [
    "----\n",
    "Written by Dr. Dirk Colbry, Michigan State University\n",
    "<a rel=\"license\" href=\"http://creativecommons.org/licenses/by-nc/4.0/\"><img alt=\"Creative Commons License\" style=\"border-width:0\" src=\"https://i.creativecommons.org/l/by-nc/4.0/88x31.png\" /></a><br />This work is licensed under a <a rel=\"license\" href=\"http://creativecommons.org/licenses/by-nc/4.0/\">Creative Commons Attribution-NonCommercial 4.0 International License</a>."
   ]
  },
  {
   "cell_type": "markdown",
   "metadata": {},
   "source": [
    "\n",
    "-----\n",
    "### Congratulations, we're done!\n"
   ]
  },
  {
   "cell_type": "code",
   "execution_count": null,
   "metadata": {},
   "outputs": [],
   "source": []
  }
 ],
 "metadata": {
  "celltoolbar": "Create Assignment",
  "kernelspec": {
   "display_name": "Python 3",
   "language": "python",
   "name": "python3"
  },
  "language_info": {
   "codemirror_mode": {
    "name": "ipython",
    "version": 3
   },
   "file_extension": ".py",
   "mimetype": "text/x-python",
   "name": "python",
   "nbconvert_exporter": "python",
   "pygments_lexer": "ipython3",
   "version": "3.8.8"
  }
 },
 "nbformat": 4,
 "nbformat_minor": 4
}
