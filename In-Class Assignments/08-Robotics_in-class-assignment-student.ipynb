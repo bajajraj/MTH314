{
 "cells": [
  {
   "cell_type": "markdown",
   "metadata": {},
   "source": [
    "In order to successfully complete this assignment we recommend that you participate both individually and in groups during class. **Turn in your assignment using D2L no later than 11:59pm on the day of class.** Grading is based on correctness and completion."
   ]
  },
  {
   "cell_type": "markdown",
   "metadata": {},
   "source": [
    "---"
   ]
  },
  {
   "cell_type": "markdown",
   "metadata": {},
   "source": [
    "# 08 In-Class Assignment: The Kinematics of Robotics\n",
    "\n",
    "<img src=\"https://cdn.pixabay.com/photo/2013/07/13/12/04/android-159109__340.png\" alt=\"Cartoon Robot\" width=20%>\n",
    "\n",
    "Image from: https://pixabay.com/images/search/toy%20robot/\n",
    "\n",
    "Today, we will calculate the forward kinematics of some 3D robots. This means we would like to come up with a set of transformations such that we can know the $x,~y,~z$ coordinates of the end effector with respect to the world coordinate system which is at the base of the robot.  "
   ]
  },
  {
   "cell_type": "markdown",
   "metadata": {},
   "source": [
    "### Agenda for today's class (80 minutes)\n",
    "1. [(20 minutes) Review Pre-Class Assignment](#Review)\n",
    "1. [(30 minutes) Robot Kinematics - Pick and Place](#Pick_and_Place)\n",
    "1. [(30 minutes) Odd_Clock](#Odd_Clock)"
   ]
  },
  {
   "cell_type": "markdown",
   "metadata": {},
   "source": [
    "---\n",
    "\n",
    "<a name=\"Review\"></a>\n",
    "\n",
    "## 1. Review Pre-class Assignment\n",
    "\n",
    "Like most days, your instructor will review and answer questions from your pre-class assignment.  This is your opportunity to ask any lingering questions. \n"
   ]
  },
  {
   "cell_type": "markdown",
   "metadata": {},
   "source": [
    "----\n",
    "<a name=\"Pick_and_Place\"></a>\n",
    "## 2. Pick and Place \n",
    "\n",
    "Consider the robot depicted in the following image. \n",
    "\n",
    "<img alt=\"Picture of a pick-and-place robot (see text)\" src=\"http://cfnewsads.thomasnet.com/images/large/489/489457.jpg\" width=\"50%\">\n",
    "   \n",
    "This style of robot is often called a \"pick-and-place\" robot. \n",
    "It has two motors that rotate around the z-axis to move the end effector in the $(x,y)$-plane; one \"linear actuator\" which moves up-and-down in the $z$-direction; and then finally a third rotating \"wrist\" joint that turns the \"hand\" of the robot.\n",
    "Let's model our robot using the following system diagram:\n",
    "\n",
    "\n",
    "<img alt=\"System diagram of pick-and-place robot\" src=\"https://lh4.googleusercontent.com/z5P5JHOmmn3GzXulvHwtqKeLSeUILEHe_9yndHp33gZ1m2mqblR8nmHgNDDzHq3W38jJBdh-Tg=w740\" width=\"35%\">\n",
    "\n",
    "**NOTE:** The origin for this robot is located at the base of the first \"tower\" and is in-line with the first joint.  The $x$-direction goes from the origin to the right and the $z$-axis goes from the origin upwards. \n",
    "\n",
    "This is a little more tricky than the 2D case where everything was rotating around the axis that projects out of the $(x,y)$ plane.  \n",
    "In 2D we only really worry about one axis of rotation. \n",
    "However in 3D we can rotate around any line. \n",
    "The following are the 3D transformation matrices that combine rotation around the x, y, or z axes with translations:\n",
    "\n",
    "\n",
    "\n",
    "## X-Axis rotation\n",
    "\n",
    "$$ \n",
    "\\left[ \\begin{matrix}\n",
    "    x' \\\\\n",
    "    y' \\\\\n",
    "    z' \\\\\n",
    "    1 \n",
    " \\end{matrix}\n",
    "\\right] \n",
    "=\n",
    "\\left[ \\begin{matrix}\n",
    "    1 & 0 & 0 & dx \\\\\n",
    "    0 & \\cos(q) & -\\sin(q)  & dy \\\\\n",
    "    0 & \\sin(q) & \\cos(q)  & dz \\\\\n",
    "    0 & 0 & 0 & 1\n",
    " \\end{matrix}\n",
    "\\right] \n",
    "\\left[ \\begin{matrix}\n",
    "    x \\\\\n",
    "    y \\\\\n",
    "    z \\\\\n",
    "    1 \n",
    " \\end{matrix}\n",
    "\\right] \n",
    "$$ \n",
    "\n",
    "\n",
    "\n",
    "## Y-Axis rotation\n",
    "\n",
    "$$ \n",
    "\\left[ \\begin{matrix}\n",
    "    x' \\\\\n",
    "    y' \\\\\n",
    "    z' \\\\\n",
    "    1 \n",
    " \\end{matrix}\n",
    "\\right] \n",
    "=\n",
    "\\left[ \\begin{matrix}\n",
    "    \\cos(q) & 0 & \\sin(q) & dx \\\\\n",
    "    0 & 1 & 0 & dy \\\\\n",
    "    -\\sin(q) & 0 & \\cos(q) & dz \\\\\n",
    "    0 & 0 & 0 & 1\n",
    " \\end{matrix}\n",
    "\\right] \n",
    "\\left[ \\begin{matrix}\n",
    "    x \\\\\n",
    "    y \\\\\n",
    "    z \\\\\n",
    "    1 \n",
    " \\end{matrix}\n",
    "\\right] \n",
    "$$ \n",
    "\n",
    "\n",
    "\n",
    "## Z-Axis rotation\n",
    "\n",
    "$$ \n",
    "\\left[ \\begin{matrix}\n",
    "    x' \\\\\n",
    "    y' \\\\\n",
    "    z' \\\\\n",
    "    1 \n",
    " \\end{matrix}\n",
    "\\right] \n",
    "=\n",
    "\\left[ \\begin{matrix}\n",
    "    \\cos(q) & -\\sin(q) & 0 & dx \\\\\n",
    "    \\sin(q) & \\cos(q) & 0 & dy \\\\\n",
    "    0 & 0 & 1 & dz \\\\\n",
    "    0 & 0 & 0 & 1\n",
    " \\end{matrix}\n",
    "\\right] \n",
    "\\left[ \\begin{matrix}\n",
    "    x \\\\\n",
    "    y \\\\\n",
    "    z \\\\\n",
    "    1 \n",
    " \\end{matrix}\n",
    "\\right] \n",
    "$$ "
   ]
  },
  {
   "cell_type": "markdown",
   "metadata": {},
   "source": [
    "### Rotation around an arbitrary axis in $\\mathbb R^3$\n",
    "\n",
    "In fact, in $\\mathbb R^3$ we could rotate a body around an arbitrary line. Such a general rotation can we expressed as a composition of rotations and translations (product of matrices) we've already considered. See this link for details:\n",
    "\n",
    "http://paulbourke.net/geometry/rotate/#:~:text=Rotation%20of%20a%20point%20in%203%20dimensional%20space,the%20rotation%20axis%20passes%20through%20the%20origin%20"
   ]
  },
  {
   "cell_type": "markdown",
   "metadata": {},
   "source": [
    "**<font color=red>Question:</font>** Construct a joint transformation matrix called $J_1$, which represents a coordinate system that is located at the top of the first \"tower\" (robot's shoulder) and moves by rotating around the $z$-axis by $\\theta_1$ degrees. Represent your matrix using ```sympy``` and the provided symbols:"
   ]
  },
  {
   "cell_type": "code",
   "execution_count": 1,
   "metadata": {},
   "outputs": [],
   "source": [
    "# Here are some libraries you may need to use\n",
    "%matplotlib inline\n",
    "import matplotlib.pylab as plt\n",
    "import numpy as np\n",
    "import sympy as sym\n",
    "import math\n",
    "sym.init_printing()"
   ]
  },
  {
   "cell_type": "code",
   "execution_count": 2,
   "metadata": {},
   "outputs": [],
   "source": [
    "#Use the following symbols\n",
    "\n",
    "q1,q2,d4,q4,v1,v2,a1,a2 = sym.symbols('\\Theta_1, \\Theta_2, d_4, \\Theta_4, V_1, V_2,A_1,A_2', negative=False)"
   ]
  },
  {
   "cell_type": "code",
   "execution_count": 3,
   "metadata": {},
   "outputs": [
    {
     "data": {
      "text/latex": [
       "$\\displaystyle \\left[\\begin{matrix}\\cos{\\left(\\Theta_{1} \\right)} & - \\sin{\\left(\\Theta_{1} \\right)} & 0 & 0\\\\\\sin{\\left(\\Theta_{1} \\right)} & \\cos{\\left(\\Theta_{1} \\right)} & 0 & 0\\\\0 & 0 & 1 & V_{1}\\\\0 & 0 & 0 & 1\\end{matrix}\\right]$"
      ],
      "text/plain": [
       "⎡cos(\\Theta₁)  -sin(\\Theta₁)  0  0 ⎤\n",
       "⎢                                  ⎥\n",
       "⎢sin(\\Theta₁)  cos(\\Theta₁)   0  0 ⎥\n",
       "⎢                                  ⎥\n",
       "⎢     0              0        1  V₁⎥\n",
       "⎢                                  ⎥\n",
       "⎣     0              0        0  1 ⎦"
      ]
     },
     "execution_count": 3,
     "metadata": {},
     "output_type": "execute_result"
    }
   ],
   "source": [
    "#put your answer here (small hint: use sym.cos and sym.sin)\n",
    "J1 = sym.Matrix([[sym.cos(q1), -sym.sin(q1), 0, 0],  [sym.sin(q1), sym.cos(q1), 0, 0], [0,0,1, v1],[0,0,0,1]])\n",
    "J1"
   ]
  },
  {
   "cell_type": "markdown",
   "metadata": {},
   "source": [
    "**<font color=red>Question:</font>** Construct a joint transformation matrix called $J_2$, which represents a coordinate system that is located at the \"elbow\" joint between the two rotating arms and rotates with the second arm around the $z$-axis by $\\theta_2$ degrees. Represent your matrix using ```sympy``` and the symbols provided above:"
   ]
  },
  {
   "cell_type": "code",
   "execution_count": 4,
   "metadata": {},
   "outputs": [
    {
     "data": {
      "text/latex": [
       "$\\displaystyle \\left[\\begin{matrix}\\cos{\\left(\\Theta_{2} \\right)} & - \\sin{\\left(\\Theta_{2} \\right)} & 0 & A_{1}\\\\\\sin{\\left(\\Theta_{2} \\right)} & \\cos{\\left(\\Theta_{2} \\right)} & 0 & 0\\\\0 & 0 & 1 & V_{2}\\\\0 & 0 & 0 & 1\\end{matrix}\\right]$"
      ],
      "text/plain": [
       "⎡cos(\\Theta₂)  -sin(\\Theta₂)  0  A₁⎤\n",
       "⎢                                  ⎥\n",
       "⎢sin(\\Theta₂)  cos(\\Theta₂)   0  0 ⎥\n",
       "⎢                                  ⎥\n",
       "⎢     0              0        1  V₂⎥\n",
       "⎢                                  ⎥\n",
       "⎣     0              0        0  1 ⎦"
      ]
     },
     "execution_count": 4,
     "metadata": {},
     "output_type": "execute_result"
    }
   ],
   "source": [
    "#put your answer here\n",
    "#put your answer here (small hint: use sym.cos and sym.sin)\n",
    "J2 = sym.Matrix([[sym.cos(q2), -sym.sin(q2), 0, a1], [sym.sin(q2), sym.cos(q2), 0, 0], [0,0,1, v2],[0,0,0,1]])\n",
    "J2"
   ]
  },
  {
   "cell_type": "markdown",
   "metadata": {},
   "source": [
    "**<font color=red>Question:</font>** Construct a joint transformation matrix called $J_3$, which represents a coordinate translation from the \"elbow\" joint all the way to the horizontal end of the robot arm above the wrist joint.  Note: there is no rotation in this transformation.  Represent your matrix using ```sympy``` and the symbols provided above:"
   ]
  },
  {
   "cell_type": "code",
   "execution_count": 5,
   "metadata": {},
   "outputs": [
    {
     "data": {
      "text/latex": [
       "$\\displaystyle \\left[\\begin{matrix}1 & 0 & 0 & A_{2}\\\\0 & 1 & 0 & 0\\\\0 & 0 & 1 & 0\\\\0 & 0 & 0 & 1\\end{matrix}\\right]$"
      ],
      "text/plain": [
       "⎡1  0  0  A₂⎤\n",
       "⎢           ⎥\n",
       "⎢0  1  0  0 ⎥\n",
       "⎢           ⎥\n",
       "⎢0  0  1  0 ⎥\n",
       "⎢           ⎥\n",
       "⎣0  0  0  1 ⎦"
      ]
     },
     "execution_count": 5,
     "metadata": {},
     "output_type": "execute_result"
    }
   ],
   "source": [
    "#put your answer here\n",
    "J3 = sym.Matrix([[1,0,0,a2],[0,1,0,0],[0,0,1,0],[0,0,0,1]])\n",
    "J3"
   ]
  },
  {
   "cell_type": "markdown",
   "metadata": {},
   "source": [
    "**<font color=red>Question:</font>** Construct a joint transformation matrix called $J_4$, which represents a coordinate system that is located at the tip of the robot's \"hand\" and rotates around the $z$-axis by $\\theta_4$. This one is a little different, the configuration is such that the hand touches the table when $d_4=0$ so the translation component for the matrix in the z axis is $d_4-V_1-V_2$. "
   ]
  },
  {
   "cell_type": "code",
   "execution_count": 6,
   "metadata": {},
   "outputs": [
    {
     "data": {
      "text/latex": [
       "$\\displaystyle \\left[\\begin{matrix}\\cos{\\left(\\Theta_{4} \\right)} & - \\sin{\\left(\\Theta_{4} \\right)} & 0 & 0\\\\\\sin{\\left(2 \\right)} & \\cos{\\left(\\Theta_{4} \\right)} & 0 & 0\\\\0 & 0 & 1 & - V_{1} - V_{2} + d_{4}\\\\0 & 0 & 0 & 1\\end{matrix}\\right]$"
      ],
      "text/plain": [
       "⎡cos(\\Theta₄)  -sin(\\Theta₄)  0        0      ⎤\n",
       "⎢                                             ⎥\n",
       "⎢   sin(2)     cos(\\Theta₄)   0        0      ⎥\n",
       "⎢                                             ⎥\n",
       "⎢     0              0        1  -V₁ - V₂ + d₄⎥\n",
       "⎢                                             ⎥\n",
       "⎣     0              0        0        1      ⎦"
      ]
     },
     "execution_count": 6,
     "metadata": {},
     "output_type": "execute_result"
    }
   ],
   "source": [
    "#put your answer here\n",
    "J4 = sym.Matrix([[sym.cos(q4), -sym.sin(q4), 0, 0], [sym.sin(2), sym.cos(q4), 0, 0], [0,0,1, d4-v1-v2],[0,0,0,1]])\n",
    "J4"
   ]
  },
  {
   "cell_type": "markdown",
   "metadata": {},
   "source": [
    "**<font color=red>Question:</font>** Rewrite the joint transformation matrices $J_1, J_2, J_3, J_4$ as numpy matrices with discrete (instead of symbolic) values.  Plug in your transformations in the code below and use this to simulate the robot:"
   ]
  },
  {
   "cell_type": "code",
   "execution_count": 7,
   "metadata": {},
   "outputs": [
    {
     "data": {
      "application/vnd.jupyter.widget-view+json": {
       "model_id": "c14ea6f31a62489d910788bffcef9a05",
       "version_major": 2,
       "version_minor": 0
      },
      "text/plain": [
       "interactive(children=(IntSlider(value=0, description='theta1', max=180, min=-180), IntSlider(value=0, descript…"
      ]
     },
     "metadata": {},
     "output_type": "display_data"
    }
   ],
   "source": [
    "from ipywidgets import interact\n",
    "from mpl_toolkits.mplot3d import Axes3D\n",
    "\n",
    "def Robot_Simulator(theta1=0,theta2=0,d4=0,theta4=0):\n",
    "\n",
    "    #Convert from degrees to radians\n",
    "    q1 = theta1/180 * math.pi\n",
    "    q2 = theta2/180 * math.pi\n",
    "    q4 = theta4/180 * math.pi\n",
    "\n",
    "    #Define robot geomitry\n",
    "    V1 = 4 \n",
    "    V2 = 0\n",
    "    A1 = 2 \n",
    "    A2 = 2 \n",
    "\n",
    "    #Define your transfomraiton matrices here. \n",
    "    J1 = np.matrix([[np.cos(q1), -np.sin(q1), 0, 0],  [np.sin(q1), np.cos(q1), 0, 0], [0,0,1, V1],[0,0,0,1]])\n",
    "\n",
    "    J2 = np.matrix([[np.cos(q2), -np.sin(q2), 0, A1], [np.sin(q2), np.cos(q2), 0, 0], [0,0,1, V2],[0,0,0,1]])\n",
    "    J3 = np.matrix([[1,0,0,A2],[0,1,0,0],[0,0,1,0],[0,0,0,1]])\n",
    "\n",
    "    J4 = np.matrix([[np.cos(q2), -np.sin(q2), 0, 0], [np.sin(q2), np.cos(q2), 0, 0], [0,0,1, d4-V1-V2],[0,0,0,1]])\n",
    "\n",
    "\n",
    "    \n",
    "    #Make the rigid end effector\n",
    "    p = np.matrix([[-0.5,0,0, 1], [-0.5,0,0.5,1], [0.5,0,0.5, 1], [0.5,0,0,1],[0.5,0,0.5, 1], [0,0,0.5,1], [0,0,V1+V2,1]]).T\n",
    "    \n",
    "    #Propogate and add joint points though the simulation\n",
    "    p = np.concatenate((J4*p, np.matrix([0,0,0,1]).T), axis=1 )\n",
    "    p = np.concatenate((J3*p, np.matrix([0,0,0,1]).T), axis=1 )\n",
    "    p = np.concatenate((J2*p, np.matrix([0,0,0,1]).T), axis=1 )\n",
    "    p = np.concatenate((J1*p, np.matrix([0,0,0,1]).T), axis=1 )\n",
    "        \n",
    "    fig = plt.figure()\n",
    "    ax = fig.add_subplot(111, projection='3d')\n",
    "\n",
    "    ax.scatter(p[0,:].tolist()[0],(p[1,:]).tolist()[0], (p[2,:]).tolist()[0], s=20, facecolors='blue', edgecolors='r')\n",
    "    ax.scatter(0,0,0, s=20, facecolors='r', edgecolors='r')\n",
    "    ax.plot(p[0,:].tolist()[0],(p[1,:]).tolist()[0], (p[2,:]).tolist()[0])\n",
    "    ax.set_xlim([-5,5])\n",
    "    ax.set_ylim([-5,5])\n",
    "    ax.set_zlim([0,6])\n",
    "    ax.set_xlabel('x-axis')\n",
    "    ax.set_ylabel('y-axis')    \n",
    "    ax.set_zlabel('z-axis') \n",
    "\n",
    "    plt.show()\n",
    "    \n",
    "target = interact(Robot_Simulator, theta1=(-180,180), theta2=(-180,180), d4=(0,6), theta4=(-180,180)); ##TODO: Modify this line of code"
   ]
  },
  {
   "cell_type": "markdown",
   "metadata": {},
   "source": [
    "&#9989; **<font color=red>Question:</font>** Can we change the order of the transformation matrices? Why? You can try and see what happens."
   ]
  },
  {
   "cell_type": "markdown",
   "metadata": {},
   "source": [
    "**Yes, we can change the order of the matrix, but the robot hand working will change**"
   ]
  },
  {
   "cell_type": "markdown",
   "metadata": {},
   "source": [
    "----\n",
    "<a name=\"Odd_Clock\"></a>\n",
    "## 3. Odd Clock \n",
    "\n",
    "Consider the clock depicted in the following image. \n",
    "\n",
    "<img alt=\"Picture of an 'odd clock' with the minute hand attached to the end of the hour hand\" src=\"https://hackaday.com/wp-content/uploads/2015/05/hihclock.jpg\" width=80%>\n",
    "\n",
    "from: [Hackaday](https://hackaday.com/2015/05/26/odd-clock-moves-minute-hand-to-hour-hand/)\n",
    "\n",
    "\n",
    "Instead of a standard clock--which has independent hour and minute hands--this clock connects the minute hand at the end of the hour hand. Here is a video showing the sped-up clock motion: "
   ]
  },
  {
   "cell_type": "code",
   "execution_count": 8,
   "metadata": {},
   "outputs": [
    {
     "data": {
      "image/jpeg": "[encoded data removed]",
      "text/html": [
       "\n",
       "        <iframe\n",
       "            width=\"640\"\n",
       "            height=\"360\"\n",
       "            src=\"https://www.youtube.com/embed/bowLiSlm_gA?mute=1\"\n",
       "            frameborder=\"0\"\n",
       "            allowfullscreen\n",
       "        ></iframe>\n",
       "        "
      ],
      "text/plain": [
       "<IPython.lib.display.YouTubeVideo at 0x7fa02778ab50>"
      ]
     },
     "execution_count": 8,
     "metadata": {},
     "output_type": "execute_result"
    }
   ],
   "source": [
    "from IPython.display import YouTubeVideo\n",
    "YouTubeVideo(\"bowLiSlm_gA\",width=640,height=360, mute=1)"
   ]
  },
  {
   "cell_type": "markdown",
   "metadata": {},
   "source": [
    "The following code is an animated traditional clock which uses the function as a trick to animate things in jupyter:"
   ]
  },
  {
   "cell_type": "code",
   "execution_count": 9,
   "metadata": {},
   "outputs": [],
   "source": [
    "%matplotlib inline\n",
    "import matplotlib.pylab as plt\n",
    "from IPython.display import display, clear_output\n",
    "import time\n",
    "def show_animation(delay=0.01):\n",
    "    fig = plt.gcf();\n",
    "    time.sleep(delay)       # Sleep for half a second to slow down the animation\n",
    "    clear_output(wait=True) # Clear output for dynamic display\n",
    "    display(fig)            # Reset display\n",
    "    fig.clear()             # Prevent overlapping and layered plots"
   ]
  },
  {
   "cell_type": "markdown",
   "metadata": {},
   "source": [
    "Lets see a standard analog clock run at high speed"
   ]
  },
  {
   "cell_type": "code",
   "execution_count": 10,
   "metadata": {},
   "outputs": [],
   "source": [
    "import numpy as np\n",
    "'''\n",
    "Analog clock plotter with time input as seconds\n",
    "'''\n",
    "def analog_clock(tm=0):\n",
    "\n",
    "    #Convert from time to radians\n",
    "    a_minutes = -tm/(60*60) * np.pi * 2\n",
    "    a_hours = -tm/(60*60*12) * np.pi * 2\n",
    "\n",
    "    #Define clock hand sizees\n",
    "    d_minutes = 4\n",
    "    d_hours = 3 \n",
    "    arrow_width=0.5\n",
    "    arrow_length=1\n",
    "\n",
    "    # Set up figure\n",
    "    fig = plt.gcf()\n",
    "    ax = fig.gca();\n",
    "    ax.set_xlim([-15,15]);\n",
    "    ax.set_ylim([-10,10]);\n",
    "    ax.scatter(0,0, s=15000, color=\"navy\"); #Background Circle\n",
    "    plt.axis('off');\n",
    "        \n",
    "    # Calculation Minute hand transformation matrix\n",
    "    J2 = np.matrix([[np.cos(a_minutes), -np.sin(a_minutes)], \n",
    "                    [np.sin(a_minutes), np.cos(a_minutes)]] )\n",
    "    pm = np.matrix([[0,d_minutes], [-arrow_width,d_minutes], [0,arrow_length+d_minutes], [arrow_width,d_minutes], [0,d_minutes]] ).T;\n",
    "    pm = np.concatenate((J2*pm, np.matrix([0,0]).T), axis=1 );\n",
    "    ax.plot(pm[0,:].tolist()[0],(pm[1,:]).tolist()[0], color='cyan', linewidth=2);\n",
    "\n",
    "    # Calculation Hour hand transformation matrix    \n",
    "    J1 = np.matrix([[np.cos(a_hours), -np.sin(a_hours)], \n",
    "                    [np.sin(a_hours), np.cos(a_hours)]] )\n",
    "    ph = np.matrix([[0,d_hours], [0,d_hours], [-arrow_width,d_hours], [0,arrow_length+d_hours], [arrow_width,d_hours], [0,d_hours]]).T;\n",
    "    ph = np.concatenate((J1*ph, np.matrix([0,0]).T), axis=1 );\n",
    "    ax.plot(ph[0,:].tolist()[0],(ph[1,:]).tolist()[0], color='yellow', linewidth=2);"
   ]
  },
  {
   "cell_type": "code",
   "execution_count": 11,
   "metadata": {},
   "outputs": [
    {
     "data": {
      "image/png": "[encoded data removed]",
      "text/plain": [
       "<Figure size 432x288 with 1 Axes>"
      ]
     },
     "metadata": {},
     "output_type": "display_data"
    },
    {
     "data": {
      "text/plain": [
       "<Figure size 432x288 with 0 Axes>"
      ]
     },
     "metadata": {},
     "output_type": "display_data"
    }
   ],
   "source": [
    "#Run the clock for about 5 hours at 100 times speed so we can see the hands move\n",
    "for tm in range(0,60*60*5, 100):\n",
    "    analog_clock(tm);\n",
    "    show_animation();"
   ]
  },
  {
   "cell_type": "markdown",
   "metadata": {},
   "source": [
    "For the following few questions, consider the transformation matrix $J_1$ redefined below with an angle of 5 hours out of 12. "
   ]
  },
  {
   "cell_type": "code",
   "execution_count": 12,
   "metadata": {},
   "outputs": [
    {
     "data": {
      "text/latex": [
       "$\\displaystyle \\left[\\begin{matrix}-0.866025403784439 & -0.5\\\\0.5 & -0.866025403784439\\end{matrix}\\right]$"
      ],
      "text/plain": [
       "⎡-0.866025403784439         -0.5       ⎤\n",
       "⎢                                      ⎥\n",
       "⎣       0.5          -0.866025403784439⎦"
      ]
     },
     "execution_count": 12,
     "metadata": {},
     "output_type": "execute_result"
    }
   ],
   "source": [
    "import sympy as sym\n",
    "import numpy as np\n",
    "sym.init_printing(use_unicode=True)\n",
    "\n",
    "a_hours = 5/12 * 2 * np.pi\n",
    "J1 = np.matrix([[np.cos(a_hours), -np.sin(a_hours)], \n",
    "                [np.sin(a_hours), np.cos(a_hours)]] )\n",
    "\n",
    "sym.Matrix(J1)"
   ]
  },
  {
   "cell_type": "markdown",
   "metadata": {},
   "source": [
    "&#9989; **<font color=red>Question:</font>**  Using code, show that the transpose of $J_1$ is also the inverse of $J_1$, then explain how the code demonstrates the answer. "
   ]
  },
  {
   "cell_type": "code",
   "execution_count": 13,
   "metadata": {},
   "outputs": [
    {
     "data": {
      "text/latex": [
       "$\\displaystyle \\left[\\begin{matrix}1.0 & 0.0\\\\0.0 & 1.0\\end{matrix}\\right]$"
      ],
      "text/plain": [
       "⎡1.0  0.0⎤\n",
       "⎢        ⎥\n",
       "⎣0.0  1.0⎦"
      ]
     },
     "execution_count": 13,
     "metadata": {},
     "output_type": "execute_result"
    }
   ],
   "source": [
    "#Put your answer here\n",
    "T = J1.T\n",
    "I = J1 * T\n",
    "sym.Matrix(I)"
   ]
  },
  {
   "cell_type": "markdown",
   "metadata": {},
   "source": [
    "**We know that the multiplication of the original matrix and the inverse matrix gives us the identity matrix. Here, transpose satisfies this condition for the transpose matrix.**\n",
    "\n",
    "**The transpose of rotation matrix, translation and reflection always gives us an inverse matrix **"
   ]
  },
  {
   "cell_type": "markdown",
   "metadata": {},
   "source": [
    "&#9989; **<font color=red>Question:</font>**  Given the trigonometric identity $\\cos^2(\\theta) + \\sin^2(\\theta) = 1$, prove by construction--using either Python or $\\LaTeX$/```Markdown``` or ```sympy``` (if you are feeling adventurous)--that the transpose of the $J_1$ matrix is also the inverse for ANY angle ```a_hours``` $\\in [0, 2\\pi]$. *Note: You may want to work this out on paper with your group, and then type up the proof on your own after class.*"
   ]
  },
  {
   "cell_type": "markdown",
   "metadata": {},
   "source": [
    "**If we multiply my Transpose and J1, we get an inverse matrix. It is because when we will multiply, we would have $sin^2x + cos^2x$ which is equal to 1 and it will give me an inverse matrix**"
   ]
  },
  {
   "cell_type": "markdown",
   "metadata": {},
   "source": [
    "Now consider the following code which attempts to connect the hands on the clock together to make the Odd Clock shown in the video above."
   ]
  },
  {
   "cell_type": "code",
   "execution_count": 14,
   "metadata": {},
   "outputs": [],
   "source": [
    "%matplotlib inline\n",
    "import matplotlib.pylab as plt\n",
    "from IPython.display import display, clear_output\n",
    "import time\n",
    "def show_animation(delay=0.01):\n",
    "    fig = plt.gcf();\n",
    "    time.sleep(delay)       # Sleep for half a second to slow down the animation\n",
    "    clear_output(wait=True) # Clear output for dynamic display\n",
    "    display(fig)            # Reset display\n",
    "    fig.clear()             # Prevent overlapping and layered plots"
   ]
  },
  {
   "cell_type": "code",
   "execution_count": 15,
   "metadata": {},
   "outputs": [],
   "source": [
    "import numpy as np\n",
    "\n",
    "def odd_clock(tm=0):\n",
    "\n",
    "    #Convert from time to radians\n",
    "    #a_seconds = -tm/60 * np.pi * 2\n",
    "    a_minutes = -tm/(60*60) * np.pi * 2\n",
    "    a_hours = -tm/(60*60*12) * np.pi * 2\n",
    "\n",
    "    #Define robot geomitry\n",
    "    #d_seconds = 2.5  \n",
    "    d_minutes = 2\n",
    "    d_hours = 1.5 \n",
    "    arrow_width=0.5\n",
    "    arrow_length=1\n",
    "\n",
    "    # Set up figure\n",
    "    fig = plt.gcf()\n",
    "    ax = fig.gca();\n",
    "    ax.set_xlim([-15,15]);\n",
    "    ax.set_ylim([-10,10]);\n",
    "    plt.axis('off');\n",
    "    \n",
    "    #Define the arrow at the end of the last hand \n",
    "    #p = np.matrix([[0,d_minutes,1], [0,0,1]]).T\n",
    "    p = np.matrix([[0,d_minutes,1], [-arrow_width,d_minutes,1], [0,arrow_length+d_minutes,1], \n",
    "                   [arrow_width,d_minutes,1 ], [0,d_minutes,1 ], [0,0,1]] ).T;\n",
    "    \n",
    "    # Calculation Second hand transformation matrix     \n",
    "    J2 = np.matrix([[np.cos(a_minutes), -np.sin(a_minutes), 0 ], \n",
    "                    [np.sin(a_minutes), np.cos(a_minutes), d_hours ], \n",
    "                    [0, 0, 1]])\n",
    "    p = np.concatenate((J2*p, np.matrix([0,0,1]).T), axis=1 )\n",
    "    \n",
    "    J1 = np.matrix([[np.cos(a_hours), -np.sin(a_hours), 0 ], \n",
    "                    [np.sin(a_hours), np.cos(a_hours), 0 ], \n",
    "                    [0, 0, 1]])\n",
    "    p = np.concatenate((J1*p, np.matrix([0,0,1]).T), axis=1 )\n",
    "\n",
    "    ax.scatter(0,0, s=20, facecolors='r', edgecolors='r')\n",
    "    ax.plot(p[0,:].tolist()[0],(p[1,:]).tolist()[0])\n"
   ]
  },
  {
   "cell_type": "code",
   "execution_count": 16,
   "metadata": {},
   "outputs": [
    {
     "data": {
      "image/png": "[encoded data removed]",
      "text/plain": [
       "<Figure size 432x288 with 1 Axes>"
      ]
     },
     "metadata": {},
     "output_type": "display_data"
    },
    {
     "data": {
      "text/plain": [
       "<Figure size 432x288 with 0 Axes>"
      ]
     },
     "metadata": {},
     "output_type": "display_data"
    }
   ],
   "source": [
    "#Run the clock for about 5 hours at 100 times speed so we can see the hands move\n",
    "for tm in range(0,60*60*5, 100):\n",
    "    odd_clock(tm);\n",
    "    show_animation();"
   ]
  },
  {
   "cell_type": "markdown",
   "metadata": {},
   "source": [
    "&#9989; **<font color=red>Question:</font>** Using the given point ($p$) written in \"minutes\" coordinates (**on line 26 of the above code**) and the above transformation matrices ($J_1,J_2$), write down the equation to transform $p$ into world coordinates $p_w$."
   ]
  },
  {
   "cell_type": "markdown",
   "metadata": {},
   "source": [
    "**$p_w = J_1*J_2 * p $**"
   ]
  },
  {
   "cell_type": "markdown",
   "metadata": {},
   "source": [
    "&#9989; **<font color=red>Question:</font>** Notice the above ```odd_clock``` function has variables ```d_seconds``` and ```a_seconds``` commented out.  Use these variables and modify the above code to add a \"seconds\" hand on the tip of the minute hand such that the seconds hand moves around the minute hand just like the minute hand moves around the hour hand. If you have trouble, use the following cell to explain your thought process and where you are getting stuck."
   ]
  },
  {
   "cell_type": "markdown",
   "metadata": {},
   "source": [
    "**Honestly, I am not able to do it.**"
   ]
  },
  {
   "cell_type": "markdown",
   "metadata": {},
   "source": [
    "----\n",
    "\n",
    "Written by Dr. Dirk Colbry, Michigan State University\n",
    "<a rel=\"license\" href=\"http://creativecommons.org/licenses/by-nc/4.0/\"><img alt=\"Creative Commons License\" style=\"border-width:0\" src=\"https://i.creativecommons.org/l/by-nc/4.0/88x31.png\" /></a><br />This work is licensed under a <a rel=\"license\" href=\"http://creativecommons.org/licenses/by-nc/4.0/\">Creative Commons Attribution-NonCommercial 4.0 International License</a>."
   ]
  },
  {
   "cell_type": "markdown",
   "metadata": {},
   "source": [
    "-----\n",
    "### Congratulations, we're done!\n"
   ]
  }
 ],
 "metadata": {
  "kernelspec": {
   "display_name": "Python 3",
   "language": "python",
   "name": "python3"
  },
  "language_info": {
   "codemirror_mode": {
    "name": "ipython",
    "version": 3
   },
   "file_extension": ".py",
   "mimetype": "text/x-python",
   "name": "python",
   "nbconvert_exporter": "python",
   "pygments_lexer": "ipython3",
   "version": "3.8.8"
  }
 },
 "nbformat": 4,
 "nbformat_minor": 4
}
