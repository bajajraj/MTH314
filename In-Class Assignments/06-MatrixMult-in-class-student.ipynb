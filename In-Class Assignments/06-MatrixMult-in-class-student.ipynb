{
 "cells": [
  {
   "cell_type": "markdown",
   "metadata": {},
   "source": [
    "In order to successfully complete this assignment we recommend that you participate both individually and in groups during class. **Turn in your assignment using D2L no later than 11:59pm on the day of class.** Grading is based on correctness and completion.\n",
    "\n",
    "---"
   ]
  },
  {
   "cell_type": "markdown",
   "metadata": {},
   "source": [
    "# 06 In-Class Assignment: Matrix Multiply\n",
    "\n",
    "<img src=\"https://www.mathsisfun.com/algebra/images/matrix-multiply-a.svg\" alt=\"Image showing how matrix multiply works.  There is a 2 by 3 matrix multiplied by a 3 by 2 matrix to get a 2 by 2 matrix.  The first row in the first matrix is highlighted and the first column of the second matrix is highlighted. The words 'Dot Product' are pointing to the highlighted row and column and the single value output is shown in as the only element in the upper left of the 2 by 2 result.  Basically the image is showing that the row [1,2,3] dotted with the column [7,9,11] results in the single output of 58.\">\n",
    "\n",
    "Image from: [www.mathsisfun.com](https://www.mathsisfun.com/algebra/matrix-multiplying.html)"
   ]
  },
  {
   "cell_type": "markdown",
   "metadata": {},
   "source": [
    "### Agenda for today's class (80 minutes)\n",
    "\n",
    "1. (20 minutes) [Review of Pre class assignment](#Review-of-Pre-class-assignment)\n",
    "2. (30 minutes) [Systems of Linear Equations with Many Solutions](#Systems-of-Linear-Equations-with-Many-Solutions)\n",
    "3. (30 minutes) [Matrix Multiply](#Matrix-Multiply)\n"
   ]
  },
  {
   "cell_type": "markdown",
   "metadata": {},
   "source": [
    "---\n",
    "<a name=Review-of-Pre-class-assignment></a>\n",
    "## 1. Review of Pre class assignment\n",
    "\n"
   ]
  },
  {
   "cell_type": "markdown",
   "metadata": {},
   "source": [
    "\n",
    "---\n",
    "<a name=Systems-of-Linear-Equations-with-Many-Solutions></a>\n",
    "## 2. Systems of Linear Equations with Many Solutions\n",
    "\n",
    "\n",
    "\n",
    "\n",
    "When we solve a system of equations of the form $Ax=b$, we mentioned that we may have three outcomes: \n",
    "\n",
    "- a unique solution\n",
    "- no solution \n",
    "- infinitely many solutions\n",
    "\n",
    "Assume that we have $m$ equations and $n$ unkowns. \n",
    "\n",
    "- **Case 1** $m < n$, we do not have enough equations, there will be only **TWO** outcomes: no solution, or infinitely many solutions. \n",
    "\n",
    "- **Case 2** $m = n$, we may have all **THREE** outcomes. If the determinant is nonzero, we have a unique solution, otherwise, we have to decide the outcome based on the augmented matrix. \n",
    "\n",
    "- **Case 3** $m>n$, we have more equations than the number of unknowns. That means there will be redundant equations (we can remove them) or conflict equations (no solution). We may have all **THREE** outcomes. \n",
    "\n"
   ]
  },
  {
   "cell_type": "markdown",
   "metadata": {},
   "source": [
    "We talked about several methods for solving the system of equations. The most general one is the Gauss-Jordan or Gaussian elimination, which works for all three cases. Note that Jacobi method can not work on Case 1 and Case 3. \n",
    "\n",
    "We will focus on the Gaussian elimination.  After the Gaussian elimiation, we look at the last several rows (could be zero) with all zeros except the last column. \n",
    "\n",
    "If one element from the corresponding right hand side is not zero, we have that $0$ equals some nonzero number, which is impossible. Therefore, there is no solution. E.g., \n",
    "\n",
    "$$\\left[\n",
    "\\begin{matrix}\n",
    "    1 & 0 & 0  \\\\\n",
    "    0 & 1 & 0  \\\\\n",
    "    0 & 0 & 1  \\\\\n",
    "    0 & 0 & 0\n",
    " \\end{matrix}\n",
    " \\, \\middle\\vert \\,\n",
    "\\begin{matrix}\n",
    "2 \\\\ 3 \\\\ 4 \\\\ 5\n",
    "\\end{matrix}\n",
    "\\right] \n",
    "$$\n",
    "In this case, we say that the system is *inconsistent*. Later in the semester we will look into methods that try to find a \"good enough\" solution for an inconsistant system (regression). \n",
    "\n",
    "Otherwise, we remove all the rows with all zeros (which is the same as removing redundant equations). \n",
    "If the number of remaining equations is the same as the number of unknowns, the rref is an identity matrix, and we have unique solution. E.g.,\n",
    "$$\\left[\n",
    "\\begin{matrix}\n",
    "    1 & 0 & 0  \\\\\n",
    "    0 & 1 & 0  \\\\\n",
    "    0 & 0 & 1  \\\\\n",
    "    0 & 0 & 0\n",
    " \\end{matrix}\n",
    " \\, \\middle\\vert \\,\n",
    "\\begin{matrix}\n",
    "2 \\\\ 3 \\\\ 4 \\\\ 0\n",
    "\\end{matrix}\n",
    "\\right] \n",
    " \\Rightarrow \\left[\n",
    "\\begin{matrix}\n",
    "    1 & 0 & 0  \\\\\n",
    "    0 & 1 & 0  \\\\\n",
    "    0 & 0 & 1  \\\\\n",
    " \\end{matrix}\n",
    " \\, \\middle\\vert \\,\n",
    "\\begin{matrix}\n",
    "2 \\\\ 3 \\\\ 4 \n",
    "\\end{matrix}\n",
    "\\right] $$"
   ]
  },
  {
   "cell_type": "markdown",
   "metadata": {},
   "source": [
    "If the number of remaining equations is less than the number of unknowns, we have infinitely many solutions. Consider the following three examples:\n",
    "\n",
    "$$\\left[\n",
    "\\begin{matrix}\n",
    "    1 & 0 & 0  \\\\\n",
    "    0 & 1 & 0  \\\\\n",
    "    0 & 0 & 0\n",
    " \\end{matrix}\n",
    " \\, \\middle\\vert \\,\n",
    "\\begin{matrix}\n",
    "2 \\\\ 3  \\\\ 0\n",
    "\\end{matrix}\n",
    "\\right] \n",
    " \\Rightarrow \\left[\n",
    "\\begin{matrix}\n",
    "    1 & 0 & 0  \\\\\n",
    "    0 & 1 & 0  \\\\\n",
    " \\end{matrix}\n",
    " \\, \\middle\\vert \\,\n",
    "\\begin{matrix}\n",
    "2 \\\\ 3  \n",
    "\\end{matrix}\n",
    "\\right] \\Rightarrow x= [2, 3, x_3]^\\top $$\n",
    "where $x_3$ is a free variable.\n",
    "\n",
    "$$\\left[\n",
    "\\begin{matrix}\n",
    "    1 & 2 & 0  \\\\\n",
    "    0 & 0 & 1  \\\\\n",
    "    0 & 0 & 0\n",
    " \\end{matrix}\n",
    " \\, \\middle\\vert \\,\n",
    "\\begin{matrix}\n",
    "2 \\\\ 3  \\\\ 0\n",
    "\\end{matrix}\n",
    "\\right] \n",
    " \\Rightarrow \\left[\n",
    "\\begin{matrix}\n",
    "    1 & 2 & 0  \\\\\n",
    "    0 & 0 & 1  \\\\\n",
    " \\end{matrix}\n",
    " \\, \\middle\\vert \\,\n",
    "\\begin{matrix}\n",
    "2 \\\\ 3  \n",
    "\\end{matrix}\n",
    "\\right]  \\Rightarrow x= [2-2x_2, x_2, 3]$$\n",
    "where $x_2$ is a free variable.\n",
    "\n",
    "$$\\left[\n",
    "\\begin{matrix}\n",
    "    1 & 2 & 0 & 1 \\\\\n",
    "    0 & 0 & 1 & 3 \\\\\n",
    "    0 & 0 & 0 & 0\n",
    " \\end{matrix}\n",
    " \\, \\middle\\vert \\,\n",
    "\\begin{matrix}\n",
    "2 \\\\ 5  \\\\ 0\n",
    "\\end{matrix}\n",
    "\\right] \n",
    " \\Rightarrow \\left[\n",
    "\\begin{matrix}\n",
    "    1 & 2 & 0 & 1 \\\\\n",
    "    0 & 0 & 1 & 3 \\\\\n",
    " \\end{matrix}\n",
    " \\, \\middle\\vert \\,\n",
    "\\begin{matrix}\n",
    "2 \\\\ 5 \n",
    "\\end{matrix}\n",
    "\\right]  \\Rightarrow x= [2-2x_2-x_4, x_2, 5-3x_4, x_4]$$\n",
    "where $x_2$ and $x_4$ are free variables."
   ]
  },
  {
   "cell_type": "markdown",
   "metadata": {},
   "source": [
    "&#9989; **<font color=red>QUESTION:</font>**  Assume that the system is consistent, explain why the number of equations can not be larger than the number of unknowns after the redundant equations are removed? "
   ]
  },
  {
   "cell_type": "markdown",
   "metadata": {},
   "source": [
    "**We cannot have equations larger than the number of unkowns because if the reduntant equations are removed, the left equations are needed to be solved and in any case the equations are based in such a way that they would be equal to the number of varibales removing the reduntant equations.**"
   ]
  },
  {
   "cell_type": "markdown",
   "metadata": {},
   "source": [
    "&#9989; **<font color=red>DO THIS:</font>** If there are two solutions for $Ax=b$, that is $Ax=b$ and $Ax'=b$ while $x\\neq x'$. Check that $A(cx+(1-c)x') = b$ for any real number $c$. Therefore, if we have two different solutions, we have infinitely many solutions."
   ]
  },
  {
   "cell_type": "markdown",
   "metadata": {},
   "source": [
    "**Solving : $A(cx+(1-c)x')$**\n",
    "\n",
    "$Acx + Ax' - Acx'$\n",
    "\n",
    "We know that $Ax'$ and $Ax$ is equal to $b$\n",
    "\n",
    "$cb + b - cb$\n",
    "\n",
    "$cb$ and $cb$ gets cancelled out\n",
    "Therefore, $-> A(cx+(1-c)x') = b$"
   ]
  },
  {
   "cell_type": "markdown",
   "metadata": {},
   "source": [
    "If $Ax=b$ and $Ax'=b$, then we have $A(x-x')=0$. If $x$ is a **particular** solution to $Ax=b$, then all the solutions to $Ax=b$ are $\\{x+v: v \\mbox{ is a solution to the homogeneous system } Av=0\\}$. \n",
    "\n",
    "Let a given solution  $x$ of $Ax=b$ be in $\\mathbb R^n$. **The set of solutions for $Av=0$ forms a subspace of $\\mathbb R^n$,** in other words, if $Av=0$ and $Av'=0$, then $A(v+v')=0$ (closure under addition) and if $Av=0$ and $c$ is any scalar, then $A(cv)=0$, i.e. $cv$ is also a solution to the homogeneous system (closure under scalar multiplication). "
   ]
  },
  {
   "cell_type": "markdown",
   "metadata": {},
   "source": [
    "After removing the redundant rows, if the number of equations is the same as the number of unknowns, we have a unique solution. If the difference between the number of equations and the number of unknowns is 1, all the solutions lie on a line. If the difference is 2, all the solutions lie on a 2-D plane.  "
   ]
  },
  {
   "cell_type": "markdown",
   "metadata": {},
   "source": [
    "&#9989; **<font color=red>QUESTION:</font>**  What is the solution to the following set of linear equations in augmented matrix form?\n",
    "\n",
    "$$A = \n",
    "\\left[\n",
    "\\begin{matrix}\n",
    "    -2 & 4 & 8  \\\\\n",
    "    1 & -2 & 4  \\\\\n",
    "    4 & -8 & 16 \n",
    " \\end{matrix}\n",
    " \\, \\middle\\vert \\,\n",
    "\\begin{matrix}\n",
    "0 \\\\ 0 \\\\ 0\n",
    "\\end{matrix}\n",
    "\\right] \n",
    "$$"
   ]
  },
  {
   "cell_type": "code",
   "execution_count": 1,
   "metadata": {},
   "outputs": [
    {
     "data": {
      "text/latex": [
       "$\\displaystyle \\left[\\begin{matrix}1 & -2 & 0 & 0\\\\0 & 0 & 1 & 0\\\\0 & 0 & 0 & 0\\end{matrix}\\right]$"
      ],
      "text/plain": [
       "Matrix([\n",
       "[1, -2, 0, 0],\n",
       "[0,  0, 1, 0],\n",
       "[0,  0, 0, 0]])"
      ]
     },
     "execution_count": 1,
     "metadata": {},
     "output_type": "execute_result"
    }
   ],
   "source": [
    "import numpy as np\n",
    "import sympy as sym\n",
    "A = np.matrix([[-2,4,8,0],[1,-2,4,0],[4,-8,16,0]])\n",
    "RREF = sym.Matrix(A).rref()[0]\n",
    "RREF"
   ]
  },
  {
   "cell_type": "markdown",
   "metadata": {},
   "source": [
    "$$x1 = 2x2$$\n",
    "$$x2 = free$$\n",
    "$$x3 = 0$$"
   ]
  },
  {
   "cell_type": "markdown",
   "metadata": {},
   "source": [
    "\n",
    "---\n",
    "<a name=Matrix-Multiply></a>\n",
    "## 3. Matrix Multiply\n",
    "\n",
    "\n",
    "\n",
    "&#9989; **<font color=red>DO THIS:</font>** Write your own matrix multiplication function using the template below and compare it to the built-in matrix multiplication that can be found in ```numpy```. Your function should take two \"lists of lists\" as inputs and return the result as a third list of lists.  "
   ]
  },
  {
   "cell_type": "code",
   "execution_count": 2,
   "metadata": {},
   "outputs": [],
   "source": [
    "#some libraries (maybe not all) you will need in this notebook\n",
    "%matplotlib inline\n",
    "import matplotlib.pyplot as plt\n",
    "import numpy as np\n",
    "import sympy as sym\n",
    "sym.init_printing(use_unicode=True)\n",
    "\n",
    "import random\n",
    "import time"
   ]
  },
  {
   "cell_type": "code",
   "execution_count": 3,
   "metadata": {},
   "outputs": [],
   "source": [
    "def multiply(m1,m2):\n",
    "    #first matrix is nxd in size\n",
    "    #second matrix is dxm in size\n",
    "    n = len(m1) \n",
    "    d = len(m2)\n",
    "    m = len(m2[0])\n",
    "    \n",
    "    #check to make sure sizes match\n",
    "    if len(m1[0]) != d:\n",
    "        print(\"ERROR - inner dimentions not equal\")\n",
    "    \n",
    "    #### put your matrix multiply code here #####\n",
    "    # iterate through rows of X\n",
    "    result = [[0 for x in range(m)] for y in range(n)] \n",
    "    for i in range(len(m1)):\n",
    "       # iterate through columns of Y\n",
    "       for j in range(len(m2[0])):\n",
    "           # iterate through rows of Y\n",
    "           for k in range(len(m2)):\n",
    "               result[i][j] += m1[i][k] * m2[k][j]\n",
    "    \n",
    "    return result"
   ]
  },
  {
   "cell_type": "markdown",
   "metadata": {},
   "source": [
    "Test your code with the following examples"
   ]
  },
  {
   "cell_type": "code",
   "execution_count": 4,
   "metadata": {},
   "outputs": [],
   "source": [
    "#Basic test 1\n",
    "n = 3\n",
    "d = 2\n",
    "m = 4\n",
    "\n",
    "#generate two random lists of lists.\n",
    "matrix1 = [[random.random() for i in range(d)] for j in range(n)]\n",
    "matrix2 = [[random.random() for i in range(m)] for j in range(d)]"
   ]
  },
  {
   "cell_type": "code",
   "execution_count": 5,
   "metadata": {},
   "outputs": [
    {
     "data": {
      "text/latex": [
       "$\\displaystyle \\left[\\begin{matrix}0.635048187982309 & 0.296945033313959\\\\0.471085394630542 & 0.772995189999677\\\\0.559675644108743 & 0.357626446061019\\end{matrix}\\right]$"
      ],
      "text/plain": [
       "⎡0.635048187982309  0.296945033313959⎤\n",
       "⎢                                    ⎥\n",
       "⎢0.471085394630542  0.772995189999677⎥\n",
       "⎢                                    ⎥\n",
       "⎣0.559675644108743  0.357626446061019⎦"
      ]
     },
     "execution_count": 5,
     "metadata": {},
     "output_type": "execute_result"
    }
   ],
   "source": [
    "sym.init_printing(use_unicode=True) # Trick to make matrixes look nice in jupyter\n",
    "\n",
    "sym.Matrix(matrix1) # Show matrix using sympy"
   ]
  },
  {
   "cell_type": "code",
   "execution_count": 6,
   "metadata": {},
   "outputs": [
    {
     "data": {
      "text/latex": [
       "$\\displaystyle \\left[\\begin{matrix}0.46302860949445 & 0.650906540506019 & 0.1789684386573 & 0.326647385031977\\\\0.0560341349839817 & 0.59553483552418 & 0.0715691541168979 & 0.631870889662725\\end{matrix}\\right]$"
      ],
      "text/plain": [
       "⎡ 0.46302860949445   0.650906540506019   0.1789684386573    0.326647385031977⎤\n",
       "⎢                                                                            ⎥\n",
       "⎣0.0560341349839817  0.59553483552418   0.0715691541168979  0.631870889662725⎦"
      ]
     },
     "execution_count": 6,
     "metadata": {},
     "output_type": "execute_result"
    }
   ],
   "source": [
    "sym.Matrix(matrix2) # Show matrix using sympy"
   ]
  },
  {
   "cell_type": "code",
   "execution_count": 7,
   "metadata": {},
   "outputs": [],
   "source": [
    "#Compute matrix multiply using your function\n",
    "x = multiply(matrix1, matrix2)"
   ]
  },
  {
   "cell_type": "code",
   "execution_count": 8,
   "metadata": {},
   "outputs": [
    {
     "name": "stdout",
     "output_type": "stream",
     "text": [
      "True\n"
     ]
    }
   ],
   "source": [
    "#Compare to numpy result\n",
    "np_x = np.matrix(matrix1)*np.matrix(matrix2)\n",
    "\n",
    "#use allclose function to see if they are numrically \"close enough\"\n",
    "print(np.allclose(x, np_x))\n",
    "\n",
    "#Result should be True"
   ]
  },
  {
   "cell_type": "code",
   "execution_count": 9,
   "metadata": {},
   "outputs": [
    {
     "data": {
      "text/latex": [
       "$\\displaystyle \\left[\\begin{matrix}0.796411293705572 & 0.643104947270709 & 0.0865184544211455 & 0.470336479895725\\\\0.718083518422112 & 0.260152836942993 & 0.887681318400761 & 0.850337831861294\\\\0.668037000237508 & 0.955789528479371 & 0.542068845547962 & 0.749115518225646\\\\0.538984227580438 & 0.42965722629566 & 0.83040815383905 & 0.368233190775542\\end{matrix}\\right]$"
      ],
      "text/plain": [
       "⎡0.796411293705572  0.643104947270709  0.0865184544211455  0.470336479895725⎤\n",
       "⎢                                                                           ⎥\n",
       "⎢0.718083518422112  0.260152836942993  0.887681318400761   0.850337831861294⎥\n",
       "⎢                                                                           ⎥\n",
       "⎢0.668037000237508  0.955789528479371  0.542068845547962   0.749115518225646⎥\n",
       "⎢                                                                           ⎥\n",
       "⎣0.538984227580438  0.42965722629566    0.83040815383905   0.368233190775542⎦"
      ]
     },
     "execution_count": 9,
     "metadata": {},
     "output_type": "execute_result"
    }
   ],
   "source": [
    "#Test identity matrix\n",
    "n = 4\n",
    "\n",
    "# Make a Random Matrix\n",
    "matrix1 = [[random.random() for i in range(n)] for j in range(n)]\n",
    "sym.Matrix(matrix1) # Show matrix using sympy"
   ]
  },
  {
   "cell_type": "code",
   "execution_count": 10,
   "metadata": {},
   "outputs": [
    {
     "data": {
      "text/latex": [
       "$\\displaystyle \\left[\\begin{matrix}1 & 0 & 0 & 0\\\\0 & 1 & 0 & 0\\\\0 & 0 & 1 & 0\\\\0 & 0 & 0 & 1\\end{matrix}\\right]$"
      ],
      "text/plain": [
       "⎡1  0  0  0⎤\n",
       "⎢          ⎥\n",
       "⎢0  1  0  0⎥\n",
       "⎢          ⎥\n",
       "⎢0  0  1  0⎥\n",
       "⎢          ⎥\n",
       "⎣0  0  0  1⎦"
      ]
     },
     "execution_count": 10,
     "metadata": {},
     "output_type": "execute_result"
    }
   ],
   "source": [
    "#generate a 3x3 identity matrix\n",
    "matrix2 = [[0 for i in range(n)] for j in range(n)]\n",
    "for i in range(n):\n",
    "    matrix2[i][i] = 1\n",
    "sym.Matrix(matrix2) # Show matrix using sympy"
   ]
  },
  {
   "cell_type": "code",
   "execution_count": 11,
   "metadata": {},
   "outputs": [
    {
     "data": {
      "text/plain": [
       "True"
      ]
     },
     "execution_count": 11,
     "metadata": {},
     "output_type": "execute_result"
    }
   ],
   "source": [
    "result = multiply(matrix1, matrix2)\n",
    "\n",
    "#Verify results are the same as the original\n",
    "np.allclose(matrix1, result)"
   ]
  },
  {
   "cell_type": "markdown",
   "metadata": {},
   "source": [
    "### Timing Study\n",
    "In this part, you will compare your matrix multiplication with the ```numpy``` matrix multiplication. \n",
    "You will multiply two randomly generated $n\\times n$ matrices using both the ```multiply()``` function defined above and the ```numpy``` matrix multiplication. \n",
    "Here is the basic structure of your timing study:\n",
    "\n",
    "1. Initialize two empty lists called ```my_time``` and ```numpy_time```\n",
    "2. Loop over values of n (100, 200, 300, 400, 500)\n",
    "3. For each value of $n$ use the time.clock() function to calculate the time it takes to use your algorithm and append that time (in seconds) to the ```my_time``` list.\n",
    "4. For each value of $n$ use the time.clock() function to calculate the time it takes to use the ```numpy``` matrix multiplication and append that time (in seconds) to the ```numpy_time``` list.\n",
    "5. Use the provided code to generate a scatter plot of your results."
   ]
  },
  {
   "cell_type": "code",
   "execution_count": 12,
   "metadata": {},
   "outputs": [],
   "source": [
    "n_list = [100, 200, 300, 400, 500]\n",
    "my_time = []\n",
    "numpy_time = []"
   ]
  },
  {
   "cell_type": "code",
   "execution_count": 14,
   "metadata": {},
   "outputs": [
    {
     "name": "stdout",
     "output_type": "stream",
     "text": [
      "Measureing time it takes to multiply matrixes of size 100\n",
      "Measureing time it takes to multiply matrixes of size 200\n",
      "Measureing time it takes to multiply matrixes of size 300\n",
      "Measureing time it takes to multiply matrixes of size 400\n",
      "Measureing time it takes to multiply matrixes of size 500\n"
     ]
    }
   ],
   "source": [
    "# RUN AT YOUR OWN RISK.\n",
    "# THIS MAY TAKE A WHILE!!!!\n",
    "\n",
    "for n in n_list:\n",
    "    print(f\"Measureing time it takes to multiply matrixes of size {n}\")\n",
    "    #Generate random nxn array of two lists\n",
    "    matrix1 = [[random.random() for i in range(n)] for j in range(n)]\n",
    "    matrix2 = [[random.random() for i in range(n)] for j in range(n)]\n",
    "    start = time.time()\n",
    "    x = multiply(matrix1, matrix2)\n",
    "    stop = time.time()\n",
    "    my_time.append(stop - start)\n",
    "    \n",
    "    #Convert the lists to a numpy matrix\n",
    "    npm1 = np.matrix(matrix1)\n",
    "    npm2 = np.matrix(matrix2)\n",
    "\n",
    "    #Calculate the time it takes to run the numpy matrix. \n",
    "    start = time.time()\n",
    "    answer = npm1*npm2\n",
    "    stop = time.time()\n",
    "    numpy_time.append(stop - start)"
   ]
  },
  {
   "cell_type": "code",
   "execution_count": 15,
   "metadata": {},
   "outputs": [
    {
     "ename": "ValueError",
     "evalue": "x and y must be the same size",
     "output_type": "error",
     "traceback": [
      "\u001b[1;31m---------------------------------------------------------------------------\u001b[0m",
      "\u001b[1;31mValueError\u001b[0m                                Traceback (most recent call last)",
      "\u001b[1;32m<ipython-input-15-f76aca6efc05>\u001b[0m in \u001b[0;36m<module>\u001b[1;34m\u001b[0m\n\u001b[1;32m----> 1\u001b[1;33m \u001b[0mplt\u001b[0m\u001b[1;33m.\u001b[0m\u001b[0mscatter\u001b[0m\u001b[1;33m(\u001b[0m\u001b[0mn_list\u001b[0m\u001b[1;33m,\u001b[0m\u001b[0mmy_time\u001b[0m\u001b[1;33m,\u001b[0m \u001b[0mcolor\u001b[0m\u001b[1;33m=\u001b[0m\u001b[1;34m'red'\u001b[0m\u001b[1;33m,\u001b[0m \u001b[0mlabel\u001b[0m \u001b[1;33m=\u001b[0m \u001b[1;34m'my time'\u001b[0m\u001b[1;33m)\u001b[0m\u001b[1;33m\u001b[0m\u001b[1;33m\u001b[0m\u001b[0m\n\u001b[0m\u001b[0;32m      2\u001b[0m \u001b[0mplt\u001b[0m\u001b[1;33m.\u001b[0m\u001b[0mscatter\u001b[0m\u001b[1;33m(\u001b[0m\u001b[0mn_list\u001b[0m\u001b[1;33m,\u001b[0m\u001b[0mnumpy_time\u001b[0m\u001b[1;33m,\u001b[0m \u001b[0mcolor\u001b[0m\u001b[1;33m=\u001b[0m\u001b[1;34m'green'\u001b[0m\u001b[1;33m,\u001b[0m \u001b[0mlabel\u001b[0m\u001b[1;33m=\u001b[0m\u001b[1;34m'numpy time'\u001b[0m\u001b[1;33m)\u001b[0m\u001b[1;33m\u001b[0m\u001b[1;33m\u001b[0m\u001b[0m\n\u001b[0;32m      3\u001b[0m \u001b[1;33m\u001b[0m\u001b[0m\n\u001b[0;32m      4\u001b[0m \u001b[0mplt\u001b[0m\u001b[1;33m.\u001b[0m\u001b[0mxlabel\u001b[0m\u001b[1;33m(\u001b[0m\u001b[1;34m'Size of $n x n$ matrix'\u001b[0m\u001b[1;33m)\u001b[0m\u001b[1;33m;\u001b[0m\u001b[1;33m\u001b[0m\u001b[1;33m\u001b[0m\u001b[0m\n\u001b[0;32m      5\u001b[0m \u001b[0mplt\u001b[0m\u001b[1;33m.\u001b[0m\u001b[0mylabel\u001b[0m\u001b[1;33m(\u001b[0m\u001b[1;34m'time (seconds)'\u001b[0m\u001b[1;33m)\u001b[0m\u001b[1;33m\u001b[0m\u001b[1;33m\u001b[0m\u001b[0m\n",
      "\u001b[1;32m~\\anaconda3\\lib\\site-packages\\matplotlib\\pyplot.py\u001b[0m in \u001b[0;36mscatter\u001b[1;34m(x, y, s, c, marker, cmap, norm, vmin, vmax, alpha, linewidths, verts, edgecolors, plotnonfinite, data, **kwargs)\u001b[0m\n\u001b[0;32m   2809\u001b[0m         \u001b[0mverts\u001b[0m\u001b[1;33m=\u001b[0m\u001b[0mcbook\u001b[0m\u001b[1;33m.\u001b[0m\u001b[0mdeprecation\u001b[0m\u001b[1;33m.\u001b[0m\u001b[0m_deprecated_parameter\u001b[0m\u001b[1;33m,\u001b[0m\u001b[1;33m\u001b[0m\u001b[1;33m\u001b[0m\u001b[0m\n\u001b[0;32m   2810\u001b[0m         edgecolors=None, *, plotnonfinite=False, data=None, **kwargs):\n\u001b[1;32m-> 2811\u001b[1;33m     __ret = gca().scatter(\n\u001b[0m\u001b[0;32m   2812\u001b[0m         \u001b[0mx\u001b[0m\u001b[1;33m,\u001b[0m \u001b[0my\u001b[0m\u001b[1;33m,\u001b[0m \u001b[0ms\u001b[0m\u001b[1;33m=\u001b[0m\u001b[0ms\u001b[0m\u001b[1;33m,\u001b[0m \u001b[0mc\u001b[0m\u001b[1;33m=\u001b[0m\u001b[0mc\u001b[0m\u001b[1;33m,\u001b[0m \u001b[0mmarker\u001b[0m\u001b[1;33m=\u001b[0m\u001b[0mmarker\u001b[0m\u001b[1;33m,\u001b[0m \u001b[0mcmap\u001b[0m\u001b[1;33m=\u001b[0m\u001b[0mcmap\u001b[0m\u001b[1;33m,\u001b[0m \u001b[0mnorm\u001b[0m\u001b[1;33m=\u001b[0m\u001b[0mnorm\u001b[0m\u001b[1;33m,\u001b[0m\u001b[1;33m\u001b[0m\u001b[1;33m\u001b[0m\u001b[0m\n\u001b[0;32m   2813\u001b[0m         \u001b[0mvmin\u001b[0m\u001b[1;33m=\u001b[0m\u001b[0mvmin\u001b[0m\u001b[1;33m,\u001b[0m \u001b[0mvmax\u001b[0m\u001b[1;33m=\u001b[0m\u001b[0mvmax\u001b[0m\u001b[1;33m,\u001b[0m \u001b[0malpha\u001b[0m\u001b[1;33m=\u001b[0m\u001b[0malpha\u001b[0m\u001b[1;33m,\u001b[0m \u001b[0mlinewidths\u001b[0m\u001b[1;33m=\u001b[0m\u001b[0mlinewidths\u001b[0m\u001b[1;33m,\u001b[0m\u001b[1;33m\u001b[0m\u001b[1;33m\u001b[0m\u001b[0m\n",
      "\u001b[1;32m~\\anaconda3\\lib\\site-packages\\matplotlib\\__init__.py\u001b[0m in \u001b[0;36minner\u001b[1;34m(ax, data, *args, **kwargs)\u001b[0m\n\u001b[0;32m   1563\u001b[0m     \u001b[1;32mdef\u001b[0m \u001b[0minner\u001b[0m\u001b[1;33m(\u001b[0m\u001b[0max\u001b[0m\u001b[1;33m,\u001b[0m \u001b[1;33m*\u001b[0m\u001b[0margs\u001b[0m\u001b[1;33m,\u001b[0m \u001b[0mdata\u001b[0m\u001b[1;33m=\u001b[0m\u001b[1;32mNone\u001b[0m\u001b[1;33m,\u001b[0m \u001b[1;33m**\u001b[0m\u001b[0mkwargs\u001b[0m\u001b[1;33m)\u001b[0m\u001b[1;33m:\u001b[0m\u001b[1;33m\u001b[0m\u001b[1;33m\u001b[0m\u001b[0m\n\u001b[0;32m   1564\u001b[0m         \u001b[1;32mif\u001b[0m \u001b[0mdata\u001b[0m \u001b[1;32mis\u001b[0m \u001b[1;32mNone\u001b[0m\u001b[1;33m:\u001b[0m\u001b[1;33m\u001b[0m\u001b[1;33m\u001b[0m\u001b[0m\n\u001b[1;32m-> 1565\u001b[1;33m             \u001b[1;32mreturn\u001b[0m \u001b[0mfunc\u001b[0m\u001b[1;33m(\u001b[0m\u001b[0max\u001b[0m\u001b[1;33m,\u001b[0m \u001b[1;33m*\u001b[0m\u001b[0mmap\u001b[0m\u001b[1;33m(\u001b[0m\u001b[0msanitize_sequence\u001b[0m\u001b[1;33m,\u001b[0m \u001b[0margs\u001b[0m\u001b[1;33m)\u001b[0m\u001b[1;33m,\u001b[0m \u001b[1;33m**\u001b[0m\u001b[0mkwargs\u001b[0m\u001b[1;33m)\u001b[0m\u001b[1;33m\u001b[0m\u001b[1;33m\u001b[0m\u001b[0m\n\u001b[0m\u001b[0;32m   1566\u001b[0m \u001b[1;33m\u001b[0m\u001b[0m\n\u001b[0;32m   1567\u001b[0m         \u001b[0mbound\u001b[0m \u001b[1;33m=\u001b[0m \u001b[0mnew_sig\u001b[0m\u001b[1;33m.\u001b[0m\u001b[0mbind\u001b[0m\u001b[1;33m(\u001b[0m\u001b[0max\u001b[0m\u001b[1;33m,\u001b[0m \u001b[1;33m*\u001b[0m\u001b[0margs\u001b[0m\u001b[1;33m,\u001b[0m \u001b[1;33m**\u001b[0m\u001b[0mkwargs\u001b[0m\u001b[1;33m)\u001b[0m\u001b[1;33m\u001b[0m\u001b[1;33m\u001b[0m\u001b[0m\n",
      "\u001b[1;32m~\\anaconda3\\lib\\site-packages\\matplotlib\\cbook\\deprecation.py\u001b[0m in \u001b[0;36mwrapper\u001b[1;34m(*args, **kwargs)\u001b[0m\n\u001b[0;32m    356\u001b[0m                 \u001b[1;34mf\"%(removal)s.  If any parameter follows {name!r}, they \"\u001b[0m\u001b[1;33m\u001b[0m\u001b[1;33m\u001b[0m\u001b[0m\n\u001b[0;32m    357\u001b[0m                 f\"should be pass as keyword, not positionally.\")\n\u001b[1;32m--> 358\u001b[1;33m         \u001b[1;32mreturn\u001b[0m \u001b[0mfunc\u001b[0m\u001b[1;33m(\u001b[0m\u001b[1;33m*\u001b[0m\u001b[0margs\u001b[0m\u001b[1;33m,\u001b[0m \u001b[1;33m**\u001b[0m\u001b[0mkwargs\u001b[0m\u001b[1;33m)\u001b[0m\u001b[1;33m\u001b[0m\u001b[1;33m\u001b[0m\u001b[0m\n\u001b[0m\u001b[0;32m    359\u001b[0m \u001b[1;33m\u001b[0m\u001b[0m\n\u001b[0;32m    360\u001b[0m     \u001b[1;32mreturn\u001b[0m \u001b[0mwrapper\u001b[0m\u001b[1;33m\u001b[0m\u001b[1;33m\u001b[0m\u001b[0m\n",
      "\u001b[1;32m~\\anaconda3\\lib\\site-packages\\matplotlib\\axes\\_axes.py\u001b[0m in \u001b[0;36mscatter\u001b[1;34m(self, x, y, s, c, marker, cmap, norm, vmin, vmax, alpha, linewidths, verts, edgecolors, plotnonfinite, **kwargs)\u001b[0m\n\u001b[0;32m   4389\u001b[0m         \u001b[0my\u001b[0m \u001b[1;33m=\u001b[0m \u001b[0mnp\u001b[0m\u001b[1;33m.\u001b[0m\u001b[0mma\u001b[0m\u001b[1;33m.\u001b[0m\u001b[0mravel\u001b[0m\u001b[1;33m(\u001b[0m\u001b[0my\u001b[0m\u001b[1;33m)\u001b[0m\u001b[1;33m\u001b[0m\u001b[1;33m\u001b[0m\u001b[0m\n\u001b[0;32m   4390\u001b[0m         \u001b[1;32mif\u001b[0m \u001b[0mx\u001b[0m\u001b[1;33m.\u001b[0m\u001b[0msize\u001b[0m \u001b[1;33m!=\u001b[0m \u001b[0my\u001b[0m\u001b[1;33m.\u001b[0m\u001b[0msize\u001b[0m\u001b[1;33m:\u001b[0m\u001b[1;33m\u001b[0m\u001b[1;33m\u001b[0m\u001b[0m\n\u001b[1;32m-> 4391\u001b[1;33m             \u001b[1;32mraise\u001b[0m \u001b[0mValueError\u001b[0m\u001b[1;33m(\u001b[0m\u001b[1;34m\"x and y must be the same size\"\u001b[0m\u001b[1;33m)\u001b[0m\u001b[1;33m\u001b[0m\u001b[1;33m\u001b[0m\u001b[0m\n\u001b[0m\u001b[0;32m   4392\u001b[0m \u001b[1;33m\u001b[0m\u001b[0m\n\u001b[0;32m   4393\u001b[0m         \u001b[1;32mif\u001b[0m \u001b[0ms\u001b[0m \u001b[1;32mis\u001b[0m \u001b[1;32mNone\u001b[0m\u001b[1;33m:\u001b[0m\u001b[1;33m\u001b[0m\u001b[1;33m\u001b[0m\u001b[0m\n",
      "\u001b[1;31mValueError\u001b[0m: x and y must be the same size"
     ]
    },
    {
     "data": {
      "image/png": "[encoded data removed]",
      "text/plain": [
       "<Figure size 432x288 with 1 Axes>"
      ]
     },
     "metadata": {
      "needs_background": "light"
     },
     "output_type": "display_data"
    }
   ],
   "source": [
    "plt.scatter(n_list,my_time, color='red', label = 'my time')\n",
    "plt.scatter(n_list,numpy_time, color='green', label='numpy time')\n",
    "\n",
    "plt.xlabel('Size of $n x n$ matrix');\n",
    "plt.ylabel('time (seconds)')\n",
    "plt.legend();"
   ]
  },
  {
   "cell_type": "markdown",
   "metadata": {},
   "source": [
    "Based on the above results, you can see that the ```numpy``` algorithm not only is faster but also \"scales\" at a slower rate than your algorithm.  "
   ]
  },
  {
   "cell_type": "markdown",
   "metadata": {},
   "source": [
    "&#9989; **<font color=red>QUESTION:</font>** Why do you think the ```numpy``` matrix multiplication is so much faster?  "
   ]
  },
  {
   "cell_type": "markdown",
   "metadata": {},
   "source": [
    "**NumPy uses a highly-optimized, carefully-tuned BLAS method for matrix multiplication**"
   ]
  },
  {
   "cell_type": "markdown",
   "metadata": {},
   "source": [
    "-----\n",
    "\n",
    "### Congratulations, we're done!"
   ]
  },
  {
   "cell_type": "markdown",
   "metadata": {},
   "source": [
    "Written by Dr. Dirk Colbry, Michigan State University and Dr. Ming Yan, Michigan State University\n",
    "<a rel=\"license\" href=\"http://creativecommons.org/licenses/by-nc/4.0/\"><img alt=\"Creative Commons License\" style=\"border-width:0\" src=\"https://i.creativecommons.org/l/by-nc/4.0/88x31.png\" /></a><br />This work is licensed under a <a rel=\"license\" href=\"http://creativecommons.org/licenses/by-nc/4.0/\">Creative Commons Attribution-NonCommercial 4.0 International License</a>."
   ]
  },
  {
   "cell_type": "markdown",
   "metadata": {},
   "source": [
    "----"
   ]
  }
 ],
 "metadata": {
  "kernelspec": {
   "display_name": "Python 3",
   "language": "python",
   "name": "python3"
  },
  "language_info": {
   "codemirror_mode": {
    "name": "ipython",
    "version": 3
   },
   "file_extension": ".py",
   "mimetype": "text/x-python",
   "name": "python",
   "nbconvert_exporter": "python",
   "pygments_lexer": "ipython3",
   "version": "3.8.3"
  }
 },
 "nbformat": 4,
 "nbformat_minor": 4
}
