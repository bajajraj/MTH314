{
 "cells": [
  {
   "cell_type": "markdown",
   "metadata": {},
   "source": [
    "# 20 In-Class Assignment: Least Squares Fit (LSF)\n",
    "\n",
    "Today's in-class assignment includes multiple Least Squares Fit models.  The goal is to see the types of models that can be solved using least squares fit.  Even though this is a Linear Algebra Method the models do not need to be linear.  \n"
   ]
  },
  {
   "cell_type": "markdown",
   "metadata": {},
   "source": [
    "### Agenda for today's class (80 minutes)\n",
    "\n",
    "\n",
    "1. [LSF Example: Tracking the Planets](#LSF-Example:-Tracking-the-Planets)\n",
    "2. [LSF Example: Predator Pray Model](#LSF-Example:-Predator-Pray-Model)\n",
    "3. [LSF Example: Estimating the best Ellipses](#LSF-Example:-Estimating-the-best-Ellipses)\n",
    "\n"
   ]
  },
  {
   "cell_type": "markdown",
   "metadata": {},
   "source": [
    "\n",
    "\n",
    "---\n",
    "<a name=LSF-Example:-Tracking-the-Planets></a>\n",
    "## 1. LSF Example: Tracking the Planets\n",
    "\n",
    "\n",
    "\n",
    "\n",
    "<img alt=\"composit image of the planets (and sun) in our solar system\" src=\"https://images.squarespace-cdn.com/content/v1/537a20bce4b0c4a5e913ae77/1533010529325-0H1VQX4W19MAJCRGSTQF/ke17ZwdGBToddI8pDm48kJokDDWUnHQ7jYDwh9g9o2tZw-zPPgdn4jUwVcJE1ZvWQUxwkmyExglNqGp0IvTJZUJFbgE-7XRK3dMEBRBhUpy5LokhjEjEjl7mG0bnsgbfHG96R3ZWfXdsfqmd9qx-1I79M1PjxisoyjE5_sBXuWQ/solar-system-439046_640.jpg?format=1500w\" width=\"100%\">\n",
    "  \n",
    "The following table lists the average distance from the sun to each of the first seven planets, using Earth's distance as a unit of measure (AUs). \n",
    "\n",
    "| Mercury | Venus | Earth | Mars | Jupiter | Satern | Uranus | \n",
    "|---------|-------|-------|------|---------|--------|--------|\n",
    "| 0.39    | 0.72  | 1.00  | 1.52 | 5.20    | 9.54   | 19.2   |\n",
    "\n",
    "The following is a plot of the data:"
   ]
  },
  {
   "cell_type": "code",
   "execution_count": 38,
   "metadata": {},
   "outputs": [],
   "source": [
    "# Here are some libraries you may need to use\n",
    "\n",
    "%matplotlib inline\n",
    "import matplotlib.pylab as plt\n",
    "import numpy as np\n",
    "import sympy as sym\n",
    "import math\n",
    "from answercheck import checkanswer\n",
    "sym.init_printing()"
   ]
  },
  {
   "cell_type": "code",
   "execution_count": 39,
   "metadata": {},
   "outputs": [
    {
     "data": {
      "text/plain": [
       "Text(0, 0.5, 'Distance (AU)')"
      ]
     },
     "execution_count": 39,
     "metadata": {},
     "output_type": "execute_result"
    },
    {
     "data": {
      "image/png": "[encoded data removed]",
      "text/plain": [
       "<Figure size 432x288 with 1 Axes>"
      ]
     },
     "metadata": {
      "needs_background": "light"
     },
     "output_type": "display_data"
    }
   ],
   "source": [
    "distances = [0.39, 0.72, 1.00, 1.52, 5.20, 9.54, 19.2]\n",
    "planets = ['Mercury', 'Venus', 'Earth', 'Mars', 'Jupiter', 'Satern','Uranus']\n",
    "ind = [1.0,2.0,3.0,4.0,5.0,6.0,7.0]\n",
    "\n",
    "plt.scatter(ind, distances);\n",
    "plt.xticks(ind,planets)\n",
    "plt.ylabel('Distance (AU)')"
   ]
  },
  {
   "cell_type": "markdown",
   "metadata": {},
   "source": [
    "**Note** that the above plot does not look like a line, and so finding the line of best fit is not fruitful.  It does, however look like an exponential curve (maybe a polynomial?). The following step transforms the distances using the numpy **```log```** function and generates a plot that looks much more linear. "
   ]
  },
  {
   "cell_type": "code",
   "execution_count": 40,
   "metadata": {},
   "outputs": [
    {
     "data": {
      "text/plain": [
       "Text(0, 0.5, 'Distance (log(AU))')"
      ]
     },
     "execution_count": 40,
     "metadata": {},
     "output_type": "execute_result"
    },
    {
     "data": {
      "image/png": "[encoded data removed]",
      "text/plain": [
       "<Figure size 432x288 with 1 Axes>"
      ]
     },
     "metadata": {
      "needs_background": "light"
     },
     "output_type": "display_data"
    }
   ],
   "source": [
    "log_distances = np.log(distances)\n",
    "\n",
    "plt.scatter(ind,log_distances)\n",
    "plt.xticks(ind,planets)\n",
    "plt.ylabel('Distance (log(AU))')"
   ]
  },
  {
   "cell_type": "markdown",
   "metadata": {},
   "source": [
    "For this question we are going to find the coefficients ($c$) for the best fit line of the form $c_1 + c_2i= \\log{d}$, where $i$ is the index of the planet and $d$ is the distance.  "
   ]
  },
  {
   "cell_type": "markdown",
   "metadata": {},
   "source": [
    "The following code constructs this problem in the form $Ax=b$ and define the $A$ matrix and the $b$ matrix as numpy matrices"
   ]
  },
  {
   "cell_type": "code",
   "execution_count": 41,
   "metadata": {},
   "outputs": [
    {
     "data": {
      "text/latex": [
       "$\\displaystyle \\left[\\begin{matrix}1.0 & 1.0\\\\1.0 & 2.0\\\\1.0 & 3.0\\\\1.0 & 4.0\\\\1.0 & 5.0\\\\1.0 & 6.0\\\\1.0 & 7.0\\end{matrix}\\right]$"
      ],
      "text/plain": [
       "⎡1.0  1.0⎤\n",
       "⎢        ⎥\n",
       "⎢1.0  2.0⎥\n",
       "⎢        ⎥\n",
       "⎢1.0  3.0⎥\n",
       "⎢        ⎥\n",
       "⎢1.0  4.0⎥\n",
       "⎢        ⎥\n",
       "⎢1.0  5.0⎥\n",
       "⎢        ⎥\n",
       "⎢1.0  6.0⎥\n",
       "⎢        ⎥\n",
       "⎣1.0  7.0⎦"
      ]
     },
     "execution_count": 41,
     "metadata": {},
     "output_type": "execute_result"
    }
   ],
   "source": [
    "A = np.matrix(np.vstack((np.ones(len(ind)),ind))).T\n",
    "b = np.matrix(log_distances).T\n",
    "sym.Matrix(A)"
   ]
  },
  {
   "cell_type": "code",
   "execution_count": 42,
   "metadata": {},
   "outputs": [
    {
     "data": {
      "text/latex": [
       "$\\displaystyle \\left[\\begin{matrix}-0.941608539858445\\\\-0.328504066972036\\\\0.0\\\\0.418710334858185\\\\1.64865862558738\\\\2.2554934854602\\\\2.95491027903374\\end{matrix}\\right]$"
      ],
      "text/plain": [
       "⎡-0.941608539858445⎤\n",
       "⎢                  ⎥\n",
       "⎢-0.328504066972036⎥\n",
       "⎢                  ⎥\n",
       "⎢       0.0        ⎥\n",
       "⎢                  ⎥\n",
       "⎢0.418710334858185 ⎥\n",
       "⎢                  ⎥\n",
       "⎢ 1.64865862558738 ⎥\n",
       "⎢                  ⎥\n",
       "⎢ 2.2554934854602  ⎥\n",
       "⎢                  ⎥\n",
       "⎣ 2.95491027903374 ⎦"
      ]
     },
     "execution_count": 42,
     "metadata": {},
     "output_type": "execute_result"
    }
   ],
   "source": [
    "sym.Matrix(b)"
   ]
  },
  {
   "cell_type": "markdown",
   "metadata": {},
   "source": [
    "<mark>&#9989; **<font color=red>DO THIS:</font>** Solve for the best fit of $Ax=b$ and define a new variable $c$ which consists of the of the two coefficients used to define the line $(\\log{d} = c_1 + c_2i)$</mark>"
   ]
  },
  {
   "cell_type": "code",
   "execution_count": 43,
   "metadata": {},
   "outputs": [],
   "source": [
    "##Put your answer here\n",
    "#Put your code here\n",
    "At = A.T\n",
    "C = At * A\n",
    "Aty = At * b\n",
    "c = np.linalg.inv(C) * At * b"
   ]
  },
  {
   "cell_type": "code",
   "execution_count": 44,
   "metadata": {},
   "outputs": [
    {
     "name": "stdout",
     "output_type": "stream",
     "text": [
      "Testing [[-1.78551]\n",
      " [ 0.66094]]\n",
      "Answer seems to be incorrect\n",
      "\n"
     ]
    },
    {
     "ename": "AssertionError",
     "evalue": "Answer is incorrect b7bf90f227bb5d7170301b1ba06e0404",
     "output_type": "error",
     "traceback": [
      "\u001b[0;31m---------------------------------------------------------------------------\u001b[0m",
      "\u001b[0;31mAssertionError\u001b[0m                            Traceback (most recent call last)",
      "\u001b[0;32m<ipython-input-44-6d033843b4f5>\u001b[0m in \u001b[0;36m<module>\u001b[0;34m\u001b[0m\n\u001b[0;32m----> 1\u001b[0;31m \u001b[0mcheckanswer\u001b[0m\u001b[0;34m.\u001b[0m\u001b[0mmatrix\u001b[0m\u001b[0;34m(\u001b[0m\u001b[0mc\u001b[0m\u001b[0;34m,\u001b[0m\u001b[0;34m'8a66c83f3953e64104f04c6fbba48ce7'\u001b[0m\u001b[0;34m)\u001b[0m\u001b[0;34m\u001b[0m\u001b[0;34m\u001b[0m\u001b[0m\n\u001b[0m",
      "\u001b[0;32m~/answercheck.py\u001b[0m in \u001b[0;36mmatrix\u001b[0;34m(A, hashtag, decimal_accuracy)\u001b[0m\n\u001b[1;32m    150\u001b[0m         \u001b[0;34m\"\"\"Function to check matrix type before hashing.\"\"\"\u001b[0m\u001b[0;34m\u001b[0m\u001b[0;34m\u001b[0m\u001b[0m\n\u001b[1;32m    151\u001b[0m         \u001b[0mA\u001b[0m \u001b[0;34m=\u001b[0m \u001b[0mcheckanswer\u001b[0m\u001b[0;34m.\u001b[0m\u001b[0mmake_matrix\u001b[0m\u001b[0;34m(\u001b[0m\u001b[0mA\u001b[0m\u001b[0;34m,\u001b[0m \u001b[0mdecimal_accuracy\u001b[0m\u001b[0;34m)\u001b[0m\u001b[0;34m\u001b[0m\u001b[0;34m\u001b[0m\u001b[0m\n\u001b[0;32m--> 152\u001b[0;31m         \u001b[0;32mreturn\u001b[0m \u001b[0mcheckanswer\u001b[0m\u001b[0;34m.\u001b[0m\u001b[0mbasic\u001b[0m\u001b[0;34m(\u001b[0m\u001b[0mA\u001b[0m\u001b[0;34m,\u001b[0m \u001b[0mhashtag\u001b[0m\u001b[0;34m)\u001b[0m\u001b[0;34m\u001b[0m\u001b[0;34m\u001b[0m\u001b[0m\n\u001b[0m\u001b[1;32m    153\u001b[0m \u001b[0;34m\u001b[0m\u001b[0m\n\u001b[1;32m    154\u001b[0m     \u001b[0;31m# TODO: Not complete or tested.\u001b[0m\u001b[0;34m\u001b[0m\u001b[0;34m\u001b[0m\u001b[0;34m\u001b[0m\u001b[0m\n",
      "\u001b[0;32m~/answercheck.py\u001b[0m in \u001b[0;36mbasic\u001b[0;34m(var, hashtag)\u001b[0m\n\u001b[1;32m     48\u001b[0m             \u001b[0;32melse\u001b[0m\u001b[0;34m:\u001b[0m\u001b[0;34m\u001b[0m\u001b[0;34m\u001b[0m\u001b[0m\n\u001b[1;32m     49\u001b[0m                 \u001b[0mprint\u001b[0m\u001b[0;34m(\u001b[0m\u001b[0;34m\"Answer seems to be incorrect\\n\"\u001b[0m\u001b[0;34m)\u001b[0m\u001b[0;34m\u001b[0m\u001b[0;34m\u001b[0m\u001b[0m\n\u001b[0;32m---> 50\u001b[0;31m                 \u001b[0;32massert\u001b[0m \u001b[0mchecktag\u001b[0m \u001b[0;34m==\u001b[0m \u001b[0mhashtag\u001b[0m\u001b[0;34m,\u001b[0m \u001b[0;34mf\"Answer is incorrect {checktag}\"\u001b[0m\u001b[0;34m\u001b[0m\u001b[0;34m\u001b[0m\u001b[0m\n\u001b[0m\u001b[1;32m     51\u001b[0m         \u001b[0;32melse\u001b[0m\u001b[0;34m:\u001b[0m\u001b[0;34m\u001b[0m\u001b[0;34m\u001b[0m\u001b[0m\n\u001b[1;32m     52\u001b[0m             \u001b[0;32mraise\u001b[0m \u001b[0mTypeError\u001b[0m\u001b[0;34m(\u001b[0m\u001b[0;34mf\"No answer hastag provided: {checktag}\"\u001b[0m\u001b[0;34m)\u001b[0m\u001b[0;34m\u001b[0m\u001b[0;34m\u001b[0m\u001b[0m\n",
      "\u001b[0;31mAssertionError\u001b[0m: Answer is incorrect b7bf90f227bb5d7170301b1ba06e0404"
     ]
    }
   ],
   "source": [
    "checkanswer.matrix(c,'8a66c83f3953e64104f04c6fbba48ce7')"
   ]
  },
  {
   "cell_type": "markdown",
   "metadata": {},
   "source": [
    "<mark>&#9989; **<font color=red>DO THIS:</font>** Use the following code (modify as needed) to plot your best estimates of $c_1$ and $c_2$ against the provided data.  </mark>"
   ]
  },
  {
   "cell_type": "code",
   "execution_count": 45,
   "metadata": {},
   "outputs": [
    {
     "data": {
      "text/plain": [
       "Text(0, 0.5, 'Distance (log(AU))')"
      ]
     },
     "execution_count": 45,
     "metadata": {},
     "output_type": "execute_result"
    },
    {
     "data": {
      "image/png": "[encoded data removed]",
      "text/plain": [
       "<Figure size 432x288 with 1 Axes>"
      ]
     },
     "metadata": {
      "needs_background": "light"
     },
     "output_type": "display_data"
    }
   ],
   "source": [
    "est_log_distances = (c[0] + c[1]*np.matrix(ind)).tolist()[0]\n",
    "plt.plot(ind,est_log_distances)\n",
    "\n",
    "plt.scatter(ind,log_distances)\n",
    "plt.xticks(ind,planets)\n",
    "plt.ylabel('Distance (log(AU))')"
   ]
  },
  {
   "cell_type": "markdown",
   "metadata": {},
   "source": [
    "We can determine the quality of this line fit by calculating the root mean squared error between the estimate and the actual data:"
   ]
  },
  {
   "cell_type": "code",
   "execution_count": 46,
   "metadata": {},
   "outputs": [
    {
     "data": {
      "image/png": "[encoded data removed]",
      "text/latex": [
       "$\\displaystyle 0.21356218716426$"
      ],
      "text/plain": [
       "0.21356218716426045"
      ]
     },
     "execution_count": 46,
     "metadata": {},
     "output_type": "execute_result"
    }
   ],
   "source": [
    "rmse = np.sqrt(((np.array(log_distances)  - np.array(est_log_distances)) ** 2).mean())\n",
    "rmse"
   ]
  },
  {
   "cell_type": "code",
   "execution_count": 47,
   "metadata": {},
   "outputs": [
    {
     "name": "stdout",
     "output_type": "stream",
     "text": [
      "\n",
      "CheckWarning: passed variable is <class 'numpy.float64'> and not a float.\n",
      "    Trying to convert to a float using ```A = float(A)```.\n",
      "\n",
      "Testing 0.21356\n",
      "Answer seems to be correct\n",
      "\n"
     ]
    }
   ],
   "source": [
    "checkanswer.float(rmse,'8931466d941cf77409f2e418ed4d4965')"
   ]
  },
  {
   "cell_type": "markdown",
   "metadata": {},
   "source": [
    "Finally, we can also make the plot on the original axis using the inverse of the log (i.e. the exp function):"
   ]
  },
  {
   "cell_type": "code",
   "execution_count": 48,
   "metadata": {},
   "outputs": [
    {
     "data": {
      "text/plain": [
       "Text(0, 0.5, 'Distance (AU)')"
      ]
     },
     "execution_count": 48,
     "metadata": {},
     "output_type": "execute_result"
    },
    {
     "data": {
      "image/png": "[encoded data removed]",
      "text/plain": [
       "<Figure size 432x288 with 1 Axes>"
      ]
     },
     "metadata": {
      "needs_background": "light"
     },
     "output_type": "display_data"
    }
   ],
   "source": [
    "est_distances = np.exp(est_log_distances)\n",
    "plt.scatter(ind,distances)\n",
    "plt.plot(ind,est_distances)\n",
    "plt.xticks(ind,planets)\n",
    "plt.ylabel('Distance (AU)')"
   ]
  },
  {
   "cell_type": "markdown",
   "metadata": {},
   "source": [
    "The asteroid belt between Mars and Jupiter is what is left of a planet that broke apart.  Let's the above calculation again but renumber so that  the index of Jupyter is 6, Saturn is 7 and Uranus is 8 as follows:"
   ]
  },
  {
   "cell_type": "code",
   "execution_count": 59,
   "metadata": {},
   "outputs": [],
   "source": [
    "distances = [0.39, 0.72, 1.00, 1.52, 5.20, 9.54, 19.2]\n",
    "planets = ['Mercury', 'Venus', 'Earth', 'Mars', 'Jupiter', 'Satern','Uranus']\n",
    "ind = [1,2,3,4,6,7,8]\n",
    "\n",
    "log_distances = np.log(distances)\n",
    "\n",
    "A = np.matrix(np.vstack((np.ones(len(ind)),ind))).T\n",
    "b = np.matrix(log_distances).T\n",
    "At = A.T\n",
    "C = At * A\n",
    "Aty = At * b\n",
    "c = np.linalg.inv(C) * At * b\n",
    "\n",
    "est_log_distances = (c[0] + c[1]*np.matrix(ind)).tolist()[0]\n",
    "est_distances = np.exp(est_log_distances)\n",
    "\n",
    "\n",
    "rmse = np.sqrt(((np.array(log_distances)  - np.array(est_log_distances)) ** 2).mean())"
   ]
  },
  {
   "cell_type": "markdown",
   "metadata": {},
   "source": [
    "<mark>&#9989; **<font color=red>DO THIS:</font>** Repeat the calculations from above with the updated model.  Plot the results and compare the RMSE.</mark>"
   ]
  },
  {
   "cell_type": "code",
   "execution_count": 62,
   "metadata": {},
   "outputs": [
    {
     "data": {
      "text/plain": [
       "Text(0, 0.5, 'Distance (AU)')"
      ]
     },
     "execution_count": 62,
     "metadata": {},
     "output_type": "execute_result"
    },
    {
     "data": {
      "image/png": "[encoded data removed]",
      "text/plain": [
       "<Figure size 432x288 with 1 Axes>"
      ]
     },
     "metadata": {
      "needs_background": "light"
     },
     "output_type": "display_data"
    }
   ],
   "source": [
    "## Copy and Paste code from above\n",
    "est_distances = np.exp(est_log_distances)\n",
    "plt.scatter(ind,distances)\n",
    "plt.plot(ind,est_distances)\n",
    "plt.xticks(ind,planets)\n",
    "plt.ylabel('Distance (AU)')"
   ]
  },
  {
   "cell_type": "code",
   "execution_count": 53,
   "metadata": {},
   "outputs": [
    {
     "name": "stdout",
     "output_type": "stream",
     "text": [
      "\n",
      "CheckWarning: passed variable is <class 'numpy.float64'> and not a float.\n",
      "    Trying to convert to a float using ```A = float(A)```.\n",
      "\n",
      "Testing 0.11897\n",
      "Answer seems to be correct\n",
      "\n"
     ]
    }
   ],
   "source": [
    "checkanswer.float(rmse,'532c253fdc2f1e55ce15200d803a6c9c')"
   ]
  },
  {
   "cell_type": "markdown",
   "metadata": {},
   "source": [
    "This model of planet location was used to help discover Neptune and prompted people to look for the \"missing planet\" in position 5 which resulted in the discovery of the asteroid belt.  Based on the above model, what is the estimated  distance of the asteroid belt and Neptune (index 9) from the sun in AUs? (**Hint:** you can check your answer by searching for the answer on-line)."
   ]
  },
  {
   "cell_type": "code",
   "execution_count": 68,
   "metadata": {},
   "outputs": [
    {
     "name": "stdout",
     "output_type": "stream",
     "text": [
      "[ 0.36241706  0.62587127  1.08083997  1.86654207  5.5666069   9.613177\n",
      " 16.60134687]\n"
     ]
    }
   ],
   "source": [
    "#Put your prediction calcluation here\n",
    "print(est_distances)\n",
    "asteroid_belt = (est_distances[4] + est_distances[5])/2"
   ]
  },
  {
   "cell_type": "code",
   "execution_count": 69,
   "metadata": {},
   "outputs": [
    {
     "name": "stdout",
     "output_type": "stream",
     "text": [
      "\n",
      "CheckWarning: passed variable is <class 'numpy.float64'> and not a float.\n",
      "    Trying to convert to a float using ```A = float(A)```.\n",
      "\n",
      "Testing 7.58989\n",
      "Answer seems to be incorrect\n",
      "\n"
     ]
    },
    {
     "ename": "AssertionError",
     "evalue": "Answer is incorrect 6862c6f1a3f68fd2307b045b0bebc633",
     "output_type": "error",
     "traceback": [
      "\u001b[0;31m---------------------------------------------------------------------------\u001b[0m",
      "\u001b[0;31mAssertionError\u001b[0m                            Traceback (most recent call last)",
      "\u001b[0;32m<ipython-input-69-bd217a1fb158>\u001b[0m in \u001b[0;36m<module>\u001b[0;34m\u001b[0m\n\u001b[0;32m----> 1\u001b[0;31m \u001b[0mcheckanswer\u001b[0m\u001b[0;34m.\u001b[0m\u001b[0mfloat\u001b[0m\u001b[0;34m(\u001b[0m\u001b[0masteroid_belt\u001b[0m\u001b[0;34m,\u001b[0m \u001b[0;34m'23f23bd6efcdddc6957e97a213a03b77'\u001b[0m\u001b[0;34m)\u001b[0m\u001b[0;34m\u001b[0m\u001b[0;34m\u001b[0m\u001b[0m\n\u001b[0m",
      "\u001b[0;32m~/answercheck.py\u001b[0m in \u001b[0;36mfloat\u001b[0;34m(A, hashtag, decimal_accuracy)\u001b[0m\n\u001b[1;32m     72\u001b[0m                 Converting to positive zero before checking using ```A = 0.00```.\\n\"\"\"))\n\u001b[1;32m     73\u001b[0m             \u001b[0mA\u001b[0m \u001b[0;34m=\u001b[0m \u001b[0;36m0.00\u001b[0m\u001b[0;34m\u001b[0m\u001b[0;34m\u001b[0m\u001b[0m\n\u001b[0;32m---> 74\u001b[0;31m         \u001b[0;32mreturn\u001b[0m \u001b[0mcheckanswer\u001b[0m\u001b[0;34m.\u001b[0m\u001b[0mbasic\u001b[0m\u001b[0;34m(\u001b[0m\u001b[0mA\u001b[0m\u001b[0;34m,\u001b[0m \u001b[0mhashtag\u001b[0m\u001b[0;34m)\u001b[0m\u001b[0;34m\u001b[0m\u001b[0;34m\u001b[0m\u001b[0m\n\u001b[0m\u001b[1;32m     75\u001b[0m \u001b[0;34m\u001b[0m\u001b[0m\n\u001b[1;32m     76\u001b[0m     \u001b[0;32mdef\u001b[0m \u001b[0mmake_vector\u001b[0m\u001b[0;34m(\u001b[0m\u001b[0mA\u001b[0m\u001b[0;34m,\u001b[0m \u001b[0mdecimal_accuracy\u001b[0m \u001b[0;34m=\u001b[0m \u001b[0;36m5\u001b[0m\u001b[0;34m)\u001b[0m\u001b[0;34m:\u001b[0m\u001b[0;34m\u001b[0m\u001b[0;34m\u001b[0m\u001b[0m\n",
      "\u001b[0;32m~/answercheck.py\u001b[0m in \u001b[0;36mbasic\u001b[0;34m(var, hashtag)\u001b[0m\n\u001b[1;32m     48\u001b[0m             \u001b[0;32melse\u001b[0m\u001b[0;34m:\u001b[0m\u001b[0;34m\u001b[0m\u001b[0;34m\u001b[0m\u001b[0m\n\u001b[1;32m     49\u001b[0m                 \u001b[0mprint\u001b[0m\u001b[0;34m(\u001b[0m\u001b[0;34m\"Answer seems to be incorrect\\n\"\u001b[0m\u001b[0;34m)\u001b[0m\u001b[0;34m\u001b[0m\u001b[0;34m\u001b[0m\u001b[0m\n\u001b[0;32m---> 50\u001b[0;31m                 \u001b[0;32massert\u001b[0m \u001b[0mchecktag\u001b[0m \u001b[0;34m==\u001b[0m \u001b[0mhashtag\u001b[0m\u001b[0;34m,\u001b[0m \u001b[0;34mf\"Answer is incorrect {checktag}\"\u001b[0m\u001b[0;34m\u001b[0m\u001b[0;34m\u001b[0m\u001b[0m\n\u001b[0m\u001b[1;32m     51\u001b[0m         \u001b[0;32melse\u001b[0m\u001b[0;34m:\u001b[0m\u001b[0;34m\u001b[0m\u001b[0;34m\u001b[0m\u001b[0m\n\u001b[1;32m     52\u001b[0m             \u001b[0;32mraise\u001b[0m \u001b[0mTypeError\u001b[0m\u001b[0;34m(\u001b[0m\u001b[0;34mf\"No answer hastag provided: {checktag}\"\u001b[0m\u001b[0;34m)\u001b[0m\u001b[0;34m\u001b[0m\u001b[0;34m\u001b[0m\u001b[0m\n",
      "\u001b[0;31mAssertionError\u001b[0m: Answer is incorrect 6862c6f1a3f68fd2307b045b0bebc633"
     ]
    }
   ],
   "source": [
    "checkanswer.float(asteroid_belt, '23f23bd6efcdddc6957e97a213a03b77')"
   ]
  },
  {
   "cell_type": "code",
   "execution_count": null,
   "metadata": {},
   "outputs": [],
   "source": [
    "checkanswer.float(neptune,'6e8bf4122717319b7d2dfee648c8cb17')"
   ]
  },
  {
   "cell_type": "markdown",
   "metadata": {},
   "source": [
    "\n",
    "---\n",
    "<a name=LSF-Example:-Predator-Pray-Model></a>\n",
    "## 2. LSF Example: Predator Pray Model\n",
    "\n",
    "\n",
    "\n",
    "<img alt=\"Cartoon image of a cat chasing a wind up mouse\" src=\"https://cdn.pixabay.com/photo/2016/06/14/15/46/cat-1456878_1280.png\" width=30%>\n",
    "\n",
    "The following example data comes from https://mathematica.stackexchange.com/questions/34761/find-parameters-of-odes-to-fit-solution-data and represents some experimental data ```time```, ```x``` and ```y```.\n"
   ]
  },
  {
   "cell_type": "markdown",
   "metadata": {},
   "source": [
    "$$dx = ax - bxy$$\n",
    "$$dy = -cy + dxy$$\n",
    "\n",
    "The following code plots the data"
   ]
  },
  {
   "cell_type": "code",
   "execution_count": 113,
   "metadata": {},
   "outputs": [
    {
     "data": {
      "image/png": "[encoded data removed]",
      "text/plain": [
       "<Figure size 432x288 with 1 Axes>"
      ]
     },
     "metadata": {
      "needs_background": "light"
     },
     "output_type": "display_data"
    }
   ],
   "source": [
    "# (* The first column is time 't', the second column is coordinate 'x', and the last column is coordinate 'y'. *)\n",
    "%matplotlib inline\n",
    "import matplotlib.pylab as plt\n",
    "import numpy as np\n",
    "\n",
    "data=[[11,45.79,41.4],\n",
    "      [12,53.03,38.9],[13,64.05,36.78],\n",
    "      [14,75.4,36.04],[15,90.36,33.78],\n",
    "      [16,107.14,35.4],[17,127.79,34.68],\n",
    "      [18,150.77,36.61], [19,179.65,37.71],\n",
    "      [20,211.82,41.98],[21,249.91,45.72],\n",
    "      [22,291.31,53.1],[23,334.95,65.44],\n",
    "      [24,380.67,83.],[25,420.28,108.74],\n",
    "      [26,445.56,150.01],[27,447.63,205.61],\n",
    "      [28,414.04,281.6],[29,347.04,364.56],\n",
    "      [30,265.33,440.3],[31,187.57,489.68],\n",
    "      [32,128.,512.95],[33,85.25,510.01],\n",
    "      [34,57.17,491.06],[35,39.96,462.22],\n",
    "      [36,29.22,430.15],[37,22.3,396.95],\n",
    "      [38,16.52,364.87],[39,14.41,333.16],\n",
    "      [40,11.58,304.97],[41,10.41,277.73],\n",
    "      [42,10.17,253.16],[43,7.86,229.66],\n",
    "      [44,9.23,209.53],[45,8.22,190.07],\n",
    "      [46,8.76,173.58],[47,7.9,156.4],\n",
    "      [48,8.38,143.05],[49,9.53,130.75],\n",
    "      [50,9.33,117.49],[51,9.72,108.16],\n",
    "      [52,10.55,98.08],[53,13.05,88.91],\n",
    "      [54,13.58,82.28],[55,16.31,75.42],\n",
    "      [56,17.75,69.58],[57,20.11,62.58],\n",
    "      [58,23.98,59.22],[59,28.51,54.91],\n",
    "      [60,31.61,49.79],[61,37.13,45.94],\n",
    "      [62,45.06,43.41],[63,53.4,41.3],\n",
    "      [64,62.39,40.28],[65,72.89,37.71],\n",
    "      [66,86.92,36.58],[67,103.32,36.98],\n",
    "      [68,121.7,36.65],[69,144.86,37.87],\n",
    "      [70,171.92,39.63],[71,202.51,42.97],\n",
    "      [72,237.69,46.95],[73,276.77,54.93],\n",
    "      [74,319.76,64.61],[75,362.05,81.28],\n",
    "      [76,400.11,105.5],[77,427.79,143.03],\n",
    "      [78,434.56,192.45],[79,410.31,260.84],\n",
    "      [80,354.18,339.39],[81,278.49,413.79],\n",
    "      [82,203.72,466.94],[83,141.06,494.72],\n",
    "      [84,95.08,499.37],[85,66.76,484.58],\n",
    "      [86,45.41,460.63],[87,33.13,429.79],\n",
    "      [88,25.89,398.77],[89,20.51,366.49],\n",
    "      [90,17.11,336.56],[91,12.69,306.39],\n",
    "      [92,11.76,279.53],[93,11.22,254.95],\n",
    "      [94,10.29,233.5],[95,8.82,212.74],\n",
    "      [96,9.51,193.61],[97,8.69,175.01],\n",
    "      [98,9.53,160.59],[99,8.68,146.12],[100,10.82,131.85]]\n",
    "data = np.array(data)\n",
    "t = data[:,0]\n",
    "x = data[:,1]\n",
    "y = data[:,2]\n",
    "plt.scatter(t,x)\n",
    "plt.scatter(t,y)\n",
    "plt.legend(('prey', 'preditor'))\n",
    "plt.xlabel('Time')\n",
    "plt.title('Population');"
   ]
  },
  {
   "cell_type": "markdown",
   "metadata": {},
   "source": [
    "**<font color=red>RECALL</font>** For discrete data we will define a simple numerical differentiation as:\n",
    "\n",
    "$$\\dfrac{dx}{dt}(t_n) = \\dfrac{x(t_{n+1})-x(t_n)}{t_{n+1}-t_n}$$\n",
    "\n",
    "\n",
    "$$\\dfrac{dy}{dt}(t_n) = \\dfrac{y(t_{n+1})-y(t_n)}{t_{n+1}-t_n}$$\n"
   ]
  },
  {
   "cell_type": "markdown",
   "metadata": {},
   "source": [
    "<mark>&#9989; **<font color=red>DO THIS</font>** Use Numerical Differentiation to calculate $dx$ and $dy$ from $x$ and $y$. See if you can plot $x,dx$ nad $y,dy$ on a couple of plots. Use the plots to try and check to make sure your results make sense.  </mark>"
   ]
  },
  {
   "cell_type": "code",
   "execution_count": 114,
   "metadata": {},
   "outputs": [
    {
     "name": "stdout",
     "output_type": "stream",
     "text": [
      "90\n",
      "90\n",
      "90\n"
     ]
    }
   ],
   "source": [
    "t\n",
    "print(len(t))\n",
    "print(len(x))\n",
    "print(len(y))"
   ]
  },
  {
   "cell_type": "code",
   "execution_count": 144,
   "metadata": {},
   "outputs": [
    {
     "name": "stdout",
     "output_type": "stream",
     "text": [
      "89\n"
     ]
    },
    {
     "data": {
      "image/png": "[encoded data removed]",
      "text/plain": [
       "<Figure size 432x288 with 1 Axes>"
      ]
     },
     "metadata": {
      "needs_background": "light"
     },
     "output_type": "display_data"
    }
   ],
   "source": [
    "# Put your answer here\n",
    "dx = np.zeros(len(t)-1)\n",
    "for i in range(len(t)-1):\n",
    "    dx[i] = (x[i+1] - x[i])/(t[i+1]-t[i])\n",
    "dy = np.zeros(len(t)-1)\n",
    "for i in range(len(t)-1):\n",
    "    dy[i] = (y[i+1] - y[i])/(t[i+1]-t[i])\n",
    "plt.scatter(t[:-1],dx)\n",
    "plt.scatter(t,x)\n",
    "plt.scatter(t[:-1],dy)\n",
    "plt.legend(('prey', 'preditor'))\n",
    "plt.xlabel('Time')\n",
    "plt.title('Population');\n",
    "print(len(dx))"
   ]
  },
  {
   "cell_type": "markdown",
   "metadata": {},
   "source": [
    "<mark>&#9989; **<font color=red>DO THIS</font>**  Formulate two linear systems ($Ax=b$) and solve them using LSF as we did in pre-class 19. Use one to solve the first ODE and the second to solve the second ODE.  Remember, we are trying to estimate values for $a,b,c,d$ </mark>"
   ]
  },
  {
   "cell_type": "code",
   "execution_count": 149,
   "metadata": {},
   "outputs": [
    {
     "ename": "ValueError",
     "evalue": "all the input array dimensions for the concatenation axis must match exactly, but along dimension 1, the array at index 0 has size 90 and the array at index 1 has size 89",
     "output_type": "error",
     "traceback": [
      "\u001b[0;31m---------------------------------------------------------------------------\u001b[0m",
      "\u001b[0;31mValueError\u001b[0m                                Traceback (most recent call last)",
      "\u001b[0;32m<ipython-input-149-60d36e504df2>\u001b[0m in \u001b[0;36m<module>\u001b[0;34m\u001b[0m\n\u001b[1;32m      3\u001b[0m \u001b[0;32mfor\u001b[0m \u001b[0mi\u001b[0m \u001b[0;32min\u001b[0m \u001b[0mrange\u001b[0m\u001b[0;34m(\u001b[0m\u001b[0mlen\u001b[0m\u001b[0;34m(\u001b[0m\u001b[0mx\u001b[0m\u001b[0;34m)\u001b[0m\u001b[0;34m-\u001b[0m\u001b[0;36m1\u001b[0m\u001b[0;34m)\u001b[0m\u001b[0;34m:\u001b[0m\u001b[0;34m\u001b[0m\u001b[0;34m\u001b[0m\u001b[0m\n\u001b[1;32m      4\u001b[0m     \u001b[0mxy\u001b[0m\u001b[0;34m[\u001b[0m\u001b[0mi\u001b[0m\u001b[0;34m]\u001b[0m \u001b[0;34m=\u001b[0m \u001b[0;34m(\u001b[0m\u001b[0;34m-\u001b[0m\u001b[0;36m1\u001b[0m\u001b[0;34m)\u001b[0m \u001b[0;34m*\u001b[0m \u001b[0mx\u001b[0m\u001b[0;34m[\u001b[0m\u001b[0mi\u001b[0m\u001b[0;34m]\u001b[0m \u001b[0;34m*\u001b[0m \u001b[0my\u001b[0m\u001b[0;34m[\u001b[0m\u001b[0mi\u001b[0m\u001b[0;34m]\u001b[0m\u001b[0;34m\u001b[0m\u001b[0;34m\u001b[0m\u001b[0m\n\u001b[0;32m----> 5\u001b[0;31m \u001b[0mA1\u001b[0m \u001b[0;34m=\u001b[0m \u001b[0mnp\u001b[0m\u001b[0;34m.\u001b[0m\u001b[0mmatrix\u001b[0m\u001b[0;34m(\u001b[0m\u001b[0mnp\u001b[0m\u001b[0;34m.\u001b[0m\u001b[0mvstack\u001b[0m\u001b[0;34m(\u001b[0m\u001b[0;34m(\u001b[0m\u001b[0mx\u001b[0m\u001b[0;34m,\u001b[0m\u001b[0mxy\u001b[0m\u001b[0;34m)\u001b[0m\u001b[0;34m)\u001b[0m\u001b[0;34m)\u001b[0m\u001b[0;34m.\u001b[0m\u001b[0mT\u001b[0m\u001b[0;34m\u001b[0m\u001b[0;34m\u001b[0m\u001b[0m\n\u001b[0m\u001b[1;32m      6\u001b[0m \u001b[0my1\u001b[0m \u001b[0;34m=\u001b[0m \u001b[0mnp\u001b[0m\u001b[0;34m.\u001b[0m\u001b[0mmatrix\u001b[0m\u001b[0;34m(\u001b[0m\u001b[0mdx\u001b[0m\u001b[0;34m)\u001b[0m\u001b[0;34m.\u001b[0m\u001b[0mT\u001b[0m\u001b[0;34m\u001b[0m\u001b[0;34m\u001b[0m\u001b[0m\n\u001b[1;32m      7\u001b[0m \u001b[0;34m\u001b[0m\u001b[0m\n",
      "\u001b[0;32m<__array_function__ internals>\u001b[0m in \u001b[0;36mvstack\u001b[0;34m(*args, **kwargs)\u001b[0m\n",
      "\u001b[0;32m/opt/anaconda3/lib/python3.8/site-packages/numpy/core/shape_base.py\u001b[0m in \u001b[0;36mvstack\u001b[0;34m(tup)\u001b[0m\n\u001b[1;32m    281\u001b[0m     \u001b[0;32mif\u001b[0m \u001b[0;32mnot\u001b[0m \u001b[0misinstance\u001b[0m\u001b[0;34m(\u001b[0m\u001b[0marrs\u001b[0m\u001b[0;34m,\u001b[0m \u001b[0mlist\u001b[0m\u001b[0;34m)\u001b[0m\u001b[0;34m:\u001b[0m\u001b[0;34m\u001b[0m\u001b[0;34m\u001b[0m\u001b[0m\n\u001b[1;32m    282\u001b[0m         \u001b[0marrs\u001b[0m \u001b[0;34m=\u001b[0m \u001b[0;34m[\u001b[0m\u001b[0marrs\u001b[0m\u001b[0;34m]\u001b[0m\u001b[0;34m\u001b[0m\u001b[0;34m\u001b[0m\u001b[0m\n\u001b[0;32m--> 283\u001b[0;31m     \u001b[0;32mreturn\u001b[0m \u001b[0m_nx\u001b[0m\u001b[0;34m.\u001b[0m\u001b[0mconcatenate\u001b[0m\u001b[0;34m(\u001b[0m\u001b[0marrs\u001b[0m\u001b[0;34m,\u001b[0m \u001b[0;36m0\u001b[0m\u001b[0;34m)\u001b[0m\u001b[0;34m\u001b[0m\u001b[0;34m\u001b[0m\u001b[0m\n\u001b[0m\u001b[1;32m    284\u001b[0m \u001b[0;34m\u001b[0m\u001b[0m\n\u001b[1;32m    285\u001b[0m \u001b[0;34m\u001b[0m\u001b[0m\n",
      "\u001b[0;32m<__array_function__ internals>\u001b[0m in \u001b[0;36mconcatenate\u001b[0;34m(*args, **kwargs)\u001b[0m\n",
      "\u001b[0;31mValueError\u001b[0m: all the input array dimensions for the concatenation axis must match exactly, but along dimension 1, the array at index 0 has size 90 and the array at index 1 has size 89"
     ]
    }
   ],
   "source": [
    "#Put your answer here.\n",
    "xy = np.zeros(len(x)-1)\n",
    "for i in range(len(x)-1):\n",
    "    xy[i] = (-1) * x[i] * y[i]\n",
    "A1 = np.matrix(np.vstack((x,xy))).T\n",
    "y1 = np.matrix(dx).T\n",
    "\n",
    "A1t = A1.T\n",
    "C1 = A1t * A1\n",
    "A1ty = A1t * y1\n",
    "x1 = np.linalg.inv(C1) * A1t * y1\n",
    "\n",
    "neg_y = np.zeros(len(y)-1)\n",
    "for i in range(len(y)-1):\n",
    "    neg_y[i] = (-1) * y[i]\n",
    "pos_xy = np.zeros(len(x)-1)\n",
    "for i in range(len(x)-1):\n",
    "    pos_xy[i] = x[i] * y[i]\n",
    "\n",
    "A2 = np.matrix(np.vstack((neg_y,pos_xy))).T\n",
    "y2 = np.matrix(dy).T\n",
    "\n",
    "A2t = A2.T\n",
    "C2 = A2t * A2\n",
    "A2ty = A2t * y2\n",
    "x2 = np.linalg.inv(C2) * A2t * y2 \n",
    "a = float(x1[0][0])\n",
    "b = float(x1[1][0])\n",
    "c = float(x2[0][0])\n",
    "d = float(x2[1][0])\n",
    "answers = np.array([a,b,c,d])\n",
    "b"
   ]
  },
  {
   "cell_type": "code",
   "execution_count": 147,
   "metadata": {},
   "outputs": [
    {
     "name": "stdout",
     "output_type": "stream",
     "text": [
      "\n",
      "CheckWarning: passed variable is <class 'numpy.ndarray'> and not a numpy.matrix...\n",
      "    Trying to convert to a array matrix using ```A = np.matrix(A)```.\n",
      "\n",
      "Testing [[0.19719 0.00117 0.10873 0.00093]]\n",
      "Answer seems to be incorrect\n",
      "\n"
     ]
    },
    {
     "ename": "AssertionError",
     "evalue": "Answer is incorrect 6401e78ab69cab7620545db62446da49",
     "output_type": "error",
     "traceback": [
      "\u001b[0;31m---------------------------------------------------------------------------\u001b[0m",
      "\u001b[0;31mAssertionError\u001b[0m                            Traceback (most recent call last)",
      "\u001b[0;32m<ipython-input-147-9ecc6bc0f60d>\u001b[0m in \u001b[0;36m<module>\u001b[0;34m\u001b[0m\n\u001b[0;32m----> 1\u001b[0;31m \u001b[0mcheckanswer\u001b[0m\u001b[0;34m.\u001b[0m\u001b[0mmatrix\u001b[0m\u001b[0;34m(\u001b[0m\u001b[0manswers\u001b[0m\u001b[0;34m,\u001b[0m\u001b[0;34m'd52b512a45925341919228f8d92aa72c'\u001b[0m\u001b[0;34m)\u001b[0m\u001b[0;34m;\u001b[0m\u001b[0;34m\u001b[0m\u001b[0;34m\u001b[0m\u001b[0m\n\u001b[0m",
      "\u001b[0;32m~/answercheck.py\u001b[0m in \u001b[0;36mmatrix\u001b[0;34m(A, hashtag, decimal_accuracy)\u001b[0m\n\u001b[1;32m    150\u001b[0m         \u001b[0;34m\"\"\"Function to check matrix type before hashing.\"\"\"\u001b[0m\u001b[0;34m\u001b[0m\u001b[0;34m\u001b[0m\u001b[0m\n\u001b[1;32m    151\u001b[0m         \u001b[0mA\u001b[0m \u001b[0;34m=\u001b[0m \u001b[0mcheckanswer\u001b[0m\u001b[0;34m.\u001b[0m\u001b[0mmake_matrix\u001b[0m\u001b[0;34m(\u001b[0m\u001b[0mA\u001b[0m\u001b[0;34m,\u001b[0m \u001b[0mdecimal_accuracy\u001b[0m\u001b[0;34m)\u001b[0m\u001b[0;34m\u001b[0m\u001b[0;34m\u001b[0m\u001b[0m\n\u001b[0;32m--> 152\u001b[0;31m         \u001b[0;32mreturn\u001b[0m \u001b[0mcheckanswer\u001b[0m\u001b[0;34m.\u001b[0m\u001b[0mbasic\u001b[0m\u001b[0;34m(\u001b[0m\u001b[0mA\u001b[0m\u001b[0;34m,\u001b[0m \u001b[0mhashtag\u001b[0m\u001b[0;34m)\u001b[0m\u001b[0;34m\u001b[0m\u001b[0;34m\u001b[0m\u001b[0m\n\u001b[0m\u001b[1;32m    153\u001b[0m \u001b[0;34m\u001b[0m\u001b[0m\n\u001b[1;32m    154\u001b[0m     \u001b[0;31m# TODO: Not complete or tested.\u001b[0m\u001b[0;34m\u001b[0m\u001b[0;34m\u001b[0m\u001b[0;34m\u001b[0m\u001b[0m\n",
      "\u001b[0;32m~/answercheck.py\u001b[0m in \u001b[0;36mbasic\u001b[0;34m(var, hashtag)\u001b[0m\n\u001b[1;32m     48\u001b[0m             \u001b[0;32melse\u001b[0m\u001b[0;34m:\u001b[0m\u001b[0;34m\u001b[0m\u001b[0;34m\u001b[0m\u001b[0m\n\u001b[1;32m     49\u001b[0m                 \u001b[0mprint\u001b[0m\u001b[0;34m(\u001b[0m\u001b[0;34m\"Answer seems to be incorrect\\n\"\u001b[0m\u001b[0;34m)\u001b[0m\u001b[0;34m\u001b[0m\u001b[0;34m\u001b[0m\u001b[0m\n\u001b[0;32m---> 50\u001b[0;31m                 \u001b[0;32massert\u001b[0m \u001b[0mchecktag\u001b[0m \u001b[0;34m==\u001b[0m \u001b[0mhashtag\u001b[0m\u001b[0;34m,\u001b[0m \u001b[0;34mf\"Answer is incorrect {checktag}\"\u001b[0m\u001b[0;34m\u001b[0m\u001b[0;34m\u001b[0m\u001b[0m\n\u001b[0m\u001b[1;32m     51\u001b[0m         \u001b[0;32melse\u001b[0m\u001b[0;34m:\u001b[0m\u001b[0;34m\u001b[0m\u001b[0;34m\u001b[0m\u001b[0m\n\u001b[1;32m     52\u001b[0m             \u001b[0;32mraise\u001b[0m \u001b[0mTypeError\u001b[0m\u001b[0;34m(\u001b[0m\u001b[0;34mf\"No answer hastag provided: {checktag}\"\u001b[0m\u001b[0;34m)\u001b[0m\u001b[0;34m\u001b[0m\u001b[0;34m\u001b[0m\u001b[0m\n",
      "\u001b[0;31mAssertionError\u001b[0m: Answer is incorrect 6401e78ab69cab7620545db62446da49"
     ]
    }
   ],
   "source": [
    "checkanswer.matrix(answers,'d52b512a45925341919228f8d92aa72c');"
   ]
  },
  {
   "cell_type": "markdown",
   "metadata": {},
   "source": [
    "Assuming everything worked the following should plot the result."
   ]
  },
  {
   "cell_type": "code",
   "execution_count": 141,
   "metadata": {},
   "outputs": [
    {
     "data": {
      "image/png": "[encoded data removed]",
      "text/plain": [
       "<Figure size 432x288 with 1 Axes>"
      ]
     },
     "metadata": {
      "needs_background": "light"
     },
     "output_type": "display_data"
    }
   ],
   "source": [
    "from scipy.integrate import odeint\n",
    "# The above ODE model sutiable for ODEINT\n",
    "def deriv(position,t,a,b,c,d):\n",
    "    x = position[0]\n",
    "    y = position[1]\n",
    "    dx = a*x - b*x*y\n",
    "    dy = -c*y + d*x*y\n",
    "    return (dx,dy)\n",
    "\n",
    "# Integrate equations over the time grid, t.\n",
    "ret = odeint(deriv, (data[0,1],data[0,2]), t, args=(a,b,c,d))\n",
    "\n",
    "#Plot the model on the data\n",
    "plt.plot(t,ret)\n",
    "plt.scatter(t, data[:,1])\n",
    "plt.scatter(t, data[:,2]);\n",
    "plt.legend(('x est', 'y est', 'x', 'y'))\n",
    "plt.xlabel('Time');"
   ]
  },
  {
   "cell_type": "markdown",
   "metadata": {},
   "source": [
    "\n",
    "\n",
    "---\n",
    "<a name=LSF-Example:-Estimating-the-best-Ellipses></a>\n",
    "## 3. LSF Example: Estimating the best Ellipses\n",
    "\n",
    "   \n",
    "<img alt=\"Animated image of planets revolving around the sun\" src=\"https://thumbs.gfycat.com/WhimsicalUnequaledBuzzard-max-1mb.gif\" width=\"30%\">\n",
    "  "
   ]
  },
  {
   "cell_type": "code",
   "execution_count": 87,
   "metadata": {},
   "outputs": [],
   "source": [
    "%matplotlib inline\n",
    "import matplotlib.pylab as plt\n",
    "import numpy as np\n",
    "import sympy as sym\n",
    "sym.init_printing(use_unicode=True)"
   ]
  },
  {
   "cell_type": "markdown",
   "metadata": {},
   "source": [
    "Now consider the following sets of points. Think of these as observations of planet moving in an elliptical orbit. "
   ]
  },
  {
   "cell_type": "code",
   "execution_count": 88,
   "metadata": {},
   "outputs": [
    {
     "data": {
      "image/png": "[encoded data removed]",
      "text/latex": [
       "$\\displaystyle \\left( -1.325, \\  1.425, \\  -2.292, \\  3.252\\right)$"
      ],
      "text/plain": [
       "(-1.325, 1.425, -2.292, 3.252)"
      ]
     },
     "execution_count": 88,
     "metadata": {},
     "output_type": "execute_result"
    },
    {
     "data": {
      "image/png": "[encoded data removed]",
      "text/plain": [
       "<Figure size 432x288 with 1 Axes>"
      ]
     },
     "metadata": {
      "needs_background": "light"
     },
     "output_type": "display_data"
    }
   ],
   "source": [
    "x=[0, 1.0, 1.1, -1.1, -1.2, 1.3]\n",
    "y =[2*1.5, 2*1.0, 2*-0.99, 2*-1.02, 2*1.2, 2*0]\n",
    "\n",
    "plt.scatter(x,y)\n",
    "plt.axis('equal')"
   ]
  },
  {
   "cell_type": "markdown",
   "metadata": {},
   "source": [
    "In this problem we want to try to fit an ellipse to the above data.  First let's look at a general equation for an ellipse:"
   ]
  },
  {
   "cell_type": "markdown",
   "metadata": {},
   "source": [
    "$$ \\frac{(u+x)^2}{a^2} + \\frac{(v+y)^2}{b^2} = 1 \\qquad \\qquad \\text{    (1)}$$"
   ]
  },
  {
   "cell_type": "markdown",
   "metadata": {},
   "source": [
    "Where $u$ and $v$ are the $x$ and $y$ coordinates for the center of the ellipse and $a$ and $b$ are the lengths of the axes sizes of the ellipse.  A quick search on how to plot an ellipse in python comes up with the following example:"
   ]
  },
  {
   "cell_type": "code",
   "execution_count": 89,
   "metadata": {},
   "outputs": [
    {
     "data": {
      "image/png": "[encoded data removed]",
      "text/plain": [
       "<Figure size 432x288 with 1 Axes>"
      ]
     },
     "metadata": {
      "needs_background": "light"
     },
     "output_type": "display_data"
    }
   ],
   "source": [
    "# Code from: https://stackoverflow.com/questions/10952060/plot-ellipse-with-matplotlib-pyplot-python\n",
    "\n",
    "u=1.     #x-position of the center\n",
    "v=0.5    #y-position of the center\n",
    "a=2.     #radius on the x-axis\n",
    "b=1.5    #radius on the y-axis\n",
    "\n",
    "t = np.linspace(0, 2*np.pi, 100)\n",
    "plt.plot( u+a*np.cos(t) , v+b*np.sin(t) )\n",
    "plt.grid(color='lightgray',linestyle='--')\n",
    "plt.show()"
   ]
  },
  {
   "cell_type": "markdown",
   "metadata": {},
   "source": [
    "Notice this example uses equations of the form:\n",
    "\n",
    "$$t = [0, \\dots, 2\\pi]$$\n",
    "$$x = u+a\\cos(t)$$\n",
    "$$y = v+b\\sin(t)$$\n",
    "\n",
    "Turns out that this form of the equation is easier to plot and the variables $u,v,a,b$ are the same as our original equation. \n",
    "\n",
    "Now lets expand the original equation (equation 1 from above) and we get the following:\n",
    "\n",
    "$$x^2−2ux-u^2+y^2−2vy+v^2=r^2 \\qquad \\qquad \\text{    (2)}$$"
   ]
  },
  {
   "cell_type": "markdown",
   "metadata": {},
   "source": [
    "<mark>&#9989; **<font color=red>QUESTION:</font>** Why can't we convert equation 2 into the form $Ax=b$ and solve using Least Squares Fit? Discuss with your group and be prepared to share your thought with the class.</mark>"
   ]
  },
  {
   "cell_type": "markdown",
   "metadata": {},
   "source": [
    "Put your answer to the above question here."
   ]
  },
  {
   "cell_type": "markdown",
   "metadata": {},
   "source": [
    "If we look at our data more closely we can simplify equations 1 and 2 by assuming the centroid (u,v) is at the origin.  This assumption results in the following equation:\n",
    "\n",
    "$$ \\frac{x^2}{a^2} + \\frac{y^2}{b^2} = 1 $$"
   ]
  },
  {
   "cell_type": "markdown",
   "metadata": {},
   "source": [
    "Notice we can rewrite this into a standard linear set of equations by defining $c_o = \\frac{1}{a^2}$ and $c_1 = \\frac{1}{b^2}$ and rewriting the equation as follows:\n",
    "\n",
    "\n",
    "$$ c_0x^2 + c_1y^2 = 1 $$"
   ]
  },
  {
   "cell_type": "markdown",
   "metadata": {},
   "source": [
    "<mark>&#9989; **<font color=red>DO THIS</font>** Given that we know the $x$ and $y$ values of our point observations, equation 4 is now linear and can be solved using Least Squares Fit.  Using the observation points from above construct  ```A``` and ```b``` as numpy matrixes for the overdefined system $Ax=b$</mark>"
   ]
  },
  {
   "cell_type": "markdown",
   "metadata": {},
   "source": [
    "Put your answer to the above question here."
   ]
  },
  {
   "cell_type": "code",
   "execution_count": null,
   "metadata": {},
   "outputs": [],
   "source": [
    "sym.Matrix(A)"
   ]
  },
  {
   "cell_type": "code",
   "execution_count": null,
   "metadata": {},
   "outputs": [],
   "source": [
    "checkanswer.matrix(A,'d0cc5b62561ed22ec3f99b4c92347b03')"
   ]
  },
  {
   "cell_type": "code",
   "execution_count": null,
   "metadata": {},
   "outputs": [],
   "source": [
    "sym.Matrix(b)"
   ]
  },
  {
   "cell_type": "code",
   "execution_count": null,
   "metadata": {},
   "outputs": [],
   "source": [
    "checkanswer.matrix(b,'1da2d2ec94b94230d94fd81e48434561')"
   ]
  },
  {
   "cell_type": "markdown",
   "metadata": {},
   "source": [
    "<mark>&#9989; **<font color=red>DO THIS:</font>** Solve the above over defined system of linear equations for $c_0$ and $c_1$ using LSF.</mark>"
   ]
  },
  {
   "cell_type": "code",
   "execution_count": null,
   "metadata": {},
   "outputs": [],
   "source": [
    "# Put your answer to the above question here"
   ]
  },
  {
   "cell_type": "code",
   "execution_count": null,
   "metadata": {},
   "outputs": [],
   "source": [
    "#here the vector c should equal [c0,c1]\n",
    "checkanswer.matrix(c,'2933cc2b41a90c2f52a3b4334ec83ef9')"
   ]
  },
  {
   "cell_type": "markdown",
   "metadata": {},
   "source": [
    "Assuming we have $c$ in the correct format, we can now calculate $a$ and $b$ from the solution for $c_o$ and $c_1$ calculated in the previous step and plot using our plotting code:"
   ]
  },
  {
   "cell_type": "code",
   "execution_count": null,
   "metadata": {},
   "outputs": [],
   "source": [
    "c = 1/np.sqrt(np.abs(c))\n",
    "b=c[1,0] \n",
    "a=c[0,0]\n",
    "print(a,b)"
   ]
  },
  {
   "cell_type": "code",
   "execution_count": null,
   "metadata": {},
   "outputs": [],
   "source": [
    "u=0     #x-position of the center\n",
    "v=0     #y-position of the center\n",
    "\n",
    "t = np.linspace(0, 2*np.pi, 100)\n",
    "plt.plot(u+a*np.cos(t) , v+b*np.sin(t) )\n",
    "plt.scatter(x,y)\n",
    "plt.grid(color='lightgray',linestyle='--')\n",
    "plt.axis('equal');"
   ]
  },
  {
   "cell_type": "markdown",
   "metadata": {},
   "source": [
    "----\n",
    "\n",
    "Written by Dr. Dirk Colbry, Michigan State University\n",
    "<a rel=\"license\" href=\"http://creativecommons.org/licenses/by-nc/4.0/\"><img alt=\"Creative Commons License\" style=\"border-width:0\" src=\"https://i.creativecommons.org/l/by-nc/4.0/88x31.png\" /></a><br />This work is licensed under a <a rel=\"license\" href=\"http://creativecommons.org/licenses/by-nc/4.0/\">Creative Commons Attribution-NonCommercial 4.0 International License</a>."
   ]
  }
 ],
 "metadata": {
  "kernelspec": {
   "display_name": "Python 3",
   "language": "python",
   "name": "python3"
  },
  "language_info": {
   "codemirror_mode": {
    "name": "ipython",
    "version": 3
   },
   "file_extension": ".py",
   "mimetype": "text/x-python",
   "name": "python",
   "nbconvert_exporter": "python",
   "pygments_lexer": "ipython3",
   "version": "3.8.8"
  }
 },
 "nbformat": 4,
 "nbformat_minor": 4
}
