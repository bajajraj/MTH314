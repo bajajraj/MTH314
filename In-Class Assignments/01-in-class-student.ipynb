{
 "cells": [
  {
   "cell_type": "markdown",
   "metadata": {},
   "source": [
    "\n",
    "In order to successfully complete this assignment we recommend that you participate both individually and in groups during class.   If you attend class in-person then have one of the instructors check your notebook and sign you out before leaving class. Turn in your assignment using D2L no later than **_11:59pm on the day of class_**. Grading is based on correctness and completion. \n"
   ]
  },
  {
   "cell_type": "markdown",
   "metadata": {},
   "source": [
    "# 01 In-Class Assignment: Welcome to Matrix Algebra with computational applications"
   ]
  },
  {
   "cell_type": "markdown",
   "metadata": {},
   "source": [
    "What can you solve with $Ax=b$?\n",
    "\n",
    "<img src=\"https://upload.wikimedia.org/wikipedia/commons/thumb/2/2f/Linear_subspaces_with_shading.svg/650px-Linear_subspaces_with_shading.svg.png\" alt=\"Visual image of three planes intersecting. This is a common image used in linear algebra and will be explained in detail laater in the semester.  It is included here mostly as a visual anchor that can help students when they review their notes. \">\n",
    "\n",
    "Image from [http://wikipedia.org/](http://wikipedia.org/)\n"
   ]
  },
  {
   "cell_type": "markdown",
   "metadata": {},
   "source": [
    "### Agenda for today's class (80 minutes)\n",
    "\n",
    "\n",
    "1. [(10 minutes) Class Procedures](#Class_Procedures)\n",
    "2. [(10 minutes) Introductions](#Introductions)\n",
    "3. [(10 minutes) Example](#Example)\n",
    "4. [(25 minutes) Syllabus, Schedule and other Procedures](#Syllabus_and_Schedule)\n",
    "5. [(5 minutes) Download and review next pre-class assignment](#Download_and_review_next_pre-class_assignment)"
   ]
  },
  {
   "cell_type": "markdown",
   "metadata": {},
   "source": [
    "---\n",
    "<a name=\"Class_Procedures\"></a>\n",
    "## 1. Class Procedures\n",
    "\n",
    "All in-class assignments are designed such that you can get started as soon as you show up in class. This is highly recommended.  See how far you can get on your own and then you will be ready when it is time for questions.   Here are the basic instructions."
   ]
  },
  {
   "cell_type": "markdown",
   "metadata": {},
   "source": [
    "### &#9989; Step 1 - Get out your laptop\n",
    "\n"
   ]
  },
  {
   "cell_type": "markdown",
   "metadata": {},
   "source": [
    "### &#9989; Step 2 - Create a Course Assignment Folder in your home directory\n",
    "\n",
    "\n",
    "> **_HINT_** Store all notebooks in the same folder on your computer. They will work better that way."
   ]
  },
  {
   "cell_type": "markdown",
   "metadata": {},
   "source": [
    "### &#9989; Step 3 - Download this jupyter notebook\n",
    "\n",
    "> Download a copy of this notebook (ipynb file which tands for ipython notebook). \n"
   ]
  },
  {
   "cell_type": "markdown",
   "metadata": {},
   "source": [
    "### &#9989; Step 4 - Open this assignment in Jupyter\n",
    "\n",
    "> Open the downloaded file inside of jupyter either on your laptop or upload the file to an on-line server and open it there.  \n"
   ]
  },
  {
   "cell_type": "markdown",
   "metadata": {},
   "source": [
    "\n",
    "### &#9989; Step 5 - Activate your engineering account \n",
    "\n",
    "> When you enrolled in class you should have received an engineering login.  Go to the following URL to activate the account and set your password.\n",
    "\n",
    "> \n",
    "> * https://www.egr.msu.edu/decs/myaccount/?page=activate\n",
    "> \n",
    ">**_NOTE:_** The Default DECS password is APID then the @ symbol. \n",
    ">\n",
    ">**_ALSO NOTE:_** Anyone not enrolled in the course will likely not have an account. \n"
   ]
  },
  {
   "cell_type": "markdown",
   "metadata": {},
   "source": [
    "### &#9989; Step 6 - Log onto the Engineering JupyterHub Website\n",
    "\n",
    "> http://jupyterhub.egr.msu.edu\n"
   ]
  },
  {
   "cell_type": "markdown",
   "metadata": {},
   "source": [
    "### &#9989; Step 7 - Upload this notebook to newly created folder on Jupyterhub\n",
    "\n",
    "> Once the notebook is uploaded, open it.\n"
   ]
  },
  {
   "cell_type": "markdown",
   "metadata": {},
   "source": [
    "\n",
    "### &#9989; Step 8 - Sign in to the course Piazza forum.\n",
    "\n",
    "\n",
    "> We will be using Piazza for all asynchronous in-class discussions.  We use Piazza and our Help Sessions as the primary ways to communicate with students outside of class.  \n",
    ">\n",
    "> To join the course Piazza forum please use the following link:\n",
    "> \n",
    "> - [Link to join Piazza](https://piazza.com/msu/fall2021/mth314 )\n"
   ]
  },
  {
   "cell_type": "markdown",
   "metadata": {},
   "source": [
    "---\n",
    "<a name=\"Introductions\"></a>\n",
    "## 2. Introductions\n",
    "\n",
    "This course appeals to students from many different backgrounds.  Let us use this time to go around the room and introduce ourselves to each other. "
   ]
  },
  {
   "cell_type": "markdown",
   "metadata": {},
   "source": [
    "---\n",
    "<a name=\"Example\"></a>\n",
    "## 3. Example:\n",
    "\n",
    "Suppose that we have three objects on a balanced beam. Also suppose we know that one has a mass of 2 kg, and we want to find the two unknown masses. Experimentation with a (assume weightless) meter stick produces these two balances. (diagram not to scale)\n",
    " \n",
    "<img src=\"https://lh6.googleusercontent.com/S-glvU6hZySH682ocl1T_2jNWL7S2MUCQeyDFgEZM8GPZ4xLjEkeD9KKsU5otJF0zfgcQtT-zQ=w740\" align=\"center\" width=\"70%\" alt=\"Image showing two balanced beams, each with three weights. In the top beam is unknown weight A is a distance of 40 to the left of the fulcrum, unknown weight B is a distance of 15 to the left of the fulcrum and a weight of 2 is 50 to the right of the fulcrum. In the bottom beam is the same unknown weights.  Weight A is now a distance of 50 to the right of the fulcrum, weight B is a distance of 25 to the left of the fulcrum and the weight of 2 is a distance of 25 to the right of the fulcrum.\">\n",
    "\n",
    "For the masses to balance we must have the sum of the moments on the left equal to the sum of the moments on the right, where the moment of an object is its mass times its distance from the balance point.   That gives a system of two  equations:\n",
    "\n",
    "$$ 40A + 15B = 50 \\times 2$$\n",
    "$$25B = 25 \\times 2 + 50A$$\n"
   ]
  },
  {
   "cell_type": "markdown",
   "metadata": {},
   "source": [
    "&#9989; **<span style=\"color:red\">Do This:</span>** Find a solution for the above system of equations and place your solution in the following cell. Make sure you delete the instructional text in the cell first. "
   ]
  },
  {
   "cell_type": "code",
   "execution_count": 1,
   "metadata": {},
   "outputs": [],
   "source": [
    "A=1\n",
    "B=4"
   ]
  },
  {
   "cell_type": "markdown",
   "metadata": {},
   "source": [
    "&#9989; **<span style=\"color:red\">Do This:</span>** Using Python as a calculator, verify that the solution you have found is correct."
   ]
  },
  {
   "cell_type": "code",
   "execution_count": 2,
   "metadata": {},
   "outputs": [
    {
     "data": {
      "text/plain": [
       "True"
      ]
     },
     "execution_count": 2,
     "metadata": {},
     "output_type": "execute_result"
    }
   ],
   "source": [
    "(40 * 1) + (15 * 4) == (50 * 2)\n",
    "(25 * 4) == (25 * 2) + (50 * 1)\n"
   ]
  },
  {
   "cell_type": "markdown",
   "metadata": {},
   "source": [
    "Let us use the following code to test your functon further.  Note that this uses the ```answercheck``` function provided by your instructors. The cell below including ```answercheck.py``` in your working directory."
   ]
  },
  {
   "cell_type": "code",
   "execution_count": 3,
   "metadata": {},
   "outputs": [],
   "source": [
    "import os.path\n",
    "from urllib.request import urlretrieve\n",
    "if not os.path.isfile(\"answercheck.py\"):\n",
    "    urlretrieve('https://raw.githubusercontent.com/colbrydi/jupytercheck/master/answercheck.py', 'answercheck.py');\n",
    "    \n"
   ]
  },
  {
   "cell_type": "code",
   "execution_count": 4,
   "metadata": {},
   "outputs": [
    {
     "name": "stdout",
     "output_type": "stream",
     "text": [
      "Testing 1\n",
      "Answer seems to be correct\n",
      "\n",
      "Testing 4\n",
      "Answer seems to be correct\n",
      "\n"
     ]
    },
    {
     "data": {
      "text/plain": [
       "<answercheck.checkanswer at 0x7feea06d5bb0>"
      ]
     },
     "execution_count": 4,
     "metadata": {},
     "output_type": "execute_result"
    }
   ],
   "source": [
    "from answercheck import checkanswer\n",
    "checkanswer(A,'c4ca4238a0b923820dcc509a6f75849b')\n",
    "checkanswer(B,'a87ff679a2f3e71d9181a67b7542122c')\n"
   ]
  },
  {
   "cell_type": "markdown",
   "metadata": {},
   "source": [
    "&#9989; **<span style=\"color:red\">Do This:</span>** Using Python as a calculator, verify that the solution you have found is correct.  \n",
    "\n"
   ]
  },
  {
   "cell_type": "code",
   "execution_count": 5,
   "metadata": {},
   "outputs": [
    {
     "data": {
      "text/plain": [
       "True"
      ]
     },
     "execution_count": 5,
     "metadata": {},
     "output_type": "execute_result"
    }
   ],
   "source": [
    "# Put your answer to the above question here \n",
    "(40 * 1) + (15 * 4) == (50 * 2)\n",
    "(25 * 4) == (25 * 2) + (50 * 1)\n"
   ]
  },
  {
   "cell_type": "markdown",
   "metadata": {},
   "source": [
    "&#9989; **<span style=\"color:red\">Do This:</span>** Now let us consider a system where we have three unknown masses instead of two. Experimentation with a meter stick produces the two balanced states shown below (diagram not to scale). Write the equations for this system.\n",
    "\n",
    "<img src=\"https://lh5.googleusercontent.com/lw_dWSYcWURCr552UwgFmCKqPWByDDUDicBuq0UT7vllHzJm7uG_S9f6K8p70ix9J6SRD2UdWQ=w740\" width=\"70%\" alt=\"Image showing two balanced beams, each with four weights. In the top beam is unknown weight A which is a distance of 35 to the left of the fulcrum, unknown weight B is a distance of 21 to the left of the fulcrum, unknown weight C is a distance of 11 to the right of the fulcrum and a weight of 2 is 50 to the right of the fulcrum. In the bottom beam is the same unknown weights.  Weight A is now a distance of 10 to the right of the fulcrum, weight B is a distance of 24 to the right of the fulcrum, weight C is a distance of 25 to the left of the fulcrum and the weight of 2 is still at a distance of 50 to the right of the fulcrum.\">\n"
   ]
  },
  {
   "cell_type": "markdown",
   "metadata": {},
   "source": [
    "Put your answer to the above question here"
   ]
  },
  {
   "cell_type": "markdown",
   "metadata": {},
   "source": [
    "&#9989; **<span style=\"color:red\">Do This:</span>** Find a solution to the second set of equations and report the mass for objects A, B and C."
   ]
  },
  {
   "cell_type": "code",
   "execution_count": 6,
   "metadata": {},
   "outputs": [],
   "source": [
    "A=3\n",
    "B=5\n",
    "C=10"
   ]
  },
  {
   "cell_type": "markdown",
   "metadata": {},
   "source": [
    "&#9989; **<span style=\"color:red\">Do This:</span>** Using Python as a calculator, verify that the solution you have found is correct."
   ]
  },
  {
   "cell_type": "code",
   "execution_count": 7,
   "metadata": {},
   "outputs": [
    {
     "data": {
      "text/plain": [
       "True"
      ]
     },
     "execution_count": 7,
     "metadata": {},
     "output_type": "execute_result"
    }
   ],
   "source": [
    "# Put your answer to the above question here\n",
    "(21*5) + (35*3) == (11*10) + (50*2)\n",
    "(25*10) == (10*3) + (24*5) +(50*2)\n"
   ]
  },
  {
   "cell_type": "markdown",
   "metadata": {},
   "source": [
    "----\n",
    "<a name=\"Syllabus_and_Schedule\"></a>\n",
    "## 4. Syllabus, Schedule and other Procedures\n",
    "Let us now use the time to review the course Syllabus, schedule and other procedures.  "
   ]
  },
  {
   "cell_type": "markdown",
   "metadata": {},
   "source": [
    "\n",
    "### Upcomming Assignment Due Date:\n",
    "\n",
    "Pay attention to the schedule. Every class has a pre-class assignment that should be completed. There is also a major assignment due almost every week (either a quiz or a homework). \n",
    "\n",
    "- **<span style=\"color:red\">You will have a pre-class assignment and corresponding D2L quiz due by midnight the day before each class from here on.</span>**\n",
    "- **<span style=\"color:red\">Your First Homework is due Friday September 25th.</span>**\n",
    "- **<span style=\"color:red\">Your First Quiz is the following week</span>** (during class Sept. 29 (for MW sections) or Sept. 30 (for TR sections))."
   ]
  },
  {
   "cell_type": "code",
   "execution_count": 8,
   "metadata": {},
   "outputs": [
    {
     "data": {
      "text/plain": [
       "matrix([[ 3.53553391],\n",
       "        [-0.70710678],\n",
       "        [ 1.        ]])"
      ]
     },
     "execution_count": 8,
     "metadata": {},
     "output_type": "execute_result"
    }
   ],
   "source": [
    "import numpy as np\n",
    "import math\n",
    "u1 = np.matrix([[(1/math.sqrt(2)), (1/math.sqrt(2)), 0],[(1/math.sqrt(2)), -(1/math.sqrt(2)), 0], [0,0,1] ]).T\n",
    "b = np.matrix([[2,3,1]]).T\n",
    "x = np.linalg.solve(u1,b)\n",
    "x"
   ]
  },
  {
   "cell_type": "markdown",
   "metadata": {},
   "source": [
    "----\n",
    "<a name=\"Download_and_review_next_pre-class_assignment\"></a>\n",
    "##  5. Download and review next pre-class assignment\n",
    "We will try our best to post each weeks pre-class assignments before noon on Fridays.  Note pre-class assignments are generally due at midnight the day before class.  To get credit for the pre-class assignment you will need to do the readings, answer the questions and submit your answers through the pre-class quizzes on D2L.\n"
   ]
  },
  {
   "cell_type": "markdown",
   "metadata": {},
   "source": [
    "----\n",
    "\n",
    "Written by Dr. Dirk Colbry, Michigan State University\n",
    "\n",
    "<a rel=\"license\" href=\"http://creativecommons.org/licenses/by-nc/4.0/\"><img alt=\"Creative Commons License\" style=\"border-width:0\" src=\"https://i.creativecommons.org/l/by-nc/4.0/88x31.png\" /></a>\n",
    "\n",
    "This work is licensed under a <a rel=\"license\" href=\"http://creativecommons.org/licenses/by-nc/4.0/\">Creative Commons Attribution-NonCommercial 4.0 International License</a>."
   ]
  }
 ],
 "metadata": {
  "kernelspec": {
   "display_name": "Python 3",
   "language": "python",
   "name": "python3"
  },
  "language_info": {
   "codemirror_mode": {
    "name": "ipython",
    "version": 3
   },
   "file_extension": ".py",
   "mimetype": "text/x-python",
   "name": "python",
   "nbconvert_exporter": "python",
   "pygments_lexer": "ipython3",
   "version": "3.8.8"
  }
 },
 "nbformat": 4,
 "nbformat_minor": 4
}
