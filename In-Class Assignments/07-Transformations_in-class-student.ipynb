{
 "cells": [
  {
   "cell_type": "markdown",
   "metadata": {},
   "source": [
    "In order to successfully complete this assignment we recommend that you participate both individually and in groups during class. **Turn in your assignment using D2L no later than 11:59pm on the day of class.** Grading is based on correctness and completion."
   ]
  },
  {
   "cell_type": "markdown",
   "metadata": {},
   "source": [
    "# 07 In-Class Assignment: Transformations\n",
    "\n",
    "<img src=\"https://people.gnome.org/~mathieu/libart/art-affines.png\">\n",
    "\n",
    "Image from: https://people.gnome.org/~mathieu/libart/libart-affine-transformation-matrices.html\n",
    "    "
   ]
  },
  {
   "cell_type": "markdown",
   "metadata": {},
   "source": [
    "### Agenda for today's class (80 minutes)\n",
    "\n",
    "1. [(20 minutes) Review of HW and Pre-Class Assignment](#Review_of_Pre-Class_Assignment)\n",
    "1. [(20 minutes) Calculating Inverse Matrices](#Inverse-Matrices)\n",
    "1. [(20 minutes) Affine Transforms](#Affine_Transforms)\n",
    "1. [(20 minutes) Fractals](#Fractals)"
   ]
  },
  {
   "cell_type": "markdown",
   "metadata": {},
   "source": [
    "<a name=\"Homework_1_Review\"></a>\n",
    "## 0. Homework 1 Review\n"
   ]
  },
  {
   "cell_type": "markdown",
   "metadata": {},
   "source": [
    "----\n",
    "<a name=\"Review_of_Pre-Class_Assignment\"></a>\n",
    "## 1. Review of Pre-Class Assignment\n",
    "\n",
    "* View multiplication by $A$ as a function from $\\mathbb R^n$ into $\\mathbb R^n$ and $A^{-1}$ (if it exists) as it inverse function.\n",
    "* When might $A^{-1}$ not exist for a given square matrix?\n",
    "    * row picture and a row that is a linear combination of the rest (what does this mean about the corresponding linear equations, depending on the right hand side?)\n",
    "    * column picture and a column that is a linear combination of the rest (what does this mean about being able to represent a given vector b as a linear combination of the columns?)\n",
    "* Calculating $A^{-1}$ by Gauss-Jordan Elimination using Augmented Matrix $[A \\mid I] = [A \\mid e_1 \\, e_2 \\, e_3]$ (if working in $\\mathbb R^3$)\n",
    "    * Provide an example  how we transform this to $[I \\mid A^{-1}]$ and explain how then $A^{-1}$ is the product of elementary matrices."
   ]
  },
  {
   "cell_type": "markdown",
   "metadata": {},
   "source": [
    "----\n",
    "<a name=\"Inverse-Matrices\"></a>\n",
    "## 2. Calculating an Inverse Matrix\n",
    " \n",
    "\n",
    "&#9989; **<font color=red>DO THIS:</font>** Consider the matrix $A$ given by\n",
    "\n",
    "$$\n",
    "A=\\left[\n",
    "\\begin{array}{rrr}\n",
    "2 & -1 & 0\\\\\n",
    "-1 & 2 & -1\\\\\n",
    "0 & -1 & 2\n",
    "\\end{array}\n",
    "\\right].\n",
    "$$\n",
    "\n",
    "Use the Gauss-Jordan Method to find $A^{-1}$ by converting $[A \\mid I]$ to $[I \\mid A^{-1}]$. The first step is\n",
    "\n",
    "$$\n",
    "\\left[\n",
    "\\begin{array}{rrrrrr}\n",
    "2 & -1 & 0& 1 & 0 &0 \\\\\n",
    "-1 & 2 & -1 & 0 & 1 &0 \\\\\n",
    "0 & -1 & 2 & 0 & 0 &1 \n",
    "\\end{array}\n",
    "\\right]\n",
    "$$\n",
    "\n",
    "$\\frac{1}{2}$ (row 1) + (row 2) - what is the corresponding elementary matrix $E_1$?\n",
    "\n",
    "$$\n",
    "\\left[\n",
    "\\begin{array}{rrrrrr}\n",
    "2 & -1 & 0& 1 & 0 &0 \\\\\n",
    "0 & \\frac{3}{2} & 0 & \\frac{1}{2} & 1 &0 \\\\\n",
    "0 & -1 & 2 & 0 & 0 &1 \n",
    "\\end{array}\n",
    "\\right]\n",
    "$$\n",
    "\n",
    "Complete the rest of the steps to find $A^{-1}$ by hand (on paper) and compare your result with  Python's $A^{-1}$."
   ]
  },
  {
   "cell_type": "markdown",
   "metadata": {},
   "source": [
    "Put your result for $A^{-1}$ when working by hand:\n",
    "$$\n",
    "A^{-1}=\\left[\n",
    "\\begin{array}{rrr}\n",
    "3/4 & 1/2 & 1/4\\\\\n",
    "1/2 & 1 & 1/2\\\\\n",
    "1/4 & 1/2 & 3/4\n",
    "\\end{array}\n",
    "\\right].\n",
    "$$\n"
   ]
  },
  {
   "cell_type": "code",
   "execution_count": 2,
   "metadata": {},
   "outputs": [
    {
     "data": {
      "text/latex": [
       "$\\displaystyle \\left[\\begin{matrix}0.75 & 0.5 & 0.25\\\\0.5 & 1.0 & 0.5\\\\0.25 & 0.5 & 0.75\\end{matrix}\\right]$"
      ],
      "text/plain": [
       "Matrix([\n",
       "[0.75, 0.5, 0.25],\n",
       "[ 0.5, 1.0,  0.5],\n",
       "[0.25, 0.5, 0.75]])"
      ]
     },
     "execution_count": 2,
     "metadata": {},
     "output_type": "execute_result"
    }
   ],
   "source": [
    "## Use Python code to find A^{-1}\n",
    "import numpy as np\n",
    "import sympy as sym\n",
    "A = np.matrix([[2,-1,0],[-1,2,-1],[0,-1,2]])\n",
    "A_inv = np.linalg.inv(A)\n",
    "sym.Matrix(A_inv)"
   ]
  },
  {
   "cell_type": "markdown",
   "metadata": {},
   "source": [
    "----\n",
    "<a name=\"Affine_Transforms\"></a>\n",
    "## 3. Affine Transforms\n",
    "\n",
    "In this section, we are going to explore different types of transformation matrices. \n",
    "The following code is designed to demonstrate the properties of some different transformation matrices.  \n",
    "\n",
    "&#9989; **<font color=red>DO THIS:</font>** Review the following code.  "
   ]
  },
  {
   "cell_type": "code",
   "execution_count": 3,
   "metadata": {},
   "outputs": [],
   "source": [
    "#Some python packages we will be using\n",
    "%matplotlib inline\n",
    "import numpy as np\n",
    "import matplotlib.pyplot as plt\n",
    "from mpl_toolkits.mplot3d import Axes3D # Lets make 3D plots\n",
    "import numpy as np\n",
    "import sympy as sym\n",
    "sym.init_printing(use_unicode=True) # Trick to make matrixes look nice in jupyter"
   ]
  },
  {
   "cell_type": "code",
   "execution_count": 4,
   "metadata": {},
   "outputs": [
    {
     "data": {
      "image/png": "[encoded data removed]",
      "text/plain": [
       "<Figure size 432x288 with 1 Axes>"
      ]
     },
     "metadata": {
      "needs_background": "light"
     },
     "output_type": "display_data"
    }
   ],
   "source": [
    "# Define some points\n",
    "x = [0.0,  0.0,  2.0,  8.0, 10.0, 10.0, 8.0, 4.0, 3.0, 3.0, 4.0, 6.0, 7.0, 7.0, 10.0, \n",
    "     10.0,  8.0,  2.0, 0.0, 0.0, 2.0, 6.0, 7.0,  7.0,  6.0,  4.0,  3.0, 3.0, 0.0]\n",
    "y = [0.0, -2.0, -4.0, -4.0, -2.0,  2.0, 4.0, 4.0, 5.0, 7.0, 8.0, 8.0, 7.0, 6.0,  6.0,\n",
    "     8.0, 10.0, 10.0, 8.0, 4.0, 2.0, 2.0, 1.0, -1.0, -2.0, -2.0, -1.0, 0.0, 0.0]\n",
    "con = [ 1.0 for i in range(len(x))] \n",
    "p = np.matrix([x,y,con])\n",
    "mp = p.copy()\n",
    "\n",
    "#Plot Points\n",
    "plt.plot(mp[0,:].tolist()[0],mp[1,:].tolist()[0], color='green');\n",
    "plt.axis('scaled');\n",
    "plt.axis([-10,20,-15,15]);\n",
    "plt.title('Start Location');"
   ]
  },
  {
   "cell_type": "markdown",
   "metadata": {},
   "source": [
    "### Example Scaling Matrix"
   ]
  },
  {
   "cell_type": "code",
   "execution_count": 7,
   "metadata": {},
   "outputs": [
    {
     "data": {
      "text/latex": [
       "$\\displaystyle \\left[\\begin{matrix}0.5 & 0.0 & 0.0\\\\0.0 & 0.5 & 0.0\\\\0.0 & 0.0 & 1.0\\end{matrix}\\right]$"
      ],
      "text/plain": [
       "⎡0.5  0.0  0.0⎤\n",
       "⎢             ⎥\n",
       "⎢0.0  0.5  0.0⎥\n",
       "⎢             ⎥\n",
       "⎣0.0  0.0  1.0⎦"
      ]
     },
     "execution_count": 7,
     "metadata": {},
     "output_type": "execute_result"
    },
    {
     "data": {
      "image/png": "[encoded data removed]",
      "text/plain": [
       "<Figure size 432x288 with 1 Axes>"
      ]
     },
     "metadata": {
      "needs_background": "light"
     },
     "output_type": "display_data"
    }
   ],
   "source": [
    "#Example Scaling Matrix\n",
    "\n",
    "#Define Matrix\n",
    "scale = 0.5  #The amount that coordinates are scaled.\n",
    "S = np.matrix([[scale,0,0], [0,scale,0], [0,0,1]])\n",
    "\n",
    "#Apply matrix\n",
    "mp = p.copy()\n",
    "mp = S*mp\n",
    "\n",
    "#Plot points after transform\n",
    "plt.plot(mp[0,:].tolist()[0],mp[1,:].tolist()[0], color='green')\n",
    "plt.axis('scaled')\n",
    "plt.axis([-10,20,-15,15])\n",
    "plt.title('After Scaling')\n",
    "\n",
    "#Uncomment the next line if you want to see the original.\n",
    "#plt.plot(p[0,:].tolist()[0],p[1,:].tolist()[0], color='blue',alpha=0.3);\n",
    "\n",
    "sym.Matrix(S)"
   ]
  },
  {
   "cell_type": "markdown",
   "metadata": {},
   "source": [
    "### Example Translation Matrix"
   ]
  },
  {
   "cell_type": "code",
   "execution_count": 8,
   "metadata": {},
   "outputs": [
    {
     "data": {
      "text/latex": [
       "$\\displaystyle \\left[\\begin{matrix}1 & 0 & 5\\\\0 & 1 & 1\\\\0 & 0 & 1\\end{matrix}\\right]$"
      ],
      "text/plain": [
       "⎡1  0  5⎤\n",
       "⎢       ⎥\n",
       "⎢0  1  1⎥\n",
       "⎢       ⎥\n",
       "⎣0  0  1⎦"
      ]
     },
     "execution_count": 8,
     "metadata": {},
     "output_type": "execute_result"
    },
    {
     "data": {
      "image/png": "[encoded data removed]",
      "text/plain": [
       "<Figure size 432x288 with 1 Axes>"
      ]
     },
     "metadata": {
      "needs_background": "light"
     },
     "output_type": "display_data"
    }
   ],
   "source": [
    "#Example Translation Matrix\n",
    "\n",
    "#Define Matrix\n",
    "dx = 5  #The amount shifted in the x-direction\n",
    "dy = 1  #The amount shifted in the y-direction\n",
    "T = np.matrix([[1,0,dx], [0,1,dy], [0,0,1]])\n",
    "\n",
    "#Apply matrix\n",
    "mp = p.copy()\n",
    "mp = T*mp\n",
    "\n",
    "#Plot points after transform\n",
    "plt.plot(mp[0,:].tolist()[0],mp[1,:].tolist()[0], color='green')\n",
    "plt.axis('scaled')\n",
    "plt.axis([-10,20,-15,15])\n",
    "plt.title('After Translation')\n",
    "\n",
    "#Uncomment the next line if you want to see the original.\n",
    "# plt.plot(p[0,:].tolist()[0],p[1,:].tolist()[0], color='blue',alpha=0.3);\n",
    "\n",
    "sym.Matrix(T)"
   ]
  },
  {
   "cell_type": "markdown",
   "metadata": {},
   "source": [
    "### Example Reflection Matrix"
   ]
  },
  {
   "cell_type": "code",
   "execution_count": 11,
   "metadata": {},
   "outputs": [
    {
     "data": {
      "text/latex": [
       "$\\displaystyle \\left[\\begin{matrix}1 & 0 & 0\\\\0 & -1 & 0\\\\0 & 0 & 1\\end{matrix}\\right]$"
      ],
      "text/plain": [
       "⎡1  0   0⎤\n",
       "⎢        ⎥\n",
       "⎢0  -1  0⎥\n",
       "⎢        ⎥\n",
       "⎣0  0   1⎦"
      ]
     },
     "execution_count": 11,
     "metadata": {},
     "output_type": "execute_result"
    },
    {
     "data": {
      "image/png": "[encoded data removed]",
      "text/plain": [
       "<Figure size 432x288 with 1 Axes>"
      ]
     },
     "metadata": {
      "needs_background": "light"
     },
     "output_type": "display_data"
    }
   ],
   "source": [
    "#Example Reflection Matrix\n",
    "\n",
    "#Define Matrix\n",
    "Re = np.matrix([[1,0,0],[0,-1,0],[0,0,1]]) ## Makes all y-values opposite so it reflects over the x-axis.\n",
    "\n",
    "#Apply matrix\n",
    "mp = p.copy()\n",
    "mp = Re*mp\n",
    "\n",
    "#Plot points after transform\n",
    "plt.plot(mp[0,:].tolist()[0],mp[1,:].tolist()[0], color='green')\n",
    "plt.axis('scaled')\n",
    "plt.axis([-10,20,-15,15])\n",
    "\n",
    "#Uncomment the next line if you want to see the original.\n",
    "# plt.plot(p[0,:].tolist()[0],p[1,:].tolist()[0], color='blue',alpha=0.3);\n",
    "\n",
    "sym.Matrix(Re)"
   ]
  },
  {
   "cell_type": "markdown",
   "metadata": {},
   "source": [
    "### Example Rotation Matrix"
   ]
  },
  {
   "cell_type": "code",
   "execution_count": 7,
   "metadata": {},
   "outputs": [
    {
     "data": {
      "text/latex": [
       "$\\displaystyle \\left[\\begin{matrix}0.866025403784439 & -0.5 & 0.0\\\\0.5 & 0.866025403784439 & 0.0\\\\0.0 & 0.0 & 1.0\\end{matrix}\\right]$"
      ],
      "text/plain": [
       "⎡0.866025403784439        -0.5         0.0⎤\n",
       "⎢                                         ⎥\n",
       "⎢       0.5         0.866025403784439  0.0⎥\n",
       "⎢                                         ⎥\n",
       "⎣       0.0                0.0         1.0⎦"
      ]
     },
     "execution_count": 7,
     "metadata": {},
     "output_type": "execute_result"
    },
    {
     "data": {
      "image/png": "[encoded data removed]",
      "text/plain": [
       "<Figure size 432x288 with 1 Axes>"
      ]
     },
     "metadata": {
      "needs_background": "light"
     },
     "output_type": "display_data"
    }
   ],
   "source": [
    "#Example Rotation Matrix\n",
    "\n",
    "#Define Matrix\n",
    "degrees = 30\n",
    "theta = degrees * np.pi / 180  ##Make sure to always convert from degrees to radians. \n",
    "\n",
    "# Rotates the points 30 degrees counterclockwise.\n",
    "R = np.matrix([[np.cos(theta),-np.sin(theta),0],[np.sin(theta), np.cos(theta),0],[0,0,1]]) \n",
    "\n",
    "#Apply matrix\n",
    "mp = p.copy()\n",
    "mp = R*mp\n",
    "\n",
    "#Plot points after transform\n",
    "plt.plot(mp[0,:].tolist()[0],mp[1,:].tolist()[0], color='green')\n",
    "plt.axis('scaled')\n",
    "plt.axis([-10,20,-15,15])\n",
    "\n",
    "#Uncomment the next line if you want to see the original.\n",
    "# plt.plot(p[0,:].tolist()[0],p[1,:].tolist()[0], color='blue',alpha=0.3);\n",
    "\n",
    "sym.Matrix(R)"
   ]
  },
  {
   "cell_type": "markdown",
   "metadata": {},
   "source": [
    "### Example Shear Matrix"
   ]
  },
  {
   "cell_type": "code",
   "execution_count": 12,
   "metadata": {},
   "outputs": [
    {
     "data": {
      "text/latex": [
       "$\\displaystyle \\left[\\begin{matrix}1.0 & 0.5 & 0.0\\\\0.3 & 1.0 & 0.0\\\\0.0 & 0.0 & 1.0\\end{matrix}\\right]$"
      ],
      "text/plain": [
       "⎡1.0  0.5  0.0⎤\n",
       "⎢             ⎥\n",
       "⎢0.3  1.0  0.0⎥\n",
       "⎢             ⎥\n",
       "⎣0.0  0.0  1.0⎦"
      ]
     },
     "execution_count": 12,
     "metadata": {},
     "output_type": "execute_result"
    },
    {
     "data": {
      "image/png": "[encoded data removed]",
      "text/plain": [
       "<Figure size 432x288 with 1 Axes>"
      ]
     },
     "metadata": {
      "needs_background": "light"
     },
     "output_type": "display_data"
    }
   ],
   "source": [
    "#Example Shear Matrix\n",
    "\n",
    "#Define Matrix\n",
    "shx=0.5 # shear in the x-direction\n",
    "shy=0.3 #shear in the y-direction\n",
    "SH =   np.matrix([[1,shx,0], [shy,1,0], [0,0,1]])\n",
    "\n",
    "#Apply matrix\n",
    "mp = p.copy()\n",
    "mp = SH*mp\n",
    "\n",
    "#Plot points after transform\n",
    "plt.plot(mp[0,:].tolist()[0],mp[1,:].tolist()[0], color='green')\n",
    "plt.axis('scaled')\n",
    "plt.axis([-10,20,-15,15])\n",
    "\n",
    "#Uncomment the next line if you want to see the original.\n",
    "# plt.plot(p[0,:].tolist()[0],p[1,:].tolist()[0], color='blue',alpha=0.3);\n",
    "\n",
    "sym.Matrix(SH)"
   ]
  },
  {
   "cell_type": "markdown",
   "metadata": {},
   "source": [
    "&#9989; **<font color=red>DO THIS:</font>** Experiment with different values of ``shx`` and ``shy`` to see their effect."
   ]
  },
  {
   "cell_type": "code",
   "execution_count": 13,
   "metadata": {},
   "outputs": [
    {
     "data": {
      "text/latex": [
       "$\\displaystyle \\left[\\begin{matrix}1.0 & 1.0 & 0.0\\\\0.5 & 1.0 & 0.0\\\\0.0 & 0.0 & 1.0\\end{matrix}\\right]$"
      ],
      "text/plain": [
       "⎡1.0  1.0  0.0⎤\n",
       "⎢             ⎥\n",
       "⎢0.5  1.0  0.0⎥\n",
       "⎢             ⎥\n",
       "⎣0.0  0.0  1.0⎦"
      ]
     },
     "execution_count": 13,
     "metadata": {},
     "output_type": "execute_result"
    },
    {
     "data": {
      "image/png": "[encoded data removed]",
      "text/plain": [
       "<Figure size 432x288 with 1 Axes>"
      ]
     },
     "metadata": {
      "needs_background": "light"
     },
     "output_type": "display_data"
    }
   ],
   "source": [
    "#Example Shear Matrix\n",
    "\n",
    "#Define Matrix\n",
    "shx=1 # shear in the x-direction\n",
    "shy=0.5 #shear in the y-direction\n",
    "SH =   np.matrix([[1,shx,0], [shy,1,0], [0,0,1]])\n",
    "\n",
    "#Apply matrix\n",
    "mp = p.copy()\n",
    "mp = SH*mp\n",
    "\n",
    "#Plot points after transform\n",
    "plt.plot(mp[0,:].tolist()[0],mp[1,:].tolist()[0], color='green')\n",
    "plt.axis('scaled')\n",
    "plt.axis([-10,20,-15,15])\n",
    "\n",
    "#Uncomment the next line if you want to see the original.\n",
    "# plt.plot(p[0,:].tolist()[0],p[1,:].tolist()[0], color='blue',alpha=0.3);\n",
    "\n",
    "sym.Matrix(SH)"
   ]
  },
  {
   "cell_type": "markdown",
   "metadata": {},
   "source": [
    "### Combine Transforms\n",
    "\n",
    "We have five transforms $R$, $S$, $T$, $Re$, and $SH$ \n",
    "\n",
    "&#9989; **<font color=red>DO THIS:</font>** Construct a ($3 \\times 3$) transformation Matrix (called $M$) which combines these five transforms into a single matrix. You can choose different orders for these five matrix, then compare your result with other students. "
   ]
  },
  {
   "cell_type": "code",
   "execution_count": 14,
   "metadata": {},
   "outputs": [
    {
     "data": {
      "text/latex": [
       "$\\displaystyle \\left[\\begin{matrix}0.308012701892219 & -0.183012701892219 & 1.9150635094611\\\\0.46650635094611 & -0.683012701892219 & 1.68301270189222\\\\0.0 & 0.0 & 1.0\\end{matrix}\\right]$"
      ],
      "text/plain": [
       "⎡0.308012701892219  -0.183012701892219  1.9150635094611 ⎤\n",
       "⎢                                                       ⎥\n",
       "⎢0.46650635094611   -0.683012701892219  1.68301270189222⎥\n",
       "⎢                                                       ⎥\n",
       "⎣       0.0                0.0                1.0       ⎦"
      ]
     },
     "execution_count": 14,
     "metadata": {},
     "output_type": "execute_result"
    }
   ],
   "source": [
    "#Put your code here\n",
    "M = R * S * T * SH * Re\n",
    "sym.Matrix(M)"
   ]
  },
  {
   "cell_type": "code",
   "execution_count": 15,
   "metadata": {},
   "outputs": [
    {
     "data": {
      "image/png": "[encoded data removed]",
      "text/plain": [
       "<Figure size 432x288 with 1 Axes>"
      ]
     },
     "metadata": {
      "needs_background": "light"
     },
     "output_type": "display_data"
    }
   ],
   "source": [
    "#Plot combined transformed points\n",
    "mp = p.copy()\n",
    "mp = M*mp\n",
    "plt.plot(mp[0,:].tolist()[0],mp[1,:].tolist()[0], color='green');\n",
    "plt.axis('scaled');\n",
    "plt.axis([-10,20,-15,15]);\n",
    "plt.title('Start Location');"
   ]
  },
  {
   "cell_type": "markdown",
   "metadata": {},
   "source": [
    "&#9989; **<font color=red>Questions:</font>** Did you can get the same result with others? You can compare the matrix $M$ to see the difference. If not, can you explain why it happens?"
   ]
  },
  {
   "cell_type": "markdown",
   "metadata": {},
   "source": [
    "**No, becuase the matrix $M$ depends on the order of the multiplication.**"
   ]
  },
  {
   "cell_type": "markdown",
   "metadata": {},
   "source": [
    "### Interactive Example"
   ]
  },
  {
   "cell_type": "code",
   "execution_count": 16,
   "metadata": {},
   "outputs": [],
   "source": [
    "from ipywidgets import interact,interact_manual\n",
    "\n",
    "def affine_image(angle=0,scale=1.0,dx=0,dy=0, shx=0, shy=0):\n",
    "    theta = -angle/180  * np.pi\n",
    "    \n",
    "    plt.plot(p[0,:].tolist()[0],p[1,:].tolist()[0], color='green')\n",
    "    \n",
    "    S = np.matrix([[scale,0,0], [0,scale,0], [0,0,1]])\n",
    "    SH = np.matrix([[1,shx,0], [shy,1,0], [0,0,1]])\n",
    "    T = np.matrix([[1,0,dx], [0,1,dy], [0,0,1]])\n",
    "    R = np.matrix([[np.cos(theta),-np.sin(theta),0],[np.sin(theta), np.cos(theta),0],[0,0,1]])\n",
    "    \n",
    "    #Full Transform\n",
    "    FT = T*SH*R*S;\n",
    "    #Apply Transforms\n",
    "    p2 =  FT*p;\n",
    "    \n",
    "    #Plot Output\n",
    "    plt.plot(p2[0,:].tolist()[0],p2[1,:].tolist()[0], color='black')\n",
    "    plt.axis('scaled')\n",
    "    plt.axis([-10,20,-15,15])\n",
    "    return sym.Matrix(FT)"
   ]
  },
  {
   "cell_type": "code",
   "execution_count": 17,
   "metadata": {},
   "outputs": [
    {
     "data": {
      "application/vnd.jupyter.widget-view+json": {
       "model_id": "171dcf3f2c9b4011bfe9bf3614205dfa",
       "version_major": 2,
       "version_minor": 0
      },
      "text/plain": [
       "interactive(children=(IntSlider(value=0, description='angle', max=180, min=-180), FloatSlider(value=1.0, descr…"
      ]
     },
     "metadata": {},
     "output_type": "display_data"
    }
   ],
   "source": [
    "interact(affine_image, angle=(-180,180), scale_manual=(0.01,2), dx=(-5,15,0.5), dy=(-15,15,0.5), shx = (-1,1,0.1), shy = (-1,1,0.1)); ##TODO: Modify this line of code"
   ]
  },
  {
   "cell_type": "markdown",
   "metadata": {},
   "source": [
    "The following command can also be used but it may be slow on some peoples computers."
   ]
  },
  {
   "cell_type": "code",
   "execution_count": 26,
   "metadata": {},
   "outputs": [
    {
     "data": {
      "application/vnd.jupyter.widget-view+json": {
       "model_id": "94bb6cc649994846a799c8f54ca55026",
       "version_major": 2,
       "version_minor": 0
      },
      "text/plain": [
       "interactive(children=(IntSlider(value=0, description='angle', max=180, min=-180), FloatSlider(value=1.0, descr…"
      ]
     },
     "metadata": {},
     "output_type": "display_data"
    }
   ],
   "source": [
    "interact(affine_image, angle=(-180,180), scale=(0.01,2), dx=(-5,15,0.5), dy=(-15,15,0.5), shx = (-1,1,0.1), shy = (-1,1,0.1)); ##TODO: Modify this line of code"
   ]
  },
  {
   "cell_type": "markdown",
   "metadata": {},
   "source": [
    "&#9989; **<font color=red>DO THIS:</font>**  Using the above interactive enviornment to see if you can figure out the transformation matrix to make the following image:\n",
    "\n",
    "<img src=\"https://lh6.googleusercontent.com/_0-jr5Z0DQzqVM3TD3Xa3QWC43PBT6ru5M-B-_7dfbib2SSvkNkxtioBFaU__jTvEJMMG9SAVg=w380\">"
   ]
  },
  {
   "cell_type": "markdown",
   "metadata": {},
   "source": [
    "&#9989; **<font color=red>Questions:</font>** What where the input values?"
   ]
  },
  {
   "cell_type": "markdown",
   "metadata": {},
   "source": [
    "**Put your answer here:**\n",
    "\n",
    "angle = \n",
    "\n",
    "scale = \n",
    "\n",
    "dx = \n",
    "\n",
    "dy = \n",
    "\n",
    "shx = \n",
    "\n",
    "shy = "
   ]
  },
  {
   "cell_type": "markdown",
   "metadata": {},
   "source": [
    "----\n",
    "<a name=\"Fractals\"></a>\n",
    "## 3. Fractals\n"
   ]
  },
  {
   "cell_type": "markdown",
   "metadata": {},
   "source": [
    "In this section we are going to explore using transformations to generate fractals.  Consider the following set of linear equations.  Each one takes a 2D point as input, applies a $2 \\times 2$ transform, and then also translates by a $2 \\times 1$ translation matrix"
   ]
  },
  {
   "cell_type": "markdown",
   "metadata": {},
   "source": [
    "$$ \n",
    "T_1:\\left[ \\begin{matrix}\n",
    "    x_1 \\\\\n",
    "    y_1 \n",
    " \\end{matrix}\n",
    "\\right] \n",
    "=\n",
    "\\left[ \\begin{matrix}\n",
    "    0.86 & 0.03  \\\\\n",
    "    -0.03 & 0.86 \n",
    " \\end{matrix}\n",
    "\\right] \n",
    "\\left[ \\begin{matrix}\n",
    "    x_0 \\\\\n",
    "    y_0 \n",
    " \\end{matrix}\n",
    "\\right] +\n",
    "\\left[\\begin{matrix}\n",
    "0\\\\\n",
    "1.5\n",
    "\\end{matrix}\n",
    "\\right]\n",
    ": probability =  0.83 $$ "
   ]
  },
  {
   "cell_type": "markdown",
   "metadata": {},
   "source": [
    "$$ \n",
    "T_2: \\left[ \\begin{matrix}\n",
    "    x_1 \\\\\n",
    "    y_1 \n",
    " \\end{matrix}\n",
    "\\right] \n",
    "=\n",
    "\\left[ \\begin{matrix}\n",
    "    0.2 & -0.25  \\\\\n",
    "    0.21 & 0.23 \n",
    " \\end{matrix}\n",
    "\\right] \n",
    "\\left[ \\begin{matrix}\n",
    "    x_0 \\\\\n",
    "    y_0 \n",
    " \\end{matrix}\n",
    "\\right] +\n",
    "\\left[\\begin{matrix}\n",
    "0\\\\\n",
    "1.5\n",
    "\\end{matrix}\n",
    "\\right]\n",
    ": probability =  0.08 $$ "
   ]
  },
  {
   "cell_type": "markdown",
   "metadata": {},
   "source": [
    "$$ \n",
    "T_3 : \\left[ \\begin{matrix}\n",
    "    x_1 \\\\\n",
    "    y_1 \n",
    " \\end{matrix}\n",
    "\\right] \n",
    "=\n",
    "\\left[ \\begin{matrix}\n",
    "    0.15 & 0.27  \\\\\n",
    "    0.25 & 0.26 \n",
    " \\end{matrix}\n",
    "\\right] \n",
    "\\left[ \\begin{matrix}\n",
    "    x_0 \\\\\n",
    "    y_0 \n",
    " \\end{matrix}\n",
    "\\right] +\n",
    "\\left[\\begin{matrix}\n",
    "0\\\\\n",
    "0.45\n",
    "\\end{matrix}\n",
    "\\right]\n",
    ": probability =  0.08 $$ "
   ]
  },
  {
   "cell_type": "markdown",
   "metadata": {},
   "source": [
    "$$ \n",
    "T_4: \\left[ \\begin{matrix}\n",
    "    x_1 \\\\\n",
    "    y_1 \n",
    " \\end{matrix}\n",
    "\\right] \n",
    "=\n",
    "\\left[ \\begin{matrix}\n",
    "    0 & 0  \\\\\n",
    "    0 & 0.17 \n",
    " \\end{matrix}\n",
    "\\right] \n",
    "\\left[ \\begin{matrix}\n",
    "    x_0 \\\\\n",
    "    y_0 \n",
    " \\end{matrix}\n",
    "\\right] +\n",
    "\\left[\\begin{matrix}\n",
    "0\\\\\n",
    "0\n",
    "\\end{matrix}\n",
    "\\right] : probability =  0.01 $$"
   ]
  },
  {
   "cell_type": "markdown",
   "metadata": {},
   "source": [
    "We want to write a program that uses the above transformations to \"randomly\" generate an image.  We start with a point at the origin (0,0) and then randomly pick one of the above transformation based on their probability, update the point position and then randomly pick another point.  Each matrix adds a bit of rotation and translation with $T_4$ as a kind of restart.    \n"
   ]
  },
  {
   "cell_type": "markdown",
   "metadata": {},
   "source": [
    "To try to make our program a little easier, let's rewrite the above equations to make a system of  \"equivelent\" equations of the form $Ax=b$ with only one matrix.   We do this by adding an additional variable variable $z=1$.  For example, verify that the following equation is the same as equation for $T1$ above:\n",
    "\n",
    "$$ \n",
    "T_1: \\left[ \\begin{matrix}\n",
    "    x_1 \\\\\n",
    "    y_1 \n",
    " \\end{matrix}\n",
    "\\right] \n",
    "=\n",
    "\\left[ \\begin{matrix}\n",
    "    0.86 & 0.03 & 0 \\\\\n",
    "    -0.03 & 0.86 & 1.5\n",
    " \\end{matrix}\n",
    "\\right] \n",
    "\\left[ \\begin{matrix}\n",
    "    x_0 \\\\\n",
    "    y_0 \\\\\n",
    "    1\n",
    " \\end{matrix}\n",
    "\\right] \n",
    "$$ \n",
    "Please NOTE that we do not change the value for $z$, and it is always be $1$."
   ]
  },
  {
   "cell_type": "markdown",
   "metadata": {},
   "source": [
    "&#9989; **<font color=red>DO THIS:</font>** Verify the $Ax=b$ format will generate the same answer as the $T1$ equation above."
   ]
  },
  {
   "cell_type": "markdown",
   "metadata": {},
   "source": [
    "The following is some pseudocode that we will be using to generate the Fractals:\n",
    "\n",
    "1. Let $x = 0$, $y = 0$, $z=1$\n",
    "2. Use a random generator to select one of the affine transformations $T_i$ according to the given probabilities.\n",
    "3. Let $(x',y') = T_i(x,y,z)$.\n",
    "4. Plot $(x', y')$\n",
    "5. Let $(x,y) = (x',y')$\n",
    "6. Repeat Steps 2, 3, 4, and 5 one thousand times. "
   ]
  },
  {
   "cell_type": "markdown",
   "metadata": {},
   "source": [
    "The following python code implements the above pseudocode with only the $T1$ matrix:"
   ]
  },
  {
   "cell_type": "code",
   "execution_count": 18,
   "metadata": {},
   "outputs": [
    {
     "data": {
      "image/png": "[encoded data removed]",
      "text/plain": [
       "<Figure size 720x720 with 1 Axes>"
      ]
     },
     "metadata": {
      "needs_background": "light"
     },
     "output_type": "display_data"
    }
   ],
   "source": [
    "%matplotlib inline\n",
    "\n",
    "import numpy as np\n",
    "import matplotlib.pylab as plt\n",
    "import sympy as sym\n",
    "sym.init_printing(use_unicode=True) # Trick to make matrixes look nice in jupyter\n",
    "\n",
    "T1 = np.matrix([[0.86, 0.03, 0],[-0.03, 0.86, 1.5]])\n",
    "#####Start your code here #####\n",
    "T2 = np.matrix([[0.2,-0.25,0],[0.21,0.23,1.5]])\n",
    "T3 = np.matrix([[0.15,0.27,0],[0.25,0.26,0.45]])\n",
    "T4 = np.matrix([[0,0,0],[0,0.17,0]])\n",
    "#####End of your code here#####       \n",
    "\n",
    "prob = [0.83,0.08,0.08,0.01]\n",
    "\n",
    "I = np.matrix([[1,0,0],[0,1,0],[0,0,1]])\n",
    "\n",
    "fig = plt.figure(figsize=[10,10])\n",
    "p = np.matrix([[0.],[0],[1]])\n",
    "plt.plot(p[0],p[1], 'go');\n",
    "for i in range(1,1000):\n",
    "    ticket = np.random.random();\n",
    "    if (ticket < prob[0]):\n",
    "        T = T1\n",
    "    elif (ticket < sum(prob[0:2])):\n",
    "        T = T2\n",
    "    elif (ticket < sum(prob[0:3])):\n",
    "        T = T3\n",
    "    else:\n",
    "        T = T4\n",
    "    p[0:2,0] = T*p    \n",
    "    plt.plot(p[0],p[1], 'go');\n",
    "plt.axis('scaled');"
   ]
  },
  {
   "cell_type": "markdown",
   "metadata": {},
   "source": [
    "&#9989; **<font color=red>DO THIS:</font>** Modify the above code to add in the $T2$, $T3$ and $T4$ transforms.  "
   ]
  },
  {
   "cell_type": "markdown",
   "metadata": {},
   "source": [
    "&#9989; **<font color=red>QUESTION:</font>**  Describe in words for the actions performed by $T_1$, $T_2$, $T_3$, and $T_4$. "
   ]
  },
  {
   "cell_type": "markdown",
   "metadata": {},
   "source": [
    "$T_1$: The actions perfomed by $T_1$ is that it will be there when the probability is equal to 0.83."
   ]
  },
  {
   "cell_type": "markdown",
   "metadata": {},
   "source": [
    "$T_2$: The actions perfomed by $T_2$ is that it will be there when the probability is equal to 0.08."
   ]
  },
  {
   "cell_type": "markdown",
   "metadata": {},
   "source": [
    "$T_3$: The actions perfomed by $T_3$ is that it will be there when the probability is equal to 0.08."
   ]
  },
  {
   "cell_type": "markdown",
   "metadata": {},
   "source": [
    "\n",
    "$T_4$: The actions perfomed by $T_4$ is that it will be there when the probability is equal to 0.01."
   ]
  },
  {
   "cell_type": "markdown",
   "metadata": {},
   "source": [
    "&#9989; **<font color=red>DO THIS:</font>** Using the same ideas to design and build your own fractal.  You are welcome to get inspiration from the internet. Make sure you document where your inspiration comes from.  Try to build something fun, unique and different.  Show what you come up with with your instructors. "
   ]
  },
  {
   "cell_type": "code",
   "execution_count": 52,
   "metadata": {},
   "outputs": [
    {
     "data": {
      "image/png": "[encoded data removed]",
      "text/plain": [
       "<Figure size 720x720 with 1 Axes>"
      ]
     },
     "metadata": {
      "needs_background": "light"
     },
     "output_type": "display_data"
    }
   ],
   "source": [
    "%matplotlib inline\n",
    "\n",
    "import numpy as np\n",
    "import matplotlib.pylab as plt\n",
    "import sympy as sym\n",
    "sym.init_printing(use_unicode=True) # Trick to make matrixes look nice in jupyter\n",
    "\n",
    "T1 = np.matrix([[0.5, 0.73, 0],[-0.03, 0.86, 1.5]])\n",
    "#####Start your code here #####\n",
    "T2 = np.matrix([[0.4,-0.25,0],[0.21,0.23,1.5]])\n",
    "T3 = np.matrix([[0.15,0.27,0],[0.25,0.26,0.45]])\n",
    "T4 = np.matrix([[0,0,0],[0,0.17,0]])\n",
    "#####End of your code here#####       \n",
    "\n",
    "prob = [0.5,0.9,0.7,0.41]\n",
    "\n",
    "I = np.matrix([[1,0,0],[0,1,0],[0,0,1]])\n",
    "\n",
    "fig = plt.figure(figsize=[10,10])\n",
    "p = np.matrix([[0.],[0],[1]])\n",
    "plt.plot(p[0],p[1], 'go');\n",
    "for i in range(1,1000):\n",
    "    ticket = np.random.random();\n",
    "    if (ticket < prob[0]):\n",
    "        T = T1\n",
    "    elif (ticket < sum(prob[0:2])):\n",
    "        T = T2\n",
    "    elif (ticket < sum(prob[0:3])):\n",
    "        T = T3\n",
    "    else:\n",
    "        T = T4\n",
    "    p[0:2,0] = T*p    \n",
    "    plt.plot(p[0],p[1], 'go');\n",
    "plt.axis('scaled');"
   ]
  },
  {
   "cell_type": "markdown",
   "metadata": {},
   "source": [
    "----\n",
    "Written by Dr. Dirk Colbry, Michigan State University\n",
    "<a rel=\"license\" href=\"http://creativecommons.org/licenses/by-nc/4.0/\"><img alt=\"Creative Commons License\" style=\"border-width:0\" src=\"https://i.creativecommons.org/l/by-nc/4.0/88x31.png\" /></a><br />This work is licensed under a <a rel=\"license\" href=\"http://creativecommons.org/licenses/by-nc/4.0/\">Creative Commons Attribution-NonCommercial 4.0 International License</a>."
   ]
  },
  {
   "cell_type": "code",
   "execution_count": null,
   "metadata": {},
   "outputs": [],
   "source": []
  }
 ],
 "metadata": {
  "kernelspec": {
   "display_name": "Python 3",
   "language": "python",
   "name": "python3"
  },
  "language_info": {
   "codemirror_mode": {
    "name": "ipython",
    "version": 3
   },
   "file_extension": ".py",
   "mimetype": "text/x-python",
   "name": "python",
   "nbconvert_exporter": "python",
   "pygments_lexer": "ipython3",
   "version": "3.8.3"
  }
 },
 "nbformat": 4,
 "nbformat_minor": 4
}
