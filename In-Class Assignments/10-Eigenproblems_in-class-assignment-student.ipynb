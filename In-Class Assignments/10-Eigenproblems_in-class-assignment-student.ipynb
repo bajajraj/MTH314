{
 "cells": [
  {
   "cell_type": "markdown",
   "metadata": {},
   "source": [
    "# 10 In-Class Assignment: Eigenproblems\n",
    "\n",
    "<img src=\"https://campusinvolvement.umich.edu/files/campusinvolvement/field/image/helmets.jpg\" alt=\"Image of two football helmets hitting each other. One is MSU and one is UofM which matches an example we will do in class\" width=\"50%\">\n",
    "\n",
    "Image from: [https://campusinvolvement.umich.edu/](https://campusinvolvement.umich.edu/) "
   ]
  },
  {
   "cell_type": "markdown",
   "metadata": {},
   "source": [
    "### Agenda for today's class (80 minutes)\n",
    "\n",
    "1. (10 minutes) [Homework 2 Review](#Homework-2-Review)\n",
    "2. (20 minutes) [Pre Class Review](#Pre-Class-Review)\n",
    "3. (25 minutes) [Markov Models](#Introduction-to-Markov-Models)\n",
    "4. (25 minutes) [Another Markov Model Example](#Another-Markov-Model-Example)"
   ]
  },
  {
   "cell_type": "markdown",
   "metadata": {},
   "source": [
    "\n",
    "\n",
    "\n",
    "---\n",
    "<a name=Homework-2-Review></a>\n",
    "## 1. Homework 2 Review\n",
    "\n",
    "* Here we will spend sometime going over our HW2 results. \n",
    "* **Reminder:** We have our Quiz2 this week! Make sure you view your HW results, learn from any mistakes, and study for the upcoming quiz.\n",
    "\n"
   ]
  },
  {
   "cell_type": "markdown",
   "metadata": {},
   "source": [
    "\n",
    "---\n",
    "<a name=Pre-Class-Review></a>\n",
    "## 2. Pre Class Review\n",
    "\n"
   ]
  },
  {
   "cell_type": "markdown",
   "metadata": {},
   "source": [
    "\n",
    "\n",
    "---\n",
    "<a name=Introduction-to-Markov-Models></a>\n",
    "## 3.  Markov Models\n",
    "\n",
    "\n",
    ">In probability theory, a Markov model is a stochastic model used to model randomly changing systems. \n",
    "It is assumed that future states depend only on the current state, not on the events that occurred before it.\n",
    ">\n",
    "> <img src=\"https://upload.wikimedia.org/wikipedia/commons/thumb/2/2b/Markovkate_01.svg/1126px-Markovkate_01.svg.png\" width=25%>\n",
    "> A diagram representing a two-state Markov process, with the states labelled E and A. \n",
    "Each number represents the probability of the Markov process changing from one state to another state, with the direction indicated by the arrow. \n",
    "For example, if the Markov process is in state A, then the probability it changes to state E is 0.4, while the probability it remains in state A is 0.6.\n",
    "\n",
    "From: [Wikipedia](https://en.wikipedia.org/wiki/Markov_model)"
   ]
  },
  {
   "cell_type": "markdown",
   "metadata": {},
   "source": [
    "The above state model can be represented by a transition matrix. \n",
    "\n",
    "$$\\begin{array}{cc}\n",
    "& \\text{Current State}  \\\\\n",
    "P =  &\n",
    "\\begin{bmatrix}\n",
    "    p_{A\\rightarrow A} & p_{E\\rightarrow A}  \\\\\n",
    "    p_{A\\rightarrow E} & p_{E\\rightarrow E} \n",
    "\\end{bmatrix}\n",
    "\\end{array}\n",
    "\\text{Next state}$$"
   ]
  },
  {
   "cell_type": "markdown",
   "metadata": {},
   "source": [
    "In other words we can write the above as follows"
   ]
  },
  {
   "cell_type": "code",
   "execution_count": 2,
   "metadata": {},
   "outputs": [],
   "source": [
    "%matplotlib inline\n",
    "import matplotlib.pylab as plt\n",
    "import numpy as np\n",
    "import sympy as sym\n",
    "sym.init_printing(use_unicode=True)"
   ]
  },
  {
   "cell_type": "code",
   "execution_count": 3,
   "metadata": {},
   "outputs": [
    {
     "data": {
      "text/latex": [
       "$\\displaystyle \\left[\\begin{matrix}0.6 & 0.7\\\\0.4 & 0.3\\end{matrix}\\right]$"
      ],
      "text/plain": [
       "⎡0.6  0.7⎤\n",
       "⎢        ⎥\n",
       "⎣0.4  0.3⎦"
      ]
     },
     "execution_count": 3,
     "metadata": {},
     "output_type": "execute_result"
    }
   ],
   "source": [
    "A = np.matrix([[0.6, 0.7],[0.4, 0.3]])\n",
    "sym.Matrix(A)"
   ]
  },
  {
   "cell_type": "markdown",
   "metadata": {},
   "source": [
    "Notice how the columns in the matrix all add to one. This is because all of the transition probabilities out of a matrix must add to 100 percent. "
   ]
  },
  {
   "cell_type": "markdown",
   "metadata": {},
   "source": [
    "Now, consider the following house map with cats in each room...\n",
    "\n",
    "At each time step, there is an equal probability of a cat staying in their current room or moving to a new room. \n",
    "If a cat chooses to leave a room, then there is an equal chance of that cat picking any of the doors in the room to leave. \n",
    "\n",
    "<img src=\"https://lh4.googleusercontent.com/CGFHfJgtrPu-2bZPhPul1ll8B3tqC1Vs8jRwnZ13v8MqRAagWhrSmJ0cznYIP3ePg5co5AVI8g=w712\" alt=\"Top down diagram of a house with three rooms (see text for more description\" width=\"50%\">"
   ]
  },
  {
   "cell_type": "markdown",
   "metadata": {},
   "source": [
    "&#9989;**<font color=red>DO THIS :</font>** Try to draw a Markov chain (Markov matrix) for the above system of equations. Be prepared to share your diagram with the class. "
   ]
  },
  {
   "cell_type": "markdown",
   "metadata": {},
   "source": [
    "A Markov chain can be represented as a Markov transition model of the form $Ax=b$. \n",
    "Where $A$ is your probability tranisition matrix (often represented as a $P$ instead of an $A$). \n",
    "$x$ is the state before the transition and $b$ is the state after the transition.\n",
    "\n",
    "&#9989;**<font color=red>QUESTION:</font>** Generate a Markov transition model represented as a matrix $P$ of the form:\n",
    "$$\n",
    "\\begin{array}{ccc}\n",
    "& \\text{Current Room}  \\\\\n",
    "P =  &\n",
    "\\begin{bmatrix}\n",
    "    p_{11} & p_{12} & p_{13} \\\\\n",
    "    p_{21} & p_{22} & p_{23} \\\\\n",
    "    p_{31} & p_{32} & p_{33} \n",
    "\\end{bmatrix}\n",
    "\\end{array}\n",
    "\\text{Next Room}\n",
    "$$\n",
    "\n",
    "Where $p_{ij}$ are probability transitions of the cat moving between rooms (from room $j$ to room $i$):"
   ]
  },
  {
   "cell_type": "code",
   "execution_count": 4,
   "metadata": {},
   "outputs": [
    {
     "data": {
      "text/latex": [
       "$\\displaystyle \\left[\\begin{matrix}0.5 & 0.333333333333333 & 0.25\\\\0.333333333333333 & 0.5 & 0.25\\\\0.166666666666667 & 0.166666666666667 & 0.5\\end{matrix}\\right]$"
      ],
      "text/plain": [
       "⎡       0.5         0.333333333333333  0.25⎤\n",
       "⎢                                          ⎥\n",
       "⎢0.333333333333333         0.5         0.25⎥\n",
       "⎢                                          ⎥\n",
       "⎣0.166666666666667  0.166666666666667  0.5 ⎦"
      ]
     },
     "execution_count": 4,
     "metadata": {},
     "output_type": "execute_result"
    }
   ],
   "source": [
    "##put your answer here\n",
    "P = np.matrix([[1/2,1/3,1/4],[1/3,1/2,1/4],[1/6,1/6,1/2]])\n",
    "sym.Matrix(P)"
   ]
  },
  {
   "cell_type": "code",
   "execution_count": 5,
   "metadata": {},
   "outputs": [
    {
     "name": "stdout",
     "output_type": "stream",
     "text": [
      "Testing [[0.5     0.33333 0.25   ]\n",
      " [0.33333 0.5     0.25   ]\n",
      " [0.16667 0.16667 0.5    ]]\n",
      "Answer seems to be correct\n",
      "\n"
     ]
    }
   ],
   "source": [
    "from answercheck import checkanswer\n",
    "\n",
    "checkanswer.matrix(P,'1001a6fa07727caf8ce05226b765542c');"
   ]
  },
  {
   "cell_type": "markdown",
   "metadata": {},
   "source": [
    "&#9989;**<font color=red>QUESTION:</font>**  Let's assume that the system starts with; 6 cats in room 1, 15 cats in room 2, and 3 cats in room 3. How many cats will be in each room after one time step (Store the values in a vector called ```current_state```)?"
   ]
  },
  {
   "cell_type": "code",
   "execution_count": 7,
   "metadata": {},
   "outputs": [
    {
     "data": {
      "text/latex": [
       "$\\displaystyle \\left[\\begin{matrix}8.75\\\\10.25\\\\5.0\\end{matrix}\\right]$"
      ],
      "text/plain": [
       "⎡8.75 ⎤\n",
       "⎢     ⎥\n",
       "⎢10.25⎥\n",
       "⎢     ⎥\n",
       "⎣ 5.0 ⎦"
      ]
     },
     "execution_count": 7,
     "metadata": {},
     "output_type": "execute_result"
    }
   ],
   "source": [
    "#Put your answer to the above question here.\n",
    "current_state = P*np.matrix([[6,15,3]]).T\n",
    "sym.Matrix(current_state)"
   ]
  },
  {
   "cell_type": "code",
   "execution_count": 8,
   "metadata": {},
   "outputs": [
    {
     "name": "stdout",
     "output_type": "stream",
     "text": [
      "\n",
      "CheckWarning: numpy.matrix is row vector...\n",
      "    Trying to convert to a column vector using ```A = A.T```.\n",
      "\n",
      "Testing [[ 8.75 10.25  5.  ]]\n",
      "Answer seems to be correct\n",
      "\n"
     ]
    }
   ],
   "source": [
    "from answercheck import checkanswer\n",
    "\n",
    "checkanswer.vector(current_state,'98d5519be82a0585654de5eda3a7f397');"
   ]
  },
  {
   "cell_type": "markdown",
   "metadata": {},
   "source": [
    "&#9989;**<font color=red>QUESTION:</font>** The following code will plot the number of cats as a function of time ($t$).  When this system converges, what is the steady state?"
   ]
  },
  {
   "cell_type": "code",
   "execution_count": 9,
   "metadata": {},
   "outputs": [
    {
     "name": "stdout",
     "output_type": "stream",
     "text": [
      "[[9.00002533]\n",
      " [9.00002548]\n",
      " [5.99994919]]\n"
     ]
    },
    {
     "name": "stderr",
     "output_type": "stream",
     "text": [
      "/opt/anaconda3/lib/python3.8/site-packages/numpy/core/_asarray.py:171: VisibleDeprecationWarning: Creating an ndarray from ragged nested sequences (which is a list-or-tuple of lists-or-tuples-or ndarrays with different lengths or shapes) is deprecated. If you meant to do this, you must specify 'dtype=object' when creating the ndarray.\n",
      "  return array(a, dtype, copy=False, order=order, subok=True)\n"
     ]
    },
    {
     "data": {
      "image/png": "[encoded data removed]",
      "text/plain": [
       "<Figure size 432x288 with 1 Axes>"
      ]
     },
     "metadata": {
      "needs_background": "light"
     },
     "output_type": "display_data"
    }
   ],
   "source": [
    "#Define Start State\n",
    "room1 = [6]\n",
    "room2 = [15]\n",
    "room3 = [3]\n",
    "\n",
    "current_state = np.matrix([room1, room2, room3])\n",
    "\n",
    "for i in range(10):\n",
    "    #update Current State\n",
    "    current_state = P*current_state\n",
    "    \n",
    "    #Store history for each room\n",
    "    room1.append(current_state[0])\n",
    "    room2.append(current_state[1])\n",
    "    room3.append(current_state[2])\n",
    "    \n",
    "plt.plot(room1, label=\"room1\");\n",
    "plt.plot(room2, label=\"room2\");\n",
    "plt.plot(room3, label=\"room3\");\n",
    "plt.legend();\n",
    "print(current_state)"
   ]
  },
  {
   "cell_type": "markdown",
   "metadata": {},
   "source": [
    "**Inspect the generated graph and put your answer to the above question here.**"
   ]
  },
  {
   "cell_type": "markdown",
   "metadata": {},
   "source": [
    "&#9989;**<font color=red>QUESTION:</font>**  Calculate the eigenvalues and eigenvectors of your $P$ transition matrix.  "
   ]
  },
  {
   "cell_type": "code",
   "execution_count": 10,
   "metadata": {},
   "outputs": [
    {
     "name": "stdout",
     "output_type": "stream",
     "text": [
      "[1.         0.16666667 0.33333333]\n",
      "[[-6.39602149e-01 -7.07106781e-01 -4.08248290e-01]\n",
      " [-6.39602149e-01  7.07106781e-01 -4.08248290e-01]\n",
      " [-4.26401433e-01 -4.12648555e-16  8.16496581e-01]]\n"
     ]
    }
   ],
   "source": [
    "##put your answer here\n",
    "v, w = np.linalg.eig(P)\n",
    "print(v)\n",
    "print(w)"
   ]
  },
  {
   "cell_type": "markdown",
   "metadata": {},
   "source": [
    "The eigenvector associated with the eigenvalue of 1 represents the steady state probability for our original transition matrix $P$.  \n",
    "\n",
    "&#9989;**<font color=red>DO THIS:</font>** make a new vector called ```steadystate``` from the eigenvector of your $P$ matrix with a eigenvalue of 1."
   ]
  },
  {
   "cell_type": "code",
   "execution_count": 11,
   "metadata": {},
   "outputs": [
    {
     "name": "stdout",
     "output_type": "stream",
     "text": [
      "[[-0.63960215]\n",
      " [-0.63960215]\n",
      " [-0.42640143]]\n"
     ]
    }
   ],
   "source": [
    "## Put your answer here\n",
    "steadystate = w[:,0]\n",
    "print(steadystate)"
   ]
  },
  {
   "cell_type": "markdown",
   "metadata": {},
   "source": [
    "Since the ```steadystate``` vectors represent long term probibilities, they should sum to one (1).  However, most programming libraries (ex. numpy and sympy) return \"normalized\" eigenvectors to length of 1 (i.e. norm(e)==1). \n",
    "\n",
    "&#9989;**<font color=red>DO THIS:</font>**  Correct for the normalization by multiplying the ```steadystate``` eigenvector by a constant such that the sum of the vector elements add to 1. "
   ]
  },
  {
   "cell_type": "code",
   "execution_count": 12,
   "metadata": {},
   "outputs": [
    {
     "name": "stdout",
     "output_type": "stream",
     "text": [
      "[[0.375]\n",
      " [0.375]\n",
      " [0.25 ]]\n",
      "1.0\n"
     ]
    }
   ],
   "source": [
    "#Put your answer here\n",
    "steadystate = steadystate/np.sum(steadystate)\n",
    "print(steadystate)\n",
    "print(np.sum(steadystate))"
   ]
  },
  {
   "cell_type": "markdown",
   "metadata": {},
   "source": [
    "&#9989;**<font color=red>DO THIS:</font>**  Think about the cats problem, because one cat has to be in one of the three rooms. That means, the total number of cats will not change. If we add the number of cats at all rooms together, this number has to be the same. Therefore, if we start will 6+15+3=24 cats, there are also 24 cats at the ```steadystate```. Modify the steadystate to make sure the total number of cats is 24."
   ]
  },
  {
   "cell_type": "code",
   "execution_count": 13,
   "metadata": {},
   "outputs": [
    {
     "name": "stdout",
     "output_type": "stream",
     "text": [
      "[[9.]\n",
      " [9.]\n",
      " [6.]]\n"
     ]
    }
   ],
   "source": [
    "#Put your answer here\n",
    "steadystate = 24*steadystate\n",
    "print(steadystate)"
   ]
  },
  {
   "cell_type": "markdown",
   "metadata": {},
   "source": [
    "&#9989;**<font color=red>QUESTION:</font>** Why does the sum of the numbers at every stage remain the same? \n"
   ]
  },
  {
   "cell_type": "markdown",
   "metadata": {},
   "source": [
    "**Probability is always equal to 1**"
   ]
  },
  {
   "cell_type": "markdown",
   "metadata": {},
   "source": [
    "\n",
    "\n",
    "\n",
    "---\n",
    "<a name=Another-Markov-Model-Example></a>\n",
    "## 3. Another Markov Model Example\n",
    "\n",
    "\n",
    "\n",
    "> A sports broadcaster wishes to predict how many Michigan residents prefer University of Michigan teams and how many prefer Michigan State teams. \n",
    "She noticed that, year after year, most people stick with their preferred team; however, about 5% of Michigan fans switch to Michigan State, and about 3% of Michigan State fans switch to Michigan each year. \n",
    "However, there is no noticeable difference in the state's population of 10 million's preference at large; in other words, it seems Michigan sports fans have reached a stationary distribution. What might that be?\n",
    " <p style=\"text-align: right;\">  This problem is from https://brilliant.org/wiki/stationary-distributions/ </p>"
   ]
  },
  {
   "cell_type": "markdown",
   "metadata": {},
   "source": [
    "&#9989;**<font color=red>DO THIS:</font>** Try to draw a Markov chain for the above system of equations. Discuss your diagram with your classmate."
   ]
  },
  {
   "cell_type": "markdown",
   "metadata": {},
   "source": [
    "&#9989; **<font color=red>QUESTION:</font>**  Write a system of linear equations that represents how the populations change each year. Check your equations by writing the matrix ```P``` for the probability transitions matrix in your equations. Make sure your first row/column represents MSU and the second row/column represents UofM. "
   ]
  },
  {
   "cell_type": "markdown",
   "metadata": {},
   "source": [
    "**Put your answer here.**"
   ]
  },
  {
   "cell_type": "code",
   "execution_count": 24,
   "metadata": {},
   "outputs": [],
   "source": [
    "# Store your matrix P here\n",
    "P = np.matrix('0.97,0.05;0.03,0.95')"
   ]
  },
  {
   "cell_type": "code",
   "execution_count": 25,
   "metadata": {},
   "outputs": [
    {
     "name": "stdout",
     "output_type": "stream",
     "text": [
      "\n",
      "CheckWarning: numpy.matrix is row vector...\n",
      "    Trying to convert to a column vector using ```A = A.T```.\n",
      "\n",
      "Testing [[0.97 0.03]\n",
      " [0.05 0.95]]\n",
      "Answer seems to be correct\n",
      "\n"
     ]
    }
   ],
   "source": [
    "from answercheck import checkanswer\n",
    "\n",
    "checkanswer.vector(P,'1d3f7cbebef4b610f3b0a2d97609c81f');"
   ]
  },
  {
   "cell_type": "markdown",
   "metadata": {},
   "source": [
    "&#9989; **<font color=red>QUESTION:</font>**   Use Numpy to calculate the eigenvalues and eigenvectors of your $P$ transition matrix.  "
   ]
  },
  {
   "cell_type": "code",
   "execution_count": 27,
   "metadata": {},
   "outputs": [
    {
     "name": "stdout",
     "output_type": "stream",
     "text": [
      "[1.   0.92]\n",
      "[[ 0.85749293 -0.70710678]\n",
      " [ 0.51449576  0.70710678]]\n"
     ]
    }
   ],
   "source": [
    "#Put the answer to the above quesiton here. \n",
    "v,w = np.linalg.eig(P)\n",
    "print(v)\n",
    "print(w)"
   ]
  },
  {
   "cell_type": "markdown",
   "metadata": {},
   "source": [
    "&#9989; **<font color=red>QUESTION:</font>**   Assuming each team starts with 500,000 fans, what is the steady state of this model? (I.e. in the long term how many Spartan and Wolverine fans will there be?)."
   ]
  },
  {
   "cell_type": "code",
   "execution_count": 28,
   "metadata": {},
   "outputs": [],
   "source": [
    "#Put your answer here\n",
    "steadystate = w[:,0]\n",
    "steadystate = steadystate/np.sum(steadystate)\n",
    "steadystate = steadystate*1000000\n",
    "spartans = steadystate[0]\n",
    "wolverines = steadystate[1]"
   ]
  },
  {
   "cell_type": "code",
   "execution_count": 29,
   "metadata": {},
   "outputs": [
    {
     "name": "stdout",
     "output_type": "stream",
     "text": [
      "\n",
      "CheckWarning: passed variable is <class 'numpy.matrix'> and not a float.\n",
      "    Trying to convert to a float using ```A = float(A)```.\n",
      "\n",
      "Testing 625000.0\n",
      "Answer seems to be correct\n",
      "\n"
     ]
    }
   ],
   "source": [
    "from answercheck import checkanswer\n",
    "\n",
    "checkanswer.float(spartans,'06d263de629f4dbe51eafd524b69ddd9');"
   ]
  },
  {
   "cell_type": "code",
   "execution_count": 30,
   "metadata": {},
   "outputs": [
    {
     "name": "stdout",
     "output_type": "stream",
     "text": [
      "\n",
      "CheckWarning: passed variable is <class 'numpy.matrix'> and not a float.\n",
      "    Trying to convert to a float using ```A = float(A)```.\n",
      "\n",
      "Testing 375000.0\n",
      "Answer seems to be correct\n",
      "\n"
     ]
    }
   ],
   "source": [
    "from answercheck import checkanswer\n",
    "\n",
    "checkanswer.float(wolverines,'62d63699c8f7b886ec9b3cb651bba753');"
   ]
  },
  {
   "cell_type": "markdown",
   "metadata": {},
   "source": [
    "----\n",
    "\n",
    "Written by Dr. Dirk Colbry, Michigan State University\n",
    "<a rel=\"license\" href=\"http://creativecommons.org/licenses/by-nc/4.0/\"><img alt=\"Creative Commons License\" style=\"border-width:0\" src=\"https://i.creativecommons.org/l/by-nc/4.0/88x31.png\" /></a><br />This work is licensed under a <a rel=\"license\" href=\"http://creativecommons.org/licenses/by-nc/4.0/\">Creative Commons Attribution-NonCommercial 4.0 International License</a>."
   ]
  },
  {
   "cell_type": "markdown",
   "metadata": {},
   "source": [
    "----"
   ]
  }
 ],
 "metadata": {
  "kernelspec": {
   "display_name": "Python 3",
   "language": "python",
   "name": "python3"
  },
  "language_info": {
   "codemirror_mode": {
    "name": "ipython",
    "version": 3
   },
   "file_extension": ".py",
   "mimetype": "text/x-python",
   "name": "python",
   "nbconvert_exporter": "python",
   "pygments_lexer": "ipython3",
   "version": "3.8.8"
  }
 },
 "nbformat": 4,
 "nbformat_minor": 4
}
