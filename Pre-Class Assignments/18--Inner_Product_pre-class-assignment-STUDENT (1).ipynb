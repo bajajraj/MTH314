{
 "cells": [
  {
   "cell_type": "markdown",
   "metadata": {},
   "source": [
    "# 18 Pre-Class Assignment: Inner Product"
   ]
  },
  {
   "cell_type": "markdown",
   "metadata": {},
   "source": [
    "## Goals for today's pre-class assignment \n",
    "\n",
    "</p>\n",
    "\n",
    "1. [Inner Products](#Inner_Products)\n",
    "1. [Inner Product on Functions](#Inner_Product_on_Functions)"
   ]
  },
  {
   "cell_type": "code",
   "execution_count": 5,
   "metadata": {},
   "outputs": [],
   "source": [
    "%matplotlib inline\n",
    "import numpy as np\n",
    "import matplotlib.pyplot as plt\n",
    "import sympy as sym\n",
    "sym.init_printing()"
   ]
  },
  {
   "cell_type": "markdown",
   "metadata": {},
   "source": [
    "---\n",
    "<a name=\"Inner_Products\"></a>\n",
    "## 1. Inner Products\n",
    "\n",
    "**Definition:** An **inner product** on a vector space $V$ (Remember that $R^n$ is just one class of vector spaces) is a function that associates a number, denoted as $\\langle u,v \\rangle$, with each pair of vectors $u$ and $v$ of $V$. This function satisfies the following conditions for vectors $u, v, w$ and scalar $c$:\n",
    "\n",
    "- $\\langle u,v \\rangle = \\langle v,u \\rangle$ (symmetry axiom)\n",
    "- $\\langle u+v,w \\rangle = \\langle u,w \\rangle + \\langle v,w \\rangle$ (additive axiom) \n",
    "- $\\langle cu,v \\rangle = c\\langle v,u \\rangle$ (homogeneity axiom)\n",
    "- $\\langle u,u \\rangle \\ge 0 \\text{ and } \\langle u,u \\rangle = 0 \\text{ if and only if } u = 0$ (positive definite axiom) \n",
    "\n",
    "\n",
    "The dot product of $R^n$ is an inner product. Note that we can define new inner products for $R^n$.\n",
    "\n",
    "### Norm of a vector\n",
    "\n",
    "**Definition:** Let $V$ be an inner product space. The **norm** of a vector $v$ is denoted by $\\| v \\|$ and is defined by:\n",
    "\n",
    "$$\\| v \\| = \\sqrt{\\langle v,v \\rangle}.$$\n",
    "\n",
    "### Angle between two vectors\n",
    "\n",
    "**Definition:** Let $V$ be a real inner product space. The **angle $\\theta$ between two nonzero vectors $u$ and $v$** in $V$ is given by:\n",
    "\n",
    "$$cos(\\theta) = \\frac{\\langle u,v \\rangle}{\\| u \\| \\| v \\|}.$$\n",
    "\n",
    "### Orthogonal vectors\n",
    "\n",
    "**Definition:** Let $V$ be an inner product space.  Two vectors $u$ and $v$ in $V$ are **orthogonal** if their inner product is zero:\n",
    "\n",
    "$$\\langle u,v \\rangle = 0.$$\n",
    "\n",
    "### Distance\n",
    "**Definition:** Let $V$ be an inner product space. The **distance between two vectors (points) $u$ and $v$** in $V$ is denoted by $d(u,v)$ and is defined by:\n",
    "\n",
    "$$d(u,v) = \\| u-v \\| = \\sqrt{\\langle u-v, u-v \\rangle}$$\n",
    "\n"
   ]
  },
  {
   "cell_type": "markdown",
   "metadata": {},
   "source": [
    "#### Example:\n",
    "Let $R^2$ have an inner product defined by:\n",
    "$$\\langle (a_1,a_2),(b_1,b_2)\\rangle = 2a_1b_1 + 3a_2b_2.$$"
   ]
  },
  {
   "cell_type": "markdown",
   "metadata": {},
   "source": [
    "&#9989; **<font color=red>QUESTION 1:</font>** What is the norm of (1,-2) in this space?"
   ]
  },
  {
   "cell_type": "code",
   "execution_count": 6,
   "metadata": {},
   "outputs": [
    {
     "name": "stdout",
     "output_type": "stream",
     "text": [
      "nan\n"
     ]
    },
    {
     "name": "stderr",
     "output_type": "stream",
     "text": [
      "<ipython-input-6-5700225380c1>:2: RuntimeWarning: invalid value encountered in sqrt\n",
      "  norm = np.sqrt(((2*(1)*(-2))+(3*(1)*(-2))))\n"
     ]
    }
   ],
   "source": [
    "#Put your answer to the above question here.\n",
    "norm = np.sqrt(((2*(1)*(-2))+(3*(1)*(-2))))\n",
    "print(round(norm,3))"
   ]
  },
  {
   "cell_type": "markdown",
   "metadata": {},
   "source": [
    "R^2 = "
   ]
  },
  {
   "cell_type": "markdown",
   "metadata": {},
   "source": [
    "&#9989; **<font color=red>QUESTION 2:</font>** What is the distance between (1,-2) and (3,2) in this space?"
   ]
  },
  {
   "cell_type": "code",
   "execution_count": 7,
   "metadata": {},
   "outputs": [
    {
     "name": "stdout",
     "output_type": "stream",
     "text": [
      "12\n"
     ]
    },
    {
     "data": {
      "image/png": "[encoded data removed]",
      "text/latex": [
       "$\\displaystyle 3.46410161513775$"
      ],
      "text/plain": [
       "3.4641016151377544"
      ]
     },
     "execution_count": 7,
     "metadata": {},
     "output_type": "execute_result"
    }
   ],
   "source": [
    "#Put your answer to the above question here.\n",
    "u = np.array([1,0,1])\n",
    "v = np.array([3,2,1])\n",
    "usubv = u-v\n",
    "uv = usubv[0]*usubv[0] + 2*usubv[1]*usubv[1] + 3*usubv[2]*usubv[2]\n",
    "print(uv)\n",
    "distance = np.sqrt(uv)\n",
    "distance\n"
   ]
  },
  {
   "cell_type": "markdown",
   "metadata": {},
   "source": [
    "&#9989; **<font color=red>QUESTION 3:</font>** What is the angle between (1,-2) and (3,2) in this space?"
   ]
  },
  {
   "cell_type": "code",
   "execution_count": 8,
   "metadata": {},
   "outputs": [
    {
     "data": {
      "image/png": "[encoded data removed]",
      "text/latex": [
       "$\\displaystyle 1.867918843142$"
      ],
      "text/plain": [
       "1.8679188431419989"
      ]
     },
     "execution_count": 8,
     "metadata": {},
     "output_type": "execute_result"
    }
   ],
   "source": [
    "#Put your answer to the above question here.\n",
    "uv = (2*1*3)+(3*(-2)*2)\n",
    "unorm = np.sqrt((2*1*(1))+(3*(-2)*(-2)))\n",
    "vnorm = np.sqrt((2*3*(3))+(3*(2)*(2)))\n",
    "cosangle = uv/(unorm*vnorm)\n",
    "anfle = np.arccos(cosangle)\n",
    "anfle"
   ]
  },
  {
   "cell_type": "markdown",
   "metadata": {},
   "source": [
    "&#9989; **<font color=red>QUESTION 4:</font>** Determine if (1,-2) and (3,2) are orthogonal in this space?"
   ]
  },
  {
   "cell_type": "code",
   "execution_count": 9,
   "metadata": {},
   "outputs": [
    {
     "data": {
      "image/png": "[encoded data removed]",
      "text/latex": [
       "$\\displaystyle -6$"
      ],
      "text/plain": [
       "-6"
      ]
     },
     "execution_count": 9,
     "metadata": {},
     "output_type": "execute_result"
    }
   ],
   "source": [
    "#Put your answer to the above question here.\n",
    "uv = (2*1*3)+(3*(-2)*2)\n",
    "uv"
   ]
  },
  {
   "cell_type": "markdown",
   "metadata": {},
   "source": [
    "They are not orthogonal"
   ]
  },
  {
   "cell_type": "markdown",
   "metadata": {},
   "source": [
    "---\n",
    "<a name=\"Inner_Product_on_Functions\"></a>\n",
    "## 2. Inner Product on Functions"
   ]
  },
  {
   "cell_type": "code",
   "execution_count": 10,
   "metadata": {},
   "outputs": [
    {
     "data": {
      "image/jpeg": "[encoded data removed]",
      "text/html": [
       "\n",
       "        <iframe\n",
       "            width=\"640\"\n",
       "            height=\"360\"\n",
       "            src=\"https://www.youtube.com/embed/8ZyeHtgMBjk?cc_load_policy=True\"\n",
       "            frameborder=\"0\"\n",
       "            allowfullscreen\n",
       "        ></iframe>\n",
       "        "
      ],
      "text/plain": [
       "<IPython.lib.display.YouTubeVideo at 0x7fa908be1ca0>"
      ]
     },
     "execution_count": 10,
     "metadata": {},
     "output_type": "execute_result"
    }
   ],
   "source": [
    "from IPython.display import YouTubeVideo\n",
    "YouTubeVideo(\"8ZyeHtgMBjk\",width=640,height=360, cc_load_policy=True)"
   ]
  },
  {
   "cell_type": "markdown",
   "metadata": {},
   "source": [
    "#### Example\n",
    "Consider the following functions \n",
    "\n",
    "$$f(x)=3x-1$$\n",
    "$$g(x)=5x+3$$\n",
    "\n",
    "$$\\text{with inner product defined by }\\langle f,g\\rangle=\\int_0^1{f(x)g(x)dx}.$$\n",
    "\n",
    "&#9989; **<font color=red>QUESTION 5:</font>** What is the norm of $f(x)$ in this space?\n",
    "\n",
    "(Hint: you can use `sympy.integrate` to compute the integral)"
   ]
  },
  {
   "cell_type": "markdown",
   "metadata": {},
   "source": [
    "#Put your answer to the above question here.\n",
    "$$f(x)=3x-1$$\n",
    "$$\\langle f,f\\rangle=\\int_0^1{f^{2}(x)dx}$$\n",
    "$$f^{2}(x) = 9x^{2} -6x + 1$$\n",
    "$$\\langle f,f\\rangle=\\int_0^1{(9x^{2} -6x + 1dx)}$$\n",
    "$$\\langle f,f \\rangle = [3x^{3}-3x^{2} + x]_0^1$$\n",
    "$$\\langle f,f \\rangle = 3 - 3 + 1 $$\n",
    "$$\\langle f,f \\rangle = 1$$\n",
    "\n",
    "Therefore, norm of $\\langle f,f \\rangle = \\sqrt{1} => 1$."
   ]
  },
  {
   "cell_type": "markdown",
   "metadata": {},
   "source": [
    "&#9989; **<font color=red>QUESTION 6:</font>** What is the norm of $g(x)$ in this space?"
   ]
  },
  {
   "cell_type": "markdown",
   "metadata": {},
   "source": [
    "#Put your answer to the above question here.\n",
    "$$g(x)=5x+3$$\n",
    "$$\\langle g,g\\rangle=\\int_0^1{g^{2}(x)dx}$$\n",
    "$$g^{2}(x) = 25x^{2} -30x + 9$$\n",
    "$$\\langle g,g\\rangle=\\int_0^1{(25x^{2} -30x + 9dx)}$$\n",
    "$$\\langle g,g \\rangle = [\\frac{25x^{3}}{3}+15x^{2} + 9x]_0^1$$\n",
    "$$\\langle g,g \\rangle = \\frac{25}{3}+15 + 9 $$\n",
    "$$\\langle g,g \\rangle = 97/3$$\n",
    "\n",
    "Therefore, norm of $\\langle g,g \\rangle = \\sqrt{97/3}$."
   ]
  },
  {
   "cell_type": "markdown",
   "metadata": {},
   "source": [
    "&#9989; **<font color=red>QUESTION 7:</font>** What is the inner product of $f(x)$ and $g(x)$ in this space?"
   ]
  },
  {
   "cell_type": "code",
   "execution_count": null,
   "metadata": {},
   "outputs": [],
   "source": [
    "#Put your answer to the above question here."
   ]
  },
  {
   "cell_type": "markdown",
   "metadata": {},
   "source": [
    "----\n",
    "\n",
    "Written by Dr. Dirk Colbry, Michigan State University\n",
    "<a rel=\"license\" href=\"http://creativecommons.org/licenses/by-nc/4.0/\"><img alt=\"Creative Commons License\" style=\"border-width:0\" src=\"https://i.creativecommons.org/l/by-nc/4.0/88x31.png\" /></a><br />This work is licensed under a <a rel=\"license\" href=\"http://creativecommons.org/licenses/by-nc/4.0/\">Creative Commons Attribution-NonCommercial 4.0 International License</a>."
   ]
  }
 ],
 "metadata": {
  "anaconda-cloud": {},
  "kernelspec": {
   "display_name": "Python 3",
   "language": "python",
   "name": "python3"
  },
  "language_info": {
   "codemirror_mode": {
    "name": "ipython",
    "version": 3
   },
   "file_extension": ".py",
   "mimetype": "text/x-python",
   "name": "python",
   "nbconvert_exporter": "python",
   "pygments_lexer": "ipython3",
   "version": "3.8.8"
  }
 },
 "nbformat": 4,
 "nbformat_minor": 4
}
