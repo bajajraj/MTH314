{
 "cells": [
  {
   "cell_type": "markdown",
   "metadata": {},
   "source": [
    "# 12 Pre-Class Assignment: Change of Basis"
   ]
  },
  {
   "cell_type": "markdown",
   "metadata": {},
   "source": [
    "### Readings for this topic (Recommended in bold)\n",
    " * [Heffron Chapter 2 III pg 114-134](http://joshua.smcvt.edu/linearalgebra/book.pdf)\n",
    " * [**_Beezer Subsection CBM pg 542-549_**](http://linear.ups.edu/download/fcla-3.50-tablet.pdf)\n",
    " * [Boyd Section 5.1 pg 91-95](http://vmls-book.stanford.edu/vmls.pdf)\n"
   ]
  },
  {
   "cell_type": "markdown",
   "metadata": {},
   "source": [
    "### Goals for today's pre-class assignment \n",
    "\n",
    "1. [Properties of Invertible Matrices](#Properties_of_invertible_Matrices)\n",
    "1. [The Basis of a Vector Space](#The_Basis_of_a_Vector_Space)\n",
    "1. [Change of Basis](#Change_of_Basis)"
   ]
  },
  {
   "cell_type": "code",
   "execution_count": 1,
   "metadata": {},
   "outputs": [],
   "source": [
    "%matplotlib inline\n",
    "import matplotlib.pylab as plt\n",
    "import numpy as np\n",
    "import sympy as sym\n",
    "sym.init_printing(use_unicode=True)"
   ]
  },
  {
   "cell_type": "markdown",
   "metadata": {},
   "source": [
    "----\n",
    "<a name=\"Properties_of_invertible_Matrices\"></a>\n",
    "\n",
    "## 1.  Review the Properties of Invertible Matrices\n",
    "Let $A$ be an $n \\times n$ matrix. The following statements are equivalent.\n",
    "\n",
    "- The column vectors of $A$ form a basis for $\\mathbb R^n$\n",
    "- $|A| \\ne 0$\n",
    "- $A$ is invertible.\n",
    "- $A$ is row equivalent to $I_n$ (i.e. its reduced row echelon form is $I_n$)\n",
    "- The system of equations $Ax = b$ has a unique solution (for any $b$).\n",
    "- $rank(A) = n$\n"
   ]
  },
  {
   "cell_type": "markdown",
   "metadata": {},
   "source": [
    "**Definition.** In linear algebra, the rank of a matrix A (denoted by $rank(A)$) is the dimension of the vector space generated (or spanned) by its columns."
   ]
  },
  {
   "cell_type": "markdown",
   "metadata": {},
   "source": [
    "Consider the following example. We claim that the following set of vectors form a basis for $\\mathbb R^3$:\n",
    "\n",
    "$$B = \\{(2,1, 4), (-1,6, 0), (2, 4, -3) \\}$$\n",
    "\n",
    "Remember for these three vectors to be a basis they need to obey the following two properties:\n",
    "\n",
    "1. They must span $\\mathbb R^3$. \n",
    "2. They must be linearly independent.\n",
    "\n",
    "Using the above statements we can show this is true in multiple ways.  "
   ]
  },
  {
   "cell_type": "markdown",
   "metadata": {},
   "source": [
    "\n",
    "### The column vectors of $A$ form a basis for $\\mathbb R^n$\n",
    "\n",
    "&#9989; **<font color=red>DO THIS:</font>** Define a numpy matrix ```A``` consisting of the vectors $B$ as columns:"
   ]
  },
  {
   "cell_type": "code",
   "execution_count": 2,
   "metadata": {},
   "outputs": [
    {
     "data": {
      "image/png": "[encoded data removed]",
      "text/latex": [
       "$\\displaystyle \\left[ \\right]$"
      ],
      "text/plain": [
       "[]"
      ]
     },
     "execution_count": 2,
     "metadata": {},
     "output_type": "execute_result"
    }
   ],
   "source": [
    "#Put your answer to the above question here\n",
    "A = np.matrix([[2,1,4],[-1,6,0],[2,4,-3]]).T\n",
    "sym.Matrix(A).nullspace()"
   ]
  },
  {
   "cell_type": "code",
   "execution_count": 3,
   "metadata": {},
   "outputs": [
    {
     "name": "stdout",
     "output_type": "stream",
     "text": [
      "\n",
      "CheckWarning: passed matrix is int64 and not <class 'numpy.float64'>...\n",
      "    Trying to convert to float using ```A = A.astype(float)```.\n",
      "\n",
      "\n",
      "CheckWarning: Matrix contains negative values for zero...\n",
      "    Converting to positive values of zero using  ```A[A==-0] = 0```.\n",
      "\n",
      "Testing [[ 2. -1.  2.]\n",
      " [ 1.  6.  4.]\n",
      " [ 4.  0. -3.]]\n",
      "Answer seems to be correct\n",
      "\n"
     ]
    }
   ],
   "source": [
    "from answercheck import checkanswer\n",
    "\n",
    "checkanswer.matrix(A,'94827a40ec59c7d767afe6841e1723ce');"
   ]
  },
  {
   "cell_type": "markdown",
   "metadata": {},
   "source": [
    "### $|A| \\ne 0$\n",
    "\n",
    "\n",
    "&#9989; **<font color=red>DO THIS:</font>** The first in the above properties tell us that if the vectors in $B$ are truly a basis of $\\mathbb R^3$ then $|A|\\ne 0$, and vice versa. Calculate the determinant of $A$ and store the value in ```det```."
   ]
  },
  {
   "cell_type": "code",
   "execution_count": 4,
   "metadata": {},
   "outputs": [],
   "source": [
    "#Put your answer to the above question here\n",
    "det = np.linalg.det(A)"
   ]
  },
  {
   "cell_type": "code",
   "execution_count": 5,
   "metadata": {},
   "outputs": [
    {
     "name": "stdout",
     "output_type": "stream",
     "text": [
      "Since the Determinate is non-zero then the column vectors form a Basis.\n"
     ]
    }
   ],
   "source": [
    "#Verify that the determinate is in fact zero\n",
    "if np.isclose(det,0):\n",
    "    print(\"Since the Determinate is zero the column vectors do NOT form a Basis\")\n",
    "else:\n",
    "    print(\"Since the Determinate is non-zero then the column vectors form a Basis.\")"
   ]
  },
  {
   "cell_type": "markdown",
   "metadata": {},
   "source": [
    "###  $A$ is invertible.\n",
    "\n",
    "\n",
    "&#9989; **<font color=red>DO THIS:</font>** Since the determinant is non-zero we know that there is an inverse to A.  Use python to calculate that inverse and store it in a matrix called ```A_inv```"
   ]
  },
  {
   "cell_type": "code",
   "execution_count": 6,
   "metadata": {},
   "outputs": [],
   "source": [
    "#put your answer to the above question here\n",
    "A_inv = np.linalg.inv(A)"
   ]
  },
  {
   "cell_type": "code",
   "execution_count": 7,
   "metadata": {},
   "outputs": [
    {
     "name": "stdout",
     "output_type": "stream",
     "text": [
      "Testing [[ 0.17476  0.02913  0.15534]\n",
      " [-0.18447  0.13592  0.05825]\n",
      " [ 0.23301  0.03883 -0.12621]]\n",
      "Answer seems to be correct\n",
      "\n"
     ]
    }
   ],
   "source": [
    "from answercheck import checkanswer\n",
    "\n",
    "checkanswer.matrix(A_inv,'001aaddd4824f42ad9d2ccde21cf9d24');"
   ]
  },
  {
   "cell_type": "markdown",
   "metadata": {},
   "source": [
    "### $A$ is row equivalent to $I_n$ (i.e. its reduced row echelon form is $I_n$)\n"
   ]
  },
  {
   "cell_type": "markdown",
   "metadata": {},
   "source": [
    "&#9989; **<font color=red>DO THIS:</font>** According to the property above the reduced row echelon form of an invertable matrix is the Identity matrix.  Verify using the python ```sympy``` library and store the reduced row echelon matrix in a variable called ```rref``` if you really need to check it."
   ]
  },
  {
   "cell_type": "code",
   "execution_count": 8,
   "metadata": {},
   "outputs": [
    {
     "data": {
      "text/latex": [
       "$\\displaystyle \\left[\\begin{matrix}1 & 0 & 0\\\\0 & 1 & 0\\\\0 & 0 & 1\\end{matrix}\\right]$"
      ],
      "text/plain": [
       "⎡1  0  0⎤\n",
       "⎢       ⎥\n",
       "⎢0  1  0⎥\n",
       "⎢       ⎥\n",
       "⎣0  0  1⎦"
      ]
     },
     "execution_count": 8,
     "metadata": {},
     "output_type": "execute_result"
    }
   ],
   "source": [
    "#put your answer to the above question here\n",
    "rref = sym.Matrix(A).rref()[0]\n",
    "rref"
   ]
  },
  {
   "cell_type": "code",
   "execution_count": 9,
   "metadata": {},
   "outputs": [
    {
     "name": "stdout",
     "output_type": "stream",
     "text": [
      "\n",
      "CheckWarning: passed variable is <class 'sympy.matrices.dense.MutableDenseMatrix'> and not a numpy.matrix...\n",
      "    Trying to convert to a array matrix using ```A = np.matrix(A)```.\n",
      "\n",
      "\n",
      "CheckWarning: passed matrix is object and not <class 'numpy.float64'>...\n",
      "    Trying to convert to float using ```A = A.astype(float)```.\n",
      "\n",
      "\n",
      "CheckWarning: Matrix contains negative values for zero...\n",
      "    Converting to positive values of zero using  ```A[A==-0] = 0```.\n",
      "\n",
      "Testing [[1. 0. 0.]\n",
      " [0. 1. 0.]\n",
      " [0. 0. 1.]]\n",
      "Answer seems to be correct\n",
      "\n"
     ]
    }
   ],
   "source": [
    "from answercheck import checkanswer\n",
    "\n",
    "checkanswer.matrix(rref,'cde432847c1c4b6d17cd7bfacc457ed1');"
   ]
  },
  {
   "cell_type": "markdown",
   "metadata": {},
   "source": [
    "### The system of equations $Ax = b$ has a unique solution.\n",
    "\n",
    "Let us assume some arbitrary vector $b \\in \\mathbb R^n$.  According to the above properties $Ax = b$ should only have one solution. Note that showing the system has a uniqe solution for ONE fixed vector does not prove that $Ax=b$ has a unique solution for an ARBITRARY vector $b$. Below we're just doing a \"sanity check\".\n",
    "\n",
    "&#9989; **<font color=red>DO THIS:</font>** Find the solution to $Ax=b$ for the vector $b=(-10,200,3)$. Store the solution in a variable called ```x```"
   ]
  },
  {
   "cell_type": "code",
   "execution_count": 10,
   "metadata": {},
   "outputs": [
    {
     "name": "stdout",
     "output_type": "stream",
     "text": [
      "[[0.]\n",
      " [0.]\n",
      " [0.]]\n"
     ]
    }
   ],
   "source": [
    "# Put your answer to the above question here\n",
    "b = np.matrix([[0,0,0]]).T\n",
    "x = np.linalg.solve(A,b)\n",
    "print(x)"
   ]
  },
  {
   "cell_type": "code",
   "execution_count": 11,
   "metadata": {},
   "outputs": [
    {
     "name": "stdout",
     "output_type": "stream",
     "text": [
      "\n",
      "CheckWarning: numpy.matrix is row vector...\n",
      "    Trying to convert to a column vector using ```A = A.T```.\n",
      "\n",
      "\n",
      "CheckWarning: Vector contains negative values for zero...\n",
      "    Converting to positive values of zero using  ```A[A==-0] = 0```.\n",
      "\n",
      "Testing [[0. 0. 0.]]\n",
      "Answer seems to be incorrect\n",
      "\n"
     ]
    },
    {
     "ename": "AssertionError",
     "evalue": "Answer is incorrect b5021f73f68b6e2f957706af7a39ac75",
     "output_type": "error",
     "traceback": [
      "\u001b[0;31m---------------------------------------------------------------------------\u001b[0m",
      "\u001b[0;31mAssertionError\u001b[0m                            Traceback (most recent call last)",
      "\u001b[0;32m<ipython-input-11-41845754cd02>\u001b[0m in \u001b[0;36m<module>\u001b[0;34m\u001b[0m\n\u001b[1;32m      1\u001b[0m \u001b[0;32mfrom\u001b[0m \u001b[0manswercheck\u001b[0m \u001b[0;32mimport\u001b[0m \u001b[0mcheckanswer\u001b[0m\u001b[0;34m\u001b[0m\u001b[0;34m\u001b[0m\u001b[0m\n\u001b[1;32m      2\u001b[0m \u001b[0;34m\u001b[0m\u001b[0m\n\u001b[0;32m----> 3\u001b[0;31m \u001b[0mcheckanswer\u001b[0m\u001b[0;34m.\u001b[0m\u001b[0mvector\u001b[0m\u001b[0;34m(\u001b[0m\u001b[0mx\u001b[0m\u001b[0;34m,\u001b[0m\u001b[0;34m'161cfd16545b1b5fb13e35d2800f13df'\u001b[0m\u001b[0;34m)\u001b[0m\u001b[0;34m;\u001b[0m\u001b[0;34m\u001b[0m\u001b[0;34m\u001b[0m\u001b[0m\n\u001b[0m",
      "\u001b[0;32m~/answercheck.py\u001b[0m in \u001b[0;36mvector\u001b[0;34m(A, hashtag, decimal_accuracy)\u001b[0m\n\u001b[1;32m    104\u001b[0m     \u001b[0;32mdef\u001b[0m \u001b[0mvector\u001b[0m\u001b[0;34m(\u001b[0m\u001b[0mA\u001b[0m\u001b[0;34m,\u001b[0m \u001b[0mhashtag\u001b[0m\u001b[0;34m=\u001b[0m\u001b[0;32mNone\u001b[0m\u001b[0;34m,\u001b[0m \u001b[0mdecimal_accuracy\u001b[0m \u001b[0;34m=\u001b[0m \u001b[0;36m5\u001b[0m\u001b[0;34m)\u001b[0m\u001b[0;34m:\u001b[0m\u001b[0;34m\u001b[0m\u001b[0;34m\u001b[0m\u001b[0m\n\u001b[1;32m    105\u001b[0m         \u001b[0mA\u001b[0m \u001b[0;34m=\u001b[0m \u001b[0mcheckanswer\u001b[0m\u001b[0;34m.\u001b[0m\u001b[0mmake_vector\u001b[0m\u001b[0;34m(\u001b[0m\u001b[0mA\u001b[0m\u001b[0;34m,\u001b[0m \u001b[0mdecimal_accuracy\u001b[0m\u001b[0;34m)\u001b[0m\u001b[0;34m\u001b[0m\u001b[0;34m\u001b[0m\u001b[0m\n\u001b[0;32m--> 106\u001b[0;31m         \u001b[0;32mreturn\u001b[0m \u001b[0mcheckanswer\u001b[0m\u001b[0;34m.\u001b[0m\u001b[0mbasic\u001b[0m\u001b[0;34m(\u001b[0m\u001b[0mA\u001b[0m\u001b[0;34m,\u001b[0m \u001b[0mhashtag\u001b[0m\u001b[0;34m)\u001b[0m\u001b[0;34m\u001b[0m\u001b[0;34m\u001b[0m\u001b[0m\n\u001b[0m\u001b[1;32m    107\u001b[0m \u001b[0;34m\u001b[0m\u001b[0m\n\u001b[1;32m    108\u001b[0m     \u001b[0;32mdef\u001b[0m \u001b[0meq_vector\u001b[0m\u001b[0;34m(\u001b[0m\u001b[0mA\u001b[0m\u001b[0;34m,\u001b[0m \u001b[0mhashtag\u001b[0m\u001b[0;34m=\u001b[0m\u001b[0;32mNone\u001b[0m\u001b[0;34m,\u001b[0m \u001b[0mdecimal_accuracy\u001b[0m \u001b[0;34m=\u001b[0m \u001b[0;36m5\u001b[0m\u001b[0;34m)\u001b[0m\u001b[0;34m:\u001b[0m\u001b[0;34m\u001b[0m\u001b[0;34m\u001b[0m\u001b[0m\n",
      "\u001b[0;32m~/answercheck.py\u001b[0m in \u001b[0;36mbasic\u001b[0;34m(var, hashtag)\u001b[0m\n\u001b[1;32m     48\u001b[0m             \u001b[0;32melse\u001b[0m\u001b[0;34m:\u001b[0m\u001b[0;34m\u001b[0m\u001b[0;34m\u001b[0m\u001b[0m\n\u001b[1;32m     49\u001b[0m                 \u001b[0mprint\u001b[0m\u001b[0;34m(\u001b[0m\u001b[0;34m\"Answer seems to be incorrect\\n\"\u001b[0m\u001b[0;34m)\u001b[0m\u001b[0;34m\u001b[0m\u001b[0;34m\u001b[0m\u001b[0m\n\u001b[0;32m---> 50\u001b[0;31m                 \u001b[0;32massert\u001b[0m \u001b[0mchecktag\u001b[0m \u001b[0;34m==\u001b[0m \u001b[0mhashtag\u001b[0m\u001b[0;34m,\u001b[0m \u001b[0;34mf\"Answer is incorrect {checktag}\"\u001b[0m\u001b[0;34m\u001b[0m\u001b[0;34m\u001b[0m\u001b[0m\n\u001b[0m\u001b[1;32m     51\u001b[0m         \u001b[0;32melse\u001b[0m\u001b[0;34m:\u001b[0m\u001b[0;34m\u001b[0m\u001b[0;34m\u001b[0m\u001b[0m\n\u001b[1;32m     52\u001b[0m             \u001b[0;32mraise\u001b[0m \u001b[0mTypeError\u001b[0m\u001b[0;34m(\u001b[0m\u001b[0;34mf\"No answer hastag provided: {checktag}\"\u001b[0m\u001b[0;34m)\u001b[0m\u001b[0;34m\u001b[0m\u001b[0;34m\u001b[0m\u001b[0m\n",
      "\u001b[0;31mAssertionError\u001b[0m: Answer is incorrect b5021f73f68b6e2f957706af7a39ac75"
     ]
    }
   ],
   "source": [
    "from answercheck import checkanswer\n",
    "\n",
    "checkanswer.vector(x,'161cfd16545b1b5fb13e35d2800f13df');"
   ]
  },
  {
   "cell_type": "markdown",
   "metadata": {},
   "source": [
    "### $rank(A) = n$\n",
    "\n",
    "The final property says that the rank should equal the dimension of $\\mathbb R^n$. In our example $n=3$.  Find a ```python``` function to calculate the rank of $A$. Store the value in a variable named ```rank``` to check your answer.\n"
   ]
  },
  {
   "cell_type": "code",
   "execution_count": 12,
   "metadata": {},
   "outputs": [],
   "source": [
    "#Put your answer to the above quesion here\n",
    "rank = np.linalg.matrix_rank(A)"
   ]
  },
  {
   "cell_type": "code",
   "execution_count": 13,
   "metadata": {},
   "outputs": [
    {
     "name": "stdout",
     "output_type": "stream",
     "text": [
      "Rank is 3\n"
     ]
    }
   ],
   "source": [
    "#Verify that the determinate is in fact zero\n",
    "if np.isclose(rank,3):\n",
    "    print(\"Rank is 3\")\n",
    "else:\n",
    "    print(\"Rank is not 3. Did we do something wrong?\")"
   ]
  },
  {
   "cell_type": "code",
   "execution_count": null,
   "metadata": {},
   "outputs": [],
   "source": []
  },
  {
   "cell_type": "markdown",
   "metadata": {},
   "source": [
    "&#9989; **<font color=red>QUESTION:</font>** Without doing any calculations (i.e. only using the above properties), how many solutions are there to $Ax=0$?  What is(are) the solution(s)?"
   ]
  },
  {
   "cell_type": "markdown",
   "metadata": {},
   "source": [
    "**1**"
   ]
  },
  {
   "cell_type": "markdown",
   "metadata": {},
   "source": [
    "----\n",
    "<a name=\"The_Basis_of_a_Vector_Space\"></a>\n",
    "## 2. The Basis of a Vector Space\n",
    "\n",
    "Let $U$ be a vector space with basis $B=\\{u_1, \\ldots, u_n\\}$, and let $u$ be a vector in $U$. \n",
    "Because a basis \"spans\" the vector space, we know that there exists scalars $a_1, \\dots, a_n$ such that:\n",
    "\n",
    "$$ u = a_1u_1 + \\dots + a_nu_n$$\n",
    "\n",
    "Since a basis is a linearly independent set of vectors we know the scalars $a_1, \\dots, a_n$ are unique.\n",
    "\n",
    "The values $a_1, \\dots, a_n$ are called the **coordinates of $u$** relative to the basis ($B$) and is typically written as a column vector:\n",
    "\n",
    "$$ u_B = \n",
    "\\left[\n",
    "\\begin{matrix}\n",
    "    a_1  \\\\\n",
    "    \\vdots  \\\\\n",
    "    a_n \n",
    " \\end{matrix}\n",
    "\\right] \n",
    "$$\n",
    "\n",
    "We can create a *transition matrix* $P$ using the inverse of the matrix with the basis vectors being columns. \n",
    "\n",
    "$$P = [ u_1  \\ldots  u_n ]^{-1}$$\n",
    "\n",
    "Now we will show that the matrix $P$ will transition the vector $u$ in the standard coordinate system to the coordinates relative to the basis $B$:\n",
    "\n",
    "$$ u_B = Pu$$"
   ]
  },
  {
   "cell_type": "markdown",
   "metadata": {},
   "source": [
    "**_EXAMPLE_**: Consider the vector $u = \\left[ \\begin{matrix} 5 \\\\ 3 \\end{matrix} \\right]$ and the basis vectors $B = \\{(1,2), (3,-1)\\}$. \n",
    "The following code calculates the $P$ *transition matrix* from $B$ and then uses $P$ to calculate the values of $u_B$ ($a_1$ and $a_2$):\n"
   ]
  },
  {
   "cell_type": "code",
   "execution_count": 14,
   "metadata": {},
   "outputs": [
    {
     "data": {
      "text/latex": [
       "$\\displaystyle \\left[\\begin{matrix}5\\\\3\\end{matrix}\\right]$"
      ],
      "text/plain": [
       "⎡5⎤\n",
       "⎢ ⎥\n",
       "⎣3⎦"
      ]
     },
     "execution_count": 14,
     "metadata": {},
     "output_type": "execute_result"
    }
   ],
   "source": [
    "u = np.matrix([[5],[3]])\n",
    "sym.Matrix(u)"
   ]
  },
  {
   "cell_type": "code",
   "execution_count": 15,
   "metadata": {},
   "outputs": [
    {
     "data": {
      "text/latex": [
       "$\\displaystyle \\left[\\begin{matrix}1 & 3\\\\2 & -1\\end{matrix}\\right]$"
      ],
      "text/plain": [
       "⎡1  3 ⎤\n",
       "⎢     ⎥\n",
       "⎣2  -1⎦"
      ]
     },
     "execution_count": 15,
     "metadata": {},
     "output_type": "execute_result"
    }
   ],
   "source": [
    "B = np.matrix([[1,2],[3,-1]]).T\n",
    "sym.Matrix(B)"
   ]
  },
  {
   "cell_type": "code",
   "execution_count": 16,
   "metadata": {},
   "outputs": [
    {
     "data": {
      "text/latex": [
       "$\\displaystyle \\left[\\begin{matrix}2.0\\\\1.0\\end{matrix}\\right]$"
      ],
      "text/plain": [
       "⎡2.0⎤\n",
       "⎢   ⎥\n",
       "⎣1.0⎦"
      ]
     },
     "execution_count": 16,
     "metadata": {},
     "output_type": "execute_result"
    }
   ],
   "source": [
    "P = np.linalg.inv(B)\n",
    "ub = P*u\n",
    "\n",
    "sym.Matrix(ub)"
   ]
  },
  {
   "cell_type": "code",
   "execution_count": 17,
   "metadata": {},
   "outputs": [
    {
     "name": "stdout",
     "output_type": "stream",
     "text": [
      "[[0.71428571]\n",
      " [0.42857143]]\n"
     ]
    }
   ],
   "source": [
    "print(P*ub)"
   ]
  },
  {
   "cell_type": "markdown",
   "metadata": {},
   "source": [
    "Here we would like to view this from $\\mathbb R^n$. \n",
    "Let $$B=[u_1 \\dots u_n],$$\n",
    "then the values of $u_B$ can be found by solving the linear system $$u = B u_B.$$\n",
    "The columns of $B$ are a basis, therefore, the matrix $B$ is a $n\\times n$ square matrix and it has an inverse. \n",
    "Therefore, we can solve the linear system and obtain \n",
    "$$u_B = B^{-1} u = Pu.$$\n"
   ]
  },
  {
   "cell_type": "markdown",
   "metadata": {},
   "source": [
    "Let's try to visualize this with a plot:"
   ]
  },
  {
   "cell_type": "code",
   "execution_count": 18,
   "metadata": {},
   "outputs": [
    {
     "data": {
      "image/png": "[encoded data removed]",
      "text/plain": [
       "<Figure size 432x288 with 1 Axes>"
      ]
     },
     "metadata": {
      "needs_background": "light"
     },
     "output_type": "display_data"
    }
   ],
   "source": [
    "ax = plt.axes();\n",
    "\n",
    "#Blue arrow representing first Basis Vector\n",
    "ax.arrow(0, 0, B[0,0],B[1,0], head_width=.2, head_length=.2, fc='blue', ec='blue');\n",
    "\n",
    "#Green arrow representing Second Basis Vector\n",
    "plt.plot([0,B[0,1]],[0,B[1,1]],color='green'); #Need this line to make the figure work. Not sure why.\n",
    "ax.arrow(0, 0, B[0,1],B[1,1], head_width=.2, head_length=.2, fc='green', ec='green');\n",
    "\n",
    "#Original point u as a red dot\n",
    "ax.scatter(u[0,0],u[1,0], color='red');\n",
    "\n",
    "plt.show()\n",
    "#plt.axis('equal');\n"
   ]
  },
  {
   "cell_type": "markdown",
   "metadata": {},
   "source": [
    "Notice that the blue arrow represents the first basis vector and the green arrow is the second basis vector in $B$. \n",
    "The solution to $u_B$ shows 2 units along the blue vector and 1 units along the green vector, which puts us at the point (5,3). \n",
    "\n",
    "This is also called a change in coordinate systems."
   ]
  },
  {
   "cell_type": "markdown",
   "metadata": {},
   "source": [
    "&#9989; **<font color=red>QUESTION</font>**: What is the coordinate vector of $u$ relative to the given basis $B$ in $\\mathbb R^3$?\n",
    "\n",
    "$$u = (9,-3,21)$$\n",
    "$$B = \\{(2,0,-1), (0,1,3), (1,1,1)\\}$$\n",
    "\n",
    "Store this coordinate in a variable ```ub``` for checking:"
   ]
  },
  {
   "cell_type": "code",
   "execution_count": 21,
   "metadata": {},
   "outputs": [
    {
     "data": {
      "text/latex": [
       "$\\displaystyle \\left[\\begin{matrix}16.0\\\\20.0\\\\-23.0\\end{matrix}\\right]$"
      ],
      "text/plain": [
       "⎡16.0 ⎤\n",
       "⎢     ⎥\n",
       "⎢20.0 ⎥\n",
       "⎢     ⎥\n",
       "⎣-23.0⎦"
      ]
     },
     "execution_count": 21,
     "metadata": {},
     "output_type": "execute_result"
    }
   ],
   "source": [
    "#Put your answer here\n",
    "u = np.matrix([[9,-3,21]]).T\n",
    "B = np.matrix([[2,0,-1],[0,1,3],[1,1,1]]).T\n",
    "inv = np.linalg.inv(B)\n",
    "ub = inv*u\n",
    "sym.Matrix(ub)"
   ]
  },
  {
   "cell_type": "code",
   "execution_count": 22,
   "metadata": {},
   "outputs": [
    {
     "name": "stdout",
     "output_type": "stream",
     "text": [
      "\n",
      "CheckWarning: numpy.matrix is row vector...\n",
      "    Trying to convert to a column vector using ```A = A.T```.\n",
      "\n",
      "Testing [[ 16.  20. -23.]]\n",
      "Answer seems to be correct\n",
      "\n"
     ]
    }
   ],
   "source": [
    "from answercheck import checkanswer\n",
    "\n",
    "checkanswer.vector(ub,'f72f62c739096030e0074c4e1dfca159');"
   ]
  },
  {
   "cell_type": "markdown",
   "metadata": {},
   "source": [
    "**_Let's look more closely into the matrix $P$, what is the meaning of the columns of the matrix $P$?_**\n",
    "\n",
    "We know that $P$ is the inverse of $B$, therefore, we have $$BP=I.$$\n",
    "\n",
    "Then we can look at the first column of $P$, say $p_{1}$. We have that $Bp_1$ is the column vector $(1,0,0)^t$, which  is exactly the first component from the standard basis. \n",
    "This is true for other columns. \n",
    "\n",
    "It means that if we want to change an old basis $B$ to a new basis $B'$, we need to find out all the coordinates in the new basis for the old basis, and the transition matrix is by putting all the coordinates as columns.\n",
    "\n",
    "Here is the matrix $B$ again:"
   ]
  },
  {
   "cell_type": "code",
   "execution_count": 23,
   "metadata": {},
   "outputs": [
    {
     "data": {
      "text/latex": [
       "$\\displaystyle \\left[\\begin{matrix}2 & 0 & 1\\\\0 & 1 & 1\\\\-1 & 3 & 1\\end{matrix}\\right]$"
      ],
      "text/plain": [
       "⎡2   0  1⎤\n",
       "⎢        ⎥\n",
       "⎢0   1  1⎥\n",
       "⎢        ⎥\n",
       "⎣-1  3  1⎦"
      ]
     },
     "execution_count": 23,
     "metadata": {},
     "output_type": "execute_result"
    }
   ],
   "source": [
    "B = np.matrix([[2,0,-1],[0,1,3],[1,1,1]]).T\n",
    "sym.Matrix(B)"
   ]
  },
  {
   "cell_type": "markdown",
   "metadata": {},
   "source": [
    "The first column of $P$ should be the solution to $Bx=\\left[ \\begin{matrix} 1 \\\\ 0 \\\\ 0 \\end{matrix} \\right]$.  We can use the ```numpy.linalg.solve``` function to find this solution:"
   ]
  },
  {
   "cell_type": "code",
   "execution_count": 24,
   "metadata": {},
   "outputs": [
    {
     "data": {
      "text/plain": [
       "matrix([[ 0.66666667],\n",
       "        [ 0.33333333],\n",
       "        [-0.33333333]])"
      ]
     },
     "execution_count": 24,
     "metadata": {},
     "output_type": "execute_result"
    }
   ],
   "source": [
    "# The first column of P should be \n",
    "u1 = np.matrix([1,0,0]).T\n",
    "p1 = np.linalg.solve(B,u1)\n",
    "p1"
   ]
  },
  {
   "cell_type": "markdown",
   "metadata": {},
   "source": [
    "We can find a similar answer for columns $p_2$ and $p_3$:"
   ]
  },
  {
   "cell_type": "code",
   "execution_count": 25,
   "metadata": {},
   "outputs": [
    {
     "data": {
      "text/plain": [
       "matrix([[-1.],\n",
       "        [-1.],\n",
       "        [ 2.]])"
      ]
     },
     "execution_count": 25,
     "metadata": {},
     "output_type": "execute_result"
    }
   ],
   "source": [
    "# The second column of P should be \n",
    "u2 = np.matrix([0,1,0]).T\n",
    "p2 = np.linalg.solve(B,u2)\n",
    "p2"
   ]
  },
  {
   "cell_type": "code",
   "execution_count": 26,
   "metadata": {},
   "outputs": [
    {
     "data": {
      "text/plain": [
       "matrix([[ 0.33333333],\n",
       "        [ 0.66666667],\n",
       "        [-0.66666667]])"
      ]
     },
     "execution_count": 26,
     "metadata": {},
     "output_type": "execute_result"
    }
   ],
   "source": [
    "# The third column of P should be \n",
    "u3 = np.matrix([0,0,1]).T\n",
    "p3 = np.linalg.solve(B,u3)\n",
    "p3"
   ]
  },
  {
   "cell_type": "code",
   "execution_count": 27,
   "metadata": {},
   "outputs": [
    {
     "data": {
      "text/latex": [
       "$\\displaystyle \\left[\\begin{matrix}0.666666666666667 & -1.0 & 0.333333333333333\\\\0.333333333333333 & -1.0 & 0.666666666666667\\\\-0.333333333333333 & 2.0 & -0.666666666666667\\end{matrix}\\right]$"
      ],
      "text/plain": [
       "⎡0.666666666666667   -1.0  0.333333333333333 ⎤\n",
       "⎢                                            ⎥\n",
       "⎢0.333333333333333   -1.0  0.666666666666667 ⎥\n",
       "⎢                                            ⎥\n",
       "⎣-0.333333333333333  2.0   -0.666666666666667⎦"
      ]
     },
     "execution_count": 27,
     "metadata": {},
     "output_type": "execute_result"
    }
   ],
   "source": [
    "# concatenate three column together into a 3x3 matrix\n",
    "P = np.concatenate((p1, p2, p3), axis=1)\n",
    "sym.Matrix(P)"
   ]
  },
  {
   "cell_type": "code",
   "execution_count": 28,
   "metadata": {},
   "outputs": [
    {
     "name": "stdout",
     "output_type": "stream",
     "text": [
      "[[ 16.]\n",
      " [ 20.]\n",
      " [-23.]]\n"
     ]
    }
   ],
   "source": [
    "# Find the new coordinate in the new basis\n",
    "u = np.matrix([9,-3,21]).T\n",
    "UB = P*u\n",
    "print(UB)"
   ]
  },
  {
   "cell_type": "markdown",
   "metadata": {},
   "source": [
    "This should be basically the same answer as you got above. "
   ]
  },
  {
   "cell_type": "markdown",
   "metadata": {},
   "source": [
    "----\n",
    "<a name=\"Change_of_Basis\"></a>\n",
    "\n",
    "## 3. Change of Basis\n",
    "\n",
    "Watch the following video about change of basis."
   ]
  },
  {
   "cell_type": "code",
   "execution_count": 29,
   "metadata": {},
   "outputs": [
    {
     "data": {
      "image/jpeg": "[encoded data removed]",
      "text/html": [
       "\n",
       "        <iframe\n",
       "            width=\"640\"\n",
       "            height=\"360\"\n",
       "            src=\"https://www.youtube.com/embed/P2LTAUO1TdA?cc_load_policy=True\"\n",
       "            frameborder=\"0\"\n",
       "            allowfullscreen\n",
       "        ></iframe>\n",
       "        "
      ],
      "text/plain": [
       "<IPython.lib.display.YouTubeVideo at 0x7f474423a5e0>"
      ]
     },
     "execution_count": 29,
     "metadata": {},
     "output_type": "execute_result"
    }
   ],
   "source": [
    "from IPython.display import YouTubeVideo\n",
    "YouTubeVideo(\"P2LTAUO1TdA\",width=640,height=360, cc_load_policy=True)"
   ]
  },
  {
   "cell_type": "markdown",
   "metadata": {},
   "source": [
    "Now consider the following two bases in $\\mathbb R^2$:\n",
    "\n",
    "$$B_1 = \\{(1,2), (3,-1)\\}$$\n",
    "$$B_2 = \\{(3,1), (5,2)\\}$$\n",
    "\n",
    "The transformation from the \"standard basis\" to $B_1$ and $B_2$ can be defined through the matrices $P_1$ and $P_2$ as follows:\n"
   ]
  },
  {
   "cell_type": "code",
   "execution_count": 30,
   "metadata": {},
   "outputs": [
    {
     "data": {
      "text/latex": [
       "$\\displaystyle \\left[\\begin{matrix}0.142857142857143 & 0.428571428571429\\\\0.285714285714286 & -0.142857142857143\\end{matrix}\\right]$"
      ],
      "text/plain": [
       "⎡0.142857142857143  0.428571428571429 ⎤\n",
       "⎢                                     ⎥\n",
       "⎣0.285714285714286  -0.142857142857143⎦"
      ]
     },
     "execution_count": 30,
     "metadata": {},
     "output_type": "execute_result"
    }
   ],
   "source": [
    "B1 = np.matrix([[1,2],[3,-1]]).T\n",
    "P1 = np.linalg.inv(B1)\n",
    "\n",
    "sym.Matrix(P1)"
   ]
  },
  {
   "cell_type": "code",
   "execution_count": 31,
   "metadata": {},
   "outputs": [
    {
     "data": {
      "text/latex": [
       "$\\displaystyle \\left[\\begin{matrix}2.0 & -5.0\\\\-1.0 & 3.0\\end{matrix}\\right]$"
      ],
      "text/plain": [
       "⎡2.0   -5.0⎤\n",
       "⎢          ⎥\n",
       "⎣-1.0  3.0 ⎦"
      ]
     },
     "execution_count": 31,
     "metadata": {},
     "output_type": "execute_result"
    }
   ],
   "source": [
    "B2 = np.matrix([[3,1],[5,2]]).T\n",
    "P2 = np.linalg.inv(B2)\n",
    "\n",
    "sym.Matrix(P2)"
   ]
  },
  {
   "cell_type": "markdown",
   "metadata": {},
   "source": [
    "&#9989; **<font color=red>DO THIS</font>**: Find the transition matrix $T$ that will take points in the $B_1$ coordinate representation and put them into $B_2$ coordinates.  **_NOTE_** this is analogous to the robot kinematics problem.  We want to represent points in a different coordinate system."
   ]
  },
  {
   "cell_type": "code",
   "execution_count": 32,
   "metadata": {},
   "outputs": [],
   "source": [
    "# Put your answer to the above question here."
   ]
  },
  {
   "cell_type": "code",
   "execution_count": 33,
   "metadata": {},
   "outputs": [
    {
     "ename": "NameError",
     "evalue": "name 'T' is not defined",
     "output_type": "error",
     "traceback": [
      "\u001b[0;31m---------------------------------------------------------------------------\u001b[0m",
      "\u001b[0;31mNameError\u001b[0m                                 Traceback (most recent call last)",
      "\u001b[0;32m<ipython-input-33-419ab6be81a1>\u001b[0m in \u001b[0;36m<module>\u001b[0;34m\u001b[0m\n\u001b[1;32m      1\u001b[0m \u001b[0;32mfrom\u001b[0m \u001b[0manswercheck\u001b[0m \u001b[0;32mimport\u001b[0m \u001b[0mcheckanswer\u001b[0m\u001b[0;34m\u001b[0m\u001b[0;34m\u001b[0m\u001b[0m\n\u001b[1;32m      2\u001b[0m \u001b[0;34m\u001b[0m\u001b[0m\n\u001b[0;32m----> 3\u001b[0;31m \u001b[0mcheckanswer\u001b[0m\u001b[0;34m.\u001b[0m\u001b[0mmatrix\u001b[0m\u001b[0;34m(\u001b[0m\u001b[0mT\u001b[0m\u001b[0;34m,\u001b[0m\u001b[0;34m'dcc03ddff982e29eea6dd52ec9088986'\u001b[0m\u001b[0;34m)\u001b[0m\u001b[0;34m\u001b[0m\u001b[0;34m\u001b[0m\u001b[0m\n\u001b[0m",
      "\u001b[0;31mNameError\u001b[0m: name 'T' is not defined"
     ]
    }
   ],
   "source": [
    "from answercheck import checkanswer\n",
    "\n",
    "checkanswer.matrix(T,'dcc03ddff982e29eea6dd52ec9088986')\n"
   ]
  },
  {
   "cell_type": "markdown",
   "metadata": {},
   "source": [
    "&#9989; **<font color=red>QUESTION</font>**: Given $u_{B_1} = \\left[ \\begin{matrix} 2 \\\\ 1 \\end{matrix} \\right]$ (a point named $u$ in the $B_1$ coordinate system) and your calculated transition matrix $T$, what is the same point expressed in the $B_2$ basis (i.e. what is $u_{B2}$)? Store your answer in a variable named ub2 for checking."
   ]
  },
  {
   "cell_type": "code",
   "execution_count": 34,
   "metadata": {},
   "outputs": [
    {
     "data": {
      "text/latex": [
       "$\\displaystyle \\left[\\begin{matrix}2\\\\1\\end{matrix}\\right]$"
      ],
      "text/plain": [
       "⎡2⎤\n",
       "⎢ ⎥\n",
       "⎣1⎦"
      ]
     },
     "execution_count": 34,
     "metadata": {},
     "output_type": "execute_result"
    }
   ],
   "source": [
    "ub1 = np.matrix([[2],[1]])\n",
    "sym.Matrix(ub1)"
   ]
  },
  {
   "cell_type": "code",
   "execution_count": 35,
   "metadata": {},
   "outputs": [],
   "source": [
    "##Put your code here"
   ]
  },
  {
   "cell_type": "code",
   "execution_count": 36,
   "metadata": {},
   "outputs": [
    {
     "ename": "NameError",
     "evalue": "name 'ub2' is not defined",
     "output_type": "error",
     "traceback": [
      "\u001b[0;31m---------------------------------------------------------------------------\u001b[0m",
      "\u001b[0;31mNameError\u001b[0m                                 Traceback (most recent call last)",
      "\u001b[0;32m<ipython-input-36-2a5a9c3bf4dd>\u001b[0m in \u001b[0;36m<module>\u001b[0;34m\u001b[0m\n\u001b[1;32m      1\u001b[0m \u001b[0;32mfrom\u001b[0m \u001b[0manswercheck\u001b[0m \u001b[0;32mimport\u001b[0m \u001b[0mcheckanswer\u001b[0m\u001b[0;34m\u001b[0m\u001b[0;34m\u001b[0m\u001b[0m\n\u001b[1;32m      2\u001b[0m \u001b[0;34m\u001b[0m\u001b[0m\n\u001b[0;32m----> 3\u001b[0;31m \u001b[0mcheckanswer\u001b[0m\u001b[0;34m.\u001b[0m\u001b[0mvector\u001b[0m\u001b[0;34m(\u001b[0m\u001b[0mub2\u001b[0m\u001b[0;34m,\u001b[0m\u001b[0;34m'9a5fe29254c07cf59ebdffcaba679917'\u001b[0m\u001b[0;34m)\u001b[0m\u001b[0;34m\u001b[0m\u001b[0;34m\u001b[0m\u001b[0m\n\u001b[0m",
      "\u001b[0;31mNameError\u001b[0m: name 'ub2' is not defined"
     ]
    }
   ],
   "source": [
    "from answercheck import checkanswer\n",
    "\n",
    "checkanswer.vector(ub2,'9a5fe29254c07cf59ebdffcaba679917')"
   ]
  },
  {
   "cell_type": "markdown",
   "metadata": {},
   "source": [
    "There are three bases $B_1$, $B_2$, and $B_3$. We have the transition matrix $P_{12}$ from $B_1$ to $B_2$ and the transition matrix $P_{23}$ from $B_2$ to $B_3$. \n",
    "In $\\mathbb R^n$, we can compute the transition matrix as $$P_{12}=B_2^{-1}B_1,\\quad P_{23}=B_3^{-1}B_2$$\n",
    "\n",
    "Then we can find all other transition matrices.\n",
    "$$\\begin{align*}\n",
    "P_{13} &= B_3^{-1}B_1=B_3^{-1}B_2*B_2^{-1}B_1= P_{23}P_{12}\\\\\n",
    "P_{21} &= B_1^{-1}B_2 = (B_2^{-1}B_1)^{-1}=P_{12}^{-1}\\\\\n",
    "P_{32} &= B_2^{-1}B_3 = (B_3^{-1}B_2)^{-1}=P_{23}^{-1}\\\\\n",
    "P_{31} &= B_1^{-1}B_3 = (B_3^{-1}B_1)^{-1}=P_{13}^{-1}=(P_{23}P_{12})^{-1}=P_{12}^{-1}P_{23}^{-1}\n",
    "\\end{align*}$$\n",
    "\n",
    "The result is true for general vector spaces and can be extended to many bases."
   ]
  },
  {
   "cell_type": "markdown",
   "metadata": {},
   "source": [
    "----\n",
    "\n",
    "Written by Dr. Dirk Colbry, Michigan State University\n",
    "<a rel=\"license\" href=\"http://creativecommons.org/licenses/by-nc/4.0/\"><img alt=\"Creative Commons License\" style=\"border-width:0\" src=\"https://i.creativecommons.org/l/by-nc/4.0/88x31.png\" /></a><br />This work is licensed under a <a rel=\"license\" href=\"http://creativecommons.org/licenses/by-nc/4.0/\">Creative Commons Attribution-NonCommercial 4.0 International License</a>."
   ]
  }
 ],
 "metadata": {
  "anaconda-cloud": {},
  "kernelspec": {
   "display_name": "Python 3",
   "language": "python",
   "name": "python3"
  },
  "language_info": {
   "codemirror_mode": {
    "name": "ipython",
    "version": 3
   },
   "file_extension": ".py",
   "mimetype": "text/x-python",
   "name": "python",
   "nbconvert_exporter": "python",
   "pygments_lexer": "ipython3",
   "version": "3.8.8"
  }
 },
 "nbformat": 4,
 "nbformat_minor": 4
}
