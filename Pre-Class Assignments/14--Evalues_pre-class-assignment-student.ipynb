{
 "cells": [
  {
   "cell_type": "markdown",
   "metadata": {},
   "source": [
    "In order to successfully complete this assignment you must do the required reading, watch the provided videos and complete all instructions.  The pre-class assignment quiz must be submitted on D2L on or before **_11:59pm on on the day before class_**.  Students must come to class the next day prepared to discuss the material covered in this assignment."
   ]
  },
  {
   "cell_type": "markdown",
   "metadata": {},
   "source": [
    "# 14 Pre-Class Assignment: Visualization of Eigenvalues\n",
    "\n",
    "\n",
    "<img alt=\"Classic picture of the four fundamental spaces. Please see text for detailed description.\" src=\"https://anagileway.files.wordpress.com/2021/10/image.png?w=1024\" width=\"100%\">\n",
    "\n",
    "\n",
    "Image by Kenji Hiranabe from: https://anagileway.com/2021/10/01/map-of-eigenvalues/"
   ]
  },
  {
   "cell_type": "markdown",
   "metadata": {},
   "source": [
    "\n",
    "### Goals for today's pre-class assignment \n",
    "\n",
    "1. [Short Reading on Imaginary Eigenvalues](#Reading-evalues)\n",
    "1. [Reading to contextualize in-class assignment about Google Page Rank](#Reading-fun)\n",
    "1. [Eigenvalues and Eigenvectors for Some Commonly Encountered Matrices](#Evalues)"
   ]
  },
  {
   "cell_type": "markdown",
   "metadata": {},
   "source": [
    "<a name=\"Reading-evalues\"></a>\n",
    "### 1. Short Reading on Imaginary Eigenvalues\n",
    "\n",
    "Read pages 289 - 290 of [Prof. Gibert Strang's Introduction to Linear Algebra book on Imaginary Eigenvalues.](http://math.mit.edu/~gs/linearalgebra/ila0601.pdf)"
   ]
  },
  {
   "cell_type": "markdown",
   "metadata": {},
   "source": [
    "For identity matrix, any non-zero vector is an eigenvector for an identity matrix"
   ]
  },
  {
   "cell_type": "markdown",
   "metadata": {},
   "source": [
    "<a name=\"Reading-fun\"></a>\n",
    "### 2. Fun Reading\n",
    "\n",
    "Our in-class assignment will focus on a mock up of the Google Page Rank Algorithm. To see the big picture behind it and for some historical background, feel free to skim over https://en.wikipedia.org/wiki/PageRank\n"
   ]
  },
  {
   "cell_type": "code",
   "execution_count": 1,
   "metadata": {},
   "outputs": [
    {
     "name": "stdout",
     "output_type": "stream",
     "text": [
      "1.0\n",
      "[[0.70710678+0.j         0.70710678-0.j         0.        +0.j        ]\n",
      " [0.        -0.70710678j 0.        +0.70710678j 0.        +0.j        ]\n",
      " [0.        -0.j         0.        +0.j         1.        +0.j        ]]\n"
     ]
    }
   ],
   "source": [
    "import numpy as np\n",
    "A = np.matrix([[0,-1,0],[1,0,0],[0,0,1]])\n",
    "print(abs(np.linalg.eig(A)[0][0]))\n",
    "print(np.linalg.eig(A)[1])"
   ]
  },
  {
   "cell_type": "markdown",
   "metadata": {},
   "source": [
    "<a name=\"Evalues\"></a>\n",
    "### 3. Eigenvalues and Eigenvectors for Some Commonly Encountered Matrices"
   ]
  },
  {
   "cell_type": "markdown",
   "metadata": {},
   "source": [
    "The figure above gives a visualization for types of matrices we may commonly encounter. Eignevalues and eigenvectors encapsulate the essence of a matrix. In the questions below we will look at them from a slightly different point of view for some important matrices. Use the figure as a hint, but do provide a **justification** for why the figure makes sense."
   ]
  },
  {
   "cell_type": "markdown",
   "metadata": {},
   "source": [
    "&#9989; **<font color=red>QUESTION 1:</font>** What are the eigenvalues of the Zero matrix? Justify your answer."
   ]
  },
  {
   "cell_type": "markdown",
   "metadata": {},
   "source": [
    "0,0,0"
   ]
  },
  {
   "cell_type": "code",
   "execution_count": 2,
   "metadata": {},
   "outputs": [
    {
     "name": "stdout",
     "output_type": "stream",
     "text": [
      "[0.+1.j 0.-1.j 1.+0.j]\n",
      "[[0.70710678+0.j         0.70710678-0.j         0.        +0.j        ]\n",
      " [0.        -0.70710678j 0.        +0.70710678j 0.        +0.j        ]\n",
      " [0.        -0.j         0.        +0.j         1.        +0.j        ]]\n"
     ]
    }
   ],
   "source": [
    "zer = np.matrix([[0,-1,0],[1,0,0],[0,0,1]])\n",
    "print(np.linalg.eig(zer)[0])\n",
    "print(np.linalg.eig(zer)[1])"
   ]
  },
  {
   "cell_type": "markdown",
   "metadata": {},
   "source": [
    "&#9989; **<font color=red>QUESTION 2:</font>** What are the eigenvalues of the Identity matrix? Justify your answer. Is it true that every vector is an eigenvector of $I$? Why or why not?"
   ]
  },
  {
   "cell_type": "markdown",
   "metadata": {},
   "source": [
    "1"
   ]
  },
  {
   "cell_type": "code",
   "execution_count": 3,
   "metadata": {},
   "outputs": [
    {
     "name": "stdout",
     "output_type": "stream",
     "text": [
      "[1. 1. 1.]\n"
     ]
    }
   ],
   "source": [
    "I = np.matrix([[1,0,0],[0,1,0],[0,0,1]])\n",
    "print(np.linalg.eig(I)[0])"
   ]
  },
  {
   "cell_type": "markdown",
   "metadata": {},
   "source": [
    "&#9989; **<font color=red>QUESTION 3:</font>** What are the eigenvalues of a scalar multiple of the Identity matrix ($zI$)? Justify your answer. What are its eigenvectors?"
   ]
  },
  {
   "cell_type": "markdown",
   "metadata": {},
   "source": [
    "3"
   ]
  },
  {
   "cell_type": "code",
   "execution_count": 4,
   "metadata": {},
   "outputs": [
    {
     "name": "stdout",
     "output_type": "stream",
     "text": [
      "[5. 5. 5. 5.]\n",
      "[[1. 0. 0. 0.]\n",
      " [0. 1. 0. 0.]\n",
      " [0. 0. 1. 0.]\n",
      " [0. 0. 0. 1.]]\n"
     ]
    }
   ],
   "source": [
    "Z = np.matrix([[5,0,0,0],[0,5,0,0],[0,0,5,0],[0,0,0,5]])\n",
    "print(np.linalg.eig(Z)[0])\n",
    "print(np.linalg.eig(Z)[1])"
   ]
  },
  {
   "cell_type": "markdown",
   "metadata": {},
   "source": [
    "&#9989; **<font color=red>QUESTION 4:</font>** The figure claims that all the eigenvalues of an invertible matrix are non-zero. Why is this true?"
   ]
  },
  {
   "cell_type": "markdown",
   "metadata": {},
   "source": [
    "Put your answer to the above question here"
   ]
  },
  {
   "cell_type": "markdown",
   "metadata": {},
   "source": [
    "&#9989; **<font color=red>QUESTION 5:</font>** All the eigenvalues of an orthogonal matrix (think of this as a generalization of rotation or reflection) all have absolute value 1. Explain this based on the physical meaning of the eigenvalue (i.e. think of it as the stretch factor in the eigendirection)."
   ]
  },
  {
   "cell_type": "markdown",
   "metadata": {},
   "source": [
    "Put your answer to the above question here"
   ]
  },
  {
   "cell_type": "markdown",
   "metadata": {},
   "source": [
    "&#9989; **<font color=red>QUESTION 6:</font>** Construct the $3\\times 3$ matrix, which represents rotation about the z-axis of angle $\\pi/2$ and calculate its eigenvalues. \n",
    "\n",
    "  &#9989; **<font color=red>QUESTION 6a:</font>** Do this by hand. \n",
    "  \n",
    "  &#9989; **<font color=red>QUESTION 6b:</font>** Use Python to complute the eigenvalues. \n",
    "  \n",
    "  &#9989; **<font color=red>QUESTION 6c:</font>** Compare your answers. \n",
    "  \n",
    "  &#9989; **<font color=red>QUESTION 6d:</font>** Do the eigenvalues satisfy the properties outlined in Quesition 5?"
   ]
  },
  {
   "cell_type": "markdown",
   "metadata": {},
   "source": [
    "Put your answer to the above question here"
   ]
  },
  {
   "cell_type": "code",
   "execution_count": 5,
   "metadata": {},
   "outputs": [
    {
     "name": "stdout",
     "output_type": "stream",
     "text": [
      "(6.123233995736766e-17+1j)\n",
      "(6.123233995736766e-17-1j)\n",
      "(1+0j)\n",
      "[[0.70710678+0.j        ]\n",
      " [0.        -0.70710678j]\n",
      " [0.        -0.j        ]]\n",
      "[[0.70710678-0.j        ]\n",
      " [0.        +0.70710678j]\n",
      " [0.        +0.j        ]]\n",
      "[[0.+0.j]\n",
      " [0.+0.j]\n",
      " [1.+0.j]]\n"
     ]
    }
   ],
   "source": [
    "import numpy as np\n",
    "import sympy as sym\n",
    "\n",
    "a=np.pi/2\n",
    "J = np.matrix([[np.cos(a), -np.sin(a),0], [np.sin(a), np.cos(a),0],[0,0,1]])\n",
    "vals, vects = np.linalg.eig(J)\n",
    "\n",
    "e1 = vals[0]\n",
    "e2 = vals[1]\n",
    "e3 = vals[2]\n",
    "\n",
    "v1 = vects[:,0]\n",
    "v2 = vects[:,1]\n",
    "v3 = vects[:,2]\n",
    "\n",
    "print(e1)\n",
    "print(e2)\n",
    "print(e3)\n",
    "\n",
    "print(v1)\n",
    "print(v2)\n",
    "print(v3)"
   ]
  },
  {
   "cell_type": "markdown",
   "metadata": {},
   "source": [
    "**Interpretation of complex eigenvalues and eigenvectors:** Note, that (if your calculations were correct) you obtained two complex eigenvalues (the imaginary unit is denoted by $j$ in Python and by $i$ in most mathematical texts). In general complex eigenvalues (and their associated complex eigenvectors) are associated with rotation. Note that for the above matrix, since it represents rotation about the z-axis, no vectors in the xy-plane retain their direction under the transformation, so there are no **real** eigenvectors in the xy-plane."
   ]
  },
  {
   "cell_type": "markdown",
   "metadata": {},
   "source": [
    "Around minute 8 the video below gives a visual interpretation of complex eigenvalues and eigenvectors."
   ]
  },
  {
   "cell_type": "code",
   "execution_count": 6,
   "metadata": {},
   "outputs": [
    {
     "data": {
      "image/jpeg": "[encoded data removed]",
      "text/html": [
       "\n",
       "        <iframe\n",
       "            width=\"640\"\n",
       "            height=\"360\"\n",
       "            src=\"https://www.youtube.com/embed/8F0gdO643Tc\"\n",
       "            frameborder=\"0\"\n",
       "            allowfullscreen\n",
       "        ></iframe>\n",
       "        "
      ],
      "text/plain": [
       "<IPython.lib.display.YouTubeVideo at 0x7f813271d460>"
      ]
     },
     "execution_count": 6,
     "metadata": {},
     "output_type": "execute_result"
    }
   ],
   "source": [
    "from IPython.display import YouTubeVideo\n",
    "YouTubeVideo(\"8F0gdO643Tc\",width=640,height=360)"
   ]
  },
  {
   "cell_type": "markdown",
   "metadata": {},
   "source": [
    "Finally, we encountered a **Markov matrix** several times already and it will be the focus in our in-class assignment. A key feature we will use is that one of its eigenvalues is equal to 1. We define its components $p_{ij}$ as the probabilities for the system to transition from state $j$ to state $i$. This means that the **elements in each column sum up to 1**. "
   ]
  },
  {
   "cell_type": "markdown",
   "metadata": {},
   "source": [
    "&#9989; **<font color=red>QUESTION 7:</font>** Why does the above statement imply that the vector $(1,1,\\dots,1)^T$ is an eigenvector of $A^T$ with corresponding eigenvalue 1?"
   ]
  },
  {
   "cell_type": "markdown",
   "metadata": {},
   "source": [
    "Put your answer to the above question here"
   ]
  },
  {
   "cell_type": "markdown",
   "metadata": {},
   "source": [
    "&#9989; **<font color=red>QUESTION 8:</font>** Why does the fact that $A^T$ have an eigenvalue equal to 1 mean that $A$ also does?"
   ]
  },
  {
   "cell_type": "markdown",
   "metadata": {},
   "source": [
    "Put your answer to the above question here"
   ]
  },
  {
   "cell_type": "markdown",
   "metadata": {},
   "source": [
    "### Congratulations, we're done!"
   ]
  }
 ],
 "metadata": {
  "anaconda-cloud": {},
  "kernelspec": {
   "display_name": "Python 3",
   "language": "python",
   "name": "python3"
  },
  "language_info": {
   "codemirror_mode": {
    "name": "ipython",
    "version": 3
   },
   "file_extension": ".py",
   "mimetype": "text/x-python",
   "name": "python",
   "nbconvert_exporter": "python",
   "pygments_lexer": "ipython3",
   "version": "3.8.8"
  }
 },
 "nbformat": 4,
 "nbformat_minor": 4
}
