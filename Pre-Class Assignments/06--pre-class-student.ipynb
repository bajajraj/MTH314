{
 "cells": [
  {
   "cell_type": "markdown",
   "metadata": {},
   "source": [
    "In order to successfully complete this assignment you must do the required reading, watch the provided videos and complete all instructions. The pre-class assignment quiz must be **submitted on D2L on or before 11:59pm on on the day before class**. Students must come to class the next day prepared to discuss the material covered in this assignment."
   ]
  },
  {
   "cell_type": "markdown",
   "metadata": {},
   "source": [
    "---"
   ]
  },
  {
   "cell_type": "markdown",
   "metadata": {},
   "source": [
    "# 06 Pre-Class Assignment: Matrix Mechanics\n",
    "\n",
    "In this assignment, we will explore the mechanics of vectors and matrices.\n",
    "These mechanics will be needed in future assignments. \n",
    "Make sure you understand and come to class with any questions. "
   ]
  },
  {
   "cell_type": "markdown",
   "metadata": {},
   "source": [
    "### Readings for this topic (Recommended in bold)\n",
    " * [Heffron Chapter 3.IV pg 224-240](http://joshua.smcvt.edu/linearalgebra/book.pdf)\n",
    " * [Beezer Chapter M pg 162-206 &  EM 340-345](http://linear.ups.edu/download/fcla-3.50-tablet.pdf)\n",
    " * [**_Boyd Section 6.2,-3, 10.1  pg 113-118, 177-183_**](http://vmls-book.stanford.edu/vmls.pdf)\n"
   ]
  },
  {
   "cell_type": "markdown",
   "metadata": {},
   "source": [
    "### Goals for today's pre-class assignment \n",
    "\n",
    "\n",
    "1. [Dot Product Review](#Dot-Product-Review)\n",
    "2. [Matrix Multiply](#Matrix-Multiply)\n",
    "3. [Identity Matrix](#Identity-Matrix)\n",
    "4. [Elementary Matrices](#Elementary-Matrices)\n",
    "5. [Solving Many Systems (at the same time)](#Solving-Many-Systems-(at-the-same-time))\n",
    "\n",
    "\n"
   ]
  },
  {
   "cell_type": "markdown",
   "metadata": {},
   "source": [
    "\n",
    "---\n",
    "<a name=Dot-Product-Review></a>\n",
    "## 1. Dot Product Review\n",
    "\n",
    "\n",
    "\n",
    "\n",
    "\n",
    "We covered dot (inner) products a while ago.  This assignment will extend the idea of inner products to matrix multiplication. As a reminder, **_Sections 1.4_** of the [Stephen Boyd and Lieven Vandenberghe Applied Linear algebra book](http://vmls-book.stanford.edu/) covers the dot product.  Here is a quick review:"
   ]
  },
  {
   "cell_type": "code",
   "execution_count": 1,
   "metadata": {},
   "outputs": [
    {
     "data": {
      "image/jpeg": "[encoded data removed]",
      "text/html": [
       "\n",
       "        <iframe\n",
       "            width=\"640\"\n",
       "            height=\"360\"\n",
       "            src=\"https://www.youtube.com/embed/ZZjWqxKqJwQ?cc_load_policy=True\"\n",
       "            frameborder=\"0\"\n",
       "            allowfullscreen\n",
       "        ></iframe>\n",
       "        "
      ],
      "text/plain": [
       "<IPython.lib.display.YouTubeVideo at 0x290a4bcdfd0>"
      ]
     },
     "execution_count": 1,
     "metadata": {},
     "output_type": "execute_result"
    }
   ],
   "source": [
    "from IPython.display import YouTubeVideo\n",
    "YouTubeVideo(\"ZZjWqxKqJwQ\",width=640,height=360, cc_load_policy=True)"
   ]
  },
  {
   "cell_type": "markdown",
   "metadata": {},
   "source": [
    "Given two vectors $u$ and $v$ in $R^n$ (i.e. they have the same length), the \"dot\" product operation multiplies all of the corresponding elements  and then adds them together.\n",
    "\n",
    "$$u = [u_1, u_2, \\dots, u_n]$$\n",
    "$$v = [v_1, v_2, \\dots, v_n]$$\n",
    "\n",
    "$$u \\cdot v = u_1 v_1 + u_2  v_2 + \\dots + u_nv_n$$\n",
    "\n",
    "or:\n",
    "\n",
    "$$ u \\cdot v = \\sum^n_{i=1} u_i v_i$$\n",
    "\n",
    "This can easily be written as python code as follows:"
   ]
  },
  {
   "cell_type": "code",
   "execution_count": 2,
   "metadata": {},
   "outputs": [
    {
     "data": {
      "text/plain": [
       "10"
      ]
     },
     "execution_count": 2,
     "metadata": {},
     "output_type": "execute_result"
    }
   ],
   "source": [
    "u = [1,2,3]\n",
    "v = [3,2,1]\n",
    "solution = 0\n",
    "for i in range(len(u)):\n",
    "    solution += u[i]*v[i]\n",
    "    \n",
    "solution"
   ]
  },
  {
   "cell_type": "markdown",
   "metadata": {},
   "source": [
    "In ```numpy``` the dot product between two vectors can be calculated using the following built in function:"
   ]
  },
  {
   "cell_type": "code",
   "execution_count": 3,
   "metadata": {},
   "outputs": [
    {
     "data": {
      "text/plain": [
       "10"
      ]
     },
     "execution_count": 3,
     "metadata": {},
     "output_type": "execute_result"
    }
   ],
   "source": [
    "import numpy as np\n",
    "np.dot([1,2,3], [3,2,1])"
   ]
  },
  {
   "cell_type": "markdown",
   "metadata": {},
   "source": [
    "&#9989;**<font color=red>QUESTION</font>**: What is the dot product of any n-vector and the zero n-vector? "
   ]
  },
  {
   "cell_type": "markdown",
   "metadata": {},
   "source": [
    "**Zero because any number multiplied by zero is zero.**"
   ]
  },
  {
   "cell_type": "markdown",
   "metadata": {},
   "source": [
    "&#9989;**<font color=red>QUESTION</font>**: What happens to the ```numpy.dot``` function if the two input vectors are not the same size?  "
   ]
  },
  {
   "cell_type": "markdown",
   "metadata": {},
   "source": [
    "**It would give an error.**"
   ]
  },
  {
   "cell_type": "markdown",
   "metadata": {},
   "source": [
    "\n",
    "\n",
    "---\n",
    "<a name=Matrix-Multiply></a>\n",
    "## 2. Matrix Multiply\n",
    "\n",
    "\n",
    "\n",
    "\n",
    "\n",
    "Read **_Section 10.1_** of the [Stephen Boyd and Lieven Vandenberghe Applied Linear algebra book](http://vmls-book.stanford.edu/) which covers Matrix Multiplication.  Here is a quick review:\n",
    "\n",
    "Two matrices $A$ and $B$ can be multiplied together if and only if their \"inner dimensions\" are the same, i.e. $A$ is $n\\times d$ and $B$ is $d\\times m$ (note that the columns of $A$ and the rows of $B$ are both $d$). \n",
    "Multiplication of these two matrices results in a third matrix $C$ with the dimension of $n\\times m$.\n",
    "Note that $C$ has the same first dimension as $A$ and the same second dimension as $B$. i.e $n\\times m$.  \n",
    "\n",
    "_**The $(i,j)$ element in $C$ is the dot product of the $i$th row of $A$ and the $j$th column of $B$.**_\n",
    "\n",
    "The $i$th row of $A$ is:\n",
    "\n",
    "$$ [ a_{i1},  a_{i2},  \\dots , a_{id} ],$$\n",
    "\n",
    "and the $j$th column of $B$ is:\n",
    "\n",
    "$$\n",
    "\\left[\n",
    "\\begin{matrix}\n",
    "    b_{1j}\\\\ \n",
    "    b_{2j}\\\\\n",
    "    \\vdots \\\\\n",
    "    b_{dj}\n",
    "\\end{matrix}\n",
    "\\right] \n",
    "$$\n",
    "\n",
    "So, the dot product of these two vectors is:\n",
    "\n",
    "$$c_{ij} = a_{i1}b_{1j} + a_{i2}b_{2j} + \\dots + a_{id}b_{dj}$$\n",
    "\n",
    "Consider the simple $2\\times 2$ example below:\n",
    "\n",
    "\n",
    "$$ \n",
    "\\left[\n",
    "\\begin{matrix}\n",
    "    a & b\\\\ \n",
    "    c & d   \n",
    "\\end{matrix}\n",
    "\\right] \n",
    "\\left[\n",
    "\\begin{matrix}\n",
    "    w & x\\\\ \n",
    "    y & z   \n",
    "\\end{matrix}\n",
    "\\right] \n",
    "=\n",
    "\\left[\n",
    "\\begin{matrix}\n",
    "    aw+by & ax+bz\\\\ \n",
    "    cw + dy & cx + dz   \n",
    "\\end{matrix}\n",
    "\\right] \n",
    "$$"
   ]
  },
  {
   "cell_type": "markdown",
   "metadata": {},
   "source": [
    "Let's do an example using ```numpy``` and show the results using ```sympy```:"
   ]
  },
  {
   "cell_type": "code",
   "execution_count": 4,
   "metadata": {},
   "outputs": [],
   "source": [
    "import numpy as np\n",
    "import sympy as sym\n",
    "sym.init_printing(use_unicode=True) # Trick to make matrixes look nice in jupyter"
   ]
  },
  {
   "cell_type": "code",
   "execution_count": 5,
   "metadata": {},
   "outputs": [
    {
     "data": {
      "text/latex": [
       "$\\displaystyle \\left[\\begin{matrix}1 & 1\\\\2 & 2\\end{matrix}\\right]$"
      ],
      "text/plain": [
       "⎡1  1⎤\n",
       "⎢    ⎥\n",
       "⎣2  2⎦"
      ]
     },
     "execution_count": 5,
     "metadata": {},
     "output_type": "execute_result"
    }
   ],
   "source": [
    "A = np.matrix([[1,1], [2,2]])\n",
    "sym.Matrix(A)"
   ]
  },
  {
   "cell_type": "code",
   "execution_count": 6,
   "metadata": {},
   "outputs": [
    {
     "data": {
      "text/latex": [
       "$\\displaystyle \\left[\\begin{matrix}3 & 4\\\\3 & 4\\end{matrix}\\right]$"
      ],
      "text/plain": [
       "⎡3  4⎤\n",
       "⎢    ⎥\n",
       "⎣3  4⎦"
      ]
     },
     "execution_count": 6,
     "metadata": {},
     "output_type": "execute_result"
    }
   ],
   "source": [
    "B = np.matrix([[3,4], [3,4]])\n",
    "sym.Matrix(B)"
   ]
  },
  {
   "cell_type": "code",
   "execution_count": 7,
   "metadata": {},
   "outputs": [
    {
     "data": {
      "text/latex": [
       "$\\displaystyle \\left[\\begin{matrix}6 & 8\\\\12 & 16\\end{matrix}\\right]$"
      ],
      "text/plain": [
       "⎡6   8 ⎤\n",
       "⎢      ⎥\n",
       "⎣12  16⎦"
      ]
     },
     "execution_count": 7,
     "metadata": {},
     "output_type": "execute_result"
    }
   ],
   "source": [
    "sym.Matrix(A*B)"
   ]
  },
  {
   "cell_type": "markdown",
   "metadata": {},
   "source": [
    "&#9989;**<font color=red>DO THIS</font>**: Given two matrices; $A$ and $B$, show that order matters when doing a matrix multiply. That is, in general, $AB \\neq BA$. \n",
    "Show this with an example using two $3\\times 3$ matrices and ```numpy```."
   ]
  },
  {
   "cell_type": "code",
   "execution_count": 8,
   "metadata": {},
   "outputs": [
    {
     "data": {
      "text/plain": [
       "False"
      ]
     },
     "execution_count": 8,
     "metadata": {},
     "output_type": "execute_result"
    }
   ],
   "source": [
    "# Put your code here.\n",
    "A = np.matrix([[1,2,3],[7,8,9],[5,6,5]])\n",
    "sym.Matrix(A)\n",
    "B = np.matrix([[1,5,6],[7,5,6],[8,7,4]])\n",
    "sym.Matrix(B)\n",
    "AB = sym.Matrix(A*B)\n",
    "BA = sym.Matrix(B*A)\n",
    "AB == BA"
   ]
  },
  {
   "cell_type": "markdown",
   "metadata": {},
   "source": [
    "Now consider the following set of linear equations:\n",
    "\n",
    "$$ 3x_1-3x_2+9x_3 =~24$$\n",
    "$$ 2x_1-2x_2+7x_3 =~17$$\n",
    "$$ -x_1+2x_2-4x_3 = -11$$\n",
    "\n",
    "We typically write this in the following form:\n",
    "\n",
    "$$ \n",
    "\\left[\n",
    "\\begin{matrix}\n",
    "    3 & -3 & 9\\\\ \n",
    "    2 & -2 & 7 \\\\\n",
    "    -1 & 2 & -4\n",
    "\\end{matrix}\n",
    "\\right] \n",
    "\\left[\n",
    "\\begin{matrix}\n",
    "    x_1 \\\\ \n",
    "    x_2 \\\\\n",
    "    x_3\n",
    "\\end{matrix}\n",
    "\\right] \n",
    "=\n",
    "\\left[\n",
    "\\begin{matrix}\n",
    "    24\\\\ \n",
    "    17 \\\\\n",
    "    -11\n",
    "\\end{matrix}\n",
    "\\right] \n",
    "$$\n",
    "\n",
    "Notice how doing the matrix multiplication results back into the original system of equations. If we rename the three matrices from above to $A$, $x$, and $b$ (note $x$ and $b$ are lowercase because they are column vectors) then we get the main equation for this class, which is:\n",
    "\n",
    "$$Ax=b$$"
   ]
  },
  {
   "cell_type": "markdown",
   "metadata": {},
   "source": [
    "Note the information about the equation doesn't change when you change formats.  For example, the equation format, the augmented format and the $Ax=b$ format contain the same information.   However, we use the different formats for different applications.  Consider the ```numpy.linalg.solve``` function which assumes the format $Ax=b$"
   ]
  },
  {
   "cell_type": "code",
   "execution_count": 9,
   "metadata": {},
   "outputs": [
    {
     "data": {
      "text/latex": [
       "$\\displaystyle \\left[\\begin{matrix}3 & -3 & 9\\\\2 & -2 & 7\\\\-1 & 2 & -4\\end{matrix}\\right]$"
      ],
      "text/plain": [
       "⎡3   -3  9 ⎤\n",
       "⎢          ⎥\n",
       "⎢2   -2  7 ⎥\n",
       "⎢          ⎥\n",
       "⎣-1  2   -4⎦"
      ]
     },
     "execution_count": 9,
     "metadata": {},
     "output_type": "execute_result"
    }
   ],
   "source": [
    "A = np.matrix([[3, -3,9], [2, -2, 7], [-1, 2, -4]])\n",
    "sym.Matrix(A)"
   ]
  },
  {
   "cell_type": "code",
   "execution_count": 10,
   "metadata": {},
   "outputs": [
    {
     "data": {
      "text/latex": [
       "$\\displaystyle \\left[\\begin{matrix}24\\\\17\\\\-11\\end{matrix}\\right]$"
      ],
      "text/plain": [
       "⎡24 ⎤\n",
       "⎢   ⎥\n",
       "⎢17 ⎥\n",
       "⎢   ⎥\n",
       "⎣-11⎦"
      ]
     },
     "execution_count": 10,
     "metadata": {},
     "output_type": "execute_result"
    }
   ],
   "source": [
    "b = np.matrix([[24], [17], [-11]])\n",
    "sym.Matrix(b)"
   ]
  },
  {
   "cell_type": "code",
   "execution_count": 11,
   "metadata": {},
   "outputs": [
    {
     "data": {
      "text/latex": [
       "$\\displaystyle \\left[\\begin{matrix}3.0\\\\-2.0\\\\1.0\\end{matrix}\\right]$"
      ],
      "text/plain": [
       "⎡3.0 ⎤\n",
       "⎢    ⎥\n",
       "⎢-2.0⎥\n",
       "⎢    ⎥\n",
       "⎣1.0 ⎦"
      ]
     },
     "execution_count": 11,
     "metadata": {},
     "output_type": "execute_result"
    }
   ],
   "source": [
    "#Calculate answer to x using numpy\n",
    "x = np.linalg.solve(A,b)\n",
    "sym.Matrix(x)"
   ]
  },
  {
   "cell_type": "markdown",
   "metadata": {},
   "source": [
    "&#9989;**<font color=red>QUESTION</font>**: What is the size of the matrix resulting from multiplying a $10 \\times 40$ matrix with a $40 \\times 3$ matrix?"
   ]
  },
  {
   "cell_type": "markdown",
   "metadata": {},
   "source": [
    "**It would be $10 \\times 3$**"
   ]
  },
  {
   "cell_type": "markdown",
   "metadata": {},
   "source": [
    "\n",
    "---\n",
    "<a name=Identity-Matrix></a>\n",
    "## 3. Identity Matrix\n",
    "\n",
    "\n",
    "\n",
    " \n",
    "\n",
    "Read sections **_Sections 6.2 and 6.3_** of the [Stephen Boyd and Lieven Vandenberghe Applied Linear algebra book](http://vmls-book.stanford.edu/) covers more about matrixes.  \n",
    "\n",
    "An identity matrix is a special square matrix (i.e. $n=m$) that has ones in the diagonal and zeros other places. For example the following is the $3\\times 3$ identity matrix:\n",
    "\n",
    "$$\n",
    "I_3 = \n",
    "\\left[\n",
    "\\begin{matrix}\n",
    "    1 & 0 & 0\\\\ \n",
    "    0 & 1 & 0 \\\\\n",
    "    0 & 0 & 1\n",
    "\\end{matrix}\n",
    "\\right] \n",
    "$$\n",
    "\n",
    "We always denote the identity matrix with a capital $I$. Often a subscript is used to denote the value of $n$. The notations $I_{nxn}$ and $I_n$ are both acceptable.\n",
    "\n",
    "An identity matrix is similar to the number 1 for scalar values.  I.e. multiplying a square matrix $A_{nxn}$ by its corresponding identity matrix $I_{nxn}$ (either on the left or on the right) results in itself $A_{nxn}$.\n",
    "\n",
    "&#9989;**<font color=red>DO THIS</font>**: Pick a random $3\\times 3$ matrix (you can define it using ``np.matrix(np.random.random([3,3]))``), $A$, and multiply it by the $3\\times 3$ Identity matrix (once on the left and once on the right) and show you get $A$ in either case, i.e. demonstrate that $A I_3 =A$ and $I_3 A=A$. "
   ]
  },
  {
   "cell_type": "code",
   "execution_count": 12,
   "metadata": {},
   "outputs": [
    {
     "data": {
      "text/plain": [
       "True"
      ]
     },
     "execution_count": 12,
     "metadata": {},
     "output_type": "execute_result"
    }
   ],
   "source": [
    "#Put your code here\n",
    "A = np.matrix(np.random.random([3,3]))\n",
    "A = sym.Matrix(A)\n",
    "I = np.matrix([[1,0,0], [0,1,0],[0,0,1]])\n",
    "I = sym.Matrix(I)\n",
    "IA = sym.Matrix(I*A)\n",
    "AI = sym.Matrix(A*I)\n",
    "AI == IA"
   ]
  },
  {
   "cell_type": "markdown",
   "metadata": {},
   "source": [
    "&#9989; **<font color=red>QUESTION:</font>** Consider two square matrices $A$ and $B$ of size $n \\times n$.  $AB = BA$ is **NOT** true for many $A$ and $B$.  Describe an example (different from the one above) where $AB = BA$ is true. Explain why the equality works for your example."
   ]
  },
  {
   "cell_type": "markdown",
   "metadata": {},
   "source": [
    "**Put your answer here.**"
   ]
  },
  {
   "cell_type": "markdown",
   "metadata": {},
   "source": [
    "\n",
    "---\n",
    "<a name=Elementary-Matrices></a>\n",
    "## 4. Elementary Matrices\n",
    "\n",
    "\n",
    "**_NOTE_**: A detailed description of elementary matrices can be found here in the **_Beezer text Subsection EM 340-345_** if you find the following confusing. \n",
    "\n",
    "There exist a cool set of matrices that can be used to implement Elementary Row Operations. Recall our elementary row operations include:\n",
    "\n",
    "1. Swap two rows\n",
    "2. Multiply a row by a constant ($c$)\n",
    "3. Multiply a row by a constant ($c$) and add it to another row.\n",
    "\n",
    "You can create these elementary matrices by applying the desired elementary row operations to the identity matrix. \n",
    "\n",
    "If you multiply your matrix from the left using the elementary matrix, you will get the desired operation.\n",
    "\n",
    "For example, here is the elementary row operation to swap the first and second rows of a $3\\times 3$ matrix:\n",
    "\n",
    "$$ \n",
    "E_{12}=\n",
    "\\left[\n",
    "\\begin{matrix}\n",
    "    0 & 1 & 0\\\\ \n",
    "    1 & 0 & 0 \\\\\n",
    "    0 & 0 & 1\n",
    "\\end{matrix}\n",
    "\\right] \n",
    "$$\n"
   ]
  },
  {
   "cell_type": "code",
   "execution_count": 13,
   "metadata": {},
   "outputs": [
    {
     "data": {
      "text/latex": [
       "$\\displaystyle \\left[\\begin{matrix}3 & -3 & 9\\\\2 & -2 & 7\\\\-1 & 2 & -4\\end{matrix}\\right]$"
      ],
      "text/plain": [
       "⎡3   -3  9 ⎤\n",
       "⎢          ⎥\n",
       "⎢2   -2  7 ⎥\n",
       "⎢          ⎥\n",
       "⎣-1  2   -4⎦"
      ]
     },
     "execution_count": 13,
     "metadata": {},
     "output_type": "execute_result"
    }
   ],
   "source": [
    "import numpy as np\n",
    "import sympy as sym\n",
    "sym.init_printing(use_unicode=True)\n",
    "A = np.matrix([[3, -3,9], [2, -2, 7], [-1, 2, -4]])\n",
    "sym.Matrix(A)"
   ]
  },
  {
   "cell_type": "code",
   "execution_count": 14,
   "metadata": {},
   "outputs": [
    {
     "data": {
      "text/latex": [
       "$\\displaystyle \\left[\\begin{matrix}0 & 1 & 0\\\\1 & 0 & 0\\\\0 & 0 & 1\\end{matrix}\\right]$"
      ],
      "text/plain": [
       "⎡0  1  0⎤\n",
       "⎢       ⎥\n",
       "⎢1  0  0⎥\n",
       "⎢       ⎥\n",
       "⎣0  0  1⎦"
      ]
     },
     "execution_count": 14,
     "metadata": {},
     "output_type": "execute_result"
    }
   ],
   "source": [
    "E1 = np.matrix([[0,1,0], [1,0,0], [0,0,1]])\n",
    "sym.Matrix(E1)"
   ]
  },
  {
   "cell_type": "code",
   "execution_count": 17,
   "metadata": {},
   "outputs": [
    {
     "data": {
      "text/latex": [
       "$\\displaystyle \\left[\\begin{matrix}2 & -2 & 7\\\\3 & -3 & 9\\\\-1 & 2 & -4\\end{matrix}\\right]$"
      ],
      "text/plain": [
       "⎡2   -2  7 ⎤\n",
       "⎢          ⎥\n",
       "⎢3   -3  9 ⎥\n",
       "⎢          ⎥\n",
       "⎣-1  2   -4⎦"
      ]
     },
     "execution_count": 17,
     "metadata": {},
     "output_type": "execute_result"
    }
   ],
   "source": [
    "A1 = E1*A\n",
    "sym.Matrix(A1)"
   ]
  },
  {
   "cell_type": "markdown",
   "metadata": {},
   "source": [
    "&#9989;  **<font color=red>DO THIS</font>**: Give a $3\\times 3$ elementary matrix named ```E2``` that swaps row 3 with row 1 and apply it to the $A$ Matrix. Replace the matrix $A$ with the new matrix."
   ]
  },
  {
   "cell_type": "code",
   "execution_count": 19,
   "metadata": {},
   "outputs": [
    {
     "data": {
      "text/latex": [
       "$\\displaystyle \\left[\\begin{matrix}-1 & 2 & -4\\\\3 & -3 & 9\\\\2 & -2 & 7\\end{matrix}\\right]$"
      ],
      "text/plain": [
       "⎡-1  2   -4⎤\n",
       "⎢          ⎥\n",
       "⎢3   -3  9 ⎥\n",
       "⎢          ⎥\n",
       "⎣2   -2  7 ⎦"
      ]
     },
     "execution_count": 19,
     "metadata": {},
     "output_type": "execute_result"
    }
   ],
   "source": [
    "# Put your answer here.  \n",
    "# Feel free to swich this cell to markdown if you want to try writing your answer in latex.\n",
    "E2 = np.matrix([[0,0,1],[0,1,0],[1,0,0]])\n",
    "A = E2*A1\n",
    "sym.Matrix(A)"
   ]
  },
  {
   "cell_type": "code",
   "execution_count": 11,
   "metadata": {},
   "outputs": [
    {
     "name": "stdout",
     "output_type": "stream",
     "text": [
      "\n",
      "CheckWarning: passed matrix is int32 and not <class 'numpy.float64'>...\n",
      "    Trying to convert to float using ```A = A.astype(float)```.\n",
      "\n",
      "\n",
      "CheckWarning: Matrix contains negative values for zero...\n",
      "    Converting to positive values of zero using  ```A[A==-0] = 0```.\n",
      "\n",
      "Testing [[0. 0. 1.]\n",
      " [0. 1. 0.]\n",
      " [1. 0. 0.]]\n",
      "Answer seems to be correct\n",
      "\n"
     ]
    }
   ],
   "source": [
    "from answercheck import checkanswer\n",
    "\n",
    "checkanswer.matrix(E2,'2c2d2e407389eabeb6d90894565c830f');"
   ]
  },
  {
   "cell_type": "markdown",
   "metadata": {},
   "source": [
    "&#9989;  **<font color=red>DO THIS</font>**: Give a $3\\times 3$ elementary matrix named ```E3``` that multiplies the first row by $c=3$ and adds it to the third row. Apply the elementary matrix to the $A$ matrix. Replace the matrix $A$ with the new matrix."
   ]
  },
  {
   "cell_type": "code",
   "execution_count": null,
   "metadata": {},
   "outputs": [],
   "source": [
    "# Put your answer here.  \n",
    "# Feel free to swich this cell to markdown if you want to try writing your answer in latex."
   ]
  },
  {
   "cell_type": "code",
   "execution_count": null,
   "metadata": {},
   "outputs": [],
   "source": [
    "from answercheck import checkanswer\n",
    "\n",
    "checkanswer.matrix(E3,'55ae1f9eb21df00c59dad623b9471506');\n"
   ]
  },
  {
   "cell_type": "markdown",
   "metadata": {},
   "source": [
    "&#9989;  **<font color=red>DO THIS</font>**: Give a $3\\times 3$ elementary matrix named ```E4``` that multiplies the second row by a constant $c=1/2$ applies this to matrix $A$."
   ]
  },
  {
   "cell_type": "code",
   "execution_count": null,
   "metadata": {},
   "outputs": [],
   "source": [
    "# Put your answer here.  \n",
    "# Feel free to swich this cell to markdown if you want to try writing your answer in latex."
   ]
  },
  {
   "cell_type": "code",
   "execution_count": null,
   "metadata": {},
   "outputs": [],
   "source": [
    "from answercheck import checkanswer\n",
    "\n",
    "checkanswer.matrix(E4,'3a5256840ef907a1b73ebba4471ac26d');\n"
   ]
  },
  {
   "cell_type": "markdown",
   "metadata": {},
   "source": [
    "If the above are correct then we can combine the three operators on the original matrix $A$ as follows. "
   ]
  },
  {
   "cell_type": "code",
   "execution_count": null,
   "metadata": {},
   "outputs": [],
   "source": [
    "A = np.matrix([[3, -3,9], [2, -2, 7], [-1, 2, -4]])\n",
    "\n",
    "sym.Matrix(E4*E3*E2*A)"
   ]
  },
  {
   "cell_type": "markdown",
   "metadata": {},
   "source": [
    "---\n",
    "<a name=Solving-Many-Systems-(at-the-same-time)></a>\n",
    "## 5. Solving Many Systems (at the same time)\n",
    "\n",
    "\n"
   ]
  },
  {
   "cell_type": "code",
   "execution_count": 1,
   "metadata": {},
   "outputs": [
    {
     "data": {
      "image/jpeg": "[encoded data removed]",
      "text/html": [
       "\n",
       "        <iframe\n",
       "            width=\"640\"\n",
       "            height=\"360\"\n",
       "            src=\"https://www.youtube.com/embed/k5fdGS5b4OU?cc_load_policy=True\"\n",
       "            frameborder=\"0\"\n",
       "            allowfullscreen\n",
       "        ></iframe>\n",
       "        "
      ],
      "text/plain": [
       "<IPython.lib.display.YouTubeVideo at 0x20b95637be0>"
      ]
     },
     "execution_count": 1,
     "metadata": {},
     "output_type": "execute_result"
    }
   ],
   "source": [
    "from IPython.display import YouTubeVideo\n",
    "YouTubeVideo(\"k5fdGS5b4OU\",width=640,height=360, cc_load_policy=True)"
   ]
  },
  {
   "cell_type": "markdown",
   "metadata": {},
   "source": [
    "Consider the Giselle example from before.  Her earnings do not change (i.e. she makes $\\$20$ per hour as a carpenter and $\\$25$ per hour as a blacksmith). However, now she has worked two more weeks. In the second week, she worked for a total of 35 hours and earned $\\$750$. In the third week, she worked for a total of 30 hours and earned $\\$650$. How much did she work as a carpenter and blacksmith for each of those weeks? In other words:\n",
    " \n",
    "**Week 1:**\n",
    "$$ c + b = 30 $$\n",
    "$$ 20c + 25b = 690 $$\n",
    "\n",
    "**Week 2:**\n",
    "$$ c + b = 35 $$\n",
    "$$ 20c + 25b = 750 $$\n",
    "\n",
    "**Week 3:**\n",
    "$$ c + b = 30 $$\n",
    "$$ 20c + 25b = 650 $$"
   ]
  },
  {
   "cell_type": "markdown",
   "metadata": {},
   "source": [
    "&#9989;**<font color=red>DO THIS</font>**: Write a $2 \\times 5$ augmented matrix representing the 6 equations above.  Name your Matrix $G$ to verify your answer using the ```checkanswer``` function below."
   ]
  },
  {
   "cell_type": "code",
   "execution_count": 4,
   "metadata": {},
   "outputs": [
    {
     "data": {
      "text/latex": [
       "$\\displaystyle \\left[\\begin{matrix}1 & 0 & 12 & 25 & 20\\\\0 & 1 & 18 & 10 & 10\\end{matrix}\\right]$"
      ],
      "text/plain": [
       "Matrix([\n",
       "[1, 0, 12, 25, 20],\n",
       "[0, 1, 18, 10, 10]])"
      ]
     },
     "execution_count": 4,
     "metadata": {},
     "output_type": "execute_result"
    }
   ],
   "source": [
    "#Put your answer to the above quation here\n",
    "import numpy as np\n",
    "import sympy as sym\n",
    "G = np.matrix([[1,1,30,35,30],[20,25,690,750,650]])\n",
    "RREF = sym.Matrix(G).rref()[0]\n",
    "RREF"
   ]
  },
  {
   "cell_type": "code",
   "execution_count": 41,
   "metadata": {},
   "outputs": [
    {
     "name": "stdout",
     "output_type": "stream",
     "text": [
      "\n",
      "CheckWarning: passed matrix is int32 and not <class 'numpy.float64'>...\n",
      "    Trying to convert to float using ```A = A.astype(float)```.\n",
      "\n",
      "Testing [[  1.   1.  30.  35.  30.]\n",
      " [ 20.  25. 690. 750. 650.]]\n",
      "Answer seems to be correct\n",
      "\n"
     ]
    }
   ],
   "source": [
    "from answercheck import checkanswer\n",
    "\n",
    "checkanswer.matrix(G,'a1e01de142199370be70131849fbf108');"
   ]
  },
  {
   "cell_type": "markdown",
   "metadata": {},
   "source": [
    "----\n",
    "\n",
    "\n",
    "Written by Dr. Dirk Colbry, Michigan State University\n",
    "<a rel=\"license\" href=\"http://creativecommons.org/licenses/by-nc/4.0/\"><img alt=\"Creative Commons License\" style=\"border-width:0\" src=\"https://i.creativecommons.org/l/by-nc/4.0/88x31.png\" /></a><br />This work is licensed under a <a rel=\"license\" href=\"http://creativecommons.org/licenses/by-nc/4.0/\">Creative Commons Attribution-NonCommercial 4.0 International License</a>."
   ]
  },
  {
   "cell_type": "markdown",
   "metadata": {},
   "source": [
    "\n",
    "---------\n",
    "### Congratulations, we're done!"
   ]
  }
 ],
 "metadata": {
  "anaconda-cloud": {},
  "kernelspec": {
   "display_name": "Python 3",
   "language": "python",
   "name": "python3"
  },
  "language_info": {
   "codemirror_mode": {
    "name": "ipython",
    "version": 3
   },
   "file_extension": ".py",
   "mimetype": "text/x-python",
   "name": "python",
   "nbconvert_exporter": "python",
   "pygments_lexer": "ipython3",
   "version": "3.8.3"
  }
 },
 "nbformat": 4,
 "nbformat_minor": 4
}
