{
 "cells": [
  {
   "cell_type": "markdown",
   "metadata": {},
   "source": [
    "In order to successfully complete this assignment you must do the required reading, watch the provided videos and complete all instructions.  The pre-class assignment quiz must be submitted on D2L on or before **_11:59pm on on the day before class_**.  Students must come to class the next day prepared to discuss the material covered in this assignment."
   ]
  },
  {
   "cell_type": "markdown",
   "metadata": {},
   "source": [
    "# 15 Pre-Class Assignment: Diagonalization and Powers"
   ]
  },
  {
   "cell_type": "markdown",
   "metadata": {},
   "source": [
    "### Readings for this topic (Recommended in bold)\n",
    " * [Heffron Chapter 5 II1-2 pg 388-396](http://joshua.smcvt.edu/linearalgebra/book.pdf)\n",
    " * [**_Beezer Section SD pg 403-415_**](http://linear.ups.edu/download/fcla-3.50-tablet.pdf)\n"
   ]
  },
  {
   "cell_type": "markdown",
   "metadata": {},
   "source": [
    "### Goals for today's pre-class assignment \n",
    "\n",
    "1. [Eigenvalues and eigenvectors review](#Eigenvalues_and_eigenvectors_review)\n",
    "1. [Diagonalizable Matrix](#Diagonalizable_Matrix)"
   ]
  },
  {
   "cell_type": "markdown",
   "metadata": {},
   "source": [
    "----\n",
    "<a name=\"Eigenvalues_and_eigenvectors_review\"></a>\n",
    "## 1. Eigenvalues and eigenvectors review\n",
    "\n",
    "**Definition**: A non-zero vector $x$ in $\\mathbb R^n$ is called an *eigenvector* of an $n\\times n$ matrix $A$ if $Ax$ is a scalar multiple of $x$ (i.e. $Ax$ has the same direction as $x$). If $Ax = \\lambda x$, then $\\lambda$ is called the *eigenvalue* of $A$ corresponding to $x$."
   ]
  },
  {
   "cell_type": "markdown",
   "metadata": {},
   "source": [
    "### Steps for finding the eigenvalues and eigenvectors\n",
    "\n",
    "We want to find $\\lambda$ and a non-zero vector $x$ such that $Ax=\\lambda x$ for an $n\\times n$ matrix. \n",
    "1. We introduce an identity matrix $I$ of size $n\\times n$. Then the equation becomes\n",
    "$$Ax = \\lambda I x$$\n",
    "$$Ax-\\lambda I x = 0$$\n",
    "$$(A-\\lambda I)x = 0$$\n",
    "2. This suggests that we want to find $\\lambda$ such that $(A-\\lambda I)x=0$ has a non-trivial solution. \n",
    "It is equivalent to the matrix $A-\\lambda I$ being singular, i.e., it having a determinant of $0$.\n",
    "$$|A-\\lambda I|=0$$\n",
    "3. The determinant is a polynomial in $\\lambda$ (called the characteristic polynomial of $A$) with degree $n$. We solve this equation (called the characteristic equation) for all possible $\\lambda$ (eigenvalues).\n",
    "4. After finding the eigenvalues, we substitute them back into \n",
    "$$(A-\\lambda I)x=0$$\n",
    "and find the eigenvectors $x$. \n"
   ]
  },
  {
   "cell_type": "markdown",
   "metadata": {},
   "source": [
    "Let's calculate eigenvalues for the following matrix: \n",
    "\n",
    "$$ A=\\begin{bmatrix} 0 & 0 & -2 \\\\ 1 & 2 & 1 \\\\ 1 & 0 & 3 \\end{bmatrix}$$"
   ]
  },
  {
   "cell_type": "markdown",
   "metadata": {},
   "source": [
    "#### Find eigenvalues\n",
    "Looking at the above recipe, let's solve the problem symbollically using `sympy`. First let's create a matrix $B$ such that:\n",
    "\n",
    "$$B = A-\\lambda I$$"
   ]
  },
  {
   "cell_type": "code",
   "execution_count": 1,
   "metadata": {},
   "outputs": [],
   "source": [
    "%matplotlib inline\n",
    "import matplotlib.pylab as plt\n",
    "import numpy as np\n",
    "import sympy as sym\n",
    "sym.init_printing()"
   ]
  },
  {
   "cell_type": "code",
   "execution_count": 2,
   "metadata": {},
   "outputs": [
    {
     "data": {
      "text/latex": [
       "$\\displaystyle \\left[\\begin{matrix}- \\lambda & 0 & -2\\\\1 & 2 - \\lambda & 1\\\\1 & 0 & 3 - \\lambda\\end{matrix}\\right]$"
      ],
      "text/plain": [
       "⎡-λ    0     -2  ⎤\n",
       "⎢                ⎥\n",
       "⎢1   2 - λ    1  ⎥\n",
       "⎢                ⎥\n",
       "⎣1     0    3 - λ⎦"
      ]
     },
     "execution_count": 2,
     "metadata": {},
     "output_type": "execute_result"
    }
   ],
   "source": [
    "#Most sympy requires defeing the variables as \"symbols\"\n",
    "#Once we do this we can use the variables in place of numbers\n",
    "lam = sym.symbols('lambda')\n",
    "\n",
    "A = sym.Matrix([[0, 0 ,-2], [1, 2, 1], [1, 0, 3]])\n",
    "I = sym.eye(3)\n",
    "\n",
    "B = A - lam*I\n",
    "\n",
    "B"
   ]
  },
  {
   "cell_type": "markdown",
   "metadata": {},
   "source": [
    "Now, per step 2, the determinant of $B$ must be zero. Note that `sympy` calculates the determinate symbollically as follows:"
   ]
  },
  {
   "cell_type": "code",
   "execution_count": 3,
   "metadata": {},
   "outputs": [
    {
     "data": {
      "image/png": "[encoded data removed]",
      "text/latex": [
       "$\\displaystyle - \\lambda^{3} + 5 \\lambda^{2} - 8 \\lambda + 4$"
      ],
      "text/plain": [
       "   3      2          \n",
       "- λ  + 5⋅λ  - 8⋅λ + 4"
      ]
     },
     "execution_count": 3,
     "metadata": {},
     "output_type": "execute_result"
    }
   ],
   "source": [
    "B.det()"
   ]
  },
  {
   "cell_type": "markdown",
   "metadata": {},
   "source": [
    "&#9989; **<font color=red>Do This:</font>**  Using the ```sympy.solve``` function on the determinate of $B$ to solve for ```lam``` ($\\lambda$). Verify that the solution to the last question produces the same eigenvalues as above. "
   ]
  },
  {
   "cell_type": "code",
   "execution_count": 4,
   "metadata": {},
   "outputs": [
    {
     "data": {
      "image/png": "[encoded data removed]",
      "text/latex": [
       "$\\displaystyle \\left[ \\left\\{ \\lambda : 1\\right\\}, \\  \\left\\{ \\lambda : 2\\right\\}\\right]$"
      ],
      "text/plain": [
       "[{λ: 1}, {λ: 2}]"
      ]
     },
     "execution_count": 4,
     "metadata": {},
     "output_type": "execute_result"
    }
   ],
   "source": [
    "# Put your code to solve for det(B) = 0 her\n",
    "x = sym.solve((B.det(),0))\n",
    "x"
   ]
  },
  {
   "cell_type": "markdown",
   "metadata": {},
   "source": [
    "&#9989; **<font color=red>Do This:</font>**  First, let's use the built in function ```eigenvals``` function in ```sympy``` to calculate the eigenvalues. Find out the meaning of the output."
   ]
  },
  {
   "cell_type": "code",
   "execution_count": 5,
   "metadata": {},
   "outputs": [
    {
     "data": {
      "image/png": "[encoded data removed]",
      "text/latex": [
       "$\\displaystyle \\left\\{ 1 - \\lambda : 1, \\  2 - \\lambda : 2\\right\\}$"
      ],
      "text/plain": [
       "{1 - λ: 1, 2 - λ: 2}"
      ]
     },
     "execution_count": 5,
     "metadata": {},
     "output_type": "execute_result"
    }
   ],
   "source": [
    "# Put your code here\n",
    "B.eigenvals()"
   ]
  },
  {
   "cell_type": "code",
   "execution_count": 6,
   "metadata": {},
   "outputs": [
    {
     "data": {
      "text/latex": [
       "$\\displaystyle \\left[ \\left( 1 - \\lambda, \\  1, \\  \\left[ \\left[\\begin{matrix}-2\\\\1\\\\1\\end{matrix}\\right]\\right]\\right), \\  \\left( 2 - \\lambda, \\  2, \\  \\left[ \\left[\\begin{matrix}0\\\\1\\\\0\\end{matrix}\\right], \\  \\left[\\begin{matrix}-1\\\\0\\\\1\\end{matrix}\\right]\\right]\\right)\\right]$"
      ],
      "text/plain": [
       "⎡⎛          ⎡⎡-2⎤⎤⎞  ⎛          ⎡⎡0⎤  ⎡-1⎤⎤⎞⎤\n",
       "⎢⎜          ⎢⎢  ⎥⎥⎟  ⎜          ⎢⎢ ⎥  ⎢  ⎥⎥⎟⎥\n",
       "⎢⎜1 - λ, 1, ⎢⎢1 ⎥⎥⎟, ⎜2 - λ, 2, ⎢⎢1⎥, ⎢0 ⎥⎥⎟⎥\n",
       "⎢⎜          ⎢⎢  ⎥⎥⎟  ⎜          ⎢⎢ ⎥  ⎢  ⎥⎥⎟⎥\n",
       "⎣⎝          ⎣⎣1 ⎦⎦⎠  ⎝          ⎣⎣0⎦  ⎣1 ⎦⎦⎠⎦"
      ]
     },
     "execution_count": 6,
     "metadata": {},
     "output_type": "execute_result"
    }
   ],
   "source": [
    "B.eigenvects()"
   ]
  },
  {
   "cell_type": "markdown",
   "metadata": {},
   "source": [
    "**Explain your output here.**"
   ]
  },
  {
   "cell_type": "markdown",
   "metadata": {},
   "source": [
    "#### Find eigenvectors\n",
    "Now we know the eigenvalues, we can substitue them back into the equation to find the eigenvectors.  \n",
    "We solve this symbollically using `sympy`. First let's make a vector of our eigenvalues (from above):"
   ]
  },
  {
   "cell_type": "code",
   "execution_count": 7,
   "metadata": {},
   "outputs": [],
   "source": [
    "eig = [1,2]"
   ]
  },
  {
   "cell_type": "markdown",
   "metadata": {},
   "source": [
    "Now (per step 4 above) we need to solve the equation $(A-\\lambda I)x=0$. One way to do this in `sympy` is as follows:"
   ]
  },
  {
   "cell_type": "code",
   "execution_count": 8,
   "metadata": {},
   "outputs": [
    {
     "data": {
      "text/latex": [
       "$\\displaystyle \\left[\\begin{matrix}x_{1}\\\\x_{2}\\\\x_{3}\\end{matrix}\\right]$"
      ],
      "text/plain": [
       "⎡x₁⎤\n",
       "⎢  ⎥\n",
       "⎢x₂⎥\n",
       "⎢  ⎥\n",
       "⎣x₃⎦"
      ]
     },
     "execution_count": 8,
     "metadata": {},
     "output_type": "execute_result"
    }
   ],
   "source": [
    "x1,x2,x3 = sym.symbols(['x_1','x_2','x_3'])\n",
    "\n",
    "x = sym.Matrix([[x1],[x2],[x3]])\n",
    "x"
   ]
  },
  {
   "cell_type": "code",
   "execution_count": 9,
   "metadata": {},
   "outputs": [
    {
     "name": "stdout",
     "output_type": "stream",
     "text": [
      "{x_1: -2*x_3, x_2: x_3}\n",
      "{x_1: -x_3}\n"
     ]
    }
   ],
   "source": [
    "for lam in eig:\n",
    "    vec = sym.solve((A - lam*I)*x,x)\n",
    "    print(vec)"
   ]
  },
  {
   "cell_type": "markdown",
   "metadata": {},
   "source": [
    "&#9989; **<font color=red>QUESTION:</font>**  Explain your output here. (Hint, you can also try the `rref` to find the solutions)"
   ]
  },
  {
   "cell_type": "markdown",
   "metadata": {},
   "source": [
    "**Put your answer here.**"
   ]
  },
  {
   "cell_type": "markdown",
   "metadata": {},
   "source": [
    "&#9989; **<font color=red>Do This:</font>**  Next, let's use the ```eigenvects```  function in ```sympy``` to find three linear independent eigenvectors for the matrix $A$?"
   ]
  },
  {
   "cell_type": "code",
   "execution_count": 10,
   "metadata": {},
   "outputs": [],
   "source": [
    "# Put your answer to the above question here"
   ]
  },
  {
   "cell_type": "markdown",
   "metadata": {},
   "source": [
    "&#9989; **<font color=red>QUESTION:</font>**  Compare this answer to the eigenvectors we calculated above. Does this answer make sense?  What does the syntax tell us? "
   ]
  },
  {
   "cell_type": "markdown",
   "metadata": {},
   "source": [
    "**Put your answer here.**"
   ]
  },
  {
   "cell_type": "markdown",
   "metadata": {},
   "source": [
    "&#9989; **<font color=red>DO THIS:</font>** Find the eigenvalues and eigenvectors of the following matrix:\n",
    "$$ A2=\\begin{bmatrix} 2 & 1 \\\\ 0 & 2 \\end{bmatrix}$$"
   ]
  },
  {
   "cell_type": "code",
   "execution_count": 11,
   "metadata": {},
   "outputs": [],
   "source": [
    "# Put your code here"
   ]
  },
  {
   "cell_type": "markdown",
   "metadata": {},
   "source": [
    "&#9989; **<font color=red>QUESTION:</font>**  What are the eigenvalues for the matrix $A2$?"
   ]
  },
  {
   "cell_type": "markdown",
   "metadata": {},
   "source": [
    "**Put your answer to the above question here.**"
   ]
  },
  {
   "cell_type": "markdown",
   "metadata": {},
   "source": [
    "&#9989; **<font color=red>QUESTION:</font>**  What are the eigenvectors for the matrix $A2$?"
   ]
  },
  {
   "cell_type": "markdown",
   "metadata": {},
   "source": [
    "**Put your answer to the above question here.**"
   ]
  },
  {
   "cell_type": "markdown",
   "metadata": {},
   "source": [
    "----\n",
    "<a name=\"Diagonalizable_Matrix\"></a>\n",
    "## 2. Diagonalizable Matrix\n",
    "\n",
    "In class we will be using matrix diagonalization to solve some problems.  "
   ]
  },
  {
   "cell_type": "markdown",
   "metadata": {},
   "source": [
    "**Definition**: If $A$ and $B$ are $n\\times n$ (square) matrices, then $A$ is said to be\n",
    "**similar** to $B$ if there exists an invertible matrix, $P$, such that $A =\n",
    "P^{-1}BP$."
   ]
  },
  {
   "cell_type": "markdown",
   "metadata": {},
   "source": [
    "One can use the fact that $\\mbox{det}(A)=\\mbox{det}(P^{-1}BP)= \\mbox{det}(P^{-1})\\mbox{det}(B)\\mbox{det}(P)$ to prove the following theorem.\n",
    "\n",
    "**Theorem:** If the matrices $A$ and $B$ are similar to each other, then $A$ and $B$\n",
    "have the same characteristic equation, and hence have the same eigenvalues."
   ]
  },
  {
   "cell_type": "markdown",
   "metadata": {},
   "source": [
    "**Definition:** The matrix $A$ is diagonalizable if there exists a diagonal matrix $D$ that is similar similar to $A$:\n",
    "\n",
    "$$ D = C^{-1}AC$$\n",
    "\n",
    "If the matrix $A$ has linearly independent eigenvectors ($v_1, \\ldots v_n$) then $A$ is diagonalizable with the following solution:\n",
    "\n",
    "$$C = \\left[ v_1^T, \\ldots, v_n^T \\right]$$\n",
    "\n",
    "In other words, each column of $C$ is a linearly independent eigenvector of $A$. The diagonal matrix $D$ is\n",
    "\n",
    "$$ D = \n",
    "\\left[\n",
    "\\begin{matrix}\n",
    "    \\lambda_1  & 0  & 0 \\\\\n",
    "    0   & \\ddots & 0  \\\\\n",
    "    0   & 0 & \\lambda_n \n",
    "\\end{matrix}\n",
    "\\right] \n",
    "$$\n",
    "\n",
    "In other-other words, $D$ consists of the corresponding eigenvalues."
   ]
  },
  {
   "cell_type": "code",
   "execution_count": 12,
   "metadata": {},
   "outputs": [],
   "source": [
    "%matplotlib inline\n",
    "import matplotlib.pylab as plt\n",
    "import numpy as np\n",
    "import sympy as sym\n",
    "sym.init_printing(use_unicode=True)"
   ]
  },
  {
   "cell_type": "markdown",
   "metadata": {},
   "source": [
    "&#9989; **<font color=red>DO THIS:</font>** Using ```numpy```, Diagonalize (i.e. calculate  C and D) the following matrix:"
   ]
  },
  {
   "cell_type": "code",
   "execution_count": 13,
   "metadata": {},
   "outputs": [
    {
     "data": {
      "text/latex": [
       "$\\displaystyle \\left[\\begin{matrix}5 & -2 & 2\\\\4 & -3 & 4\\\\4 & -6 & 7\\end{matrix}\\right]$"
      ],
      "text/plain": [
       "⎡5  -2  2⎤\n",
       "⎢        ⎥\n",
       "⎢4  -3  4⎥\n",
       "⎢        ⎥\n",
       "⎣4  -6  7⎦"
      ]
     },
     "execution_count": 13,
     "metadata": {},
     "output_type": "execute_result"
    }
   ],
   "source": [
    "A = np.matrix([[5, -2, 2], [4, -3, 4], [4,-6,7]])\n",
    "sym.Matrix(A)"
   ]
  },
  {
   "cell_type": "code",
   "execution_count": 15,
   "metadata": {},
   "outputs": [
    {
     "name": "stdout",
     "output_type": "stream",
     "text": [
      "(array([5., 1., 3.]), matrix([[-5.77350269e-01,  6.40987562e-17, -7.07106781e-01],\n",
      "        [-5.77350269e-01,  7.07106781e-01,  1.11022302e-16],\n",
      "        [-5.77350269e-01,  7.07106781e-01,  7.07106781e-01]]))\n"
     ]
    }
   ],
   "source": [
    "# Put your answer here\n",
    "print(np.linalg.eig(A))\n",
    "D = np.matrix([[5,0,0],[0,1,0],[0,0,3]])"
   ]
  },
  {
   "cell_type": "code",
   "execution_count": 16,
   "metadata": {},
   "outputs": [
    {
     "name": "stdout",
     "output_type": "stream",
     "text": [
      "\n",
      "CheckWarning: passed matrix is int64 and not <class 'numpy.float64'>...\n",
      "    Trying to convert to float using ```A = A.astype(float)```.\n",
      "\n",
      "\n",
      "CheckWarning: Matrix contains negative values for zero...\n",
      "    Converting to positive values of zero using  ```A[A==-0] = 0```.\n",
      "\n",
      "Testing [[5. 0. 0.]\n",
      " [0. 1. 0.]\n",
      " [0. 0. 3.]]\n",
      "Answer seems to be correct\n",
      "\n"
     ]
    }
   ],
   "source": [
    "from answercheck import checkanswer\n",
    "\n",
    "checkanswer.matrix(D,'56821475223b52e0b6e751da444a1441');"
   ]
  },
  {
   "cell_type": "markdown",
   "metadata": {},
   "source": [
    "&#9989; **<font color=red>DO THIS:</font>** Verify that $A$ is in fact Diagonalizable by calculating $D2 = C^{-1}AC$ and comparing it to your original $D$ using ```np.allclose```."
   ]
  },
  {
   "cell_type": "code",
   "execution_count": 17,
   "metadata": {},
   "outputs": [
    {
     "name": "stdout",
     "output_type": "stream",
     "text": [
      "[[ 5.00000000e+00  8.88178420e-16 -1.77635684e-15]\n",
      " [-8.88178420e-16  1.00000000e+00 -2.66453526e-15]\n",
      " [ 8.88178420e-16 -8.88178420e-16  3.00000000e+00]]\n"
     ]
    }
   ],
   "source": [
    "#Put your verificaiton code here.\n",
    "eigval, eigvec = np.linalg.eig(A)\n",
    "C = eigvec\n",
    "C_inv = np.linalg.inv(C)\n",
    "D2 = C_inv*A*C\n",
    "print(D2)"
   ]
  },
  {
   "cell_type": "code",
   "execution_count": 18,
   "metadata": {},
   "outputs": [
    {
     "data": {
      "text/plain": [
       "True"
      ]
     },
     "execution_count": 18,
     "metadata": {},
     "output_type": "execute_result"
    }
   ],
   "source": [
    "np.allclose(D,D2)"
   ]
  },
  {
   "cell_type": "markdown",
   "metadata": {},
   "source": [
    "### Diagonalization of Symmetric Matrices\n",
    "\n",
    "One special case is Symmetric Matrices. \n",
    "\n",
    "**Definition:** A matrix is called a **symmetric** matrix if its transpose is equal to the matrix itself, i.e. $A = A^T$.\n",
    "If $a_{ij}$ denotes the entry in an i-th row and j-th column, then the symmetric matrix satisfies $a_{ij} = a_{ji}$.For example, the following is a $3\\times 3$ symmetric matrix:\n",
    "$A=\\left[\\matrix{1& 2 & 7 \\\\ 2 & 4&  5 \\\\ 7 & 5 & 9}\\right]$.\n",
    "\n",
    "**Definition:** A matrix, $A$, is called **orthogonal** if its columns form a set of orthonormal vectors. One can show that the following statements are equivalent:\n",
    "\n",
    "* the columns of $A$ form a set of orthonormal vectors;\n",
    "* the rows of $A$ form a set of orthonormal vectors;\n",
    "* $A^TA=I$."
   ]
  },
  {
   "cell_type": "markdown",
   "metadata": {},
   "source": [
    "It can be shown that symmetric matrices are diagonalizable and the resulting eigenvectors are not only linearly independent but also orthogonal. Since this is true, the equation changes to: \n",
    "\n",
    "\n",
    "$$ D = C^{T}AC$$\n",
    "\n",
    "&#9989; **<font color=red>QUESTION:</font>** Why do we care if $C$ is orthogonal?  What advantages does the above equation give us?"
   ]
  },
  {
   "cell_type": "markdown",
   "metadata": {},
   "source": [
    "**Put your answer to the above question here.**"
   ]
  },
  {
   "cell_type": "markdown",
   "metadata": {},
   "source": [
    "### Congratulations, we're done!"
   ]
  },
  {
   "cell_type": "markdown",
   "metadata": {},
   "source": [
    "Written by Dr. Dirk Colbry, Michigan State University\n",
    "<a rel=\"license\" href=\"http://creativecommons.org/licenses/by-nc/4.0/\"><img alt=\"Creative Commons License\" style=\"border-width:0\" src=\"https://i.creativecommons.org/l/by-nc/4.0/88x31.png\" /></a><br />This work is licensed under a <a rel=\"license\" href=\"http://creativecommons.org/licenses/by-nc/4.0/\">Creative Commons Attribution-NonCommercial 4.0 International License</a>."
   ]
  },
  {
   "cell_type": "markdown",
   "metadata": {},
   "source": [
    "----"
   ]
  },
  {
   "cell_type": "code",
   "execution_count": null,
   "metadata": {},
   "outputs": [],
   "source": []
  }
 ],
 "metadata": {
  "anaconda-cloud": {},
  "kernelspec": {
   "display_name": "Python 3",
   "language": "python",
   "name": "python3"
  },
  "language_info": {
   "codemirror_mode": {
    "name": "ipython",
    "version": 3
   },
   "file_extension": ".py",
   "mimetype": "text/x-python",
   "name": "python",
   "nbconvert_exporter": "python",
   "pygments_lexer": "ipython3",
   "version": "3.8.8"
  }
 },
 "nbformat": 4,
 "nbformat_minor": 4
}
